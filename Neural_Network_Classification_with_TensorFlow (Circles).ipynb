{
  "nbformat": 4,
  "nbformat_minor": 0,
  "metadata": {
    "colab": {
      "provenance": [],
      "authorship_tag": "ABX9TyOOeSqA1ROPdZnylIVmXxOe",
      "include_colab_link": true
    },
    "kernelspec": {
      "name": "python3",
      "display_name": "Python 3"
    },
    "language_info": {
      "name": "python"
    }
  },
  "cells": [
    {
      "cell_type": "markdown",
      "metadata": {
        "id": "view-in-github",
        "colab_type": "text"
      },
      "source": [
        "<a href=\"https://colab.research.google.com/github/maulik-vyas/Tensors-Fundamentals/blob/main/Neural_Network_Classification_with_TensorFlow%20(Circles).ipynb\" target=\"_parent\"><img src=\"https://colab.research.google.com/assets/colab-badge.svg\" alt=\"Open In Colab\"/></a>"
      ]
    },
    {
      "cell_type": "markdown",
      "source": [
        "# Intro to Neural Network Classification with TensorFlow"
      ],
      "metadata": {
        "id": "Uj-399mXsFIW"
      }
    },
    {
      "cell_type": "markdown",
      "source": [
        "# Creating data to view and fit"
      ],
      "metadata": {
        "id": "g6BsCYhrAlYT"
      }
    },
    {
      "cell_type": "code",
      "source": [
        "from sklearn.datasets import make_circles\n",
        "\n",
        "n_samples = 1000\n",
        "\n",
        "X, y = make_circles(n_samples,\n",
        "                    noise=0.03,\n",
        "                    random_state=42)"
      ],
      "metadata": {
        "id": "mteIbAvAA5dm"
      },
      "execution_count": 58,
      "outputs": []
    },
    {
      "cell_type": "code",
      "source": [
        "X[:10]"
      ],
      "metadata": {
        "colab": {
          "base_uri": "https://localhost:8080/"
        },
        "id": "Qa0K2Q-EBt3Q",
        "outputId": "d0331ca4-6901-4ea3-946f-28c23eb96b54"
      },
      "execution_count": 59,
      "outputs": [
        {
          "output_type": "execute_result",
          "data": {
            "text/plain": [
              "array([[ 0.75424625,  0.23148074],\n",
              "       [-0.75615888,  0.15325888],\n",
              "       [-0.81539193,  0.17328203],\n",
              "       [-0.39373073,  0.69288277],\n",
              "       [ 0.44220765, -0.89672343],\n",
              "       [-0.47964637,  0.67643477],\n",
              "       [-0.01364836,  0.80334872],\n",
              "       [ 0.77151327,  0.14775959],\n",
              "       [-0.16932234, -0.79345575],\n",
              "       [-0.1214858 ,  1.02150905]])"
            ]
          },
          "metadata": {},
          "execution_count": 59
        }
      ]
    },
    {
      "cell_type": "code",
      "source": [
        "y[:10]"
      ],
      "metadata": {
        "colab": {
          "base_uri": "https://localhost:8080/"
        },
        "id": "AptwPZncBwKJ",
        "outputId": "306bf345-c13c-423d-b56f-9c647d4df9af"
      },
      "execution_count": 60,
      "outputs": [
        {
          "output_type": "execute_result",
          "data": {
            "text/plain": [
              "array([1, 1, 1, 1, 0, 1, 1, 1, 1, 0])"
            ]
          },
          "metadata": {},
          "execution_count": 60
        }
      ]
    },
    {
      "cell_type": "markdown",
      "source": [
        "Our data is hard to understand now, so let's visualize it"
      ],
      "metadata": {
        "id": "CIExPOJQBw6-"
      }
    },
    {
      "cell_type": "code",
      "source": [
        "import pandas as pd\n",
        "\n",
        "circles = pd.DataFrame({\"X0\": X[:,0], \"X1\": X[:,1], \"label\": y[:]})\n",
        "circles"
      ],
      "metadata": {
        "colab": {
          "base_uri": "https://localhost:8080/",
          "height": 424
        },
        "id": "Y9DfXiLeDhh-",
        "outputId": "92a8bbd9-12a5-4104-9e77-dbab0f2ac5da"
      },
      "execution_count": 61,
      "outputs": [
        {
          "output_type": "execute_result",
          "data": {
            "text/plain": [
              "           X0        X1  label\n",
              "0    0.754246  0.231481      1\n",
              "1   -0.756159  0.153259      1\n",
              "2   -0.815392  0.173282      1\n",
              "3   -0.393731  0.692883      1\n",
              "4    0.442208 -0.896723      0\n",
              "..        ...       ...    ...\n",
              "995  0.244054  0.944125      0\n",
              "996 -0.978655 -0.272373      0\n",
              "997 -0.136900 -0.810012      1\n",
              "998  0.670362 -0.767502      0\n",
              "999  0.281057  0.963824      0\n",
              "\n",
              "[1000 rows x 3 columns]"
            ],
            "text/html": [
              "\n",
              "  <div id=\"df-24787269-ee9d-4ddd-bf9a-4576a3770e28\">\n",
              "    <div class=\"colab-df-container\">\n",
              "      <div>\n",
              "<style scoped>\n",
              "    .dataframe tbody tr th:only-of-type {\n",
              "        vertical-align: middle;\n",
              "    }\n",
              "\n",
              "    .dataframe tbody tr th {\n",
              "        vertical-align: top;\n",
              "    }\n",
              "\n",
              "    .dataframe thead th {\n",
              "        text-align: right;\n",
              "    }\n",
              "</style>\n",
              "<table border=\"1\" class=\"dataframe\">\n",
              "  <thead>\n",
              "    <tr style=\"text-align: right;\">\n",
              "      <th></th>\n",
              "      <th>X0</th>\n",
              "      <th>X1</th>\n",
              "      <th>label</th>\n",
              "    </tr>\n",
              "  </thead>\n",
              "  <tbody>\n",
              "    <tr>\n",
              "      <th>0</th>\n",
              "      <td>0.754246</td>\n",
              "      <td>0.231481</td>\n",
              "      <td>1</td>\n",
              "    </tr>\n",
              "    <tr>\n",
              "      <th>1</th>\n",
              "      <td>-0.756159</td>\n",
              "      <td>0.153259</td>\n",
              "      <td>1</td>\n",
              "    </tr>\n",
              "    <tr>\n",
              "      <th>2</th>\n",
              "      <td>-0.815392</td>\n",
              "      <td>0.173282</td>\n",
              "      <td>1</td>\n",
              "    </tr>\n",
              "    <tr>\n",
              "      <th>3</th>\n",
              "      <td>-0.393731</td>\n",
              "      <td>0.692883</td>\n",
              "      <td>1</td>\n",
              "    </tr>\n",
              "    <tr>\n",
              "      <th>4</th>\n",
              "      <td>0.442208</td>\n",
              "      <td>-0.896723</td>\n",
              "      <td>0</td>\n",
              "    </tr>\n",
              "    <tr>\n",
              "      <th>...</th>\n",
              "      <td>...</td>\n",
              "      <td>...</td>\n",
              "      <td>...</td>\n",
              "    </tr>\n",
              "    <tr>\n",
              "      <th>995</th>\n",
              "      <td>0.244054</td>\n",
              "      <td>0.944125</td>\n",
              "      <td>0</td>\n",
              "    </tr>\n",
              "    <tr>\n",
              "      <th>996</th>\n",
              "      <td>-0.978655</td>\n",
              "      <td>-0.272373</td>\n",
              "      <td>0</td>\n",
              "    </tr>\n",
              "    <tr>\n",
              "      <th>997</th>\n",
              "      <td>-0.136900</td>\n",
              "      <td>-0.810012</td>\n",
              "      <td>1</td>\n",
              "    </tr>\n",
              "    <tr>\n",
              "      <th>998</th>\n",
              "      <td>0.670362</td>\n",
              "      <td>-0.767502</td>\n",
              "      <td>0</td>\n",
              "    </tr>\n",
              "    <tr>\n",
              "      <th>999</th>\n",
              "      <td>0.281057</td>\n",
              "      <td>0.963824</td>\n",
              "      <td>0</td>\n",
              "    </tr>\n",
              "  </tbody>\n",
              "</table>\n",
              "<p>1000 rows × 3 columns</p>\n",
              "</div>\n",
              "      <button class=\"colab-df-convert\" onclick=\"convertToInteractive('df-24787269-ee9d-4ddd-bf9a-4576a3770e28')\"\n",
              "              title=\"Convert this dataframe to an interactive table.\"\n",
              "              style=\"display:none;\">\n",
              "        \n",
              "  <svg xmlns=\"http://www.w3.org/2000/svg\" height=\"24px\"viewBox=\"0 0 24 24\"\n",
              "       width=\"24px\">\n",
              "    <path d=\"M0 0h24v24H0V0z\" fill=\"none\"/>\n",
              "    <path d=\"M18.56 5.44l.94 2.06.94-2.06 2.06-.94-2.06-.94-.94-2.06-.94 2.06-2.06.94zm-11 1L8.5 8.5l.94-2.06 2.06-.94-2.06-.94L8.5 2.5l-.94 2.06-2.06.94zm10 10l.94 2.06.94-2.06 2.06-.94-2.06-.94-.94-2.06-.94 2.06-2.06.94z\"/><path d=\"M17.41 7.96l-1.37-1.37c-.4-.4-.92-.59-1.43-.59-.52 0-1.04.2-1.43.59L10.3 9.45l-7.72 7.72c-.78.78-.78 2.05 0 2.83L4 21.41c.39.39.9.59 1.41.59.51 0 1.02-.2 1.41-.59l7.78-7.78 2.81-2.81c.8-.78.8-2.07 0-2.86zM5.41 20L4 18.59l7.72-7.72 1.47 1.35L5.41 20z\"/>\n",
              "  </svg>\n",
              "      </button>\n",
              "      \n",
              "  <style>\n",
              "    .colab-df-container {\n",
              "      display:flex;\n",
              "      flex-wrap:wrap;\n",
              "      gap: 12px;\n",
              "    }\n",
              "\n",
              "    .colab-df-convert {\n",
              "      background-color: #E8F0FE;\n",
              "      border: none;\n",
              "      border-radius: 50%;\n",
              "      cursor: pointer;\n",
              "      display: none;\n",
              "      fill: #1967D2;\n",
              "      height: 32px;\n",
              "      padding: 0 0 0 0;\n",
              "      width: 32px;\n",
              "    }\n",
              "\n",
              "    .colab-df-convert:hover {\n",
              "      background-color: #E2EBFA;\n",
              "      box-shadow: 0px 1px 2px rgba(60, 64, 67, 0.3), 0px 1px 3px 1px rgba(60, 64, 67, 0.15);\n",
              "      fill: #174EA6;\n",
              "    }\n",
              "\n",
              "    [theme=dark] .colab-df-convert {\n",
              "      background-color: #3B4455;\n",
              "      fill: #D2E3FC;\n",
              "    }\n",
              "\n",
              "    [theme=dark] .colab-df-convert:hover {\n",
              "      background-color: #434B5C;\n",
              "      box-shadow: 0px 1px 3px 1px rgba(0, 0, 0, 0.15);\n",
              "      filter: drop-shadow(0px 1px 2px rgba(0, 0, 0, 0.3));\n",
              "      fill: #FFFFFF;\n",
              "    }\n",
              "  </style>\n",
              "\n",
              "      <script>\n",
              "        const buttonEl =\n",
              "          document.querySelector('#df-24787269-ee9d-4ddd-bf9a-4576a3770e28 button.colab-df-convert');\n",
              "        buttonEl.style.display =\n",
              "          google.colab.kernel.accessAllowed ? 'block' : 'none';\n",
              "\n",
              "        async function convertToInteractive(key) {\n",
              "          const element = document.querySelector('#df-24787269-ee9d-4ddd-bf9a-4576a3770e28');\n",
              "          const dataTable =\n",
              "            await google.colab.kernel.invokeFunction('convertToInteractive',\n",
              "                                                     [key], {});\n",
              "          if (!dataTable) return;\n",
              "\n",
              "          const docLinkHtml = 'Like what you see? Visit the ' +\n",
              "            '<a target=\"_blank\" href=https://colab.research.google.com/notebooks/data_table.ipynb>data table notebook</a>'\n",
              "            + ' to learn more about interactive tables.';\n",
              "          element.innerHTML = '';\n",
              "          dataTable['output_type'] = 'display_data';\n",
              "          await google.colab.output.renderOutput(dataTable, element);\n",
              "          const docLink = document.createElement('div');\n",
              "          docLink.innerHTML = docLinkHtml;\n",
              "          element.appendChild(docLink);\n",
              "        }\n",
              "      </script>\n",
              "    </div>\n",
              "  </div>\n",
              "  "
            ]
          },
          "metadata": {},
          "execution_count": 61
        }
      ]
    },
    {
      "cell_type": "code",
      "source": [
        "import matplotlib.pyplot as plt\n",
        "\n",
        "plt.scatter(X[:,0], X[:,1], c=y, cmap=plt.cm.RdYlBu)"
      ],
      "metadata": {
        "colab": {
          "base_uri": "https://localhost:8080/",
          "height": 282
        },
        "id": "mhloz-F_D51l",
        "outputId": "bc33fc86-1f66-4c66-d900-27ba4bbad24c"
      },
      "execution_count": 62,
      "outputs": [
        {
          "output_type": "execute_result",
          "data": {
            "text/plain": [
              "<matplotlib.collections.PathCollection at 0x7f705d540940>"
            ]
          },
          "metadata": {},
          "execution_count": 62
        },
        {
          "output_type": "display_data",
          "data": {
            "text/plain": [
              "<Figure size 432x288 with 1 Axes>"
            ],
            "image/png": "[encoded data removed]"
          },
          "metadata": {
            "needs_background": "light"
          }
        }
      ]
    },
    {
      "cell_type": "code",
      "source": [
        "X.shape, y.shape"
      ],
      "metadata": {
        "colab": {
          "base_uri": "https://localhost:8080/"
        },
        "id": "Cp1Wjr7LFE5_",
        "outputId": "7496dbc4-9231-42fb-e4aa-99426de79464"
      },
      "execution_count": 63,
      "outputs": [
        {
          "output_type": "execute_result",
          "data": {
            "text/plain": [
              "((1000, 2), (1000,))"
            ]
          },
          "metadata": {},
          "execution_count": 63
        }
      ]
    },
    {
      "cell_type": "markdown",
      "source": [
        "**Model 1**"
      ],
      "metadata": {
        "id": "URzjFbr2I_Sq"
      }
    },
    {
      "cell_type": "code",
      "source": [
        "import tensorflow as tf\n",
        "\n",
        "tf.random.set_seed(42)\n",
        "\n",
        "model1 = tf.keras.Sequential([\n",
        "    tf.keras.layers.Dense(1)\n",
        "])\n",
        "\n",
        "model1.compile(loss=tf.keras.losses.BinaryCrossentropy(),\n",
        "               optimizer=tf.keras.optimizers.SGD(),\n",
        "               metrics=[\"accuracy\"])\n",
        "\n",
        "model1.fit(X, y, epochs=5)"
      ],
      "metadata": {
        "colab": {
          "base_uri": "https://localhost:8080/"
        },
        "id": "_K3ZhWi8HhLw",
        "outputId": "53ba60f1-dcf5-4c4b-fcf2-9fc2f30f7360"
      },
      "execution_count": 64,
      "outputs": [
        {
          "output_type": "stream",
          "name": "stdout",
          "text": [
            "Epoch 1/5\n",
            "32/32 [==============================] - 1s 2ms/step - loss: 2.8544 - accuracy: 0.4600\n",
            "Epoch 2/5\n",
            "32/32 [==============================] - 0s 2ms/step - loss: 0.7131 - accuracy: 0.5430\n",
            "Epoch 3/5\n",
            "32/32 [==============================] - 0s 3ms/step - loss: 0.6973 - accuracy: 0.5090\n",
            "Epoch 4/5\n",
            "32/32 [==============================] - 0s 2ms/step - loss: 0.6950 - accuracy: 0.5010\n",
            "Epoch 5/5\n",
            "32/32 [==============================] - 0s 2ms/step - loss: 0.6942 - accuracy: 0.4820\n"
          ]
        },
        {
          "output_type": "execute_result",
          "data": {
            "text/plain": [
              "<keras.callbacks.History at 0x7f705d55ecd0>"
            ]
          },
          "metadata": {},
          "execution_count": 64
        }
      ]
    },
    {
      "cell_type": "code",
      "source": [
        "# Let's try and improve our model by running it for longer\n",
        "\n",
        "model1.fit(X, y, epochs=200)"
      ],
      "metadata": {
        "colab": {
          "base_uri": "https://localhost:8080/"
        },
        "id": "tBSRhkZgKdX-",
        "outputId": "da90bae3-a8bc-4cd0-e031-d934b58a1f46"
      },
      "execution_count": 65,
      "outputs": [
        {
          "output_type": "stream",
          "name": "stdout",
          "text": [
            "Epoch 1/200\n",
            "32/32 [==============================] - 0s 2ms/step - loss: 0.6945 - accuracy: 0.4900\n",
            "Epoch 2/200\n",
            "32/32 [==============================] - 0s 3ms/step - loss: 0.6942 - accuracy: 0.4960\n",
            "Epoch 3/200\n",
            "32/32 [==============================] - 0s 2ms/step - loss: 0.6947 - accuracy: 0.4470\n",
            "Epoch 4/200\n",
            "32/32 [==============================] - 0s 2ms/step - loss: 0.6941 - accuracy: 0.4880\n",
            "Epoch 5/200\n",
            "32/32 [==============================] - 0s 2ms/step - loss: 0.6940 - accuracy: 0.4800\n",
            "Epoch 6/200\n",
            "32/32 [==============================] - 0s 2ms/step - loss: 0.6936 - accuracy: 0.5050\n",
            "Epoch 7/200\n",
            "32/32 [==============================] - 0s 3ms/step - loss: 0.6943 - accuracy: 0.4970\n",
            "Epoch 8/200\n",
            "32/32 [==============================] - 0s 2ms/step - loss: 0.6941 - accuracy: 0.4800\n",
            "Epoch 9/200\n",
            "32/32 [==============================] - 0s 2ms/step - loss: 0.6940 - accuracy: 0.4830\n",
            "Epoch 10/200\n",
            "32/32 [==============================] - 0s 2ms/step - loss: 0.6938 - accuracy: 0.4790\n",
            "Epoch 11/200\n",
            "32/32 [==============================] - 0s 2ms/step - loss: 0.6944 - accuracy: 0.4550\n",
            "Epoch 12/200\n",
            "32/32 [==============================] - 0s 2ms/step - loss: 0.6945 - accuracy: 0.4760\n",
            "Epoch 13/200\n",
            "32/32 [==============================] - 0s 2ms/step - loss: 0.6943 - accuracy: 0.4890\n",
            "Epoch 14/200\n",
            "32/32 [==============================] - 0s 2ms/step - loss: 0.6944 - accuracy: 0.5030\n",
            "Epoch 15/200\n",
            "32/32 [==============================] - 0s 2ms/step - loss: 0.6941 - accuracy: 0.4490\n",
            "Epoch 16/200\n",
            "32/32 [==============================] - 0s 2ms/step - loss: 0.6944 - accuracy: 0.4890\n",
            "Epoch 17/200\n",
            "32/32 [==============================] - 0s 2ms/step - loss: 0.6941 - accuracy: 0.4910\n",
            "Epoch 18/200\n",
            "32/32 [==============================] - 0s 2ms/step - loss: 0.6940 - accuracy: 0.4760\n",
            "Epoch 19/200\n",
            "32/32 [==============================] - 0s 2ms/step - loss: 0.6941 - accuracy: 0.4820\n",
            "Epoch 20/200\n",
            "32/32 [==============================] - 0s 2ms/step - loss: 0.6941 - accuracy: 0.4550\n",
            "Epoch 21/200\n",
            "32/32 [==============================] - 0s 2ms/step - loss: 0.6939 - accuracy: 0.4900\n",
            "Epoch 22/200\n",
            "32/32 [==============================] - 0s 2ms/step - loss: 0.6942 - accuracy: 0.4690\n",
            "Epoch 23/200\n",
            "32/32 [==============================] - 0s 2ms/step - loss: 0.6940 - accuracy: 0.4840\n",
            "Epoch 24/200\n",
            "32/32 [==============================] - 0s 2ms/step - loss: 0.6942 - accuracy: 0.4680\n",
            "Epoch 25/200\n",
            "32/32 [==============================] - 0s 3ms/step - loss: 0.6939 - accuracy: 0.4890\n",
            "Epoch 26/200\n",
            "32/32 [==============================] - 0s 3ms/step - loss: 0.6943 - accuracy: 0.4740\n",
            "Epoch 27/200\n",
            "32/32 [==============================] - 0s 2ms/step - loss: 0.6938 - accuracy: 0.5060\n",
            "Epoch 28/200\n",
            "32/32 [==============================] - 0s 2ms/step - loss: 0.6943 - accuracy: 0.4690\n",
            "Epoch 29/200\n",
            "32/32 [==============================] - 0s 2ms/step - loss: 0.6942 - accuracy: 0.4620\n",
            "Epoch 30/200\n",
            "32/32 [==============================] - 0s 2ms/step - loss: 0.6941 - accuracy: 0.4870\n",
            "Epoch 31/200\n",
            "32/32 [==============================] - 0s 2ms/step - loss: 0.6942 - accuracy: 0.5230\n",
            "Epoch 32/200\n",
            "32/32 [==============================] - 0s 2ms/step - loss: 0.6941 - accuracy: 0.4670\n",
            "Epoch 33/200\n",
            "32/32 [==============================] - 0s 3ms/step - loss: 0.6942 - accuracy: 0.4760\n",
            "Epoch 34/200\n",
            "32/32 [==============================] - 0s 2ms/step - loss: 0.6946 - accuracy: 0.4590\n",
            "Epoch 35/200\n",
            "32/32 [==============================] - 0s 2ms/step - loss: 0.6941 - accuracy: 0.5010\n",
            "Epoch 36/200\n",
            "32/32 [==============================] - 0s 2ms/step - loss: 0.6943 - accuracy: 0.4710\n",
            "Epoch 37/200\n",
            "32/32 [==============================] - 0s 2ms/step - loss: 0.6940 - accuracy: 0.5020\n",
            "Epoch 38/200\n",
            "32/32 [==============================] - 0s 2ms/step - loss: 0.6940 - accuracy: 0.4670\n",
            "Epoch 39/200\n",
            "32/32 [==============================] - 0s 2ms/step - loss: 0.6941 - accuracy: 0.4350\n",
            "Epoch 40/200\n",
            "32/32 [==============================] - 0s 2ms/step - loss: 0.6948 - accuracy: 0.4720\n",
            "Epoch 41/200\n",
            "32/32 [==============================] - 0s 2ms/step - loss: 0.6941 - accuracy: 0.4730\n",
            "Epoch 42/200\n",
            "32/32 [==============================] - 0s 2ms/step - loss: 0.6941 - accuracy: 0.4640\n",
            "Epoch 43/200\n",
            "32/32 [==============================] - 0s 2ms/step - loss: 0.6942 - accuracy: 0.4850\n",
            "Epoch 44/200\n",
            "32/32 [==============================] - 0s 2ms/step - loss: 0.6935 - accuracy: 0.5080\n",
            "Epoch 45/200\n",
            "32/32 [==============================] - 0s 2ms/step - loss: 0.6944 - accuracy: 0.4710\n",
            "Epoch 46/200\n",
            "32/32 [==============================] - 0s 3ms/step - loss: 0.6942 - accuracy: 0.4850\n",
            "Epoch 47/200\n",
            "32/32 [==============================] - 0s 2ms/step - loss: 0.6939 - accuracy: 0.4940\n",
            "Epoch 48/200\n",
            "32/32 [==============================] - 0s 2ms/step - loss: 0.6939 - accuracy: 0.4900\n",
            "Epoch 49/200\n",
            "32/32 [==============================] - 0s 2ms/step - loss: 0.6941 - accuracy: 0.4770\n",
            "Epoch 50/200\n",
            "32/32 [==============================] - 0s 2ms/step - loss: 0.6941 - accuracy: 0.4980\n",
            "Epoch 51/200\n",
            "32/32 [==============================] - 0s 2ms/step - loss: 0.6942 - accuracy: 0.4820\n",
            "Epoch 52/200\n",
            "32/32 [==============================] - 0s 2ms/step - loss: 0.6941 - accuracy: 0.4890\n",
            "Epoch 53/200\n",
            "32/32 [==============================] - 0s 2ms/step - loss: 0.6939 - accuracy: 0.4690\n",
            "Epoch 54/200\n",
            "32/32 [==============================] - 0s 2ms/step - loss: 0.6943 - accuracy: 0.4920\n",
            "Epoch 55/200\n",
            "32/32 [==============================] - 0s 2ms/step - loss: 0.6942 - accuracy: 0.4970\n",
            "Epoch 56/200\n",
            "32/32 [==============================] - 0s 2ms/step - loss: 0.6940 - accuracy: 0.4800\n",
            "Epoch 57/200\n",
            "32/32 [==============================] - 0s 2ms/step - loss: 0.6944 - accuracy: 0.4710\n",
            "Epoch 58/200\n",
            "32/32 [==============================] - 0s 2ms/step - loss: 0.6942 - accuracy: 0.4870\n",
            "Epoch 59/200\n",
            "32/32 [==============================] - 0s 2ms/step - loss: 0.6939 - accuracy: 0.5030\n",
            "Epoch 60/200\n",
            "32/32 [==============================] - 0s 3ms/step - loss: 0.6942 - accuracy: 0.5060\n",
            "Epoch 61/200\n",
            "32/32 [==============================] - 0s 2ms/step - loss: 0.6944 - accuracy: 0.4990\n",
            "Epoch 62/200\n",
            "32/32 [==============================] - 0s 2ms/step - loss: 0.6941 - accuracy: 0.4760\n",
            "Epoch 63/200\n",
            "32/32 [==============================] - 0s 2ms/step - loss: 0.6940 - accuracy: 0.4690\n",
            "Epoch 64/200\n",
            "32/32 [==============================] - 0s 2ms/step - loss: 0.6942 - accuracy: 0.4930\n",
            "Epoch 65/200\n",
            "32/32 [==============================] - 0s 2ms/step - loss: 0.6943 - accuracy: 0.4690\n",
            "Epoch 66/200\n",
            "32/32 [==============================] - 0s 2ms/step - loss: 0.6940 - accuracy: 0.4770\n",
            "Epoch 67/200\n",
            "32/32 [==============================] - 0s 2ms/step - loss: 0.6945 - accuracy: 0.4670\n",
            "Epoch 68/200\n",
            "32/32 [==============================] - 0s 2ms/step - loss: 0.6939 - accuracy: 0.4680\n",
            "Epoch 69/200\n",
            "32/32 [==============================] - 0s 2ms/step - loss: 0.6943 - accuracy: 0.5070\n",
            "Epoch 70/200\n",
            "32/32 [==============================] - 0s 2ms/step - loss: 0.6943 - accuracy: 0.4630\n",
            "Epoch 71/200\n",
            "32/32 [==============================] - 0s 2ms/step - loss: 0.6939 - accuracy: 0.4820\n",
            "Epoch 72/200\n",
            "32/32 [==============================] - 0s 2ms/step - loss: 0.6942 - accuracy: 0.4890\n",
            "Epoch 73/200\n",
            "32/32 [==============================] - 0s 2ms/step - loss: 0.6941 - accuracy: 0.4760\n",
            "Epoch 74/200\n",
            "32/32 [==============================] - 0s 2ms/step - loss: 0.6940 - accuracy: 0.5090\n",
            "Epoch 75/200\n",
            "32/32 [==============================] - 0s 2ms/step - loss: 0.6941 - accuracy: 0.4940\n",
            "Epoch 76/200\n",
            "32/32 [==============================] - 0s 2ms/step - loss: 0.6940 - accuracy: 0.5010\n",
            "Epoch 77/200\n",
            "32/32 [==============================] - 0s 2ms/step - loss: 0.6942 - accuracy: 0.4870\n",
            "Epoch 78/200\n",
            "32/32 [==============================] - 0s 2ms/step - loss: 0.6941 - accuracy: 0.4610\n",
            "Epoch 79/200\n",
            "32/32 [==============================] - 0s 2ms/step - loss: 0.6940 - accuracy: 0.4860\n",
            "Epoch 80/200\n",
            "32/32 [==============================] - 0s 2ms/step - loss: 0.6943 - accuracy: 0.5050\n",
            "Epoch 81/200\n",
            "32/32 [==============================] - 0s 2ms/step - loss: 0.6943 - accuracy: 0.5050\n",
            "Epoch 82/200\n",
            "32/32 [==============================] - 0s 2ms/step - loss: 0.6941 - accuracy: 0.4690\n",
            "Epoch 83/200\n",
            "32/32 [==============================] - 0s 2ms/step - loss: 0.6941 - accuracy: 0.4930\n",
            "Epoch 84/200\n",
            "32/32 [==============================] - 0s 3ms/step - loss: 0.6942 - accuracy: 0.4960\n",
            "Epoch 85/200\n",
            "32/32 [==============================] - 0s 3ms/step - loss: 0.6939 - accuracy: 0.4930\n",
            "Epoch 86/200\n",
            "32/32 [==============================] - 0s 2ms/step - loss: 0.6940 - accuracy: 0.4880\n",
            "Epoch 87/200\n",
            "32/32 [==============================] - 0s 2ms/step - loss: 0.6942 - accuracy: 0.4720\n",
            "Epoch 88/200\n",
            "32/32 [==============================] - 0s 2ms/step - loss: 0.6944 - accuracy: 0.4470\n",
            "Epoch 89/200\n",
            "32/32 [==============================] - 0s 2ms/step - loss: 0.6945 - accuracy: 0.4720\n",
            "Epoch 90/200\n",
            "32/32 [==============================] - 0s 2ms/step - loss: 0.6941 - accuracy: 0.4820\n",
            "Epoch 91/200\n",
            "32/32 [==============================] - 0s 3ms/step - loss: 0.6944 - accuracy: 0.4860\n",
            "Epoch 92/200\n",
            "32/32 [==============================] - 0s 2ms/step - loss: 0.6941 - accuracy: 0.5050\n",
            "Epoch 93/200\n",
            "32/32 [==============================] - 0s 2ms/step - loss: 0.6941 - accuracy: 0.4720\n",
            "Epoch 94/200\n",
            "32/32 [==============================] - 0s 2ms/step - loss: 0.6946 - accuracy: 0.4770\n",
            "Epoch 95/200\n",
            "32/32 [==============================] - 0s 2ms/step - loss: 0.6940 - accuracy: 0.4760\n",
            "Epoch 96/200\n",
            "32/32 [==============================] - 0s 2ms/step - loss: 0.6945 - accuracy: 0.4610\n",
            "Epoch 97/200\n",
            "32/32 [==============================] - 0s 2ms/step - loss: 0.6942 - accuracy: 0.4690\n",
            "Epoch 98/200\n",
            "32/32 [==============================] - 0s 2ms/step - loss: 0.6942 - accuracy: 0.4840\n",
            "Epoch 99/200\n",
            "32/32 [==============================] - 0s 2ms/step - loss: 0.6944 - accuracy: 0.4980\n",
            "Epoch 100/200\n",
            "32/32 [==============================] - 0s 2ms/step - loss: 0.6943 - accuracy: 0.4850\n",
            "Epoch 101/200\n",
            "32/32 [==============================] - 0s 2ms/step - loss: 0.6939 - accuracy: 0.5060\n",
            "Epoch 102/200\n",
            "32/32 [==============================] - 0s 2ms/step - loss: 0.6946 - accuracy: 0.4750\n",
            "Epoch 103/200\n",
            "32/32 [==============================] - 0s 2ms/step - loss: 0.6944 - accuracy: 0.4760\n",
            "Epoch 104/200\n",
            "32/32 [==============================] - 0s 3ms/step - loss: 0.6941 - accuracy: 0.4900\n",
            "Epoch 105/200\n",
            "32/32 [==============================] - 0s 2ms/step - loss: 0.6939 - accuracy: 0.4960\n",
            "Epoch 106/200\n",
            "32/32 [==============================] - 0s 3ms/step - loss: 0.6940 - accuracy: 0.4950\n",
            "Epoch 107/200\n",
            "32/32 [==============================] - 0s 2ms/step - loss: 0.6938 - accuracy: 0.4690\n",
            "Epoch 108/200\n",
            "32/32 [==============================] - 0s 2ms/step - loss: 0.6943 - accuracy: 0.4940\n",
            "Epoch 109/200\n",
            "32/32 [==============================] - 0s 2ms/step - loss: 0.6942 - accuracy: 0.4510\n",
            "Epoch 110/200\n",
            "32/32 [==============================] - 0s 2ms/step - loss: 0.6944 - accuracy: 0.4570\n",
            "Epoch 111/200\n",
            "32/32 [==============================] - 0s 2ms/step - loss: 0.6943 - accuracy: 0.4820\n",
            "Epoch 112/200\n",
            "32/32 [==============================] - 0s 2ms/step - loss: 0.6946 - accuracy: 0.4770\n",
            "Epoch 113/200\n",
            "32/32 [==============================] - 0s 3ms/step - loss: 0.6944 - accuracy: 0.4740\n",
            "Epoch 114/200\n",
            "32/32 [==============================] - 0s 3ms/step - loss: 0.6944 - accuracy: 0.4660\n",
            "Epoch 115/200\n",
            "32/32 [==============================] - 0s 2ms/step - loss: 0.6941 - accuracy: 0.4690\n",
            "Epoch 116/200\n",
            "32/32 [==============================] - 0s 3ms/step - loss: 0.6942 - accuracy: 0.4830\n",
            "Epoch 117/200\n",
            "32/32 [==============================] - 0s 2ms/step - loss: 0.6943 - accuracy: 0.5000\n",
            "Epoch 118/200\n",
            "32/32 [==============================] - 0s 2ms/step - loss: 0.6939 - accuracy: 0.4990\n",
            "Epoch 119/200\n",
            "32/32 [==============================] - 0s 2ms/step - loss: 0.6944 - accuracy: 0.4750\n",
            "Epoch 120/200\n",
            "32/32 [==============================] - 0s 2ms/step - loss: 0.6940 - accuracy: 0.4980\n",
            "Epoch 121/200\n",
            "32/32 [==============================] - 0s 2ms/step - loss: 0.6942 - accuracy: 0.4740\n",
            "Epoch 122/200\n",
            "32/32 [==============================] - 0s 3ms/step - loss: 0.6941 - accuracy: 0.4920\n",
            "Epoch 123/200\n",
            "32/32 [==============================] - 0s 2ms/step - loss: 0.6944 - accuracy: 0.4640\n",
            "Epoch 124/200\n",
            "32/32 [==============================] - 0s 2ms/step - loss: 0.6943 - accuracy: 0.4660\n",
            "Epoch 125/200\n",
            "32/32 [==============================] - 0s 3ms/step - loss: 0.6940 - accuracy: 0.4800\n",
            "Epoch 126/200\n",
            "32/32 [==============================] - 0s 2ms/step - loss: 0.6941 - accuracy: 0.4960\n",
            "Epoch 127/200\n",
            "32/32 [==============================] - 0s 3ms/step - loss: 0.6942 - accuracy: 0.4760\n",
            "Epoch 128/200\n",
            "32/32 [==============================] - 0s 2ms/step - loss: 0.6943 - accuracy: 0.4920\n",
            "Epoch 129/200\n",
            "32/32 [==============================] - 0s 2ms/step - loss: 0.6939 - accuracy: 0.5100\n",
            "Epoch 130/200\n",
            "32/32 [==============================] - 0s 2ms/step - loss: 0.6936 - accuracy: 0.4840\n",
            "Epoch 131/200\n",
            "32/32 [==============================] - 0s 2ms/step - loss: 0.6944 - accuracy: 0.4780\n",
            "Epoch 132/200\n",
            "32/32 [==============================] - 0s 2ms/step - loss: 0.6939 - accuracy: 0.4760\n",
            "Epoch 133/200\n",
            "32/32 [==============================] - 0s 2ms/step - loss: 0.6942 - accuracy: 0.4800\n",
            "Epoch 134/200\n",
            "32/32 [==============================] - 0s 3ms/step - loss: 0.6944 - accuracy: 0.4740\n",
            "Epoch 135/200\n",
            "32/32 [==============================] - 0s 2ms/step - loss: 0.6943 - accuracy: 0.4670\n",
            "Epoch 136/200\n",
            "32/32 [==============================] - 0s 2ms/step - loss: 0.6944 - accuracy: 0.4590\n",
            "Epoch 137/200\n",
            "32/32 [==============================] - 0s 2ms/step - loss: 0.6943 - accuracy: 0.4840\n",
            "Epoch 138/200\n",
            "32/32 [==============================] - 0s 2ms/step - loss: 0.6943 - accuracy: 0.4610\n",
            "Epoch 139/200\n",
            "32/32 [==============================] - 0s 2ms/step - loss: 0.6942 - accuracy: 0.4810\n",
            "Epoch 140/200\n",
            "32/32 [==============================] - 0s 2ms/step - loss: 0.6942 - accuracy: 0.4610\n",
            "Epoch 141/200\n",
            "32/32 [==============================] - 0s 3ms/step - loss: 0.6941 - accuracy: 0.4630\n",
            "Epoch 142/200\n",
            "32/32 [==============================] - 0s 2ms/step - loss: 0.6941 - accuracy: 0.4790\n",
            "Epoch 143/200\n",
            "32/32 [==============================] - 0s 2ms/step - loss: 0.6943 - accuracy: 0.4790\n",
            "Epoch 144/200\n",
            "32/32 [==============================] - 0s 2ms/step - loss: 0.6943 - accuracy: 0.4650\n",
            "Epoch 145/200\n",
            "32/32 [==============================] - 0s 3ms/step - loss: 0.6943 - accuracy: 0.4990\n",
            "Epoch 146/200\n",
            "32/32 [==============================] - 0s 2ms/step - loss: 0.6945 - accuracy: 0.4570\n",
            "Epoch 147/200\n",
            "32/32 [==============================] - 0s 3ms/step - loss: 0.6943 - accuracy: 0.5110\n",
            "Epoch 148/200\n",
            "32/32 [==============================] - 0s 3ms/step - loss: 0.6943 - accuracy: 0.4880\n",
            "Epoch 149/200\n",
            "32/32 [==============================] - 0s 2ms/step - loss: 0.6941 - accuracy: 0.4500\n",
            "Epoch 150/200\n",
            "32/32 [==============================] - 0s 3ms/step - loss: 0.6943 - accuracy: 0.4700\n",
            "Epoch 151/200\n",
            "32/32 [==============================] - 0s 2ms/step - loss: 0.6938 - accuracy: 0.4620\n",
            "Epoch 152/200\n",
            "32/32 [==============================] - 0s 2ms/step - loss: 0.6940 - accuracy: 0.4990\n",
            "Epoch 153/200\n",
            "32/32 [==============================] - 0s 2ms/step - loss: 0.6942 - accuracy: 0.4870\n",
            "Epoch 154/200\n",
            "32/32 [==============================] - 0s 2ms/step - loss: 0.6936 - accuracy: 0.4810\n",
            "Epoch 155/200\n",
            "32/32 [==============================] - 0s 2ms/step - loss: 0.6944 - accuracy: 0.4780\n",
            "Epoch 156/200\n",
            "32/32 [==============================] - 0s 2ms/step - loss: 0.6944 - accuracy: 0.4680\n",
            "Epoch 157/200\n",
            "32/32 [==============================] - 0s 2ms/step - loss: 0.6944 - accuracy: 0.4990\n",
            "Epoch 158/200\n",
            "32/32 [==============================] - 0s 2ms/step - loss: 0.6940 - accuracy: 0.4940\n",
            "Epoch 159/200\n",
            "32/32 [==============================] - 0s 3ms/step - loss: 0.6943 - accuracy: 0.4710\n",
            "Epoch 160/200\n",
            "32/32 [==============================] - 0s 2ms/step - loss: 0.6943 - accuracy: 0.4880\n",
            "Epoch 161/200\n",
            "32/32 [==============================] - 0s 3ms/step - loss: 0.6942 - accuracy: 0.4770\n",
            "Epoch 162/200\n",
            "32/32 [==============================] - 0s 2ms/step - loss: 0.6943 - accuracy: 0.4920\n",
            "Epoch 163/200\n",
            "32/32 [==============================] - 0s 2ms/step - loss: 0.6946 - accuracy: 0.4690\n",
            "Epoch 164/200\n",
            "32/32 [==============================] - 0s 2ms/step - loss: 0.6943 - accuracy: 0.4610\n",
            "Epoch 165/200\n",
            "32/32 [==============================] - 0s 2ms/step - loss: 0.6939 - accuracy: 0.4970\n",
            "Epoch 166/200\n",
            "32/32 [==============================] - 0s 2ms/step - loss: 0.6942 - accuracy: 0.4800\n",
            "Epoch 167/200\n",
            "32/32 [==============================] - 0s 2ms/step - loss: 0.6948 - accuracy: 0.4930\n",
            "Epoch 168/200\n",
            "32/32 [==============================] - 0s 2ms/step - loss: 0.6941 - accuracy: 0.4690\n",
            "Epoch 169/200\n",
            "32/32 [==============================] - 0s 2ms/step - loss: 0.6940 - accuracy: 0.4880\n",
            "Epoch 170/200\n",
            "32/32 [==============================] - 0s 2ms/step - loss: 0.6938 - accuracy: 0.4850\n",
            "Epoch 171/200\n",
            "32/32 [==============================] - 0s 3ms/step - loss: 0.6939 - accuracy: 0.4980\n",
            "Epoch 172/200\n",
            "32/32 [==============================] - 0s 2ms/step - loss: 0.6942 - accuracy: 0.4770\n",
            "Epoch 173/200\n",
            "32/32 [==============================] - 0s 2ms/step - loss: 0.6942 - accuracy: 0.4730\n",
            "Epoch 174/200\n",
            "32/32 [==============================] - 0s 2ms/step - loss: 0.6943 - accuracy: 0.4950\n",
            "Epoch 175/200\n",
            "32/32 [==============================] - 0s 2ms/step - loss: 0.6946 - accuracy: 0.4900\n",
            "Epoch 176/200\n",
            "32/32 [==============================] - 0s 2ms/step - loss: 0.6942 - accuracy: 0.4770\n",
            "Epoch 177/200\n",
            "32/32 [==============================] - 0s 2ms/step - loss: 0.6941 - accuracy: 0.4670\n",
            "Epoch 178/200\n",
            "32/32 [==============================] - 0s 2ms/step - loss: 0.6941 - accuracy: 0.4840\n",
            "Epoch 179/200\n",
            "32/32 [==============================] - 0s 2ms/step - loss: 0.6943 - accuracy: 0.4880\n",
            "Epoch 180/200\n",
            "32/32 [==============================] - 0s 2ms/step - loss: 0.6942 - accuracy: 0.4960\n",
            "Epoch 181/200\n",
            "32/32 [==============================] - 0s 2ms/step - loss: 0.6943 - accuracy: 0.4890\n",
            "Epoch 182/200\n",
            "32/32 [==============================] - 0s 2ms/step - loss: 0.6941 - accuracy: 0.4760\n",
            "Epoch 183/200\n",
            "32/32 [==============================] - 0s 2ms/step - loss: 0.6942 - accuracy: 0.5030\n",
            "Epoch 184/200\n",
            "32/32 [==============================] - 0s 2ms/step - loss: 0.6943 - accuracy: 0.4890\n",
            "Epoch 185/200\n",
            "32/32 [==============================] - 0s 2ms/step - loss: 0.6944 - accuracy: 0.4890\n",
            "Epoch 186/200\n",
            "32/32 [==============================] - 0s 2ms/step - loss: 0.6945 - accuracy: 0.4810\n",
            "Epoch 187/200\n",
            "32/32 [==============================] - 0s 5ms/step - loss: 0.6943 - accuracy: 0.4760\n",
            "Epoch 188/200\n",
            "32/32 [==============================] - 0s 4ms/step - loss: 0.6943 - accuracy: 0.4910\n",
            "Epoch 189/200\n",
            "32/32 [==============================] - 0s 2ms/step - loss: 0.6940 - accuracy: 0.5120\n",
            "Epoch 190/200\n",
            "32/32 [==============================] - 0s 2ms/step - loss: 0.6943 - accuracy: 0.4720\n",
            "Epoch 191/200\n",
            "32/32 [==============================] - 0s 2ms/step - loss: 0.6941 - accuracy: 0.4770\n",
            "Epoch 192/200\n",
            "32/32 [==============================] - 0s 3ms/step - loss: 0.6940 - accuracy: 0.4970\n",
            "Epoch 193/200\n",
            "32/32 [==============================] - 0s 2ms/step - loss: 0.6939 - accuracy: 0.4720\n",
            "Epoch 194/200\n",
            "32/32 [==============================] - 0s 3ms/step - loss: 0.6941 - accuracy: 0.4940\n",
            "Epoch 195/200\n",
            "32/32 [==============================] - 0s 3ms/step - loss: 0.6942 - accuracy: 0.4660\n",
            "Epoch 196/200\n",
            "32/32 [==============================] - 0s 2ms/step - loss: 0.6943 - accuracy: 0.4740\n",
            "Epoch 197/200\n",
            "32/32 [==============================] - 0s 2ms/step - loss: 0.6942 - accuracy: 0.4890\n",
            "Epoch 198/200\n",
            "32/32 [==============================] - 0s 2ms/step - loss: 0.6943 - accuracy: 0.4830\n",
            "Epoch 199/200\n",
            "32/32 [==============================] - 0s 2ms/step - loss: 0.6937 - accuracy: 0.5120\n",
            "Epoch 200/200\n",
            "32/32 [==============================] - 0s 2ms/step - loss: 0.6941 - accuracy: 0.4810\n"
          ]
        },
        {
          "output_type": "execute_result",
          "data": {
            "text/plain": [
              "<keras.callbacks.History at 0x7f7061a4b2b0>"
            ]
          },
          "metadata": {},
          "execution_count": 65
        }
      ]
    },
    {
      "cell_type": "code",
      "source": [
        "model1.evaluate(X, y)"
      ],
      "metadata": {
        "colab": {
          "base_uri": "https://localhost:8080/"
        },
        "id": "G00HWwxwLlPj",
        "outputId": "cd1e92b3-01ce-4063-cdaf-e3ec315adfc4"
      },
      "execution_count": 66,
      "outputs": [
        {
          "output_type": "stream",
          "name": "stdout",
          "text": [
            "32/32 [==============================] - 0s 1ms/step - loss: 0.6935 - accuracy: 0.5000\n"
          ]
        },
        {
          "output_type": "execute_result",
          "data": {
            "text/plain": [
              "[0.6934831142425537, 0.5]"
            ]
          },
          "metadata": {},
          "execution_count": 66
        }
      ]
    },
    {
      "cell_type": "code",
      "source": [
        "# Our model is getting around 50% accuracy so let's add an extra layer"
      ],
      "metadata": {
        "id": "5rpDINOFL2ts"
      },
      "execution_count": 67,
      "outputs": []
    },
    {
      "cell_type": "code",
      "source": [
        "tf.random.set_seed(42)\n",
        "\n",
        "model2 = tf.keras.Sequential([\n",
        "    tf.keras.layers.Dense(1),\n",
        "    tf.keras.layers.Dense(1)\n",
        "])\n",
        "\n",
        "model2.compile(loss=tf.keras.losses.BinaryCrossentropy(),\n",
        "               optimizer=tf.keras.optimizers.SGD(),\n",
        "               metrics=[\"accuracy\"])\n",
        "\n",
        "model2.fit(X, y, epochs=100)"
      ],
      "metadata": {
        "colab": {
          "base_uri": "https://localhost:8080/"
        },
        "id": "8DJqoK4NOYpj",
        "outputId": "6d930c88-e066-4570-c45e-65dfa891b3f8"
      },
      "execution_count": 68,
      "outputs": [
        {
          "output_type": "stream",
          "name": "stdout",
          "text": [
            "Epoch 1/100\n",
            "32/32 [==============================] - 1s 2ms/step - loss: 1.8044 - accuracy: 0.5090\n",
            "Epoch 2/100\n",
            "32/32 [==============================] - 0s 2ms/step - loss: 0.7235 - accuracy: 0.5030\n",
            "Epoch 3/100\n",
            "32/32 [==============================] - 0s 2ms/step - loss: 0.7145 - accuracy: 0.4950\n",
            "Epoch 4/100\n",
            "32/32 [==============================] - 0s 2ms/step - loss: 0.7078 - accuracy: 0.5010\n",
            "Epoch 5/100\n",
            "32/32 [==============================] - 0s 2ms/step - loss: 0.7037 - accuracy: 0.5010\n",
            "Epoch 6/100\n",
            "32/32 [==============================] - 0s 2ms/step - loss: 0.7008 - accuracy: 0.4960\n",
            "Epoch 7/100\n",
            "32/32 [==============================] - 0s 2ms/step - loss: 0.7001 - accuracy: 0.4990\n",
            "Epoch 8/100\n",
            "32/32 [==============================] - 0s 2ms/step - loss: 0.6984 - accuracy: 0.4980\n",
            "Epoch 9/100\n",
            "32/32 [==============================] - 0s 2ms/step - loss: 0.6973 - accuracy: 0.4960\n",
            "Epoch 10/100\n",
            "32/32 [==============================] - 0s 2ms/step - loss: 0.6962 - accuracy: 0.4920\n",
            "Epoch 11/100\n",
            "32/32 [==============================] - 0s 2ms/step - loss: 0.6962 - accuracy: 0.4950\n",
            "Epoch 12/100\n",
            "32/32 [==============================] - 0s 2ms/step - loss: 0.6961 - accuracy: 0.4980\n",
            "Epoch 13/100\n",
            "32/32 [==============================] - 0s 3ms/step - loss: 0.6955 - accuracy: 0.4930\n",
            "Epoch 14/100\n",
            "32/32 [==============================] - 0s 2ms/step - loss: 0.6954 - accuracy: 0.4980\n",
            "Epoch 15/100\n",
            "32/32 [==============================] - 0s 2ms/step - loss: 0.6947 - accuracy: 0.4900\n",
            "Epoch 16/100\n",
            "32/32 [==============================] - 0s 2ms/step - loss: 0.6950 - accuracy: 0.5010\n",
            "Epoch 17/100\n",
            "32/32 [==============================] - 0s 2ms/step - loss: 0.6944 - accuracy: 0.5190\n",
            "Epoch 18/100\n",
            "32/32 [==============================] - 0s 2ms/step - loss: 0.6944 - accuracy: 0.4820\n",
            "Epoch 19/100\n",
            "32/32 [==============================] - 0s 2ms/step - loss: 0.6943 - accuracy: 0.5120\n",
            "Epoch 20/100\n",
            "32/32 [==============================] - 0s 2ms/step - loss: 0.6942 - accuracy: 0.5060\n",
            "Epoch 21/100\n",
            "32/32 [==============================] - 0s 2ms/step - loss: 0.6939 - accuracy: 0.5060\n",
            "Epoch 22/100\n",
            "32/32 [==============================] - 0s 2ms/step - loss: 0.6943 - accuracy: 0.4630\n",
            "Epoch 23/100\n",
            "32/32 [==============================] - 0s 2ms/step - loss: 0.6940 - accuracy: 0.5130\n",
            "Epoch 24/100\n",
            "32/32 [==============================] - 0s 2ms/step - loss: 0.6942 - accuracy: 0.4710\n",
            "Epoch 25/100\n",
            "32/32 [==============================] - 0s 2ms/step - loss: 0.6938 - accuracy: 0.4730\n",
            "Epoch 26/100\n",
            "32/32 [==============================] - 0s 2ms/step - loss: 0.6941 - accuracy: 0.4920\n",
            "Epoch 27/100\n",
            "32/32 [==============================] - 0s 2ms/step - loss: 0.6934 - accuracy: 0.5080\n",
            "Epoch 28/100\n",
            "32/32 [==============================] - 0s 2ms/step - loss: 0.6942 - accuracy: 0.4510\n",
            "Epoch 29/100\n",
            "32/32 [==============================] - 0s 2ms/step - loss: 0.6940 - accuracy: 0.4830\n",
            "Epoch 30/100\n",
            "32/32 [==============================] - 0s 2ms/step - loss: 0.6938 - accuracy: 0.4940\n",
            "Epoch 31/100\n",
            "32/32 [==============================] - 0s 2ms/step - loss: 0.6939 - accuracy: 0.5340\n",
            "Epoch 32/100\n",
            "32/32 [==============================] - 0s 2ms/step - loss: 0.6940 - accuracy: 0.4940\n",
            "Epoch 33/100\n",
            "32/32 [==============================] - 0s 2ms/step - loss: 0.6939 - accuracy: 0.4750\n",
            "Epoch 34/100\n",
            "32/32 [==============================] - 0s 2ms/step - loss: 0.6944 - accuracy: 0.4910\n",
            "Epoch 35/100\n",
            "32/32 [==============================] - 0s 2ms/step - loss: 0.6938 - accuracy: 0.5150\n",
            "Epoch 36/100\n",
            "32/32 [==============================] - 0s 3ms/step - loss: 0.6942 - accuracy: 0.4680\n",
            "Epoch 37/100\n",
            "32/32 [==============================] - 0s 2ms/step - loss: 0.6937 - accuracy: 0.5160\n",
            "Epoch 38/100\n",
            "32/32 [==============================] - 0s 2ms/step - loss: 0.6938 - accuracy: 0.4900\n",
            "Epoch 39/100\n",
            "32/32 [==============================] - 0s 2ms/step - loss: 0.6937 - accuracy: 0.4890\n",
            "Epoch 40/100\n",
            "32/32 [==============================] - 0s 2ms/step - loss: 0.6947 - accuracy: 0.4640\n",
            "Epoch 41/100\n",
            "32/32 [==============================] - 0s 2ms/step - loss: 0.6938 - accuracy: 0.4900\n",
            "Epoch 42/100\n",
            "32/32 [==============================] - 0s 2ms/step - loss: 0.6939 - accuracy: 0.4990\n",
            "Epoch 43/100\n",
            "32/32 [==============================] - 0s 2ms/step - loss: 0.6939 - accuracy: 0.4860\n",
            "Epoch 44/100\n",
            "32/32 [==============================] - 0s 2ms/step - loss: 0.6932 - accuracy: 0.5130\n",
            "Epoch 45/100\n",
            "32/32 [==============================] - 0s 2ms/step - loss: 0.6942 - accuracy: 0.4890\n",
            "Epoch 46/100\n",
            "32/32 [==============================] - 0s 2ms/step - loss: 0.6939 - accuracy: 0.4900\n",
            "Epoch 47/100\n",
            "32/32 [==============================] - 0s 2ms/step - loss: 0.6935 - accuracy: 0.5090\n",
            "Epoch 48/100\n",
            "32/32 [==============================] - 0s 2ms/step - loss: 0.6937 - accuracy: 0.4930\n",
            "Epoch 49/100\n",
            "32/32 [==============================] - 0s 3ms/step - loss: 0.6939 - accuracy: 0.4830\n",
            "Epoch 50/100\n",
            "32/32 [==============================] - 0s 2ms/step - loss: 0.6938 - accuracy: 0.5000\n",
            "Epoch 51/100\n",
            "32/32 [==============================] - 0s 2ms/step - loss: 0.6939 - accuracy: 0.4960\n",
            "Epoch 52/100\n",
            "32/32 [==============================] - 0s 3ms/step - loss: 0.6938 - accuracy: 0.4980\n",
            "Epoch 53/100\n",
            "32/32 [==============================] - 0s 2ms/step - loss: 0.6938 - accuracy: 0.4720\n",
            "Epoch 54/100\n",
            "32/32 [==============================] - 0s 3ms/step - loss: 0.6940 - accuracy: 0.4910\n",
            "Epoch 55/100\n",
            "32/32 [==============================] - 0s 3ms/step - loss: 0.6939 - accuracy: 0.4970\n",
            "Epoch 56/100\n",
            "32/32 [==============================] - 0s 2ms/step - loss: 0.6938 - accuracy: 0.4870\n",
            "Epoch 57/100\n",
            "32/32 [==============================] - 0s 3ms/step - loss: 0.6940 - accuracy: 0.4870\n",
            "Epoch 58/100\n",
            "32/32 [==============================] - 0s 3ms/step - loss: 0.6940 - accuracy: 0.4870\n",
            "Epoch 59/100\n",
            "32/32 [==============================] - 0s 2ms/step - loss: 0.6934 - accuracy: 0.5130\n",
            "Epoch 60/100\n",
            "32/32 [==============================] - 0s 2ms/step - loss: 0.6938 - accuracy: 0.4920\n",
            "Epoch 61/100\n",
            "32/32 [==============================] - 0s 3ms/step - loss: 0.6942 - accuracy: 0.4950\n",
            "Epoch 62/100\n",
            "32/32 [==============================] - 0s 2ms/step - loss: 0.6937 - accuracy: 0.4950\n",
            "Epoch 63/100\n",
            "32/32 [==============================] - 0s 2ms/step - loss: 0.6939 - accuracy: 0.4860\n",
            "Epoch 64/100\n",
            "32/32 [==============================] - 0s 3ms/step - loss: 0.6939 - accuracy: 0.4810\n",
            "Epoch 65/100\n",
            "32/32 [==============================] - 0s 3ms/step - loss: 0.6939 - accuracy: 0.4980\n",
            "Epoch 66/100\n",
            "32/32 [==============================] - 0s 3ms/step - loss: 0.6938 - accuracy: 0.4910\n",
            "Epoch 67/100\n",
            "32/32 [==============================] - 0s 3ms/step - loss: 0.6944 - accuracy: 0.4950\n",
            "Epoch 68/100\n",
            "32/32 [==============================] - 0s 3ms/step - loss: 0.6936 - accuracy: 0.4960\n",
            "Epoch 69/100\n",
            "32/32 [==============================] - 0s 3ms/step - loss: 0.6940 - accuracy: 0.5000\n",
            "Epoch 70/100\n",
            "32/32 [==============================] - 0s 4ms/step - loss: 0.6940 - accuracy: 0.4780\n",
            "Epoch 71/100\n",
            "32/32 [==============================] - 0s 3ms/step - loss: 0.6936 - accuracy: 0.4970\n",
            "Epoch 72/100\n",
            "32/32 [==============================] - 0s 3ms/step - loss: 0.6940 - accuracy: 0.4800\n",
            "Epoch 73/100\n",
            "32/32 [==============================] - 0s 3ms/step - loss: 0.6937 - accuracy: 0.4840\n",
            "Epoch 74/100\n",
            "32/32 [==============================] - 0s 3ms/step - loss: 0.6937 - accuracy: 0.4900\n",
            "Epoch 75/100\n",
            "32/32 [==============================] - 0s 4ms/step - loss: 0.6938 - accuracy: 0.4940\n",
            "Epoch 76/100\n",
            "32/32 [==============================] - 0s 4ms/step - loss: 0.6937 - accuracy: 0.5040\n",
            "Epoch 77/100\n",
            "32/32 [==============================] - 0s 4ms/step - loss: 0.6941 - accuracy: 0.4910\n",
            "Epoch 78/100\n",
            "32/32 [==============================] - 0s 4ms/step - loss: 0.6938 - accuracy: 0.4860\n",
            "Epoch 79/100\n",
            "32/32 [==============================] - 0s 3ms/step - loss: 0.6937 - accuracy: 0.5020\n",
            "Epoch 80/100\n",
            "32/32 [==============================] - 0s 3ms/step - loss: 0.6941 - accuracy: 0.5000\n",
            "Epoch 81/100\n",
            "32/32 [==============================] - 0s 3ms/step - loss: 0.6941 - accuracy: 0.4820\n",
            "Epoch 82/100\n",
            "32/32 [==============================] - 0s 3ms/step - loss: 0.6937 - accuracy: 0.4920\n",
            "Epoch 83/100\n",
            "32/32 [==============================] - 0s 3ms/step - loss: 0.6938 - accuracy: 0.5120\n",
            "Epoch 84/100\n",
            "32/32 [==============================] - 0s 4ms/step - loss: 0.6941 - accuracy: 0.5000\n",
            "Epoch 85/100\n",
            "32/32 [==============================] - 0s 4ms/step - loss: 0.6936 - accuracy: 0.4830\n",
            "Epoch 86/100\n",
            "32/32 [==============================] - 0s 4ms/step - loss: 0.6937 - accuracy: 0.4830\n",
            "Epoch 87/100\n",
            "32/32 [==============================] - 0s 4ms/step - loss: 0.6940 - accuracy: 0.4880\n",
            "Epoch 88/100\n",
            "32/32 [==============================] - 0s 3ms/step - loss: 0.6941 - accuracy: 0.4860\n",
            "Epoch 89/100\n",
            "32/32 [==============================] - 0s 3ms/step - loss: 0.6943 - accuracy: 0.4910\n",
            "Epoch 90/100\n",
            "32/32 [==============================] - 0s 3ms/step - loss: 0.6939 - accuracy: 0.4960\n",
            "Epoch 91/100\n",
            "32/32 [==============================] - 0s 3ms/step - loss: 0.6941 - accuracy: 0.4970\n",
            "Epoch 92/100\n",
            "32/32 [==============================] - 0s 3ms/step - loss: 0.6939 - accuracy: 0.4910\n",
            "Epoch 93/100\n",
            "32/32 [==============================] - 0s 2ms/step - loss: 0.6938 - accuracy: 0.5040\n",
            "Epoch 94/100\n",
            "32/32 [==============================] - 0s 2ms/step - loss: 0.6944 - accuracy: 0.4750\n",
            "Epoch 95/100\n",
            "32/32 [==============================] - 0s 2ms/step - loss: 0.6936 - accuracy: 0.4840\n",
            "Epoch 96/100\n",
            "32/32 [==============================] - 0s 2ms/step - loss: 0.6942 - accuracy: 0.4690\n",
            "Epoch 97/100\n",
            "32/32 [==============================] - 0s 2ms/step - loss: 0.6939 - accuracy: 0.4970\n",
            "Epoch 98/100\n",
            "32/32 [==============================] - 0s 2ms/step - loss: 0.6938 - accuracy: 0.5000\n",
            "Epoch 99/100\n",
            "32/32 [==============================] - 0s 2ms/step - loss: 0.6943 - accuracy: 0.4980\n",
            "Epoch 100/100\n",
            "32/32 [==============================] - 0s 2ms/step - loss: 0.6941 - accuracy: 0.4690\n"
          ]
        },
        {
          "output_type": "execute_result",
          "data": {
            "text/plain": [
              "<keras.callbacks.History at 0x7f7061a2f7c0>"
            ]
          },
          "metadata": {},
          "execution_count": 68
        }
      ]
    },
    {
      "cell_type": "code",
      "source": [
        "model2.evaluate(X, y)"
      ],
      "metadata": {
        "colab": {
          "base_uri": "https://localhost:8080/"
        },
        "id": "afnRjDmMO6Ux",
        "outputId": "ae11d0e7-aed8-4682-bcbe-df45da16dd3b"
      },
      "execution_count": 69,
      "outputs": [
        {
          "output_type": "stream",
          "name": "stdout",
          "text": [
            "32/32 [==============================] - 0s 2ms/step - loss: 0.6933 - accuracy: 0.5000\n"
          ]
        },
        {
          "output_type": "execute_result",
          "data": {
            "text/plain": [
              "[0.6933314204216003, 0.5]"
            ]
          },
          "metadata": {},
          "execution_count": 69
        }
      ]
    },
    {
      "cell_type": "code",
      "source": [
        "# Model is still guessing so let's just add an activation function"
      ],
      "metadata": {
        "id": "oQ_VRnhNGfJZ"
      },
      "execution_count": 70,
      "outputs": []
    },
    {
      "cell_type": "code",
      "source": [
        "tf.random.set_seed(42)\n",
        "\n",
        "model3 = tf.keras.Sequential([\n",
        "    tf.keras.layers.Dense(100, activation=\"relu\"),\n",
        "    tf.keras.layers.Dense(1, activation=\"sigmoid\")\n",
        "])\n",
        "\n",
        "model3.compile(loss=tf.keras.losses.BinaryCrossentropy(),\n",
        "               optimizer=tf.keras.optimizers.Adam(),\n",
        "               metrics=[\"accuracy\"])\n",
        "\n",
        "model3.fit(X, y, epochs=100)"
      ],
      "metadata": {
        "colab": {
          "base_uri": "https://localhost:8080/"
        },
        "id": "uGM2MvzqHLU6",
        "outputId": "50d91c2e-f358-47b9-d028-95b102dc9164"
      },
      "execution_count": 71,
      "outputs": [
        {
          "output_type": "stream",
          "name": "stdout",
          "text": [
            "Epoch 1/100\n",
            "32/32 [==============================] - 1s 3ms/step - loss: 0.6998 - accuracy: 0.5000\n",
            "Epoch 2/100\n",
            "32/32 [==============================] - 0s 3ms/step - loss: 0.6928 - accuracy: 0.4790\n",
            "Epoch 3/100\n",
            "32/32 [==============================] - 0s 2ms/step - loss: 0.6894 - accuracy: 0.4980\n",
            "Epoch 4/100\n",
            "32/32 [==============================] - 0s 2ms/step - loss: 0.6869 - accuracy: 0.5000\n",
            "Epoch 5/100\n",
            "32/32 [==============================] - 0s 2ms/step - loss: 0.6840 - accuracy: 0.5000\n",
            "Epoch 6/100\n",
            "32/32 [==============================] - 0s 2ms/step - loss: 0.6810 - accuracy: 0.5000\n",
            "Epoch 7/100\n",
            "32/32 [==============================] - 0s 2ms/step - loss: 0.6774 - accuracy: 0.5140\n",
            "Epoch 8/100\n",
            "32/32 [==============================] - 0s 2ms/step - loss: 0.6744 - accuracy: 0.5410\n",
            "Epoch 9/100\n",
            "32/32 [==============================] - 0s 2ms/step - loss: 0.6702 - accuracy: 0.5760\n",
            "Epoch 10/100\n",
            "32/32 [==============================] - 0s 3ms/step - loss: 0.6661 - accuracy: 0.5110\n",
            "Epoch 11/100\n",
            "32/32 [==============================] - 0s 3ms/step - loss: 0.6612 - accuracy: 0.7270\n",
            "Epoch 12/100\n",
            "32/32 [==============================] - 0s 2ms/step - loss: 0.6564 - accuracy: 0.7570\n",
            "Epoch 13/100\n",
            "32/32 [==============================] - 0s 2ms/step - loss: 0.6511 - accuracy: 0.8160\n",
            "Epoch 14/100\n",
            "32/32 [==============================] - 0s 4ms/step - loss: 0.6463 - accuracy: 0.9500\n",
            "Epoch 15/100\n",
            "32/32 [==============================] - 0s 2ms/step - loss: 0.6408 - accuracy: 0.8620\n",
            "Epoch 16/100\n",
            "32/32 [==============================] - 0s 3ms/step - loss: 0.6353 - accuracy: 0.9240\n",
            "Epoch 17/100\n",
            "32/32 [==============================] - 0s 3ms/step - loss: 0.6304 - accuracy: 0.9630\n",
            "Epoch 18/100\n",
            "32/32 [==============================] - 0s 2ms/step - loss: 0.6232 - accuracy: 0.8760\n",
            "Epoch 19/100\n",
            "32/32 [==============================] - 0s 3ms/step - loss: 0.6176 - accuracy: 0.9810\n",
            "Epoch 20/100\n",
            "32/32 [==============================] - 0s 2ms/step - loss: 0.6106 - accuracy: 0.9580\n",
            "Epoch 21/100\n",
            "32/32 [==============================] - 0s 2ms/step - loss: 0.6043 - accuracy: 0.9750\n",
            "Epoch 22/100\n",
            "32/32 [==============================] - 0s 3ms/step - loss: 0.5967 - accuracy: 0.9350\n",
            "Epoch 23/100\n",
            "32/32 [==============================] - 0s 2ms/step - loss: 0.5891 - accuracy: 0.9970\n",
            "Epoch 24/100\n",
            "32/32 [==============================] - 0s 3ms/step - loss: 0.5831 - accuracy: 0.9200\n",
            "Epoch 25/100\n",
            "32/32 [==============================] - 0s 3ms/step - loss: 0.5758 - accuracy: 0.9820\n",
            "Epoch 26/100\n",
            "32/32 [==============================] - 0s 3ms/step - loss: 0.5663 - accuracy: 0.9820\n",
            "Epoch 27/100\n",
            "32/32 [==============================] - 0s 2ms/step - loss: 0.5587 - accuracy: 0.9920\n",
            "Epoch 28/100\n",
            "32/32 [==============================] - 0s 3ms/step - loss: 0.5497 - accuracy: 0.9780\n",
            "Epoch 29/100\n",
            "32/32 [==============================] - 0s 2ms/step - loss: 0.5423 - accuracy: 0.9840\n",
            "Epoch 30/100\n",
            "32/32 [==============================] - 0s 3ms/step - loss: 0.5348 - accuracy: 0.9860\n",
            "Epoch 31/100\n",
            "32/32 [==============================] - 0s 2ms/step - loss: 0.5248 - accuracy: 0.9960\n",
            "Epoch 32/100\n",
            "32/32 [==============================] - 0s 2ms/step - loss: 0.5168 - accuracy: 0.9840\n",
            "Epoch 33/100\n",
            "32/32 [==============================] - 0s 3ms/step - loss: 0.5076 - accuracy: 0.9960\n",
            "Epoch 34/100\n",
            "32/32 [==============================] - 0s 2ms/step - loss: 0.5002 - accuracy: 0.9970\n",
            "Epoch 35/100\n",
            "32/32 [==============================] - 0s 3ms/step - loss: 0.4897 - accuracy: 0.9970\n",
            "Epoch 36/100\n",
            "32/32 [==============================] - 0s 3ms/step - loss: 0.4801 - accuracy: 0.9970\n",
            "Epoch 37/100\n",
            "32/32 [==============================] - 0s 2ms/step - loss: 0.4716 - accuracy: 1.0000\n",
            "Epoch 38/100\n",
            "32/32 [==============================] - 0s 2ms/step - loss: 0.4645 - accuracy: 0.9920\n",
            "Epoch 39/100\n",
            "32/32 [==============================] - 0s 3ms/step - loss: 0.4540 - accuracy: 0.9970\n",
            "Epoch 40/100\n",
            "32/32 [==============================] - 0s 3ms/step - loss: 0.4458 - accuracy: 0.9980\n",
            "Epoch 41/100\n",
            "32/32 [==============================] - 0s 3ms/step - loss: 0.4386 - accuracy: 0.9920\n",
            "Epoch 42/100\n",
            "32/32 [==============================] - 0s 2ms/step - loss: 0.4305 - accuracy: 0.9960\n",
            "Epoch 43/100\n",
            "32/32 [==============================] - 0s 2ms/step - loss: 0.4205 - accuracy: 0.9960\n",
            "Epoch 44/100\n",
            "32/32 [==============================] - 0s 2ms/step - loss: 0.4117 - accuracy: 0.9960\n",
            "Epoch 45/100\n",
            "32/32 [==============================] - 0s 3ms/step - loss: 0.4070 - accuracy: 0.9980\n",
            "Epoch 46/100\n",
            "32/32 [==============================] - 0s 3ms/step - loss: 0.3947 - accuracy: 1.0000\n",
            "Epoch 47/100\n",
            "32/32 [==============================] - 0s 3ms/step - loss: 0.3883 - accuracy: 1.0000\n",
            "Epoch 48/100\n",
            "32/32 [==============================] - 0s 2ms/step - loss: 0.3818 - accuracy: 0.9950\n",
            "Epoch 49/100\n",
            "32/32 [==============================] - 0s 3ms/step - loss: 0.3719 - accuracy: 0.9950\n",
            "Epoch 50/100\n",
            "32/32 [==============================] - 0s 3ms/step - loss: 0.3643 - accuracy: 1.0000\n",
            "Epoch 51/100\n",
            "32/32 [==============================] - 0s 2ms/step - loss: 0.3573 - accuracy: 0.9980\n",
            "Epoch 52/100\n",
            "32/32 [==============================] - 0s 2ms/step - loss: 0.3489 - accuracy: 1.0000\n",
            "Epoch 53/100\n",
            "32/32 [==============================] - 0s 2ms/step - loss: 0.3429 - accuracy: 0.9990\n",
            "Epoch 54/100\n",
            "32/32 [==============================] - 0s 2ms/step - loss: 0.3344 - accuracy: 1.0000\n",
            "Epoch 55/100\n",
            "32/32 [==============================] - 0s 2ms/step - loss: 0.3269 - accuracy: 1.0000\n",
            "Epoch 56/100\n",
            "32/32 [==============================] - 0s 2ms/step - loss: 0.3201 - accuracy: 1.0000\n",
            "Epoch 57/100\n",
            "32/32 [==============================] - 0s 2ms/step - loss: 0.3137 - accuracy: 0.9990\n",
            "Epoch 58/100\n",
            "32/32 [==============================] - 0s 3ms/step - loss: 0.3084 - accuracy: 0.9990\n",
            "Epoch 59/100\n",
            "32/32 [==============================] - 0s 3ms/step - loss: 0.3025 - accuracy: 1.0000\n",
            "Epoch 60/100\n",
            "32/32 [==============================] - 0s 2ms/step - loss: 0.2958 - accuracy: 1.0000\n",
            "Epoch 61/100\n",
            "32/32 [==============================] - 0s 2ms/step - loss: 0.2901 - accuracy: 0.9990\n",
            "Epoch 62/100\n",
            "32/32 [==============================] - 0s 2ms/step - loss: 0.2807 - accuracy: 1.0000\n",
            "Epoch 63/100\n",
            "32/32 [==============================] - 0s 2ms/step - loss: 0.2748 - accuracy: 0.9990\n",
            "Epoch 64/100\n",
            "32/32 [==============================] - 0s 3ms/step - loss: 0.2695 - accuracy: 1.0000\n",
            "Epoch 65/100\n",
            "32/32 [==============================] - 0s 2ms/step - loss: 0.2649 - accuracy: 1.0000\n",
            "Epoch 66/100\n",
            "32/32 [==============================] - 0s 3ms/step - loss: 0.2577 - accuracy: 1.0000\n",
            "Epoch 67/100\n",
            "32/32 [==============================] - 0s 2ms/step - loss: 0.2532 - accuracy: 1.0000\n",
            "Epoch 68/100\n",
            "32/32 [==============================] - 0s 2ms/step - loss: 0.2471 - accuracy: 1.0000\n",
            "Epoch 69/100\n",
            "32/32 [==============================] - 0s 3ms/step - loss: 0.2417 - accuracy: 1.0000\n",
            "Epoch 70/100\n",
            "32/32 [==============================] - 0s 2ms/step - loss: 0.2378 - accuracy: 1.0000\n",
            "Epoch 71/100\n",
            "32/32 [==============================] - 0s 3ms/step - loss: 0.2324 - accuracy: 1.0000\n",
            "Epoch 72/100\n",
            "32/32 [==============================] - 0s 3ms/step - loss: 0.2283 - accuracy: 1.0000\n",
            "Epoch 73/100\n",
            "32/32 [==============================] - 0s 3ms/step - loss: 0.2226 - accuracy: 1.0000\n",
            "Epoch 74/100\n",
            "32/32 [==============================] - 0s 2ms/step - loss: 0.2176 - accuracy: 1.0000\n",
            "Epoch 75/100\n",
            "32/32 [==============================] - 0s 3ms/step - loss: 0.2144 - accuracy: 0.9990\n",
            "Epoch 76/100\n",
            "32/32 [==============================] - 0s 3ms/step - loss: 0.2090 - accuracy: 1.0000\n",
            "Epoch 77/100\n",
            "32/32 [==============================] - 0s 4ms/step - loss: 0.2042 - accuracy: 1.0000\n",
            "Epoch 78/100\n",
            "32/32 [==============================] - 0s 5ms/step - loss: 0.2002 - accuracy: 1.0000\n",
            "Epoch 79/100\n",
            "32/32 [==============================] - 0s 4ms/step - loss: 0.1973 - accuracy: 1.0000\n",
            "Epoch 80/100\n",
            "32/32 [==============================] - 0s 5ms/step - loss: 0.1926 - accuracy: 1.0000\n",
            "Epoch 81/100\n",
            "32/32 [==============================] - 0s 6ms/step - loss: 0.1883 - accuracy: 1.0000\n",
            "Epoch 82/100\n",
            "32/32 [==============================] - 0s 5ms/step - loss: 0.1845 - accuracy: 1.0000\n",
            "Epoch 83/100\n",
            "32/32 [==============================] - 0s 5ms/step - loss: 0.1804 - accuracy: 1.0000\n",
            "Epoch 84/100\n",
            "32/32 [==============================] - 0s 4ms/step - loss: 0.1772 - accuracy: 1.0000\n",
            "Epoch 85/100\n",
            "32/32 [==============================] - 0s 5ms/step - loss: 0.1734 - accuracy: 1.0000\n",
            "Epoch 86/100\n",
            "32/32 [==============================] - 0s 5ms/step - loss: 0.1707 - accuracy: 1.0000\n",
            "Epoch 87/100\n",
            "32/32 [==============================] - 0s 4ms/step - loss: 0.1666 - accuracy: 1.0000\n",
            "Epoch 88/100\n",
            "32/32 [==============================] - 0s 4ms/step - loss: 0.1636 - accuracy: 1.0000\n",
            "Epoch 89/100\n",
            "32/32 [==============================] - 0s 5ms/step - loss: 0.1603 - accuracy: 1.0000\n",
            "Epoch 90/100\n",
            "32/32 [==============================] - 0s 4ms/step - loss: 0.1572 - accuracy: 1.0000\n",
            "Epoch 91/100\n",
            "32/32 [==============================] - 0s 4ms/step - loss: 0.1545 - accuracy: 1.0000\n",
            "Epoch 92/100\n",
            "32/32 [==============================] - 0s 5ms/step - loss: 0.1505 - accuracy: 1.0000\n",
            "Epoch 93/100\n",
            "32/32 [==============================] - 0s 4ms/step - loss: 0.1480 - accuracy: 0.9990\n",
            "Epoch 94/100\n",
            "32/32 [==============================] - 0s 5ms/step - loss: 0.1456 - accuracy: 1.0000\n",
            "Epoch 95/100\n",
            "32/32 [==============================] - 0s 4ms/step - loss: 0.1422 - accuracy: 1.0000\n",
            "Epoch 96/100\n",
            "32/32 [==============================] - 0s 5ms/step - loss: 0.1401 - accuracy: 1.0000\n",
            "Epoch 97/100\n",
            "32/32 [==============================] - 0s 4ms/step - loss: 0.1371 - accuracy: 1.0000\n",
            "Epoch 98/100\n",
            "32/32 [==============================] - 0s 4ms/step - loss: 0.1352 - accuracy: 1.0000\n",
            "Epoch 99/100\n",
            "32/32 [==============================] - 0s 2ms/step - loss: 0.1329 - accuracy: 1.0000\n",
            "Epoch 100/100\n",
            "32/32 [==============================] - 0s 2ms/step - loss: 0.1292 - accuracy: 1.0000\n"
          ]
        },
        {
          "output_type": "execute_result",
          "data": {
            "text/plain": [
              "<keras.callbacks.History at 0x7f7062294370>"
            ]
          },
          "metadata": {},
          "execution_count": 71
        }
      ]
    },
    {
      "cell_type": "code",
      "source": [
        "model3.evaluate(X, y)"
      ],
      "metadata": {
        "colab": {
          "base_uri": "https://localhost:8080/"
        },
        "id": "hquDoiHvIOF9",
        "outputId": "9c6e511f-5de4-4ac4-ddf6-ad1239251347"
      },
      "execution_count": 72,
      "outputs": [
        {
          "output_type": "stream",
          "name": "stdout",
          "text": [
            "32/32 [==============================] - 0s 2ms/step - loss: 0.1275 - accuracy: 1.0000\n"
          ]
        },
        {
          "output_type": "execute_result",
          "data": {
            "text/plain": [
              "[0.12751349806785583, 1.0]"
            ]
          },
          "metadata": {},
          "execution_count": 72
        }
      ]
    },
    {
      "cell_type": "code",
      "source": [
        "model3.predict(X)[:5]"
      ],
      "metadata": {
        "colab": {
          "base_uri": "https://localhost:8080/"
        },
        "id": "lKy6GuJCLnJw",
        "outputId": "139cde87-191e-4aae-e49c-50ae006c3891"
      },
      "execution_count": 73,
      "outputs": [
        {
          "output_type": "stream",
          "name": "stdout",
          "text": [
            "32/32 [==============================] - 0s 2ms/step\n"
          ]
        },
        {
          "output_type": "execute_result",
          "data": {
            "text/plain": [
              "array([[0.90053576],\n",
              "       [0.9527397 ],\n",
              "       [0.8405967 ],\n",
              "       [0.90390736],\n",
              "       [0.09635698]], dtype=float32)"
            ]
          },
          "metadata": {},
          "execution_count": 73
        }
      ]
    },
    {
      "cell_type": "markdown",
      "source": [
        "Model 4"
      ],
      "metadata": {
        "id": "Imv6Pki-IrcT"
      }
    },
    {
      "cell_type": "code",
      "source": [
        "tf.random.set_seed(42)\n",
        "\n",
        "model4 = tf.keras.Sequential([\n",
        "    tf.keras.layers.Dense(100),\n",
        "    tf.keras.layers.Dense(10),\n",
        "    tf.keras.layers.Dense(1)\n",
        "])\n",
        "\n",
        "model4.compile(loss=tf.keras.losses.BinaryCrossentropy(),\n",
        "               optimizer=tf.keras.optimizers.Adam(),\n",
        "               metrics=[\"accuracy\"])\n",
        "\n",
        "model4.fit(X, y, epochs=100, verbose=0)"
      ],
      "metadata": {
        "colab": {
          "base_uri": "https://localhost:8080/"
        },
        "id": "_yNDjPkmKEvM",
        "outputId": "86bf15c4-868a-4740-db64-ed358c512edc"
      },
      "execution_count": 74,
      "outputs": [
        {
          "output_type": "execute_result",
          "data": {
            "text/plain": [
              "<keras.callbacks.History at 0x7f7065a574f0>"
            ]
          },
          "metadata": {},
          "execution_count": 74
        }
      ]
    },
    {
      "cell_type": "code",
      "source": [
        "model4.evaluate(X, y)"
      ],
      "metadata": {
        "colab": {
          "base_uri": "https://localhost:8080/"
        },
        "id": "5OAOB32zKxqd",
        "outputId": "d5be05ac-4f75-4f2c-efd6-bdc88f6d9bfc"
      },
      "execution_count": 75,
      "outputs": [
        {
          "output_type": "stream",
          "name": "stdout",
          "text": [
            "32/32 [==============================] - 0s 2ms/step - loss: 0.6980 - accuracy: 0.5080\n"
          ]
        },
        {
          "output_type": "execute_result",
          "data": {
            "text/plain": [
              "[0.6980254650115967, 0.5080000162124634]"
            ]
          },
          "metadata": {},
          "execution_count": 75
        }
      ]
    },
    {
      "cell_type": "code",
      "source": [
        "model4.predict(X)[:5]"
      ],
      "metadata": {
        "colab": {
          "base_uri": "https://localhost:8080/"
        },
        "id": "BQ4vJBzeK4OY",
        "outputId": "5f77b6ea-830c-4ea7-e71a-472cbf1770a6"
      },
      "execution_count": 76,
      "outputs": [
        {
          "output_type": "stream",
          "name": "stdout",
          "text": [
            "32/32 [==============================] - 0s 1ms/step\n"
          ]
        },
        {
          "output_type": "execute_result",
          "data": {
            "text/plain": [
              "array([[0.48793232],\n",
              "       [0.55887634],\n",
              "       [0.56292886],\n",
              "       [0.570507  ],\n",
              "       [0.44141176]], dtype=float32)"
            ]
          },
          "metadata": {},
          "execution_count": 76
        }
      ]
    },
    {
      "cell_type": "code",
      "source": [
        "import numpy as np"
      ],
      "metadata": {
        "id": "eZthrtnGQrHH"
      },
      "execution_count": 77,
      "outputs": []
    },
    {
      "cell_type": "code",
      "source": [
        "def plot_decision_boundary(model, X, y):\n",
        "\n",
        "  x_min, x_max = X[:, 0].min() - 0.1, X[:, 0].max() + 0.1\n",
        "  y_min, y_max = X[:, 1].min() - 0.1, X[:, 1].max() + 0.1\n",
        "  xx, yy = np.meshgrid(np.linspace(x_min, x_max, 100),\n",
        "                       np.linspace(y_min, y_max, 100))\n",
        "  \n",
        "  x_in = np.c_[xx.ravel(), yy.ravel()]\n",
        "\n",
        "  y_pred = model.predict(x_in)\n",
        "\n",
        "\n",
        "  if len(y_pred[0]) > 1:\n",
        "    print(\"doing multiclass classification\")\n",
        "    y_pred = np.argmax(y_pred, axis=1).reshape(xx.shape)\n",
        "  else:\n",
        "    print(\"doing binary classification\")\n",
        "    y_pred = np.round(y_pred).reshape(xx.shape)\n",
        "\n",
        "  plt.contourf(xx, yy, y_pred, cmap=plt.cm.RdYlBu, alpha=0.7)\n",
        "  plt.scatter(X[:, 0], X[:, 1], c=y, s=40, cmap=plt.cm.RdYlBu)\n",
        "  plt.xlim(xx.min(), xx.max())\n",
        "  plt.ylim(yy.min(), yy.max())"
      ],
      "metadata": {
        "id": "NXFWUkfHL-R-"
      },
      "execution_count": 78,
      "outputs": []
    },
    {
      "cell_type": "code",
      "source": [
        "plot_decision_boundary(model=model4, \n",
        "                       X=X, \n",
        "                       y=y)"
      ],
      "metadata": {
        "colab": {
          "base_uri": "https://localhost:8080/",
          "height": 300
        },
        "id": "NTMzsD2lRSAw",
        "outputId": "472957c3-5500-42d9-8867-656aac507e14"
      },
      "execution_count": 79,
      "outputs": [
        {
          "output_type": "stream",
          "name": "stdout",
          "text": [
            "313/313 [==============================] - 1s 2ms/step\n",
            "doing binary classification\n"
          ]
        },
        {
          "output_type": "display_data",
          "data": {
            "text/plain": [
              "<Figure size 432x288 with 1 Axes>"
            ],
            "image/png": "[encoded data removed]"
          },
          "metadata": {
            "needs_background": "light"
          }
        }
      ]
    },
    {
      "cell_type": "code",
      "source": [
        "y_pred = model4.predict(X)"
      ],
      "metadata": {
        "colab": {
          "base_uri": "https://localhost:8080/"
        },
        "id": "k3SdhYAIUMy6",
        "outputId": "9c7e4008-0e9e-482c-970b-19f66f76a9e1"
      },
      "execution_count": 80,
      "outputs": [
        {
          "output_type": "stream",
          "name": "stdout",
          "text": [
            "32/32 [==============================] - 0s 2ms/step\n"
          ]
        }
      ]
    },
    {
      "cell_type": "code",
      "source": [
        "x_min, x_max = X[:, 0].min() - 0.1, X[:, 0].max() + 0.1\n",
        "y_min, y_max = X[:, 1].min() - 0.1, X[:, 1].max() + 0.1\n",
        "xx, yy = np.meshgrid(np.linspace(x_min, x_max, 100),\n",
        "                       np.linspace(y_min, y_max, 100))\n",
        "\n",
        "xx.shape"
      ],
      "metadata": {
        "colab": {
          "base_uri": "https://localhost:8080/"
        },
        "id": "LAy03Xc8VnL-",
        "outputId": "83dd7b20-fcba-4203-f9bb-dc8208aacfdd"
      },
      "execution_count": 81,
      "outputs": [
        {
          "output_type": "execute_result",
          "data": {
            "text/plain": [
              "(100, 100)"
            ]
          },
          "metadata": {},
          "execution_count": 81
        }
      ]
    },
    {
      "cell_type": "code",
      "source": [
        "y_pred.shape"
      ],
      "metadata": {
        "colab": {
          "base_uri": "https://localhost:8080/"
        },
        "id": "LePDhKxxVr_C",
        "outputId": "82f36185-5c62-4c91-c308-a160c297030c"
      },
      "execution_count": 82,
      "outputs": [
        {
          "output_type": "execute_result",
          "data": {
            "text/plain": [
              "(1000, 1)"
            ]
          },
          "metadata": {},
          "execution_count": 82
        }
      ]
    },
    {
      "cell_type": "markdown",
      "source": [
        "Model 5"
      ],
      "metadata": {
        "id": "9a4PIHw_V3iO"
      }
    },
    {
      "cell_type": "code",
      "source": [
        "tf.random.set_seed(42)\n",
        "\n",
        "model5 = tf.keras.Sequential([\n",
        "    tf.keras.layers.Dense(1, activation=tf.keras.activations.linear)\n",
        "])\n",
        "\n",
        "model5.compile(loss=\"binary_crossentropy\",\n",
        "               optimizer=tf.keras.optimizers.Adam(learning_rate=0.01),\n",
        "               metrics=[\"accuracy\"])\n",
        "\n",
        "history = model5.fit(X, y, epochs=100)"
      ],
      "metadata": {
        "colab": {
          "base_uri": "https://localhost:8080/"
        },
        "id": "_QC7RZjDT5u6",
        "outputId": "87e21734-8d22-4c53-952c-5ffb07069482"
      },
      "execution_count": 83,
      "outputs": [
        {
          "output_type": "stream",
          "name": "stdout",
          "text": [
            "Epoch 1/100\n",
            "32/32 [==============================] - 1s 2ms/step - loss: 3.6463 - accuracy: 0.4630\n",
            "Epoch 2/100\n",
            "32/32 [==============================] - 0s 3ms/step - loss: 1.5734 - accuracy: 0.4790\n",
            "Epoch 3/100\n",
            "32/32 [==============================] - 0s 2ms/step - loss: 0.8241 - accuracy: 0.4900\n",
            "Epoch 4/100\n",
            "32/32 [==============================] - 0s 2ms/step - loss: 0.7819 - accuracy: 0.4860\n",
            "Epoch 5/100\n",
            "32/32 [==============================] - 0s 2ms/step - loss: 0.7589 - accuracy: 0.4890\n",
            "Epoch 6/100\n",
            "32/32 [==============================] - 0s 2ms/step - loss: 0.7423 - accuracy: 0.4870\n",
            "Epoch 7/100\n",
            "32/32 [==============================] - 0s 2ms/step - loss: 0.7305 - accuracy: 0.4890\n",
            "Epoch 8/100\n",
            "32/32 [==============================] - 0s 2ms/step - loss: 0.7206 - accuracy: 0.4900\n",
            "Epoch 9/100\n",
            "32/32 [==============================] - 0s 2ms/step - loss: 0.7136 - accuracy: 0.4920\n",
            "Epoch 10/100\n",
            "32/32 [==============================] - 0s 2ms/step - loss: 0.7080 - accuracy: 0.4920\n",
            "Epoch 11/100\n",
            "32/32 [==============================] - 0s 2ms/step - loss: 0.7040 - accuracy: 0.4930\n",
            "Epoch 12/100\n",
            "32/32 [==============================] - 0s 3ms/step - loss: 0.7012 - accuracy: 0.4940\n",
            "Epoch 13/100\n",
            "32/32 [==============================] - 0s 2ms/step - loss: 0.6989 - accuracy: 0.4940\n",
            "Epoch 14/100\n",
            "32/32 [==============================] - 0s 3ms/step - loss: 0.6974 - accuracy: 0.4900\n",
            "Epoch 15/100\n",
            "32/32 [==============================] - 0s 3ms/step - loss: 0.6961 - accuracy: 0.4950\n",
            "Epoch 16/100\n",
            "32/32 [==============================] - 0s 3ms/step - loss: 0.6953 - accuracy: 0.5030\n",
            "Epoch 17/100\n",
            "32/32 [==============================] - 0s 2ms/step - loss: 0.6949 - accuracy: 0.4960\n",
            "Epoch 18/100\n",
            "32/32 [==============================] - 0s 2ms/step - loss: 0.6942 - accuracy: 0.4940\n",
            "Epoch 19/100\n",
            "32/32 [==============================] - 0s 2ms/step - loss: 0.6940 - accuracy: 0.4930\n",
            "Epoch 20/100\n",
            "32/32 [==============================] - 0s 2ms/step - loss: 0.6937 - accuracy: 0.4970\n",
            "Epoch 21/100\n",
            "32/32 [==============================] - 0s 2ms/step - loss: 0.6937 - accuracy: 0.5000\n",
            "Epoch 22/100\n",
            "32/32 [==============================] - 0s 2ms/step - loss: 0.6934 - accuracy: 0.4940\n",
            "Epoch 23/100\n",
            "32/32 [==============================] - 0s 2ms/step - loss: 0.6934 - accuracy: 0.4820\n",
            "Epoch 24/100\n",
            "32/32 [==============================] - 0s 2ms/step - loss: 0.6937 - accuracy: 0.4530\n",
            "Epoch 25/100\n",
            "32/32 [==============================] - 0s 2ms/step - loss: 0.6937 - accuracy: 0.4810\n",
            "Epoch 26/100\n",
            "32/32 [==============================] - 0s 2ms/step - loss: 0.6934 - accuracy: 0.4970\n",
            "Epoch 27/100\n",
            "32/32 [==============================] - 0s 2ms/step - loss: 0.6938 - accuracy: 0.5210\n",
            "Epoch 28/100\n",
            "32/32 [==============================] - 0s 2ms/step - loss: 0.6933 - accuracy: 0.5010\n",
            "Epoch 29/100\n",
            "32/32 [==============================] - 0s 2ms/step - loss: 0.6938 - accuracy: 0.4600\n",
            "Epoch 30/100\n",
            "32/32 [==============================] - 0s 2ms/step - loss: 0.6936 - accuracy: 0.4850\n",
            "Epoch 31/100\n",
            "32/32 [==============================] - 0s 3ms/step - loss: 0.6936 - accuracy: 0.5000\n",
            "Epoch 32/100\n",
            "32/32 [==============================] - 0s 2ms/step - loss: 0.6936 - accuracy: 0.4890\n",
            "Epoch 33/100\n",
            "32/32 [==============================] - 0s 2ms/step - loss: 0.6934 - accuracy: 0.5050\n",
            "Epoch 34/100\n",
            "32/32 [==============================] - 0s 2ms/step - loss: 0.6937 - accuracy: 0.4430\n",
            "Epoch 35/100\n",
            "32/32 [==============================] - 0s 2ms/step - loss: 0.6937 - accuracy: 0.4870\n",
            "Epoch 36/100\n",
            "32/32 [==============================] - 0s 2ms/step - loss: 0.6933 - accuracy: 0.4590\n",
            "Epoch 37/100\n",
            "32/32 [==============================] - 0s 2ms/step - loss: 0.6934 - accuracy: 0.4780\n",
            "Epoch 38/100\n",
            "32/32 [==============================] - 0s 2ms/step - loss: 0.6936 - accuracy: 0.4530\n",
            "Epoch 39/100\n",
            "32/32 [==============================] - 0s 2ms/step - loss: 0.6934 - accuracy: 0.4790\n",
            "Epoch 40/100\n",
            "32/32 [==============================] - 0s 2ms/step - loss: 0.6937 - accuracy: 0.4880\n",
            "Epoch 41/100\n",
            "32/32 [==============================] - 0s 2ms/step - loss: 0.6939 - accuracy: 0.4920\n",
            "Epoch 42/100\n",
            "32/32 [==============================] - 0s 2ms/step - loss: 0.6938 - accuracy: 0.4870\n",
            "Epoch 43/100\n",
            "32/32 [==============================] - 0s 2ms/step - loss: 0.6935 - accuracy: 0.4980\n",
            "Epoch 44/100\n",
            "32/32 [==============================] - 0s 2ms/step - loss: 0.6939 - accuracy: 0.4870\n",
            "Epoch 45/100\n",
            "32/32 [==============================] - 0s 2ms/step - loss: 0.6934 - accuracy: 0.4610\n",
            "Epoch 46/100\n",
            "32/32 [==============================] - 0s 3ms/step - loss: 0.6934 - accuracy: 0.4950\n",
            "Epoch 47/100\n",
            "32/32 [==============================] - 0s 2ms/step - loss: 0.6939 - accuracy: 0.5030\n",
            "Epoch 48/100\n",
            "32/32 [==============================] - 0s 2ms/step - loss: 0.6936 - accuracy: 0.5120\n",
            "Epoch 49/100\n",
            "32/32 [==============================] - 0s 2ms/step - loss: 0.6936 - accuracy: 0.4630\n",
            "Epoch 50/100\n",
            "32/32 [==============================] - 0s 2ms/step - loss: 0.6936 - accuracy: 0.4510\n",
            "Epoch 51/100\n",
            "32/32 [==============================] - 0s 2ms/step - loss: 0.6935 - accuracy: 0.4820\n",
            "Epoch 52/100\n",
            "32/32 [==============================] - 0s 2ms/step - loss: 0.6937 - accuracy: 0.5030\n",
            "Epoch 53/100\n",
            "32/32 [==============================] - 0s 2ms/step - loss: 0.6944 - accuracy: 0.4860\n",
            "Epoch 54/100\n",
            "32/32 [==============================] - 0s 2ms/step - loss: 0.6934 - accuracy: 0.5070\n",
            "Epoch 55/100\n",
            "32/32 [==============================] - 0s 3ms/step - loss: 0.6941 - accuracy: 0.4950\n",
            "Epoch 56/100\n",
            "32/32 [==============================] - 0s 2ms/step - loss: 0.6939 - accuracy: 0.4720\n",
            "Epoch 57/100\n",
            "32/32 [==============================] - 0s 2ms/step - loss: 0.6936 - accuracy: 0.4660\n",
            "Epoch 58/100\n",
            "32/32 [==============================] - 0s 2ms/step - loss: 0.6939 - accuracy: 0.4960\n",
            "Epoch 59/100\n",
            "32/32 [==============================] - 0s 2ms/step - loss: 0.6947 - accuracy: 0.5460\n",
            "Epoch 60/100\n",
            "32/32 [==============================] - 0s 2ms/step - loss: 0.6936 - accuracy: 0.5350\n",
            "Epoch 61/100\n",
            "32/32 [==============================] - 0s 2ms/step - loss: 0.6941 - accuracy: 0.4770\n",
            "Epoch 62/100\n",
            "32/32 [==============================] - 0s 2ms/step - loss: 0.6938 - accuracy: 0.4780\n",
            "Epoch 63/100\n",
            "32/32 [==============================] - 0s 2ms/step - loss: 0.6935 - accuracy: 0.4730\n",
            "Epoch 64/100\n",
            "32/32 [==============================] - 0s 2ms/step - loss: 0.6939 - accuracy: 0.4800\n",
            "Epoch 65/100\n",
            "32/32 [==============================] - 0s 2ms/step - loss: 0.6939 - accuracy: 0.4580\n",
            "Epoch 66/100\n",
            "32/32 [==============================] - 0s 2ms/step - loss: 0.6938 - accuracy: 0.5080\n",
            "Epoch 67/100\n",
            "32/32 [==============================] - 0s 2ms/step - loss: 0.6939 - accuracy: 0.4770\n",
            "Epoch 68/100\n",
            "32/32 [==============================] - 0s 2ms/step - loss: 0.6937 - accuracy: 0.4860\n",
            "Epoch 69/100\n",
            "32/32 [==============================] - 0s 2ms/step - loss: 0.6937 - accuracy: 0.5210\n",
            "Epoch 70/100\n",
            "32/32 [==============================] - 0s 2ms/step - loss: 0.6939 - accuracy: 0.5140\n",
            "Epoch 71/100\n",
            "32/32 [==============================] - 0s 2ms/step - loss: 0.6936 - accuracy: 0.4770\n",
            "Epoch 72/100\n",
            "32/32 [==============================] - 0s 2ms/step - loss: 0.6939 - accuracy: 0.4950\n",
            "Epoch 73/100\n",
            "32/32 [==============================] - 0s 2ms/step - loss: 0.6942 - accuracy: 0.5130\n",
            "Epoch 74/100\n",
            "32/32 [==============================] - 0s 2ms/step - loss: 0.6939 - accuracy: 0.5000\n",
            "Epoch 75/100\n",
            "32/32 [==============================] - 0s 2ms/step - loss: 0.6942 - accuracy: 0.5140\n",
            "Epoch 76/100\n",
            "32/32 [==============================] - 0s 2ms/step - loss: 0.6941 - accuracy: 0.4870\n",
            "Epoch 77/100\n",
            "32/32 [==============================] - 0s 2ms/step - loss: 0.6941 - accuracy: 0.4850\n",
            "Epoch 78/100\n",
            "32/32 [==============================] - 0s 3ms/step - loss: 0.6941 - accuracy: 0.4370\n",
            "Epoch 79/100\n",
            "32/32 [==============================] - 0s 2ms/step - loss: 0.6944 - accuracy: 0.4770\n",
            "Epoch 80/100\n",
            "32/32 [==============================] - 0s 2ms/step - loss: 0.6936 - accuracy: 0.5050\n",
            "Epoch 81/100\n",
            "32/32 [==============================] - 0s 2ms/step - loss: 0.6946 - accuracy: 0.5330\n",
            "Epoch 82/100\n",
            "32/32 [==============================] - 0s 2ms/step - loss: 0.6945 - accuracy: 0.4720\n",
            "Epoch 83/100\n",
            "32/32 [==============================] - 0s 2ms/step - loss: 0.6940 - accuracy: 0.4750\n",
            "Epoch 84/100\n",
            "32/32 [==============================] - 0s 2ms/step - loss: 0.6934 - accuracy: 0.5100\n",
            "Epoch 85/100\n",
            "32/32 [==============================] - 0s 2ms/step - loss: 0.6940 - accuracy: 0.4990\n",
            "Epoch 86/100\n",
            "32/32 [==============================] - 0s 2ms/step - loss: 0.6944 - accuracy: 0.4890\n",
            "Epoch 87/100\n",
            "32/32 [==============================] - 0s 2ms/step - loss: 0.6937 - accuracy: 0.4680\n",
            "Epoch 88/100\n",
            "32/32 [==============================] - 0s 2ms/step - loss: 0.6940 - accuracy: 0.4670\n",
            "Epoch 89/100\n",
            "32/32 [==============================] - 0s 2ms/step - loss: 0.6943 - accuracy: 0.4570\n",
            "Epoch 90/100\n",
            "32/32 [==============================] - 0s 2ms/step - loss: 0.6947 - accuracy: 0.4800\n",
            "Epoch 91/100\n",
            "32/32 [==============================] - 0s 2ms/step - loss: 0.6937 - accuracy: 0.5000\n",
            "Epoch 92/100\n",
            "32/32 [==============================] - 0s 2ms/step - loss: 0.6943 - accuracy: 0.5060\n",
            "Epoch 93/100\n",
            "32/32 [==============================] - 0s 2ms/step - loss: 0.6957 - accuracy: 0.4520\n",
            "Epoch 94/100\n",
            "32/32 [==============================] - 0s 2ms/step - loss: 0.6940 - accuracy: 0.5060\n",
            "Epoch 95/100\n",
            "32/32 [==============================] - 0s 2ms/step - loss: 0.6943 - accuracy: 0.4740\n",
            "Epoch 96/100\n",
            "32/32 [==============================] - 0s 2ms/step - loss: 0.6945 - accuracy: 0.4850\n",
            "Epoch 97/100\n",
            "32/32 [==============================] - 0s 2ms/step - loss: 0.6941 - accuracy: 0.4760\n",
            "Epoch 98/100\n",
            "32/32 [==============================] - 0s 2ms/step - loss: 0.6941 - accuracy: 0.4670\n",
            "Epoch 99/100\n",
            "32/32 [==============================] - 0s 2ms/step - loss: 0.6949 - accuracy: 0.5040\n",
            "Epoch 100/100\n",
            "32/32 [==============================] - 0s 3ms/step - loss: 0.6951 - accuracy: 0.4720\n"
          ]
        }
      ]
    },
    {
      "cell_type": "code",
      "source": [
        "plot_decision_boundary(model=model5,\n",
        "                       X=X,\n",
        "                       y=y)"
      ],
      "metadata": {
        "colab": {
          "base_uri": "https://localhost:8080/",
          "height": 300
        },
        "id": "E2d9VaXsU6HJ",
        "outputId": "1d7ba9df-a5a7-41bb-916b-8fb48f1a9040"
      },
      "execution_count": 84,
      "outputs": [
        {
          "output_type": "stream",
          "name": "stdout",
          "text": [
            "313/313 [==============================] - 0s 1ms/step\n",
            "doing binary classification\n"
          ]
        },
        {
          "output_type": "display_data",
          "data": {
            "text/plain": [
              "<Figure size 432x288 with 1 Axes>"
            ],
            "image/png": "[encoded data removed]"
          },
          "metadata": {
            "needs_background": "light"
          }
        }
      ]
    },
    {
      "cell_type": "markdown",
      "source": [
        "Model 6"
      ],
      "metadata": {
        "id": "mjbvKI6NWAIU"
      }
    },
    {
      "cell_type": "code",
      "source": [
        "tf.random.set_seed(42)\n",
        "\n",
        "model6 = tf.keras.Sequential([\n",
        "    tf.keras.layers.Dense(4, activation=\"relu\"),\n",
        "    tf.keras.layers.Dense(5, activation=\"relu\"),\n",
        "    tf.keras.layers.Dense(2, activation=\"relu\"),\n",
        "])\n",
        "\n",
        "model6.compile(loss=tf.keras.losses.binary_crossentropy,\n",
        "               optimizer=tf.keras.optimizers.Adam(learning_rate=0.001),\n",
        "               metrics=[\"accuracy\"])\n",
        "\n",
        "model6.fit(X, y, epochs=150)"
      ],
      "metadata": {
        "colab": {
          "base_uri": "https://localhost:8080/"
        },
        "id": "ULkvpgj4ciaE",
        "outputId": "3755a1fc-88fd-4626-d55e-804fd728ece9"
      },
      "execution_count": 85,
      "outputs": [
        {
          "output_type": "stream",
          "name": "stdout",
          "text": [
            "Epoch 1/150\n",
            "32/32 [==============================] - 1s 3ms/step - loss: 4.6672 - accuracy: 0.4960\n",
            "Epoch 2/150\n",
            "32/32 [==============================] - 0s 3ms/step - loss: 2.7608 - accuracy: 0.5030\n",
            "Epoch 3/150\n",
            "32/32 [==============================] - 0s 3ms/step - loss: 1.3489 - accuracy: 0.5030\n",
            "Epoch 4/150\n",
            "32/32 [==============================] - 0s 2ms/step - loss: 1.2069 - accuracy: 0.5010\n",
            "Epoch 5/150\n",
            "32/32 [==============================] - 0s 2ms/step - loss: 1.1676 - accuracy: 0.5030\n",
            "Epoch 6/150\n",
            "32/32 [==============================] - 0s 2ms/step - loss: 1.1333 - accuracy: 0.5040\n",
            "Epoch 7/150\n",
            "32/32 [==============================] - 0s 2ms/step - loss: 1.1027 - accuracy: 0.5060\n",
            "Epoch 8/150\n",
            "32/32 [==============================] - 0s 2ms/step - loss: 1.0745 - accuracy: 0.5070\n",
            "Epoch 9/150\n",
            "32/32 [==============================] - 0s 2ms/step - loss: 1.0491 - accuracy: 0.5090\n",
            "Epoch 10/150\n",
            "32/32 [==============================] - 0s 3ms/step - loss: 1.0253 - accuracy: 0.5060\n",
            "Epoch 11/150\n",
            "32/32 [==============================] - 0s 3ms/step - loss: 1.0035 - accuracy: 0.5060\n",
            "Epoch 12/150\n",
            "32/32 [==============================] - 0s 2ms/step - loss: 0.9835 - accuracy: 0.5090\n",
            "Epoch 13/150\n",
            "32/32 [==============================] - 0s 2ms/step - loss: 0.9648 - accuracy: 0.5090\n",
            "Epoch 14/150\n",
            "32/32 [==============================] - 0s 3ms/step - loss: 0.9477 - accuracy: 0.5090\n",
            "Epoch 15/150\n",
            "32/32 [==============================] - 0s 2ms/step - loss: 0.9318 - accuracy: 0.5090\n",
            "Epoch 16/150\n",
            "32/32 [==============================] - 0s 3ms/step - loss: 0.9174 - accuracy: 0.5100\n",
            "Epoch 17/150\n",
            "32/32 [==============================] - 0s 2ms/step - loss: 0.9037 - accuracy: 0.5100\n",
            "Epoch 18/150\n",
            "32/32 [==============================] - 0s 3ms/step - loss: 0.8910 - accuracy: 0.5100\n",
            "Epoch 19/150\n",
            "32/32 [==============================] - 0s 2ms/step - loss: 0.8797 - accuracy: 0.5100\n",
            "Epoch 20/150\n",
            "32/32 [==============================] - 0s 2ms/step - loss: 0.8688 - accuracy: 0.5100\n",
            "Epoch 21/150\n",
            "32/32 [==============================] - 0s 2ms/step - loss: 0.8591 - accuracy: 0.5100\n",
            "Epoch 22/150\n",
            "32/32 [==============================] - 0s 3ms/step - loss: 0.8498 - accuracy: 0.5100\n",
            "Epoch 23/150\n",
            "32/32 [==============================] - 0s 2ms/step - loss: 0.8414 - accuracy: 0.5080\n",
            "Epoch 24/150\n",
            "32/32 [==============================] - 0s 2ms/step - loss: 0.8336 - accuracy: 0.5080\n",
            "Epoch 25/150\n",
            "32/32 [==============================] - 0s 2ms/step - loss: 0.8268 - accuracy: 0.5090\n",
            "Epoch 26/150\n",
            "32/32 [==============================] - 0s 3ms/step - loss: 0.8198 - accuracy: 0.5080\n",
            "Epoch 27/150\n",
            "32/32 [==============================] - 0s 2ms/step - loss: 0.8137 - accuracy: 0.5090\n",
            "Epoch 28/150\n",
            "32/32 [==============================] - 0s 2ms/step - loss: 0.8079 - accuracy: 0.5100\n",
            "Epoch 29/150\n",
            "32/32 [==============================] - 0s 3ms/step - loss: 0.8028 - accuracy: 0.5090\n",
            "Epoch 30/150\n",
            "32/32 [==============================] - 0s 3ms/step - loss: 0.7981 - accuracy: 0.5080\n",
            "Epoch 31/150\n",
            "32/32 [==============================] - 0s 2ms/step - loss: 0.7937 - accuracy: 0.5060\n",
            "Epoch 32/150\n",
            "32/32 [==============================] - 0s 3ms/step - loss: 0.7895 - accuracy: 0.5050\n",
            "Epoch 33/150\n",
            "32/32 [==============================] - 0s 2ms/step - loss: 0.7859 - accuracy: 0.5050\n",
            "Epoch 34/150\n",
            "32/32 [==============================] - 0s 3ms/step - loss: 0.7826 - accuracy: 0.5040\n",
            "Epoch 35/150\n",
            "32/32 [==============================] - 0s 2ms/step - loss: 0.7795 - accuracy: 0.5040\n",
            "Epoch 36/150\n",
            "32/32 [==============================] - 0s 3ms/step - loss: 0.7765 - accuracy: 0.5050\n",
            "Epoch 37/150\n",
            "32/32 [==============================] - 0s 3ms/step - loss: 0.7738 - accuracy: 0.5070\n",
            "Epoch 38/150\n",
            "32/32 [==============================] - 0s 3ms/step - loss: 0.7714 - accuracy: 0.5080\n",
            "Epoch 39/150\n",
            "32/32 [==============================] - 0s 2ms/step - loss: 0.7688 - accuracy: 0.5070\n",
            "Epoch 40/150\n",
            "32/32 [==============================] - 0s 2ms/step - loss: 0.7667 - accuracy: 0.5030\n",
            "Epoch 41/150\n",
            "32/32 [==============================] - 0s 2ms/step - loss: 0.7646 - accuracy: 0.5040\n",
            "Epoch 42/150\n",
            "32/32 [==============================] - 0s 2ms/step - loss: 0.7625 - accuracy: 0.5040\n",
            "Epoch 43/150\n",
            "32/32 [==============================] - 0s 2ms/step - loss: 0.7607 - accuracy: 0.5030\n",
            "Epoch 44/150\n",
            "32/32 [==============================] - 0s 2ms/step - loss: 0.7590 - accuracy: 0.5020\n",
            "Epoch 45/150\n",
            "32/32 [==============================] - 0s 2ms/step - loss: 0.7571 - accuracy: 0.5020\n",
            "Epoch 46/150\n",
            "32/32 [==============================] - 0s 2ms/step - loss: 0.7554 - accuracy: 0.5020\n",
            "Epoch 47/150\n",
            "32/32 [==============================] - 0s 2ms/step - loss: 0.7541 - accuracy: 0.5020\n",
            "Epoch 48/150\n",
            "32/32 [==============================] - 0s 2ms/step - loss: 0.7525 - accuracy: 0.5010\n",
            "Epoch 49/150\n",
            "32/32 [==============================] - 0s 2ms/step - loss: 0.7511 - accuracy: 0.5000\n",
            "Epoch 50/150\n",
            "32/32 [==============================] - 0s 2ms/step - loss: 0.7497 - accuracy: 0.5010\n",
            "Epoch 51/150\n",
            "32/32 [==============================] - 0s 2ms/step - loss: 0.7483 - accuracy: 0.5000\n",
            "Epoch 52/150\n",
            "32/32 [==============================] - 0s 2ms/step - loss: 0.7471 - accuracy: 0.5010\n",
            "Epoch 53/150\n",
            "32/32 [==============================] - 0s 2ms/step - loss: 0.7460 - accuracy: 0.5030\n",
            "Epoch 54/150\n",
            "32/32 [==============================] - 0s 2ms/step - loss: 0.7447 - accuracy: 0.5040\n",
            "Epoch 55/150\n",
            "32/32 [==============================] - 0s 2ms/step - loss: 0.7436 - accuracy: 0.5040\n",
            "Epoch 56/150\n",
            "32/32 [==============================] - 0s 2ms/step - loss: 0.7425 - accuracy: 0.5020\n",
            "Epoch 57/150\n",
            "32/32 [==============================] - 0s 2ms/step - loss: 0.7413 - accuracy: 0.5020\n",
            "Epoch 58/150\n",
            "32/32 [==============================] - 0s 2ms/step - loss: 0.7403 - accuracy: 0.5020\n",
            "Epoch 59/150\n",
            "32/32 [==============================] - 0s 3ms/step - loss: 0.7393 - accuracy: 0.5020\n",
            "Epoch 60/150\n",
            "32/32 [==============================] - 0s 3ms/step - loss: 0.7381 - accuracy: 0.5020\n",
            "Epoch 61/150\n",
            "32/32 [==============================] - 0s 3ms/step - loss: 0.7371 - accuracy: 0.5030\n",
            "Epoch 62/150\n",
            "32/32 [==============================] - 0s 2ms/step - loss: 0.7361 - accuracy: 0.5020\n",
            "Epoch 63/150\n",
            "32/32 [==============================] - 0s 2ms/step - loss: 0.7350 - accuracy: 0.5020\n",
            "Epoch 64/150\n",
            "32/32 [==============================] - 0s 2ms/step - loss: 0.7339 - accuracy: 0.5040\n",
            "Epoch 65/150\n",
            "32/32 [==============================] - 0s 2ms/step - loss: 0.7330 - accuracy: 0.5050\n",
            "Epoch 66/150\n",
            "32/32 [==============================] - 0s 2ms/step - loss: 0.7319 - accuracy: 0.5050\n",
            "Epoch 67/150\n",
            "32/32 [==============================] - 0s 2ms/step - loss: 0.7310 - accuracy: 0.5050\n",
            "Epoch 68/150\n",
            "32/32 [==============================] - 0s 3ms/step - loss: 0.7299 - accuracy: 0.5050\n",
            "Epoch 69/150\n",
            "32/32 [==============================] - 0s 2ms/step - loss: 0.7290 - accuracy: 0.5050\n",
            "Epoch 70/150\n",
            "32/32 [==============================] - 0s 3ms/step - loss: 0.7280 - accuracy: 0.5060\n",
            "Epoch 71/150\n",
            "32/32 [==============================] - 0s 2ms/step - loss: 0.7271 - accuracy: 0.5060\n",
            "Epoch 72/150\n",
            "32/32 [==============================] - 0s 2ms/step - loss: 0.7261 - accuracy: 0.5060\n",
            "Epoch 73/150\n",
            "32/32 [==============================] - 0s 2ms/step - loss: 0.7251 - accuracy: 0.5060\n",
            "Epoch 74/150\n",
            "32/32 [==============================] - 0s 2ms/step - loss: 0.7241 - accuracy: 0.5060\n",
            "Epoch 75/150\n",
            "32/32 [==============================] - 0s 2ms/step - loss: 0.7231 - accuracy: 0.5060\n",
            "Epoch 76/150\n",
            "32/32 [==============================] - 0s 2ms/step - loss: 0.7222 - accuracy: 0.5070\n",
            "Epoch 77/150\n",
            "32/32 [==============================] - 0s 3ms/step - loss: 0.7213 - accuracy: 0.5080\n",
            "Epoch 78/150\n",
            "32/32 [==============================] - 0s 2ms/step - loss: 0.7204 - accuracy: 0.5070\n",
            "Epoch 79/150\n",
            "32/32 [==============================] - 0s 2ms/step - loss: 0.7195 - accuracy: 0.5080\n",
            "Epoch 80/150\n",
            "32/32 [==============================] - 0s 3ms/step - loss: 0.7185 - accuracy: 0.5070\n",
            "Epoch 81/150\n",
            "32/32 [==============================] - 0s 2ms/step - loss: 0.7177 - accuracy: 0.5080\n",
            "Epoch 82/150\n",
            "32/32 [==============================] - 0s 2ms/step - loss: 0.7168 - accuracy: 0.5080\n",
            "Epoch 83/150\n",
            "32/32 [==============================] - 0s 2ms/step - loss: 0.7159 - accuracy: 0.5080\n",
            "Epoch 84/150\n",
            "32/32 [==============================] - 0s 2ms/step - loss: 0.7148 - accuracy: 0.5070\n",
            "Epoch 85/150\n",
            "32/32 [==============================] - 0s 3ms/step - loss: 0.7139 - accuracy: 0.5070\n",
            "Epoch 86/150\n",
            "32/32 [==============================] - 0s 2ms/step - loss: 0.7132 - accuracy: 0.5090\n",
            "Epoch 87/150\n",
            "32/32 [==============================] - 0s 2ms/step - loss: 0.7121 - accuracy: 0.5080\n",
            "Epoch 88/150\n",
            "32/32 [==============================] - 0s 2ms/step - loss: 0.7111 - accuracy: 0.5100\n",
            "Epoch 89/150\n",
            "32/32 [==============================] - 0s 2ms/step - loss: 0.7101 - accuracy: 0.5130\n",
            "Epoch 90/150\n",
            "32/32 [==============================] - 0s 3ms/step - loss: 0.7093 - accuracy: 0.5170\n",
            "Epoch 91/150\n",
            "32/32 [==============================] - 0s 3ms/step - loss: 0.7082 - accuracy: 0.5230\n",
            "Epoch 92/150\n",
            "32/32 [==============================] - 0s 3ms/step - loss: 0.7073 - accuracy: 0.5200\n",
            "Epoch 93/150\n",
            "32/32 [==============================] - 0s 3ms/step - loss: 0.7064 - accuracy: 0.5120\n",
            "Epoch 94/150\n",
            "32/32 [==============================] - 0s 3ms/step - loss: 0.7050 - accuracy: 0.5090\n",
            "Epoch 95/150\n",
            "32/32 [==============================] - 0s 2ms/step - loss: 0.7036 - accuracy: 0.5030\n",
            "Epoch 96/150\n",
            "32/32 [==============================] - 0s 3ms/step - loss: 0.7021 - accuracy: 0.5000\n",
            "Epoch 97/150\n",
            "32/32 [==============================] - 0s 2ms/step - loss: 0.6998 - accuracy: 0.4960\n",
            "Epoch 98/150\n",
            "32/32 [==============================] - 0s 2ms/step - loss: 0.6972 - accuracy: 0.4930\n",
            "Epoch 99/150\n",
            "32/32 [==============================] - 0s 2ms/step - loss: 0.6948 - accuracy: 0.4940\n",
            "Epoch 100/150\n",
            "32/32 [==============================] - 0s 3ms/step - loss: 0.6930 - accuracy: 0.4940\n",
            "Epoch 101/150\n",
            "32/32 [==============================] - 0s 2ms/step - loss: 0.6916 - accuracy: 0.4940\n",
            "Epoch 102/150\n",
            "32/32 [==============================] - 0s 3ms/step - loss: 0.6903 - accuracy: 0.4900\n",
            "Epoch 103/150\n",
            "32/32 [==============================] - 0s 2ms/step - loss: 0.6894 - accuracy: 0.4890\n",
            "Epoch 104/150\n",
            "32/32 [==============================] - 0s 3ms/step - loss: 0.6886 - accuracy: 0.4890\n",
            "Epoch 105/150\n",
            "32/32 [==============================] - 0s 2ms/step - loss: 0.6880 - accuracy: 0.4870\n",
            "Epoch 106/150\n",
            "32/32 [==============================] - 0s 3ms/step - loss: 0.6868 - accuracy: 0.4860\n",
            "Epoch 107/150\n",
            "32/32 [==============================] - 0s 2ms/step - loss: 0.6861 - accuracy: 0.4880\n",
            "Epoch 108/150\n",
            "32/32 [==============================] - 0s 3ms/step - loss: 0.6851 - accuracy: 0.4800\n",
            "Epoch 109/150\n",
            "32/32 [==============================] - 0s 2ms/step - loss: 0.6843 - accuracy: 0.4820\n",
            "Epoch 110/150\n",
            "32/32 [==============================] - 0s 2ms/step - loss: 0.6836 - accuracy: 0.4830\n",
            "Epoch 111/150\n",
            "32/32 [==============================] - 0s 3ms/step - loss: 0.6828 - accuracy: 0.4830\n",
            "Epoch 112/150\n",
            "32/32 [==============================] - 0s 3ms/step - loss: 0.6821 - accuracy: 0.4820\n",
            "Epoch 113/150\n",
            "32/32 [==============================] - 0s 2ms/step - loss: 0.6812 - accuracy: 0.4820\n",
            "Epoch 114/150\n",
            "32/32 [==============================] - 0s 3ms/step - loss: 0.6805 - accuracy: 0.4800\n",
            "Epoch 115/150\n",
            "32/32 [==============================] - 0s 2ms/step - loss: 0.6797 - accuracy: 0.4810\n",
            "Epoch 116/150\n",
            "32/32 [==============================] - 0s 2ms/step - loss: 0.6789 - accuracy: 0.4800\n",
            "Epoch 117/150\n",
            "32/32 [==============================] - 0s 3ms/step - loss: 0.6786 - accuracy: 0.4850\n",
            "Epoch 118/150\n",
            "32/32 [==============================] - 0s 3ms/step - loss: 0.6776 - accuracy: 0.4800\n",
            "Epoch 119/150\n",
            "32/32 [==============================] - 0s 3ms/step - loss: 0.6765 - accuracy: 0.4830\n",
            "Epoch 120/150\n",
            "32/32 [==============================] - 0s 2ms/step - loss: 0.6762 - accuracy: 0.4850\n",
            "Epoch 121/150\n",
            "32/32 [==============================] - 0s 2ms/step - loss: 0.6750 - accuracy: 0.4830\n",
            "Epoch 122/150\n",
            "32/32 [==============================] - 0s 2ms/step - loss: 0.6743 - accuracy: 0.4840\n",
            "Epoch 123/150\n",
            "32/32 [==============================] - 0s 3ms/step - loss: 0.6734 - accuracy: 0.4870\n",
            "Epoch 124/150\n",
            "32/32 [==============================] - 0s 2ms/step - loss: 0.6727 - accuracy: 0.4880\n",
            "Epoch 125/150\n",
            "32/32 [==============================] - 0s 2ms/step - loss: 0.6721 - accuracy: 0.4730\n",
            "Epoch 126/150\n",
            "32/32 [==============================] - 0s 3ms/step - loss: 0.6710 - accuracy: 0.4720\n",
            "Epoch 127/150\n",
            "32/32 [==============================] - 0s 2ms/step - loss: 0.6702 - accuracy: 0.4710\n",
            "Epoch 128/150\n",
            "32/32 [==============================] - 0s 3ms/step - loss: 0.6699 - accuracy: 0.4570\n",
            "Epoch 129/150\n",
            "32/32 [==============================] - 0s 2ms/step - loss: 0.6687 - accuracy: 0.4550\n",
            "Epoch 130/150\n",
            "32/32 [==============================] - 0s 2ms/step - loss: 0.6684 - accuracy: 0.4610\n",
            "Epoch 131/150\n",
            "32/32 [==============================] - 0s 3ms/step - loss: 0.6671 - accuracy: 0.4520\n",
            "Epoch 132/150\n",
            "32/32 [==============================] - 0s 2ms/step - loss: 0.6665 - accuracy: 0.4440\n",
            "Epoch 133/150\n",
            "32/32 [==============================] - 0s 3ms/step - loss: 0.6658 - accuracy: 0.4460\n",
            "Epoch 134/150\n",
            "32/32 [==============================] - 0s 2ms/step - loss: 0.6651 - accuracy: 0.4480\n",
            "Epoch 135/150\n",
            "32/32 [==============================] - 0s 3ms/step - loss: 0.6642 - accuracy: 0.4660\n",
            "Epoch 136/150\n",
            "32/32 [==============================] - 0s 3ms/step - loss: 0.6636 - accuracy: 0.4620\n",
            "Epoch 137/150\n",
            "32/32 [==============================] - 0s 2ms/step - loss: 0.6628 - accuracy: 0.4630\n",
            "Epoch 138/150\n",
            "32/32 [==============================] - 0s 2ms/step - loss: 0.6619 - accuracy: 0.4670\n",
            "Epoch 139/150\n",
            "32/32 [==============================] - 0s 3ms/step - loss: 0.6607 - accuracy: 0.4580\n",
            "Epoch 140/150\n",
            "32/32 [==============================] - 0s 3ms/step - loss: 0.6606 - accuracy: 0.4650\n",
            "Epoch 141/150\n",
            "32/32 [==============================] - 0s 3ms/step - loss: 0.6586 - accuracy: 0.4610\n",
            "Epoch 142/150\n",
            "32/32 [==============================] - 0s 3ms/step - loss: 0.6578 - accuracy: 0.4870\n",
            "Epoch 143/150\n",
            "32/32 [==============================] - 0s 3ms/step - loss: 0.6576 - accuracy: 0.4740\n",
            "Epoch 144/150\n",
            "32/32 [==============================] - 0s 3ms/step - loss: 0.6559 - accuracy: 0.4760\n",
            "Epoch 145/150\n",
            "32/32 [==============================] - 0s 2ms/step - loss: 0.6550 - accuracy: 0.4730\n",
            "Epoch 146/150\n",
            "32/32 [==============================] - 0s 3ms/step - loss: 0.6538 - accuracy: 0.4950\n",
            "Epoch 147/150\n",
            "32/32 [==============================] - 0s 2ms/step - loss: 0.6536 - accuracy: 0.5120\n",
            "Epoch 148/150\n",
            "32/32 [==============================] - 0s 2ms/step - loss: 0.6522 - accuracy: 0.5040\n",
            "Epoch 149/150\n",
            "32/32 [==============================] - 0s 3ms/step - loss: 0.6510 - accuracy: 0.4910\n",
            "Epoch 150/150\n",
            "32/32 [==============================] - 0s 2ms/step - loss: 0.6518 - accuracy: 0.5110\n"
          ]
        },
        {
          "output_type": "execute_result",
          "data": {
            "text/plain": [
              "<keras.callbacks.History at 0x7f7065756880>"
            ]
          },
          "metadata": {},
          "execution_count": 85
        }
      ]
    },
    {
      "cell_type": "code",
      "source": [
        "model6.evaluate(X, y)"
      ],
      "metadata": {
        "colab": {
          "base_uri": "https://localhost:8080/"
        },
        "id": "OyJ4xaiRda8O",
        "outputId": "64c9e092-85db-4e2f-d63c-5c6d56f6b2a3"
      },
      "execution_count": 86,
      "outputs": [
        {
          "output_type": "stream",
          "name": "stdout",
          "text": [
            "32/32 [==============================] - 1s 5ms/step - loss: 0.6494 - accuracy: 0.4990\n"
          ]
        },
        {
          "output_type": "execute_result",
          "data": {
            "text/plain": [
              "[0.6494188904762268, 0.49900001287460327]"
            ]
          },
          "metadata": {},
          "execution_count": 86
        }
      ]
    },
    {
      "cell_type": "markdown",
      "source": [
        "**Model 7**"
      ],
      "metadata": {
        "id": "b1dPx4XNd7hf"
      }
    },
    {
      "cell_type": "code",
      "source": [
        "tf.random.set_seed(42)\n",
        "\n",
        "model7 = tf.keras.Sequential([\n",
        "    tf.keras.layers.Dense(4, activation=\"relu\"),\n",
        "    tf.keras.layers.Dense(5, activation=\"relu\"),\n",
        "    tf.keras.layers.Dense(2, activation=\"relu\"),\n",
        "    tf.keras.layers.Dense(1, activation=\"sigmoid\")\n",
        "])\n",
        "\n",
        "model7.compile(loss=\"binary_crossentropy\",\n",
        "               optimizer=tf.keras.optimizers.Adam(learning_rate=0.001),\n",
        "               metrics=[\"accuracy\"])\n",
        "\n",
        "model7.fit(X, y, epochs=150)"
      ],
      "metadata": {
        "colab": {
          "base_uri": "https://localhost:8080/"
        },
        "id": "fftSxG2Cf2tt",
        "outputId": "85b0db87-2690-42f1-f5e8-c24c88e7d591"
      },
      "execution_count": 87,
      "outputs": [
        {
          "output_type": "stream",
          "name": "stdout",
          "text": [
            "Epoch 1/150\n",
            "32/32 [==============================] - 2s 2ms/step - loss: 0.6930 - accuracy: 0.5000\n",
            "Epoch 2/150\n",
            "32/32 [==============================] - 0s 2ms/step - loss: 0.6928 - accuracy: 0.5030\n",
            "Epoch 3/150\n",
            "32/32 [==============================] - 0s 10ms/step - loss: 0.6925 - accuracy: 0.5000\n",
            "Epoch 4/150\n",
            "32/32 [==============================] - 0s 10ms/step - loss: 0.6922 - accuracy: 0.5070\n",
            "Epoch 5/150\n",
            "32/32 [==============================] - 0s 8ms/step - loss: 0.6918 - accuracy: 0.5110\n",
            "Epoch 6/150\n",
            "32/32 [==============================] - 0s 4ms/step - loss: 0.6915 - accuracy: 0.5370\n",
            "Epoch 7/150\n",
            "32/32 [==============================] - 0s 3ms/step - loss: 0.6910 - accuracy: 0.5070\n",
            "Epoch 8/150\n",
            "32/32 [==============================] - 0s 2ms/step - loss: 0.6900 - accuracy: 0.5120\n",
            "Epoch 9/150\n",
            "32/32 [==============================] - 0s 2ms/step - loss: 0.6885 - accuracy: 0.5280\n",
            "Epoch 10/150\n",
            "32/32 [==============================] - 0s 2ms/step - loss: 0.6874 - accuracy: 0.5280\n",
            "Epoch 11/150\n",
            "32/32 [==============================] - 0s 3ms/step - loss: 0.6865 - accuracy: 0.5340\n",
            "Epoch 12/150\n",
            "32/32 [==============================] - 0s 2ms/step - loss: 0.6856 - accuracy: 0.5710\n",
            "Epoch 13/150\n",
            "32/32 [==============================] - 0s 2ms/step - loss: 0.6844 - accuracy: 0.5550\n",
            "Epoch 14/150\n",
            "32/32 [==============================] - 0s 3ms/step - loss: 0.6836 - accuracy: 0.5560\n",
            "Epoch 15/150\n",
            "32/32 [==============================] - 0s 2ms/step - loss: 0.6825 - accuracy: 0.5670\n",
            "Epoch 16/150\n",
            "32/32 [==============================] - 0s 2ms/step - loss: 0.6814 - accuracy: 0.5710\n",
            "Epoch 17/150\n",
            "32/32 [==============================] - 0s 2ms/step - loss: 0.6805 - accuracy: 0.5770\n",
            "Epoch 18/150\n",
            "32/32 [==============================] - 0s 2ms/step - loss: 0.6793 - accuracy: 0.6020\n",
            "Epoch 19/150\n",
            "32/32 [==============================] - 0s 2ms/step - loss: 0.6776 - accuracy: 0.5960\n",
            "Epoch 20/150\n",
            "32/32 [==============================] - 0s 2ms/step - loss: 0.6752 - accuracy: 0.6030\n",
            "Epoch 21/150\n",
            "32/32 [==============================] - 0s 2ms/step - loss: 0.6733 - accuracy: 0.5830\n",
            "Epoch 22/150\n",
            "32/32 [==============================] - 0s 3ms/step - loss: 0.6710 - accuracy: 0.5770\n",
            "Epoch 23/150\n",
            "32/32 [==============================] - 0s 3ms/step - loss: 0.6690 - accuracy: 0.5840\n",
            "Epoch 24/150\n",
            "32/32 [==============================] - 0s 3ms/step - loss: 0.6671 - accuracy: 0.5730\n",
            "Epoch 25/150\n",
            "32/32 [==============================] - 0s 2ms/step - loss: 0.6655 - accuracy: 0.5900\n",
            "Epoch 26/150\n",
            "32/32 [==============================] - 0s 3ms/step - loss: 0.6630 - accuracy: 0.5910\n",
            "Epoch 27/150\n",
            "32/32 [==============================] - 0s 2ms/step - loss: 0.6608 - accuracy: 0.5940\n",
            "Epoch 28/150\n",
            "32/32 [==============================] - 0s 2ms/step - loss: 0.6573 - accuracy: 0.5850\n",
            "Epoch 29/150\n",
            "32/32 [==============================] - 0s 2ms/step - loss: 0.6553 - accuracy: 0.5930\n",
            "Epoch 30/150\n",
            "32/32 [==============================] - 0s 2ms/step - loss: 0.6527 - accuracy: 0.6000\n",
            "Epoch 31/150\n",
            "32/32 [==============================] - 0s 3ms/step - loss: 0.6498 - accuracy: 0.6280\n",
            "Epoch 32/150\n",
            "32/32 [==============================] - 0s 2ms/step - loss: 0.6467 - accuracy: 0.6110\n",
            "Epoch 33/150\n",
            "32/32 [==============================] - 0s 2ms/step - loss: 0.6433 - accuracy: 0.6240\n",
            "Epoch 34/150\n",
            "32/32 [==============================] - 0s 3ms/step - loss: 0.6407 - accuracy: 0.6200\n",
            "Epoch 35/150\n",
            "32/32 [==============================] - 0s 2ms/step - loss: 0.6371 - accuracy: 0.6290\n",
            "Epoch 36/150\n",
            "32/32 [==============================] - 0s 2ms/step - loss: 0.6332 - accuracy: 0.6360\n",
            "Epoch 37/150\n",
            "32/32 [==============================] - 0s 3ms/step - loss: 0.6299 - accuracy: 0.6490\n",
            "Epoch 38/150\n",
            "32/32 [==============================] - 0s 2ms/step - loss: 0.6265 - accuracy: 0.6280\n",
            "Epoch 39/150\n",
            "32/32 [==============================] - 0s 2ms/step - loss: 0.6225 - accuracy: 0.6540\n",
            "Epoch 40/150\n",
            "32/32 [==============================] - 0s 3ms/step - loss: 0.6188 - accuracy: 0.6540\n",
            "Epoch 41/150\n",
            "32/32 [==============================] - 0s 2ms/step - loss: 0.6150 - accuracy: 0.6900\n",
            "Epoch 42/150\n",
            "32/32 [==============================] - 0s 2ms/step - loss: 0.6111 - accuracy: 0.6930\n",
            "Epoch 43/150\n",
            "32/32 [==============================] - 0s 2ms/step - loss: 0.6062 - accuracy: 0.7030\n",
            "Epoch 44/150\n",
            "32/32 [==============================] - 0s 2ms/step - loss: 0.6029 - accuracy: 0.6610\n",
            "Epoch 45/150\n",
            "32/32 [==============================] - 0s 2ms/step - loss: 0.5984 - accuracy: 0.7310\n",
            "Epoch 46/150\n",
            "32/32 [==============================] - 0s 2ms/step - loss: 0.5918 - accuracy: 0.7130\n",
            "Epoch 47/150\n",
            "32/32 [==============================] - 0s 2ms/step - loss: 0.5876 - accuracy: 0.7450\n",
            "Epoch 48/150\n",
            "32/32 [==============================] - 0s 2ms/step - loss: 0.5816 - accuracy: 0.7240\n",
            "Epoch 49/150\n",
            "32/32 [==============================] - 0s 2ms/step - loss: 0.5751 - accuracy: 0.7480\n",
            "Epoch 50/150\n",
            "32/32 [==============================] - 0s 2ms/step - loss: 0.5688 - accuracy: 0.7510\n",
            "Epoch 51/150\n",
            "32/32 [==============================] - 0s 2ms/step - loss: 0.5627 - accuracy: 0.7580\n",
            "Epoch 52/150\n",
            "32/32 [==============================] - 0s 2ms/step - loss: 0.5530 - accuracy: 0.7830\n",
            "Epoch 53/150\n",
            "32/32 [==============================] - 0s 3ms/step - loss: 0.5407 - accuracy: 0.7720\n",
            "Epoch 54/150\n",
            "32/32 [==============================] - 0s 2ms/step - loss: 0.5282 - accuracy: 0.7910\n",
            "Epoch 55/150\n",
            "32/32 [==============================] - 0s 3ms/step - loss: 0.5141 - accuracy: 0.8010\n",
            "Epoch 56/150\n",
            "32/32 [==============================] - 0s 2ms/step - loss: 0.5004 - accuracy: 0.8160\n",
            "Epoch 57/150\n",
            "32/32 [==============================] - 0s 3ms/step - loss: 0.4849 - accuracy: 0.8480\n",
            "Epoch 58/150\n",
            "32/32 [==============================] - 0s 3ms/step - loss: 0.4706 - accuracy: 0.8890\n",
            "Epoch 59/150\n",
            "32/32 [==============================] - 0s 2ms/step - loss: 0.4548 - accuracy: 0.9040\n",
            "Epoch 60/150\n",
            "32/32 [==============================] - 0s 2ms/step - loss: 0.4389 - accuracy: 0.9360\n",
            "Epoch 61/150\n",
            "32/32 [==============================] - 0s 2ms/step - loss: 0.4243 - accuracy: 0.9340\n",
            "Epoch 62/150\n",
            "32/32 [==============================] - 0s 3ms/step - loss: 0.4053 - accuracy: 0.9660\n",
            "Epoch 63/150\n",
            "32/32 [==============================] - 0s 3ms/step - loss: 0.3898 - accuracy: 0.9720\n",
            "Epoch 64/150\n",
            "32/32 [==============================] - 0s 2ms/step - loss: 0.3751 - accuracy: 0.9750\n",
            "Epoch 65/150\n",
            "32/32 [==============================] - 0s 2ms/step - loss: 0.3603 - accuracy: 0.9830\n",
            "Epoch 66/150\n",
            "32/32 [==============================] - 0s 2ms/step - loss: 0.3444 - accuracy: 0.9850\n",
            "Epoch 67/150\n",
            "32/32 [==============================] - 0s 3ms/step - loss: 0.3296 - accuracy: 0.9860\n",
            "Epoch 68/150\n",
            "32/32 [==============================] - 0s 3ms/step - loss: 0.3138 - accuracy: 0.9890\n",
            "Epoch 69/150\n",
            "32/32 [==============================] - 0s 2ms/step - loss: 0.2985 - accuracy: 0.9910\n",
            "Epoch 70/150\n",
            "32/32 [==============================] - 0s 3ms/step - loss: 0.2847 - accuracy: 0.9880\n",
            "Epoch 71/150\n",
            "32/32 [==============================] - 0s 2ms/step - loss: 0.2695 - accuracy: 0.9920\n",
            "Epoch 72/150\n",
            "32/32 [==============================] - 0s 2ms/step - loss: 0.2557 - accuracy: 0.9930\n",
            "Epoch 73/150\n",
            "32/32 [==============================] - 0s 2ms/step - loss: 0.2417 - accuracy: 0.9930\n",
            "Epoch 74/150\n",
            "32/32 [==============================] - 0s 2ms/step - loss: 0.2284 - accuracy: 0.9930\n",
            "Epoch 75/150\n",
            "32/32 [==============================] - 0s 2ms/step - loss: 0.2162 - accuracy: 0.9930\n",
            "Epoch 76/150\n",
            "32/32 [==============================] - 0s 2ms/step - loss: 0.1957 - accuracy: 0.9880\n",
            "Epoch 77/150\n",
            "32/32 [==============================] - 0s 3ms/step - loss: 0.1739 - accuracy: 0.9910\n",
            "Epoch 78/150\n",
            "32/32 [==============================] - 0s 3ms/step - loss: 0.1624 - accuracy: 0.9910\n",
            "Epoch 79/150\n",
            "32/32 [==============================] - 0s 3ms/step - loss: 0.1549 - accuracy: 0.9910\n",
            "Epoch 80/150\n",
            "32/32 [==============================] - 0s 3ms/step - loss: 0.1469 - accuracy: 0.9920\n",
            "Epoch 81/150\n",
            "32/32 [==============================] - 0s 3ms/step - loss: 0.1404 - accuracy: 0.9940\n",
            "Epoch 82/150\n",
            "32/32 [==============================] - 0s 3ms/step - loss: 0.1344 - accuracy: 0.9920\n",
            "Epoch 83/150\n",
            "32/32 [==============================] - 0s 3ms/step - loss: 0.1289 - accuracy: 0.9940\n",
            "Epoch 84/150\n",
            "32/32 [==============================] - 0s 3ms/step - loss: 0.1249 - accuracy: 0.9940\n",
            "Epoch 85/150\n",
            "32/32 [==============================] - 0s 2ms/step - loss: 0.1203 - accuracy: 0.9930\n",
            "Epoch 86/150\n",
            "32/32 [==============================] - 0s 3ms/step - loss: 0.1161 - accuracy: 0.9940\n",
            "Epoch 87/150\n",
            "32/32 [==============================] - 0s 3ms/step - loss: 0.1117 - accuracy: 0.9920\n",
            "Epoch 88/150\n",
            "32/32 [==============================] - 0s 3ms/step - loss: 0.1083 - accuracy: 0.9920\n",
            "Epoch 89/150\n",
            "32/32 [==============================] - 0s 2ms/step - loss: 0.1053 - accuracy: 0.9920\n",
            "Epoch 90/150\n",
            "32/32 [==============================] - 0s 3ms/step - loss: 0.1017 - accuracy: 0.9910\n",
            "Epoch 91/150\n",
            "32/32 [==============================] - 0s 2ms/step - loss: 0.0988 - accuracy: 0.9910\n",
            "Epoch 92/150\n",
            "32/32 [==============================] - 0s 3ms/step - loss: 0.0953 - accuracy: 0.9930\n",
            "Epoch 93/150\n",
            "32/32 [==============================] - 0s 3ms/step - loss: 0.0932 - accuracy: 0.9930\n",
            "Epoch 94/150\n",
            "32/32 [==============================] - 0s 2ms/step - loss: 0.0911 - accuracy: 0.9930\n",
            "Epoch 95/150\n",
            "32/32 [==============================] - 0s 2ms/step - loss: 0.0881 - accuracy: 0.9890\n",
            "Epoch 96/150\n",
            "32/32 [==============================] - 0s 2ms/step - loss: 0.0857 - accuracy: 0.9930\n",
            "Epoch 97/150\n",
            "32/32 [==============================] - 0s 3ms/step - loss: 0.0844 - accuracy: 0.9910\n",
            "Epoch 98/150\n",
            "32/32 [==============================] - 0s 3ms/step - loss: 0.0818 - accuracy: 0.9920\n",
            "Epoch 99/150\n",
            "32/32 [==============================] - 0s 3ms/step - loss: 0.0802 - accuracy: 0.9900\n",
            "Epoch 100/150\n",
            "32/32 [==============================] - 0s 3ms/step - loss: 0.0778 - accuracy: 0.9920\n",
            "Epoch 101/150\n",
            "32/32 [==============================] - 0s 3ms/step - loss: 0.0756 - accuracy: 0.9920\n",
            "Epoch 102/150\n",
            "32/32 [==============================] - 0s 3ms/step - loss: 0.0741 - accuracy: 0.9940\n",
            "Epoch 103/150\n",
            "32/32 [==============================] - 0s 4ms/step - loss: 0.0736 - accuracy: 0.9920\n",
            "Epoch 104/150\n",
            "32/32 [==============================] - 0s 2ms/step - loss: 0.0707 - accuracy: 0.9930\n",
            "Epoch 105/150\n",
            "32/32 [==============================] - 0s 3ms/step - loss: 0.0691 - accuracy: 0.9930\n",
            "Epoch 106/150\n",
            "32/32 [==============================] - 0s 3ms/step - loss: 0.0676 - accuracy: 0.9920\n",
            "Epoch 107/150\n",
            "32/32 [==============================] - 0s 2ms/step - loss: 0.0660 - accuracy: 0.9920\n",
            "Epoch 108/150\n",
            "32/32 [==============================] - 0s 2ms/step - loss: 0.0661 - accuracy: 0.9930\n",
            "Epoch 109/150\n",
            "32/32 [==============================] - 0s 3ms/step - loss: 0.0636 - accuracy: 0.9930\n",
            "Epoch 110/150\n",
            "32/32 [==============================] - 0s 3ms/step - loss: 0.0630 - accuracy: 0.9920\n",
            "Epoch 111/150\n",
            "32/32 [==============================] - 0s 3ms/step - loss: 0.0611 - accuracy: 0.9930\n",
            "Epoch 112/150\n",
            "32/32 [==============================] - 0s 3ms/step - loss: 0.0607 - accuracy: 0.9930\n",
            "Epoch 113/150\n",
            "32/32 [==============================] - 0s 3ms/step - loss: 0.0593 - accuracy: 0.9940\n",
            "Epoch 114/150\n",
            "32/32 [==============================] - 0s 2ms/step - loss: 0.0578 - accuracy: 0.9930\n",
            "Epoch 115/150\n",
            "32/32 [==============================] - 0s 3ms/step - loss: 0.0570 - accuracy: 0.9940\n",
            "Epoch 116/150\n",
            "32/32 [==============================] - 0s 2ms/step - loss: 0.0559 - accuracy: 0.9930\n",
            "Epoch 117/150\n",
            "32/32 [==============================] - 0s 3ms/step - loss: 0.0550 - accuracy: 0.9930\n",
            "Epoch 118/150\n",
            "32/32 [==============================] - 0s 3ms/step - loss: 0.0537 - accuracy: 0.9940\n",
            "Epoch 119/150\n",
            "32/32 [==============================] - 0s 3ms/step - loss: 0.0533 - accuracy: 0.9910\n",
            "Epoch 120/150\n",
            "32/32 [==============================] - 0s 3ms/step - loss: 0.0528 - accuracy: 0.9920\n",
            "Epoch 121/150\n",
            "32/32 [==============================] - 0s 3ms/step - loss: 0.0531 - accuracy: 0.9900\n",
            "Epoch 122/150\n",
            "32/32 [==============================] - 0s 2ms/step - loss: 0.0505 - accuracy: 0.9930\n",
            "Epoch 123/150\n",
            "32/32 [==============================] - 0s 3ms/step - loss: 0.0498 - accuracy: 0.9940\n",
            "Epoch 124/150\n",
            "32/32 [==============================] - 0s 3ms/step - loss: 0.0501 - accuracy: 0.9940\n",
            "Epoch 125/150\n",
            "32/32 [==============================] - 0s 2ms/step - loss: 0.0479 - accuracy: 0.9940\n",
            "Epoch 126/150\n",
            "32/32 [==============================] - 0s 2ms/step - loss: 0.0482 - accuracy: 0.9930\n",
            "Epoch 127/150\n",
            "32/32 [==============================] - 0s 3ms/step - loss: 0.0472 - accuracy: 0.9920\n",
            "Epoch 128/150\n",
            "32/32 [==============================] - 0s 2ms/step - loss: 0.0462 - accuracy: 0.9940\n",
            "Epoch 129/150\n",
            "32/32 [==============================] - 0s 3ms/step - loss: 0.0454 - accuracy: 0.9930\n",
            "Epoch 130/150\n",
            "32/32 [==============================] - 0s 2ms/step - loss: 0.0450 - accuracy: 0.9940\n",
            "Epoch 131/150\n",
            "32/32 [==============================] - 0s 2ms/step - loss: 0.0445 - accuracy: 0.9940\n",
            "Epoch 132/150\n",
            "32/32 [==============================] - 0s 2ms/step - loss: 0.0453 - accuracy: 0.9920\n",
            "Epoch 133/150\n",
            "32/32 [==============================] - 0s 3ms/step - loss: 0.0425 - accuracy: 0.9940\n",
            "Epoch 134/150\n",
            "32/32 [==============================] - 0s 3ms/step - loss: 0.0420 - accuracy: 0.9940\n",
            "Epoch 135/150\n",
            "32/32 [==============================] - 0s 3ms/step - loss: 0.0421 - accuracy: 0.9920\n",
            "Epoch 136/150\n",
            "32/32 [==============================] - 0s 2ms/step - loss: 0.0419 - accuracy: 0.9950\n",
            "Epoch 137/150\n",
            "32/32 [==============================] - 0s 2ms/step - loss: 0.0429 - accuracy: 0.9930\n",
            "Epoch 138/150\n",
            "32/32 [==============================] - 0s 2ms/step - loss: 0.0407 - accuracy: 0.9950\n",
            "Epoch 139/150\n",
            "32/32 [==============================] - 0s 2ms/step - loss: 0.0401 - accuracy: 0.9930\n",
            "Epoch 140/150\n",
            "32/32 [==============================] - 0s 2ms/step - loss: 0.0393 - accuracy: 0.9920\n",
            "Epoch 141/150\n",
            "32/32 [==============================] - 0s 3ms/step - loss: 0.0394 - accuracy: 0.9930\n",
            "Epoch 142/150\n",
            "32/32 [==============================] - 0s 3ms/step - loss: 0.0381 - accuracy: 0.9930\n",
            "Epoch 143/150\n",
            "32/32 [==============================] - 0s 3ms/step - loss: 0.0390 - accuracy: 0.9940\n",
            "Epoch 144/150\n",
            "32/32 [==============================] - 0s 3ms/step - loss: 0.0381 - accuracy: 0.9950\n",
            "Epoch 145/150\n",
            "32/32 [==============================] - 0s 3ms/step - loss: 0.0364 - accuracy: 0.9920\n",
            "Epoch 146/150\n",
            "32/32 [==============================] - 0s 3ms/step - loss: 0.0365 - accuracy: 0.9940\n",
            "Epoch 147/150\n",
            "32/32 [==============================] - 0s 3ms/step - loss: 0.0371 - accuracy: 0.9950\n",
            "Epoch 148/150\n",
            "32/32 [==============================] - 0s 3ms/step - loss: 0.0355 - accuracy: 0.9930\n",
            "Epoch 149/150\n",
            "32/32 [==============================] - 0s 3ms/step - loss: 0.0346 - accuracy: 0.9960\n",
            "Epoch 150/150\n",
            "32/32 [==============================] - 0s 3ms/step - loss: 0.0344 - accuracy: 0.9970\n"
          ]
        },
        {
          "output_type": "execute_result",
          "data": {
            "text/plain": [
              "<keras.callbacks.History at 0x7f70655ccc10>"
            ]
          },
          "metadata": {},
          "execution_count": 87
        }
      ]
    },
    {
      "cell_type": "code",
      "source": [
        "model7.evaluate(X, y)"
      ],
      "metadata": {
        "colab": {
          "base_uri": "https://localhost:8080/"
        },
        "id": "pMY4fOY7hoq3",
        "outputId": "6ccba3cf-35d8-4df3-d2b1-7866564496c0"
      },
      "execution_count": 88,
      "outputs": [
        {
          "output_type": "stream",
          "name": "stdout",
          "text": [
            "32/32 [==============================] - 0s 2ms/step - loss: 0.0337 - accuracy: 0.9950\n"
          ]
        },
        {
          "output_type": "execute_result",
          "data": {
            "text/plain": [
              "[0.03373635187745094, 0.9950000047683716]"
            ]
          },
          "metadata": {},
          "execution_count": 88
        }
      ]
    },
    {
      "cell_type": "code",
      "source": [
        "plot_decision_boundary(model7, X, y)"
      ],
      "metadata": {
        "colab": {
          "base_uri": "https://localhost:8080/",
          "height": 300
        },
        "id": "XAF_QpRkhvIn",
        "outputId": "8451b793-8fa7-4b15-9039-6e0b3a8a9551"
      },
      "execution_count": 89,
      "outputs": [
        {
          "output_type": "stream",
          "name": "stdout",
          "text": [
            "313/313 [==============================] - 1s 2ms/step\n",
            "doing binary classification\n"
          ]
        },
        {
          "output_type": "display_data",
          "data": {
            "text/plain": [
              "<Figure size 432x288 with 1 Axes>"
            ],
            "image/png": "[encoded data removed]"
          },
          "metadata": {
            "needs_background": "light"
          }
        }
      ]
    },
    {
      "cell_type": "code",
      "source": [
        "A = tf.cast(tf.range(-10, 10), tf.float32)\n",
        "A"
      ],
      "metadata": {
        "colab": {
          "base_uri": "https://localhost:8080/"
        },
        "id": "0ycUgF0dLgqo",
        "outputId": "f01c60a9-95d4-45ad-f1ef-84f11bc12cf7"
      },
      "execution_count": 90,
      "outputs": [
        {
          "output_type": "execute_result",
          "data": {
            "text/plain": [
              "<tf.Tensor: shape=(20,), dtype=float32, numpy=\n",
              "array([-10.,  -9.,  -8.,  -7.,  -6.,  -5.,  -4.,  -3.,  -2.,  -1.,   0.,\n",
              "         1.,   2.,   3.,   4.,   5.,   6.,   7.,   8.,   9.],\n",
              "      dtype=float32)>"
            ]
          },
          "metadata": {},
          "execution_count": 90
        }
      ]
    },
    {
      "cell_type": "code",
      "source": [
        "plt.plot(A)"
      ],
      "metadata": {
        "colab": {
          "base_uri": "https://localhost:8080/",
          "height": 282
        },
        "id": "ELO-QOXTRDGE",
        "outputId": "7233117b-9fc4-4808-f7ef-a303ce3316f0"
      },
      "execution_count": 91,
      "outputs": [
        {
          "output_type": "execute_result",
          "data": {
            "text/plain": [
              "[<matplotlib.lines.Line2D at 0x7f7065417580>]"
            ]
          },
          "metadata": {},
          "execution_count": 91
        },
        {
          "output_type": "display_data",
          "data": {
            "text/plain": [
              "<Figure size 432x288 with 1 Axes>"
            ],
            "image/png": "[encoded data removed]"
          },
          "metadata": {
            "needs_background": "light"
          }
        }
      ]
    },
    {
      "cell_type": "code",
      "source": [
        "def sigmoid(X):\n",
        "  return 1 / (1 + tf.exp(-X))\n",
        "\n",
        "sigmoid(A)"
      ],
      "metadata": {
        "colab": {
          "base_uri": "https://localhost:8080/"
        },
        "id": "wSrhgpK7RGY8",
        "outputId": "9d231802-2f2b-4382-fa05-2ea889014f4a"
      },
      "execution_count": 92,
      "outputs": [
        {
          "output_type": "execute_result",
          "data": {
            "text/plain": [
              "<tf.Tensor: shape=(20,), dtype=float32, numpy=\n",
              "array([4.5397872e-05, 1.2339458e-04, 3.3535014e-04, 9.1105117e-04,\n",
              "       2.4726233e-03, 6.6928510e-03, 1.7986210e-02, 4.7425874e-02,\n",
              "       1.1920292e-01, 2.6894143e-01, 5.0000000e-01, 7.3105860e-01,\n",
              "       8.8079703e-01, 9.5257413e-01, 9.8201376e-01, 9.9330717e-01,\n",
              "       9.9752742e-01, 9.9908900e-01, 9.9966466e-01, 9.9987662e-01],\n",
              "      dtype=float32)>"
            ]
          },
          "metadata": {},
          "execution_count": 92
        }
      ]
    },
    {
      "cell_type": "code",
      "source": [
        "plt.plot(sigmoid(A))"
      ],
      "metadata": {
        "colab": {
          "base_uri": "https://localhost:8080/",
          "height": 282
        },
        "id": "vpL64aCRRZHx",
        "outputId": "7615b75d-3e9c-4c8e-c537-ebf678880aba"
      },
      "execution_count": 93,
      "outputs": [
        {
          "output_type": "execute_result",
          "data": {
            "text/plain": [
              "[<matplotlib.lines.Line2D at 0x7f70653e7fa0>]"
            ]
          },
          "metadata": {},
          "execution_count": 93
        },
        {
          "output_type": "display_data",
          "data": {
            "text/plain": [
              "<Figure size 432x288 with 1 Axes>"
            ],
            "image/png": "[encoded data removed]"
          },
          "metadata": {
            "needs_background": "light"
          }
        }
      ]
    },
    {
      "cell_type": "code",
      "source": [
        "def relu(x):\n",
        "  return tf.maximum(0, x)\n",
        "\n",
        "relu(A)"
      ],
      "metadata": {
        "colab": {
          "base_uri": "https://localhost:8080/"
        },
        "id": "h_CVs-mrRcvV",
        "outputId": "6c4a63a7-a280-4f2a-ca1b-dd97b5335dc2"
      },
      "execution_count": 94,
      "outputs": [
        {
          "output_type": "execute_result",
          "data": {
            "text/plain": [
              "<tf.Tensor: shape=(20,), dtype=float32, numpy=\n",
              "array([0., 0., 0., 0., 0., 0., 0., 0., 0., 0., 0., 1., 2., 3., 4., 5., 6.,\n",
              "       7., 8., 9.], dtype=float32)>"
            ]
          },
          "metadata": {},
          "execution_count": 94
        }
      ]
    },
    {
      "cell_type": "code",
      "source": [
        "plt.plot(relu(A))"
      ],
      "metadata": {
        "colab": {
          "base_uri": "https://localhost:8080/",
          "height": 282
        },
        "id": "Xds4BfBHStVI",
        "outputId": "3658c8c5-8270-4459-93a6-a8116d064a6c"
      },
      "execution_count": 95,
      "outputs": [
        {
          "output_type": "execute_result",
          "data": {
            "text/plain": [
              "[<matplotlib.lines.Line2D at 0x7f70621e4070>]"
            ]
          },
          "metadata": {},
          "execution_count": 95
        },
        {
          "output_type": "display_data",
          "data": {
            "text/plain": [
              "<Figure size 432x288 with 1 Axes>"
            ],
            "image/png": "[encoded data removed]"
          },
          "metadata": {
            "needs_background": "light"
          }
        }
      ]
    },
    {
      "cell_type": "markdown",
      "source": [
        "**Model 8**"
      ],
      "metadata": {
        "id": "0aBjf94pS2Gp"
      }
    },
    {
      "cell_type": "code",
      "source": [
        "X_train, y_train = X[:800], y[:800]\n",
        "X_test, y_test = X[800:], y[800:]\n",
        "\n",
        "X_train.shape, y_train.shape, X_test.shape, y_test.shape"
      ],
      "metadata": {
        "colab": {
          "base_uri": "https://localhost:8080/"
        },
        "id": "-IOC1BTb6qhB",
        "outputId": "bcf825a3-2ea7-41c8-f54e-797660ecc846"
      },
      "execution_count": 96,
      "outputs": [
        {
          "output_type": "execute_result",
          "data": {
            "text/plain": [
              "((800, 2), (800,), (200, 2), (200,))"
            ]
          },
          "metadata": {},
          "execution_count": 96
        }
      ]
    },
    {
      "cell_type": "code",
      "source": [
        "tf.random.set_seed(42)\n",
        "\n",
        "model8 = tf.keras.Sequential([\n",
        "    tf.keras.layers.Dense(4, activation=\"relu\"),\n",
        "    tf.keras.layers.Dense(4, activation=\"relu\"),\n",
        "    tf.keras.layers.Dense(1, activation=\"sigmoid\")\n",
        "])\n",
        "\n",
        "model8.compile(loss=[\"binary_crossentropy\"],\n",
        "               optimizer=tf.keras.optimizers.Adam(learning_rate=0.01),\n",
        "               metrics=[\"accuracy\"])\n",
        "\n",
        "history = model8.fit(X_train, y_train, epochs=25)"
      ],
      "metadata": {
        "colab": {
          "base_uri": "https://localhost:8080/"
        },
        "id": "jxbRFIkI7F7_",
        "outputId": "e86cf087-b2d3-4cdc-d64f-28a14c3f661d"
      },
      "execution_count": 97,
      "outputs": [
        {
          "output_type": "stream",
          "name": "stdout",
          "text": [
            "Epoch 1/25\n",
            "25/25 [==============================] - 1s 2ms/step - loss: 0.6847 - accuracy: 0.5425\n",
            "Epoch 2/25\n",
            "25/25 [==============================] - 0s 2ms/step - loss: 0.6777 - accuracy: 0.5525\n",
            "Epoch 3/25\n",
            "25/25 [==============================] - 0s 3ms/step - loss: 0.6736 - accuracy: 0.5512\n",
            "Epoch 4/25\n",
            "25/25 [==============================] - 0s 2ms/step - loss: 0.6681 - accuracy: 0.5775\n",
            "Epoch 5/25\n",
            "25/25 [==============================] - 0s 3ms/step - loss: 0.6633 - accuracy: 0.5850\n",
            "Epoch 6/25\n",
            "25/25 [==============================] - 0s 3ms/step - loss: 0.6546 - accuracy: 0.5838\n",
            "Epoch 7/25\n",
            "25/25 [==============================] - 0s 3ms/step - loss: 0.6413 - accuracy: 0.6750\n",
            "Epoch 8/25\n",
            "25/25 [==============================] - 0s 3ms/step - loss: 0.6264 - accuracy: 0.7013\n",
            "Epoch 9/25\n",
            "25/25 [==============================] - 0s 3ms/step - loss: 0.6038 - accuracy: 0.7487\n",
            "Epoch 10/25\n",
            "25/25 [==============================] - 0s 2ms/step - loss: 0.5714 - accuracy: 0.7738\n",
            "Epoch 11/25\n",
            "25/25 [==============================] - 0s 3ms/step - loss: 0.5404 - accuracy: 0.7650\n",
            "Epoch 12/25\n",
            "25/25 [==============================] - 0s 2ms/step - loss: 0.5015 - accuracy: 0.7837\n",
            "Epoch 13/25\n",
            "25/25 [==============================] - 0s 3ms/step - loss: 0.4683 - accuracy: 0.7975\n",
            "Epoch 14/25\n",
            "25/25 [==============================] - 0s 2ms/step - loss: 0.4113 - accuracy: 0.8450\n",
            "Epoch 15/25\n",
            "25/25 [==============================] - 0s 2ms/step - loss: 0.3625 - accuracy: 0.9125\n",
            "Epoch 16/25\n",
            "25/25 [==============================] - 0s 2ms/step - loss: 0.3209 - accuracy: 0.9312\n",
            "Epoch 17/25\n",
            "25/25 [==============================] - 0s 2ms/step - loss: 0.2847 - accuracy: 0.9488\n",
            "Epoch 18/25\n",
            "25/25 [==============================] - 0s 4ms/step - loss: 0.2597 - accuracy: 0.9525\n",
            "Epoch 19/25\n",
            "25/25 [==============================] - 0s 3ms/step - loss: 0.2375 - accuracy: 0.9563\n",
            "Epoch 20/25\n",
            "25/25 [==============================] - 0s 2ms/step - loss: 0.2135 - accuracy: 0.9663\n",
            "Epoch 21/25\n",
            "25/25 [==============================] - 0s 3ms/step - loss: 0.1938 - accuracy: 0.9775\n",
            "Epoch 22/25\n",
            "25/25 [==============================] - 0s 3ms/step - loss: 0.1752 - accuracy: 0.9737\n",
            "Epoch 23/25\n",
            "25/25 [==============================] - 0s 3ms/step - loss: 0.1619 - accuracy: 0.9787\n",
            "Epoch 24/25\n",
            "25/25 [==============================] - 0s 2ms/step - loss: 0.1550 - accuracy: 0.9775\n",
            "Epoch 25/25\n",
            "25/25 [==============================] - 0s 2ms/step - loss: 0.1490 - accuracy: 0.9762\n"
          ]
        }
      ]
    },
    {
      "cell_type": "code",
      "source": [
        "model8.evaluate(X_test, y_test)"
      ],
      "metadata": {
        "colab": {
          "base_uri": "https://localhost:8080/"
        },
        "id": "QOM6m8oi8j4Z",
        "outputId": "4b17a0a6-bbc6-4fbe-9259-878231b0da55"
      },
      "execution_count": 98,
      "outputs": [
        {
          "output_type": "stream",
          "name": "stdout",
          "text": [
            "7/7 [==============================] - 0s 2ms/step - loss: 0.1247 - accuracy: 1.0000\n"
          ]
        },
        {
          "output_type": "execute_result",
          "data": {
            "text/plain": [
              "[0.12468848377466202, 1.0]"
            ]
          },
          "metadata": {},
          "execution_count": 98
        }
      ]
    },
    {
      "cell_type": "code",
      "source": [
        "plt.figure(figsize=(18, 9))\n",
        "\n",
        "plt.subplot(1, 2, 1)\n",
        "plt.title(\"Train\")\n",
        "plot_decision_boundary(model=model8, X=X_train, y=y_train)\n",
        "\n",
        "plt.subplot(1, 2, 2)\n",
        "plt.title(\"Test\")\n",
        "plot_decision_boundary(model=model8, X=X_test, y=y_test)"
      ],
      "metadata": {
        "colab": {
          "base_uri": "https://localhost:8080/",
          "height": 622
        },
        "id": "6sSPWeg180PO",
        "outputId": "90f2f3a7-e803-480a-df25-2ecc9a9e8295"
      },
      "execution_count": 99,
      "outputs": [
        {
          "output_type": "stream",
          "name": "stdout",
          "text": [
            "313/313 [==============================] - 1s 2ms/step\n",
            "doing binary classification\n",
            "313/313 [==============================] - 1s 2ms/step\n",
            "doing binary classification\n"
          ]
        },
        {
          "output_type": "display_data",
          "data": {
            "text/plain": [
              "<Figure size 1296x648 with 2 Axes>"
            ],
            "image/png": "[encoded data removed]"
          },
          "metadata": {
            "needs_background": "light"
          }
        }
      ]
    },
    {
      "cell_type": "code",
      "source": [
        "pd.DataFrame(history.history)"
      ],
      "metadata": {
        "colab": {
          "base_uri": "https://localhost:8080/",
          "height": 833
        },
        "id": "1TQX9T4p9dTn",
        "outputId": "bb3d7703-0b9a-4df9-a3b0-bce81ccb6cc9"
      },
      "execution_count": 100,
      "outputs": [
        {
          "output_type": "execute_result",
          "data": {
            "text/plain": [
              "        loss  accuracy\n",
              "0   0.684651   0.54250\n",
              "1   0.677721   0.55250\n",
              "2   0.673595   0.55125\n",
              "3   0.668149   0.57750\n",
              "4   0.663269   0.58500\n",
              "5   0.654567   0.58375\n",
              "6   0.641258   0.67500\n",
              "7   0.626428   0.70125\n",
              "8   0.603831   0.74875\n",
              "9   0.571404   0.77375\n",
              "10  0.540443   0.76500\n",
              "11  0.501504   0.78375\n",
              "12  0.468332   0.79750\n",
              "13  0.411302   0.84500\n",
              "14  0.362506   0.91250\n",
              "15  0.320904   0.93125\n",
              "16  0.284708   0.94875\n",
              "17  0.259720   0.95250\n",
              "18  0.237469   0.95625\n",
              "19  0.213520   0.96625\n",
              "20  0.193820   0.97750\n",
              "21  0.175244   0.97375\n",
              "22  0.161893   0.97875\n",
              "23  0.154989   0.97750\n",
              "24  0.148973   0.97625"
            ],
            "text/html": [
              "\n",
              "  <div id=\"df-2ec5aa96-5e35-4eef-b166-72740fa7acd2\">\n",
              "    <div class=\"colab-df-container\">\n",
              "      <div>\n",
              "<style scoped>\n",
              "    .dataframe tbody tr th:only-of-type {\n",
              "        vertical-align: middle;\n",
              "    }\n",
              "\n",
              "    .dataframe tbody tr th {\n",
              "        vertical-align: top;\n",
              "    }\n",
              "\n",
              "    .dataframe thead th {\n",
              "        text-align: right;\n",
              "    }\n",
              "</style>\n",
              "<table border=\"1\" class=\"dataframe\">\n",
              "  <thead>\n",
              "    <tr style=\"text-align: right;\">\n",
              "      <th></th>\n",
              "      <th>loss</th>\n",
              "      <th>accuracy</th>\n",
              "    </tr>\n",
              "  </thead>\n",
              "  <tbody>\n",
              "    <tr>\n",
              "      <th>0</th>\n",
              "      <td>0.684651</td>\n",
              "      <td>0.54250</td>\n",
              "    </tr>\n",
              "    <tr>\n",
              "      <th>1</th>\n",
              "      <td>0.677721</td>\n",
              "      <td>0.55250</td>\n",
              "    </tr>\n",
              "    <tr>\n",
              "      <th>2</th>\n",
              "      <td>0.673595</td>\n",
              "      <td>0.55125</td>\n",
              "    </tr>\n",
              "    <tr>\n",
              "      <th>3</th>\n",
              "      <td>0.668149</td>\n",
              "      <td>0.57750</td>\n",
              "    </tr>\n",
              "    <tr>\n",
              "      <th>4</th>\n",
              "      <td>0.663269</td>\n",
              "      <td>0.58500</td>\n",
              "    </tr>\n",
              "    <tr>\n",
              "      <th>5</th>\n",
              "      <td>0.654567</td>\n",
              "      <td>0.58375</td>\n",
              "    </tr>\n",
              "    <tr>\n",
              "      <th>6</th>\n",
              "      <td>0.641258</td>\n",
              "      <td>0.67500</td>\n",
              "    </tr>\n",
              "    <tr>\n",
              "      <th>7</th>\n",
              "      <td>0.626428</td>\n",
              "      <td>0.70125</td>\n",
              "    </tr>\n",
              "    <tr>\n",
              "      <th>8</th>\n",
              "      <td>0.603831</td>\n",
              "      <td>0.74875</td>\n",
              "    </tr>\n",
              "    <tr>\n",
              "      <th>9</th>\n",
              "      <td>0.571404</td>\n",
              "      <td>0.77375</td>\n",
              "    </tr>\n",
              "    <tr>\n",
              "      <th>10</th>\n",
              "      <td>0.540443</td>\n",
              "      <td>0.76500</td>\n",
              "    </tr>\n",
              "    <tr>\n",
              "      <th>11</th>\n",
              "      <td>0.501504</td>\n",
              "      <td>0.78375</td>\n",
              "    </tr>\n",
              "    <tr>\n",
              "      <th>12</th>\n",
              "      <td>0.468332</td>\n",
              "      <td>0.79750</td>\n",
              "    </tr>\n",
              "    <tr>\n",
              "      <th>13</th>\n",
              "      <td>0.411302</td>\n",
              "      <td>0.84500</td>\n",
              "    </tr>\n",
              "    <tr>\n",
              "      <th>14</th>\n",
              "      <td>0.362506</td>\n",
              "      <td>0.91250</td>\n",
              "    </tr>\n",
              "    <tr>\n",
              "      <th>15</th>\n",
              "      <td>0.320904</td>\n",
              "      <td>0.93125</td>\n",
              "    </tr>\n",
              "    <tr>\n",
              "      <th>16</th>\n",
              "      <td>0.284708</td>\n",
              "      <td>0.94875</td>\n",
              "    </tr>\n",
              "    <tr>\n",
              "      <th>17</th>\n",
              "      <td>0.259720</td>\n",
              "      <td>0.95250</td>\n",
              "    </tr>\n",
              "    <tr>\n",
              "      <th>18</th>\n",
              "      <td>0.237469</td>\n",
              "      <td>0.95625</td>\n",
              "    </tr>\n",
              "    <tr>\n",
              "      <th>19</th>\n",
              "      <td>0.213520</td>\n",
              "      <td>0.96625</td>\n",
              "    </tr>\n",
              "    <tr>\n",
              "      <th>20</th>\n",
              "      <td>0.193820</td>\n",
              "      <td>0.97750</td>\n",
              "    </tr>\n",
              "    <tr>\n",
              "      <th>21</th>\n",
              "      <td>0.175244</td>\n",
              "      <td>0.97375</td>\n",
              "    </tr>\n",
              "    <tr>\n",
              "      <th>22</th>\n",
              "      <td>0.161893</td>\n",
              "      <td>0.97875</td>\n",
              "    </tr>\n",
              "    <tr>\n",
              "      <th>23</th>\n",
              "      <td>0.154989</td>\n",
              "      <td>0.97750</td>\n",
              "    </tr>\n",
              "    <tr>\n",
              "      <th>24</th>\n",
              "      <td>0.148973</td>\n",
              "      <td>0.97625</td>\n",
              "    </tr>\n",
              "  </tbody>\n",
              "</table>\n",
              "</div>\n",
              "      <button class=\"colab-df-convert\" onclick=\"convertToInteractive('df-2ec5aa96-5e35-4eef-b166-72740fa7acd2')\"\n",
              "              title=\"Convert this dataframe to an interactive table.\"\n",
              "              style=\"display:none;\">\n",
              "        \n",
              "  <svg xmlns=\"http://www.w3.org/2000/svg\" height=\"24px\"viewBox=\"0 0 24 24\"\n",
              "       width=\"24px\">\n",
              "    <path d=\"M0 0h24v24H0V0z\" fill=\"none\"/>\n",
              "    <path d=\"M18.56 5.44l.94 2.06.94-2.06 2.06-.94-2.06-.94-.94-2.06-.94 2.06-2.06.94zm-11 1L8.5 8.5l.94-2.06 2.06-.94-2.06-.94L8.5 2.5l-.94 2.06-2.06.94zm10 10l.94 2.06.94-2.06 2.06-.94-2.06-.94-.94-2.06-.94 2.06-2.06.94z\"/><path d=\"M17.41 7.96l-1.37-1.37c-.4-.4-.92-.59-1.43-.59-.52 0-1.04.2-1.43.59L10.3 9.45l-7.72 7.72c-.78.78-.78 2.05 0 2.83L4 21.41c.39.39.9.59 1.41.59.51 0 1.02-.2 1.41-.59l7.78-7.78 2.81-2.81c.8-.78.8-2.07 0-2.86zM5.41 20L4 18.59l7.72-7.72 1.47 1.35L5.41 20z\"/>\n",
              "  </svg>\n",
              "      </button>\n",
              "      \n",
              "  <style>\n",
              "    .colab-df-container {\n",
              "      display:flex;\n",
              "      flex-wrap:wrap;\n",
              "      gap: 12px;\n",
              "    }\n",
              "\n",
              "    .colab-df-convert {\n",
              "      background-color: #E8F0FE;\n",
              "      border: none;\n",
              "      border-radius: 50%;\n",
              "      cursor: pointer;\n",
              "      display: none;\n",
              "      fill: #1967D2;\n",
              "      height: 32px;\n",
              "      padding: 0 0 0 0;\n",
              "      width: 32px;\n",
              "    }\n",
              "\n",
              "    .colab-df-convert:hover {\n",
              "      background-color: #E2EBFA;\n",
              "      box-shadow: 0px 1px 2px rgba(60, 64, 67, 0.3), 0px 1px 3px 1px rgba(60, 64, 67, 0.15);\n",
              "      fill: #174EA6;\n",
              "    }\n",
              "\n",
              "    [theme=dark] .colab-df-convert {\n",
              "      background-color: #3B4455;\n",
              "      fill: #D2E3FC;\n",
              "    }\n",
              "\n",
              "    [theme=dark] .colab-df-convert:hover {\n",
              "      background-color: #434B5C;\n",
              "      box-shadow: 0px 1px 3px 1px rgba(0, 0, 0, 0.15);\n",
              "      filter: drop-shadow(0px 1px 2px rgba(0, 0, 0, 0.3));\n",
              "      fill: #FFFFFF;\n",
              "    }\n",
              "  </style>\n",
              "\n",
              "      <script>\n",
              "        const buttonEl =\n",
              "          document.querySelector('#df-2ec5aa96-5e35-4eef-b166-72740fa7acd2 button.colab-df-convert');\n",
              "        buttonEl.style.display =\n",
              "          google.colab.kernel.accessAllowed ? 'block' : 'none';\n",
              "\n",
              "        async function convertToInteractive(key) {\n",
              "          const element = document.querySelector('#df-2ec5aa96-5e35-4eef-b166-72740fa7acd2');\n",
              "          const dataTable =\n",
              "            await google.colab.kernel.invokeFunction('convertToInteractive',\n",
              "                                                     [key], {});\n",
              "          if (!dataTable) return;\n",
              "\n",
              "          const docLinkHtml = 'Like what you see? Visit the ' +\n",
              "            '<a target=\"_blank\" href=https://colab.research.google.com/notebooks/data_table.ipynb>data table notebook</a>'\n",
              "            + ' to learn more about interactive tables.';\n",
              "          element.innerHTML = '';\n",
              "          dataTable['output_type'] = 'display_data';\n",
              "          await google.colab.output.renderOutput(dataTable, element);\n",
              "          const docLink = document.createElement('div');\n",
              "          docLink.innerHTML = docLinkHtml;\n",
              "          element.appendChild(docLink);\n",
              "        }\n",
              "      </script>\n",
              "    </div>\n",
              "  </div>\n",
              "  "
            ]
          },
          "metadata": {},
          "execution_count": 100
        }
      ]
    },
    {
      "cell_type": "code",
      "source": [
        "pd.DataFrame(history.history).plot()\n",
        "plt.title(\"model8 loss curve\")"
      ],
      "metadata": {
        "colab": {
          "base_uri": "https://localhost:8080/",
          "height": 298
        },
        "id": "Q9bKoYXHMmyt",
        "outputId": "35e8aaa0-97c0-4c58-e481-786c8484babb"
      },
      "execution_count": 101,
      "outputs": [
        {
          "output_type": "execute_result",
          "data": {
            "text/plain": [
              "Text(0.5, 1.0, 'model8 loss curve')"
            ]
          },
          "metadata": {},
          "execution_count": 101
        },
        {
          "output_type": "display_data",
          "data": {
            "text/plain": [
              "<Figure size 432x288 with 1 Axes>"
            ],
            "image/png": "[encoded data removed]"
          },
          "metadata": {
            "needs_background": "light"
          }
        }
      ]
    },
    {
      "cell_type": "markdown",
      "source": [
        "Finding the best learning rate"
      ],
      "metadata": {
        "id": "lXWMhk4JNGYS"
      }
    },
    {
      "cell_type": "code",
      "source": [
        "tf.random.set_seed(42)\n",
        "\n",
        "model9 = tf.keras.Sequential([\n",
        "    tf.keras.layers.Dense(4, activation=\"relu\"),\n",
        "    tf.keras.layers.Dense(4, activation=\"relu\"),\n",
        "    tf.keras.layers.Dense(1, activation=\"sigmoid\")\n",
        "])\n",
        "\n",
        "model9.compile(loss=[\"binary_crossentropy\"],\n",
        "               optimizer=tf.keras.optimizers.Adam(),\n",
        "               metrics=[\"accuracy\"])\n",
        "\n",
        "#create a learning rate callback\n",
        "lr_scheduler = tf.keras.callbacks.LearningRateScheduler(lambda epoch: 1e-4 * 10**(epoch/20))\n",
        "\n",
        "history9 = model9.fit(X_train, y_train, epochs=100, callbacks=[lr_scheduler])"
      ],
      "metadata": {
        "colab": {
          "base_uri": "https://localhost:8080/"
        },
        "id": "G6bCICs4Nz8b",
        "outputId": "4ee31e1b-f076-4b73-bdfb-385ad7bd06ed"
      },
      "execution_count": 102,
      "outputs": [
        {
          "output_type": "stream",
          "name": "stdout",
          "text": [
            "Epoch 1/100\n",
            "25/25 [==============================] - 1s 2ms/step - loss: 0.6945 - accuracy: 0.4988 - lr: 1.0000e-04\n",
            "Epoch 2/100\n",
            "25/25 [==============================] - 0s 3ms/step - loss: 0.6938 - accuracy: 0.4975 - lr: 1.1220e-04\n",
            "Epoch 3/100\n",
            "25/25 [==============================] - 0s 2ms/step - loss: 0.6930 - accuracy: 0.4963 - lr: 1.2589e-04\n",
            "Epoch 4/100\n",
            "25/25 [==============================] - 0s 3ms/step - loss: 0.6922 - accuracy: 0.4975 - lr: 1.4125e-04\n",
            "Epoch 5/100\n",
            "25/25 [==============================] - 0s 3ms/step - loss: 0.6914 - accuracy: 0.5063 - lr: 1.5849e-04\n",
            "Epoch 6/100\n",
            "25/25 [==============================] - 0s 3ms/step - loss: 0.6906 - accuracy: 0.5013 - lr: 1.7783e-04\n",
            "Epoch 7/100\n",
            "25/25 [==============================] - 0s 2ms/step - loss: 0.6898 - accuracy: 0.4950 - lr: 1.9953e-04\n",
            "Epoch 8/100\n",
            "25/25 [==============================] - 0s 2ms/step - loss: 0.6889 - accuracy: 0.5038 - lr: 2.2387e-04\n",
            "Epoch 9/100\n",
            "25/25 [==============================] - 0s 2ms/step - loss: 0.6880 - accuracy: 0.5013 - lr: 2.5119e-04\n",
            "Epoch 10/100\n",
            "25/25 [==============================] - 0s 3ms/step - loss: 0.6871 - accuracy: 0.5050 - lr: 2.8184e-04\n",
            "Epoch 11/100\n",
            "25/25 [==============================] - 0s 3ms/step - loss: 0.6863 - accuracy: 0.5200 - lr: 3.1623e-04\n",
            "Epoch 12/100\n",
            "25/25 [==============================] - 0s 3ms/step - loss: 0.6856 - accuracy: 0.5163 - lr: 3.5481e-04\n",
            "Epoch 13/100\n",
            "25/25 [==============================] - 0s 4ms/step - loss: 0.6847 - accuracy: 0.5175 - lr: 3.9811e-04\n",
            "Epoch 14/100\n",
            "25/25 [==============================] - 0s 3ms/step - loss: 0.6842 - accuracy: 0.5200 - lr: 4.4668e-04\n",
            "Epoch 15/100\n",
            "25/25 [==============================] - 0s 3ms/step - loss: 0.6835 - accuracy: 0.5213 - lr: 5.0119e-04\n",
            "Epoch 16/100\n",
            "25/25 [==============================] - 0s 3ms/step - loss: 0.6829 - accuracy: 0.5213 - lr: 5.6234e-04\n",
            "Epoch 17/100\n",
            "25/25 [==============================] - 0s 2ms/step - loss: 0.6826 - accuracy: 0.5225 - lr: 6.3096e-04\n",
            "Epoch 18/100\n",
            "25/25 [==============================] - 0s 3ms/step - loss: 0.6819 - accuracy: 0.5300 - lr: 7.0795e-04\n",
            "Epoch 19/100\n",
            "25/25 [==============================] - 0s 2ms/step - loss: 0.6816 - accuracy: 0.5312 - lr: 7.9433e-04\n",
            "Epoch 20/100\n",
            "25/25 [==============================] - 0s 3ms/step - loss: 0.6811 - accuracy: 0.5387 - lr: 8.9125e-04\n",
            "Epoch 21/100\n",
            "25/25 [==============================] - 0s 3ms/step - loss: 0.6806 - accuracy: 0.5400 - lr: 0.0010\n",
            "Epoch 22/100\n",
            "25/25 [==============================] - 0s 2ms/step - loss: 0.6801 - accuracy: 0.5412 - lr: 0.0011\n",
            "Epoch 23/100\n",
            "25/25 [==============================] - 0s 3ms/step - loss: 0.6796 - accuracy: 0.5400 - lr: 0.0013\n",
            "Epoch 24/100\n",
            "25/25 [==============================] - 0s 2ms/step - loss: 0.6790 - accuracy: 0.5425 - lr: 0.0014\n",
            "Epoch 25/100\n",
            "25/25 [==============================] - 0s 2ms/step - loss: 0.6784 - accuracy: 0.5450 - lr: 0.0016\n",
            "Epoch 26/100\n",
            "25/25 [==============================] - 0s 2ms/step - loss: 0.6778 - accuracy: 0.5387 - lr: 0.0018\n",
            "Epoch 27/100\n",
            "25/25 [==============================] - 0s 3ms/step - loss: 0.6770 - accuracy: 0.5425 - lr: 0.0020\n",
            "Epoch 28/100\n",
            "25/25 [==============================] - 0s 2ms/step - loss: 0.6760 - accuracy: 0.5537 - lr: 0.0022\n",
            "Epoch 29/100\n",
            "25/25 [==============================] - 0s 3ms/step - loss: 0.6754 - accuracy: 0.5512 - lr: 0.0025\n",
            "Epoch 30/100\n",
            "25/25 [==============================] - 0s 3ms/step - loss: 0.6739 - accuracy: 0.5575 - lr: 0.0028\n",
            "Epoch 31/100\n",
            "25/25 [==============================] - 0s 2ms/step - loss: 0.6726 - accuracy: 0.5500 - lr: 0.0032\n",
            "Epoch 32/100\n",
            "25/25 [==============================] - 0s 2ms/step - loss: 0.6711 - accuracy: 0.5512 - lr: 0.0035\n",
            "Epoch 33/100\n",
            "25/25 [==============================] - 0s 2ms/step - loss: 0.6688 - accuracy: 0.5562 - lr: 0.0040\n",
            "Epoch 34/100\n",
            "25/25 [==============================] - 0s 2ms/step - loss: 0.6672 - accuracy: 0.5612 - lr: 0.0045\n",
            "Epoch 35/100\n",
            "25/25 [==============================] - 0s 2ms/step - loss: 0.6660 - accuracy: 0.5888 - lr: 0.0050\n",
            "Epoch 36/100\n",
            "25/25 [==============================] - 0s 3ms/step - loss: 0.6625 - accuracy: 0.5625 - lr: 0.0056\n",
            "Epoch 37/100\n",
            "25/25 [==============================] - 0s 2ms/step - loss: 0.6560 - accuracy: 0.5813 - lr: 0.0063\n",
            "Epoch 38/100\n",
            "25/25 [==============================] - 0s 3ms/step - loss: 0.6521 - accuracy: 0.6025 - lr: 0.0071\n",
            "Epoch 39/100\n",
            "25/25 [==============================] - 0s 2ms/step - loss: 0.6415 - accuracy: 0.7088 - lr: 0.0079\n",
            "Epoch 40/100\n",
            "25/25 [==============================] - 0s 3ms/step - loss: 0.6210 - accuracy: 0.7113 - lr: 0.0089\n",
            "Epoch 41/100\n",
            "25/25 [==============================] - 0s 3ms/step - loss: 0.5904 - accuracy: 0.7487 - lr: 0.0100\n",
            "Epoch 42/100\n",
            "25/25 [==============================] - 0s 3ms/step - loss: 0.5688 - accuracy: 0.7312 - lr: 0.0112\n",
            "Epoch 43/100\n",
            "25/25 [==============================] - 0s 2ms/step - loss: 0.5346 - accuracy: 0.7563 - lr: 0.0126\n",
            "Epoch 44/100\n",
            "25/25 [==============================] - 0s 2ms/step - loss: 0.4533 - accuracy: 0.8150 - lr: 0.0141\n",
            "Epoch 45/100\n",
            "25/25 [==============================] - 0s 2ms/step - loss: 0.3455 - accuracy: 0.9112 - lr: 0.0158\n",
            "Epoch 46/100\n",
            "25/25 [==============================] - 0s 3ms/step - loss: 0.2570 - accuracy: 0.9463 - lr: 0.0178\n",
            "Epoch 47/100\n",
            "25/25 [==============================] - 0s 3ms/step - loss: 0.1968 - accuracy: 0.9575 - lr: 0.0200\n",
            "Epoch 48/100\n",
            "25/25 [==============================] - 0s 2ms/step - loss: 0.1336 - accuracy: 0.9700 - lr: 0.0224\n",
            "Epoch 49/100\n",
            "25/25 [==============================] - 0s 3ms/step - loss: 0.1310 - accuracy: 0.9613 - lr: 0.0251\n",
            "Epoch 50/100\n",
            "25/25 [==============================] - 0s 2ms/step - loss: 0.1002 - accuracy: 0.9700 - lr: 0.0282\n",
            "Epoch 51/100\n",
            "25/25 [==============================] - 0s 2ms/step - loss: 0.1166 - accuracy: 0.9638 - lr: 0.0316\n",
            "Epoch 52/100\n",
            "25/25 [==============================] - 0s 3ms/step - loss: 0.1368 - accuracy: 0.9513 - lr: 0.0355\n",
            "Epoch 53/100\n",
            "25/25 [==============================] - 0s 2ms/step - loss: 0.0879 - accuracy: 0.9787 - lr: 0.0398\n",
            "Epoch 54/100\n",
            "25/25 [==============================] - 0s 2ms/step - loss: 0.1187 - accuracy: 0.9588 - lr: 0.0447\n",
            "Epoch 55/100\n",
            "25/25 [==============================] - 0s 2ms/step - loss: 0.0733 - accuracy: 0.9712 - lr: 0.0501\n",
            "Epoch 56/100\n",
            "25/25 [==============================] - 0s 2ms/step - loss: 0.1132 - accuracy: 0.9550 - lr: 0.0562\n",
            "Epoch 57/100\n",
            "25/25 [==============================] - 0s 2ms/step - loss: 0.1058 - accuracy: 0.9613 - lr: 0.0631\n",
            "Epoch 58/100\n",
            "25/25 [==============================] - 0s 2ms/step - loss: 0.0662 - accuracy: 0.9750 - lr: 0.0708\n",
            "Epoch 59/100\n",
            "25/25 [==============================] - 0s 2ms/step - loss: 0.1864 - accuracy: 0.9287 - lr: 0.0794\n",
            "Epoch 60/100\n",
            "25/25 [==============================] - 0s 2ms/step - loss: 0.1902 - accuracy: 0.9250 - lr: 0.0891\n",
            "Epoch 61/100\n",
            "25/25 [==============================] - 0s 2ms/step - loss: 0.4318 - accuracy: 0.8537 - lr: 0.1000\n",
            "Epoch 62/100\n",
            "25/25 [==============================] - 0s 2ms/step - loss: 0.1858 - accuracy: 0.9712 - lr: 0.1122\n",
            "Epoch 63/100\n",
            "25/25 [==============================] - 0s 3ms/step - loss: 0.0636 - accuracy: 0.9900 - lr: 0.1259\n",
            "Epoch 64/100\n",
            "25/25 [==============================] - 0s 3ms/step - loss: 0.0872 - accuracy: 0.9638 - lr: 0.1413\n",
            "Epoch 65/100\n",
            "25/25 [==============================] - 0s 3ms/step - loss: 0.1467 - accuracy: 0.9463 - lr: 0.1585\n",
            "Epoch 66/100\n",
            "25/25 [==============================] - 0s 2ms/step - loss: 0.2095 - accuracy: 0.9125 - lr: 0.1778\n",
            "Epoch 67/100\n",
            "25/25 [==============================] - 0s 3ms/step - loss: 0.2509 - accuracy: 0.9150 - lr: 0.1995\n",
            "Epoch 68/100\n",
            "25/25 [==============================] - 0s 2ms/step - loss: 0.0715 - accuracy: 0.9800 - lr: 0.2239\n",
            "Epoch 69/100\n",
            "25/25 [==============================] - 0s 3ms/step - loss: 0.0796 - accuracy: 0.9750 - lr: 0.2512\n",
            "Epoch 70/100\n",
            "25/25 [==============================] - 0s 2ms/step - loss: 0.1187 - accuracy: 0.9538 - lr: 0.2818\n",
            "Epoch 71/100\n",
            "25/25 [==============================] - 0s 2ms/step - loss: 0.6672 - accuracy: 0.7950 - lr: 0.3162\n",
            "Epoch 72/100\n",
            "25/25 [==============================] - 0s 2ms/step - loss: 0.4341 - accuracy: 0.8050 - lr: 0.3548\n",
            "Epoch 73/100\n",
            "25/25 [==============================] - 0s 2ms/step - loss: 0.4319 - accuracy: 0.8075 - lr: 0.3981\n",
            "Epoch 74/100\n",
            "25/25 [==============================] - 0s 3ms/step - loss: 0.4243 - accuracy: 0.8100 - lr: 0.4467\n",
            "Epoch 75/100\n",
            "25/25 [==============================] - 0s 2ms/step - loss: 0.5505 - accuracy: 0.7088 - lr: 0.5012\n",
            "Epoch 76/100\n",
            "25/25 [==============================] - 0s 3ms/step - loss: 0.5599 - accuracy: 0.6950 - lr: 0.5623\n",
            "Epoch 77/100\n",
            "25/25 [==============================] - 0s 2ms/step - loss: 0.5421 - accuracy: 0.6775 - lr: 0.6310\n",
            "Epoch 78/100\n",
            "25/25 [==============================] - 0s 3ms/step - loss: 0.5457 - accuracy: 0.6850 - lr: 0.7079\n",
            "Epoch 79/100\n",
            "25/25 [==============================] - 0s 3ms/step - loss: 0.6479 - accuracy: 0.5962 - lr: 0.7943\n",
            "Epoch 80/100\n",
            "25/25 [==============================] - 0s 3ms/step - loss: 0.6578 - accuracy: 0.5213 - lr: 0.8913\n",
            "Epoch 81/100\n",
            "25/25 [==============================] - 0s 2ms/step - loss: 0.6719 - accuracy: 0.5462 - lr: 1.0000\n",
            "Epoch 82/100\n",
            "25/25 [==============================] - 0s 3ms/step - loss: 0.7027 - accuracy: 0.5663 - lr: 1.1220\n",
            "Epoch 83/100\n",
            "25/25 [==============================] - 0s 2ms/step - loss: 0.7354 - accuracy: 0.4762 - lr: 1.2589\n",
            "Epoch 84/100\n",
            "25/25 [==============================] - 0s 2ms/step - loss: 0.7083 - accuracy: 0.5088 - lr: 1.4125\n",
            "Epoch 85/100\n",
            "25/25 [==============================] - 0s 3ms/step - loss: 0.7265 - accuracy: 0.5038 - lr: 1.5849\n",
            "Epoch 86/100\n",
            "25/25 [==============================] - 0s 2ms/step - loss: 0.7746 - accuracy: 0.5038 - lr: 1.7783\n",
            "Epoch 87/100\n",
            "25/25 [==============================] - 0s 3ms/step - loss: 0.7676 - accuracy: 0.5063 - lr: 1.9953\n",
            "Epoch 88/100\n",
            "25/25 [==============================] - 0s 2ms/step - loss: 0.7573 - accuracy: 0.5163 - lr: 2.2387\n",
            "Epoch 89/100\n",
            "25/25 [==============================] - 0s 2ms/step - loss: 0.7573 - accuracy: 0.4963 - lr: 2.5119\n",
            "Epoch 90/100\n",
            "25/25 [==============================] - 0s 2ms/step - loss: 0.7830 - accuracy: 0.5238 - lr: 2.8184\n",
            "Epoch 91/100\n",
            "25/25 [==============================] - 0s 2ms/step - loss: 0.8093 - accuracy: 0.5213 - lr: 3.1623\n",
            "Epoch 92/100\n",
            "25/25 [==============================] - 0s 2ms/step - loss: 0.7359 - accuracy: 0.4888 - lr: 3.5481\n",
            "Epoch 93/100\n",
            "25/25 [==============================] - 0s 2ms/step - loss: 0.7422 - accuracy: 0.5063 - lr: 3.9811\n",
            "Epoch 94/100\n",
            "25/25 [==============================] - 0s 2ms/step - loss: 0.7596 - accuracy: 0.5063 - lr: 4.4668\n",
            "Epoch 95/100\n",
            "25/25 [==============================] - 0s 3ms/step - loss: 0.8232 - accuracy: 0.4863 - lr: 5.0119\n",
            "Epoch 96/100\n",
            "25/25 [==============================] - 0s 2ms/step - loss: 0.7861 - accuracy: 0.4613 - lr: 5.6234\n",
            "Epoch 97/100\n",
            "25/25 [==============================] - 0s 3ms/step - loss: 0.8075 - accuracy: 0.5013 - lr: 6.3096\n",
            "Epoch 98/100\n",
            "25/25 [==============================] - 0s 2ms/step - loss: 0.9649 - accuracy: 0.4963 - lr: 7.0795\n",
            "Epoch 99/100\n",
            "25/25 [==============================] - 0s 3ms/step - loss: 0.9713 - accuracy: 0.4913 - lr: 7.9433\n",
            "Epoch 100/100\n",
            "25/25 [==============================] - 0s 2ms/step - loss: 0.8583 - accuracy: 0.4613 - lr: 8.9125\n"
          ]
        }
      ]
    },
    {
      "cell_type": "code",
      "source": [
        "pd.DataFrame(history9.history).plot(figsize=(10, 7), xlabel=\"epochs\")"
      ],
      "metadata": {
        "colab": {
          "base_uri": "https://localhost:8080/",
          "height": 459
        },
        "id": "ifN2G4qrQA-h",
        "outputId": "0f8642a9-f857-4227-a0bd-22a5148553a2"
      },
      "execution_count": 103,
      "outputs": [
        {
          "output_type": "execute_result",
          "data": {
            "text/plain": [
              "<matplotlib.axes._subplots.AxesSubplot at 0x7f70658d5880>"
            ]
          },
          "metadata": {},
          "execution_count": 103
        },
        {
          "output_type": "display_data",
          "data": {
            "text/plain": [
              "<Figure size 720x504 with 1 Axes>"
            ],
            "image/png": "[encoded data removed]"
          },
          "metadata": {
            "needs_background": "light"
          }
        }
      ]
    },
    {
      "cell_type": "code",
      "source": [
        "# Plot the learning rate vs loss curve\n",
        "lrs = 1e-4 * (10 ** (tf.range(100)/20))\n",
        "plt.figure(figsize=(10, 7))\n",
        "plt.semilogx(lrs, history9.history[\"loss\"])\n",
        "plt.xlabel(\"learning rate\")\n",
        "plt.ylabel(\"loss\")\n",
        "plt.title(\"Learning rate vs. loss\")"
      ],
      "metadata": {
        "colab": {
          "base_uri": "https://localhost:8080/",
          "height": 479
        },
        "id": "K8AZL4PjSUwH",
        "outputId": "7de94944-f143-4aee-f018-b9cfdbdef384"
      },
      "execution_count": 104,
      "outputs": [
        {
          "output_type": "execute_result",
          "data": {
            "text/plain": [
              "Text(0.5, 1.0, 'Learning rate vs. loss')"
            ]
          },
          "metadata": {},
          "execution_count": 104
        },
        {
          "output_type": "display_data",
          "data": {
            "text/plain": [
              "<Figure size 720x504 with 1 Axes>"
            ],
            "image/png": "[encoded data removed]"
          },
          "metadata": {
            "needs_background": "light"
          }
        }
      ]
    },
    {
      "cell_type": "markdown",
      "source": [
        " Let's try creating new model with high learning rate"
      ],
      "metadata": {
        "id": "1RgRaFMoWeo9"
      }
    },
    {
      "cell_type": "code",
      "source": [
        "tf.random.set_seed(42)\n",
        "\n",
        "model10 = tf.keras.Sequential([\n",
        "    tf.keras.layers.Dense(4, activation=\"relu\"),\n",
        "    tf.keras.layers.Dense(4, activation=\"relu\"),\n",
        "    tf.keras.layers.Dense(1, activation=\"sigmoid\")\n",
        "])\n",
        "\n",
        "model10.compile(loss=\"binary_crossentropy\",\n",
        "                optimizer=tf.keras.optimizers.Adam(learning_rate=0.02),\n",
        "                metrics=\"accuracy\")\n",
        "\n",
        "model10.fit(X_train, y_train, epochs=25)"
      ],
      "metadata": {
        "colab": {
          "base_uri": "https://localhost:8080/"
        },
        "id": "OG3xIeHZaMqn",
        "outputId": "95ff5800-67e2-4638-c601-6ea0eea20e3c"
      },
      "execution_count": 105,
      "outputs": [
        {
          "output_type": "stream",
          "name": "stdout",
          "text": [
            "Epoch 1/25\n",
            "25/25 [==============================] - 1s 2ms/step - loss: 0.6837 - accuracy: 0.5600\n",
            "Epoch 2/25\n",
            "25/25 [==============================] - 0s 2ms/step - loss: 0.6744 - accuracy: 0.5750\n",
            "Epoch 3/25\n",
            "25/25 [==============================] - 0s 2ms/step - loss: 0.6626 - accuracy: 0.5875\n",
            "Epoch 4/25\n",
            "25/25 [==============================] - 0s 2ms/step - loss: 0.6332 - accuracy: 0.6388\n",
            "Epoch 5/25\n",
            "25/25 [==============================] - 0s 2ms/step - loss: 0.5830 - accuracy: 0.7563\n",
            "Epoch 6/25\n",
            "25/25 [==============================] - 0s 2ms/step - loss: 0.4907 - accuracy: 0.8313\n",
            "Epoch 7/25\n",
            "25/25 [==============================] - 0s 2ms/step - loss: 0.4251 - accuracy: 0.8450\n",
            "Epoch 8/25\n",
            "25/25 [==============================] - 0s 2ms/step - loss: 0.3596 - accuracy: 0.8875\n",
            "Epoch 9/25\n",
            "25/25 [==============================] - 0s 3ms/step - loss: 0.3152 - accuracy: 0.9100\n",
            "Epoch 10/25\n",
            "25/25 [==============================] - 0s 3ms/step - loss: 0.2512 - accuracy: 0.9500\n",
            "Epoch 11/25\n",
            "25/25 [==============================] - 0s 3ms/step - loss: 0.2152 - accuracy: 0.9500\n",
            "Epoch 12/25\n",
            "25/25 [==============================] - 0s 2ms/step - loss: 0.1721 - accuracy: 0.9750\n",
            "Epoch 13/25\n",
            "25/25 [==============================] - 0s 2ms/step - loss: 0.1443 - accuracy: 0.9837\n",
            "Epoch 14/25\n",
            "25/25 [==============================] - 0s 3ms/step - loss: 0.1232 - accuracy: 0.9862\n",
            "Epoch 15/25\n",
            "25/25 [==============================] - 0s 2ms/step - loss: 0.1085 - accuracy: 0.9850\n",
            "Epoch 16/25\n",
            "25/25 [==============================] - 0s 2ms/step - loss: 0.0940 - accuracy: 0.9937\n",
            "Epoch 17/25\n",
            "25/25 [==============================] - 0s 2ms/step - loss: 0.0827 - accuracy: 0.9962\n",
            "Epoch 18/25\n",
            "25/25 [==============================] - 0s 3ms/step - loss: 0.0798 - accuracy: 0.9937\n",
            "Epoch 19/25\n",
            "25/25 [==============================] - 0s 2ms/step - loss: 0.0845 - accuracy: 0.9875\n",
            "Epoch 20/25\n",
            "25/25 [==============================] - 0s 2ms/step - loss: 0.0790 - accuracy: 0.9887\n",
            "Epoch 21/25\n",
            "25/25 [==============================] - 0s 2ms/step - loss: 0.0569 - accuracy: 0.9962\n",
            "Epoch 22/25\n",
            "25/25 [==============================] - 0s 2ms/step - loss: 0.0644 - accuracy: 0.9875\n",
            "Epoch 23/25\n",
            "25/25 [==============================] - 0s 3ms/step - loss: 0.0606 - accuracy: 0.9887\n",
            "Epoch 24/25\n",
            "25/25 [==============================] - 0s 2ms/step - loss: 0.0616 - accuracy: 0.9850\n",
            "Epoch 25/25\n",
            "25/25 [==============================] - 0s 2ms/step - loss: 0.0590 - accuracy: 0.9900\n"
          ]
        },
        {
          "output_type": "execute_result",
          "data": {
            "text/plain": [
              "<keras.callbacks.History at 0x7f7062d8e700>"
            ]
          },
          "metadata": {},
          "execution_count": 105
        }
      ]
    },
    {
      "cell_type": "code",
      "source": [
        "model10.evaluate(X_test, y_test)"
      ],
      "metadata": {
        "colab": {
          "base_uri": "https://localhost:8080/"
        },
        "id": "zQNHKi1bavkt",
        "outputId": "94fa2bc7-d131-452a-a854-eccff9093076"
      },
      "execution_count": 106,
      "outputs": [
        {
          "output_type": "stream",
          "name": "stdout",
          "text": [
            "7/7 [==============================] - 0s 3ms/step - loss: 0.0463 - accuracy: 0.9900\n"
          ]
        },
        {
          "output_type": "execute_result",
          "data": {
            "text/plain": [
              "[0.046285729855298996, 0.9900000095367432]"
            ]
          },
          "metadata": {},
          "execution_count": 106
        }
      ]
    },
    {
      "cell_type": "code",
      "source": [
        "model8.evaluate(X_test, y_test)"
      ],
      "metadata": {
        "colab": {
          "base_uri": "https://localhost:8080/"
        },
        "id": "H4YmYYVEbxdd",
        "outputId": "30acb0d3-938a-488e-b9a4-118307e1d63d"
      },
      "execution_count": 107,
      "outputs": [
        {
          "output_type": "stream",
          "name": "stdout",
          "text": [
            "7/7 [==============================] - 0s 3ms/step - loss: 0.1247 - accuracy: 1.0000\n"
          ]
        },
        {
          "output_type": "execute_result",
          "data": {
            "text/plain": [
              "[0.12468848377466202, 1.0]"
            ]
          },
          "metadata": {},
          "execution_count": 107
        }
      ]
    },
    {
      "cell_type": "code",
      "source": [
        "plt.figure(figsize=(14, 6))\n",
        "plt.subplot(1, 2, 1)\n",
        "plt.title(\"train\")\n",
        "plot_decision_boundary(model=model10, X=X_train, y=y_train)\n",
        "plt.subplot(1, 2, 2)\n",
        "plt.title(\"test\")\n",
        "plot_decision_boundary(model=model10, X=X_test, y=y_test)\n",
        "plt.show()"
      ],
      "metadata": {
        "colab": {
          "base_uri": "https://localhost:8080/",
          "height": 459
        },
        "id": "eQL-qd7Mb2Wm",
        "outputId": "ce5fe1cc-b83c-46a2-f5e9-eddc360e8496"
      },
      "execution_count": 108,
      "outputs": [
        {
          "output_type": "stream",
          "name": "stdout",
          "text": [
            "313/313 [==============================] - 0s 1ms/step\n",
            "doing binary classification\n",
            "313/313 [==============================] - 1s 2ms/step\n",
            "doing binary classification\n"
          ]
        },
        {
          "output_type": "display_data",
          "data": {
            "text/plain": [
              "<Figure size 1008x432 with 2 Axes>"
            ],
            "image/png": "[encoded data removed]"
          },
          "metadata": {
            "needs_background": "light"
          }
        }
      ]
    },
    {
      "cell_type": "code",
      "source": [
        "loss, accuracy = model10.evaluate(X_test, y_test)\n",
        "print(f\"model loss on the test set: {loss}\")\n",
        "print(f\"model accuracy on the test set: {(accuracy*100):.2f}%\")"
      ],
      "metadata": {
        "colab": {
          "base_uri": "https://localhost:8080/"
        },
        "id": "PltiCIYVcqEC",
        "outputId": "b6130640-c15a-46b7-df5a-69cbd6d4c7d2"
      },
      "execution_count": 109,
      "outputs": [
        {
          "output_type": "stream",
          "name": "stdout",
          "text": [
            "7/7 [==============================] - 0s 3ms/step - loss: 0.0463 - accuracy: 0.9900\n",
            "model loss on the test set: 0.046285729855298996\n",
            "model accuracy on the test set: 99.00%\n"
          ]
        }
      ]
    },
    {
      "cell_type": "code",
      "source": [
        "# confusion matrix\n",
        "\n",
        "from sklearn.metrics import confusion_matrix\n",
        "\n",
        "y_pred = model10.predict(X_test)\n",
        "\n",
        "confusion_matrix(y_test, tf.round(y_pred))"
      ],
      "metadata": {
        "colab": {
          "base_uri": "https://localhost:8080/"
        },
        "id": "5zkZnpTFkES5",
        "outputId": "efc3c401-7b35-4b51-de01-fe72276b7472"
      },
      "execution_count": 113,
      "outputs": [
        {
          "output_type": "stream",
          "name": "stdout",
          "text": [
            "7/7 [==============================] - 0s 6ms/step\n"
          ]
        },
        {
          "output_type": "execute_result",
          "data": {
            "text/plain": [
              "array([[100,   1],\n",
              "       [  1,  98]])"
            ]
          },
          "metadata": {},
          "execution_count": 113
        }
      ]
    },
    {
      "cell_type": "code",
      "source": [],
      "metadata": {
        "id": "VMVQmG5R0OaT"
      },
      "execution_count": null,
      "outputs": []
    }
  ]
}