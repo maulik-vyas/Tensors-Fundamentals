{
  "nbformat": 4,
  "nbformat_minor": 0,
  "metadata": {
    "colab": {
      "provenance": [],
      "authorship_tag": "ABX9TyO8mEeNfLFhpTx10p52gpZK",
      "include_colab_link": true
    },
    "kernelspec": {
      "name": "python3",
      "display_name": "Python 3"
    },
    "language_info": {
      "name": "python"
    },
    "gpuClass": "standard",
    "accelerator": "GPU"
  },
  "cells": [
    {
      "cell_type": "markdown",
      "metadata": {
        "id": "view-in-github",
        "colab_type": "text"
      },
      "source": [
        "<a href=\"https://colab.research.google.com/github/maulik-vyas/Tensors-Fundamentals/blob/main/Transfer_Learning_Fine_Tuning.ipynb\" target=\"_parent\"><img src=\"https://colab.research.google.com/assets/colab-badge.svg\" alt=\"Open In Colab\"/></a>"
      ]
    },
    {
      "cell_type": "code",
      "execution_count": null,
      "metadata": {
        "colab": {
          "base_uri": "https://localhost:8080/"
        },
        "id": "Tup2LDy-XK5F",
        "outputId": "bb5e2099-f6b2-48c1-9277-255b4618351a"
      },
      "outputs": [
        {
          "output_type": "stream",
          "name": "stdout",
          "text": [
            "NVIDIA-SMI has failed because it couldn't communicate with the NVIDIA driver. Make sure that the latest NVIDIA driver is installed and running.\n",
            "\n"
          ]
        }
      ],
      "source": [
        "!nvidia-smi"
      ]
    },
    {
      "cell_type": "code",
      "source": [
        "!wget https://raw.githubusercontent.com/mrdbourke/tensorflow-deep-learning/main/extras/helper_functions.py"
      ],
      "metadata": {
        "colab": {
          "base_uri": "https://localhost:8080/"
        },
        "id": "kPf-3pJvXilC",
        "outputId": "155c8d2e-aefd-4619-e55c-6e8a46286264"
      },
      "execution_count": null,
      "outputs": [
        {
          "output_type": "stream",
          "name": "stdout",
          "text": [
            "--2023-03-23 22:16:14--  https://raw.githubusercontent.com/mrdbourke/tensorflow-deep-learning/main/extras/helper_functions.py\n",
            "Resolving raw.githubusercontent.com (raw.githubusercontent.com)... 185.199.111.133, 185.199.109.133, 185.199.108.133, ...\n",
            "Connecting to raw.githubusercontent.com (raw.githubusercontent.com)|185.199.111.133|:443... connected.\n",
            "HTTP request sent, awaiting response... 200 OK\n",
            "Length: 10246 (10K) [text/plain]\n",
            "Saving to: ‘helper_functions.py’\n",
            "\n",
            "\rhelper_functions.py   0%[                    ]       0  --.-KB/s               \rhelper_functions.py 100%[===================>]  10.01K  --.-KB/s    in 0.001s  \n",
            "\n",
            "2023-03-23 22:16:14 (18.8 MB/s) - ‘helper_functions.py’ saved [10246/10246]\n",
            "\n"
          ]
        }
      ]
    },
    {
      "cell_type": "code",
      "source": [
        "from helper_functions import create_tensorboard_callback, plot_loss_curves, walk_through_dir, unzip_data"
      ],
      "metadata": {
        "id": "Ny_iS0dzijtU"
      },
      "execution_count": null,
      "outputs": []
    },
    {
      "cell_type": "code",
      "source": [
        "!wget https://storage.googleapis.com/ztm_tf_course/food_vision/10_food_classes_10_percent.zip"
      ],
      "metadata": {
        "colab": {
          "base_uri": "https://localhost:8080/"
        },
        "id": "rXo_vKXyjZqy",
        "outputId": "6b8f7d3b-5daa-4bb6-eaf2-e282c15757b5"
      },
      "execution_count": null,
      "outputs": [
        {
          "output_type": "stream",
          "name": "stdout",
          "text": [
            "--2023-03-23 22:19:23--  https://storage.googleapis.com/ztm_tf_course/food_vision/10_food_classes_10_percent.zip\n",
            "Resolving storage.googleapis.com (storage.googleapis.com)... 74.125.68.128, 74.125.24.128, 142.250.4.128, ...\n",
            "Connecting to storage.googleapis.com (storage.googleapis.com)|74.125.68.128|:443... connected.\n",
            "HTTP request sent, awaiting response... 200 OK\n",
            "Length: 168546183 (161M) [application/zip]\n",
            "Saving to: ‘10_food_classes_10_percent.zip’\n",
            "\n",
            "10_food_classes_10_ 100%[===================>] 160.74M  22.3MB/s    in 8.0s    \n",
            "\n",
            "2023-03-23 22:19:32 (20.1 MB/s) - ‘10_food_classes_10_percent.zip’ saved [168546183/168546183]\n",
            "\n"
          ]
        }
      ]
    },
    {
      "cell_type": "code",
      "source": [
        "unzip_data(\"10_food_classes_10_percent.zip\")"
      ],
      "metadata": {
        "id": "wnixxl6zlidQ"
      },
      "execution_count": null,
      "outputs": []
    },
    {
      "cell_type": "code",
      "source": [
        "walk_through_dir(\"10_food_classes_10_percent\")"
      ],
      "metadata": {
        "colab": {
          "base_uri": "https://localhost:8080/"
        },
        "id": "9q3bFSe_ltRB",
        "outputId": "ec90bd3b-c947-43ae-b656-8e6116cfc5e6"
      },
      "execution_count": null,
      "outputs": [
        {
          "output_type": "stream",
          "name": "stdout",
          "text": [
            "There are 2 directories and 0 images in '10_food_classes_10_percent'.\n",
            "There are 10 directories and 0 images in '10_food_classes_10_percent/test'.\n",
            "There are 0 directories and 250 images in '10_food_classes_10_percent/test/ice_cream'.\n",
            "There are 0 directories and 250 images in '10_food_classes_10_percent/test/grilled_salmon'.\n",
            "There are 0 directories and 250 images in '10_food_classes_10_percent/test/fried_rice'.\n",
            "There are 0 directories and 250 images in '10_food_classes_10_percent/test/chicken_curry'.\n",
            "There are 0 directories and 250 images in '10_food_classes_10_percent/test/hamburger'.\n",
            "There are 0 directories and 250 images in '10_food_classes_10_percent/test/sushi'.\n",
            "There are 0 directories and 250 images in '10_food_classes_10_percent/test/chicken_wings'.\n",
            "There are 0 directories and 250 images in '10_food_classes_10_percent/test/steak'.\n",
            "There are 0 directories and 250 images in '10_food_classes_10_percent/test/pizza'.\n",
            "There are 0 directories and 250 images in '10_food_classes_10_percent/test/ramen'.\n",
            "There are 10 directories and 0 images in '10_food_classes_10_percent/train'.\n",
            "There are 0 directories and 75 images in '10_food_classes_10_percent/train/ice_cream'.\n",
            "There are 0 directories and 75 images in '10_food_classes_10_percent/train/grilled_salmon'.\n",
            "There are 0 directories and 75 images in '10_food_classes_10_percent/train/fried_rice'.\n",
            "There are 0 directories and 75 images in '10_food_classes_10_percent/train/chicken_curry'.\n",
            "There are 0 directories and 75 images in '10_food_classes_10_percent/train/hamburger'.\n",
            "There are 0 directories and 75 images in '10_food_classes_10_percent/train/sushi'.\n",
            "There are 0 directories and 75 images in '10_food_classes_10_percent/train/chicken_wings'.\n",
            "There are 0 directories and 75 images in '10_food_classes_10_percent/train/steak'.\n",
            "There are 0 directories and 75 images in '10_food_classes_10_percent/train/pizza'.\n",
            "There are 0 directories and 75 images in '10_food_classes_10_percent/train/ramen'.\n"
          ]
        }
      ]
    },
    {
      "cell_type": "code",
      "source": [
        "train_dir = \"10_food_classes_10_percent/train/\"\n",
        "test_dir = \"10_food_classes_10_percent/test/\""
      ],
      "metadata": {
        "id": "UkiKJ8yPl-7K"
      },
      "execution_count": null,
      "outputs": []
    },
    {
      "cell_type": "code",
      "source": [
        "import tensorflow as tf\n",
        "\n",
        "IMAGE_SIZE = (224, 224)\n",
        "BATCH_SIZE = 32\n",
        "\n",
        "train_data_10_percent = tf.keras.preprocessing.image_dataset_from_directory(directory=train_dir,\n",
        "                                                                 image_size=IMAGE_SIZE,\n",
        "                                                                 batch_size=BATCH_SIZE,\n",
        "                                                                 label_mode=\"categorical\"\n",
        "                                                                 )\n",
        "\n",
        "test_data = tf.keras.preprocessing.image_dataset_from_directory(directory=test_dir,\n",
        "                                                                           image_size=IMAGE_SIZE,\n",
        "                                                                           batch_size=BATCH_SIZE,\n",
        "                                                                           label_mode=\"categorical\"\n",
        "                                                                           )"
      ],
      "metadata": {
        "colab": {
          "base_uri": "https://localhost:8080/"
        },
        "id": "BoChqNBGm7II",
        "outputId": "998cb052-cd5d-4573-9f7e-ca409d101f31"
      },
      "execution_count": null,
      "outputs": [
        {
          "output_type": "stream",
          "name": "stdout",
          "text": [
            "Found 750 files belonging to 10 classes.\n",
            "Found 2500 files belonging to 10 classes.\n"
          ]
        }
      ]
    },
    {
      "cell_type": "code",
      "source": [
        "train_data_10_percent"
      ],
      "metadata": {
        "colab": {
          "base_uri": "https://localhost:8080/"
        },
        "id": "q7HzWywXpQfw",
        "outputId": "0b540052-0e56-492d-89f2-1419eb133f2e"
      },
      "execution_count": null,
      "outputs": [
        {
          "output_type": "execute_result",
          "data": {
            "text/plain": [
              "<BatchDataset element_spec=(TensorSpec(shape=(None, 224, 224, 3), dtype=tf.float32, name=None), TensorSpec(shape=(None, 10), dtype=tf.float32, name=None))>"
            ]
          },
          "metadata": {},
          "execution_count": 13
        }
      ]
    },
    {
      "cell_type": "code",
      "source": [
        "train_data_10_percent.class_names"
      ],
      "metadata": {
        "colab": {
          "base_uri": "https://localhost:8080/"
        },
        "id": "9H25LLPipmzk",
        "outputId": "4168b3a7-e066-4d72-a17d-de2b51438376"
      },
      "execution_count": null,
      "outputs": [
        {
          "output_type": "execute_result",
          "data": {
            "text/plain": [
              "['chicken_curry',\n",
              " 'chicken_wings',\n",
              " 'fried_rice',\n",
              " 'grilled_salmon',\n",
              " 'hamburger',\n",
              " 'ice_cream',\n",
              " 'pizza',\n",
              " 'ramen',\n",
              " 'steak',\n",
              " 'sushi']"
            ]
          },
          "metadata": {},
          "execution_count": 14
        }
      ]
    },
    {
      "cell_type": "code",
      "source": [
        "base_model = tf.keras.applications.EfficientNetB0(include_top=False)\n",
        "base_model.trainable = False\n",
        "\n",
        "inputs = tf.keras.layers.Input(shape=(224, 224, 3), name=\"input_layer\")\n",
        "\n",
        "x = base_model(inputs)\n",
        "print(f\"Shape of the model after passing the input: {x.shape}\")\n",
        "\n",
        "x = tf.keras.layers.GlobalAveragePooling2D(name=\"global_average_pooling_layer\")(x)\n",
        "print(f\"Shape after Global Average Pooling: {x.shape}\")\n",
        "\n",
        "outputs = tf.keras.layers.Dense(10, activation=\"softmax\", name=\"output_layer\")(x)\n",
        "\n",
        "model_0 = tf.keras.Model(inputs, outputs)\n",
        "\n",
        "model_0.compile(loss=\"categorical_crossentropy\",\n",
        "                optimizer=tf.keras.optimizers.Adam(),\n",
        "                metrics=[\"accuracy\"])\n",
        "\n",
        "history_0 = model_0.fit(train_data_10_percent,\n",
        "                        epochs=5,\n",
        "                        steps_per_epoch=len(train_data_10_percent),\n",
        "                        validation_data=test_data,\n",
        "                        validation_steps=len(test_data),\n",
        "                        callbacks=[create_tensorboard_callback(dir_name=\"transfer_learning\",\n",
        "                                                               experiment_name=\"10_percent_feature_extraction\")])"
      ],
      "metadata": {
        "colab": {
          "base_uri": "https://localhost:8080/"
        },
        "id": "-cG0Kg4VqPlH",
        "outputId": "9b58a2b2-e37d-4275-a8a2-4fb240d83e32"
      },
      "execution_count": null,
      "outputs": [
        {
          "output_type": "stream",
          "name": "stdout",
          "text": [
            "Downloading data from https://storage.googleapis.com/keras-applications/efficientnetb0_notop.h5\n",
            "16705208/16705208 [==============================] - 2s 0us/step\n"
          ]
        },
        {
          "output_type": "stream",
          "name": "stderr",
          "text": [
            "WARNING:tensorflow:Model failed to serialize as JSON. Ignoring... Unable to serialize [2.0896919 2.1128857 2.1081853] to JSON. Unrecognized type <class 'tensorflow.python.framework.ops.EagerTensor'>.\n"
          ]
        },
        {
          "output_type": "stream",
          "name": "stdout",
          "text": [
            "Shape of the model after passing the input: (None, 7, 7, 1280)\n",
            "Shape after Global Average Pooling: (None, 1280)\n",
            "Saving TensorBoard log files to: transfer_learning/10_percent_feature_extraction/20230323-221956\n",
            "Epoch 1/5\n",
            "24/24 [==============================] - 25s 436ms/step - loss: 1.9051 - accuracy: 0.4333 - val_loss: 1.3055 - val_accuracy: 0.7296\n",
            "Epoch 2/5\n",
            "24/24 [==============================] - 8s 330ms/step - loss: 1.1094 - accuracy: 0.7720 - val_loss: 0.8757 - val_accuracy: 0.8160\n",
            "Epoch 3/5\n",
            "24/24 [==============================] - 8s 338ms/step - loss: 0.7947 - accuracy: 0.8253 - val_loss: 0.7000 - val_accuracy: 0.8388\n",
            "Epoch 4/5\n",
            "24/24 [==============================] - 7s 291ms/step - loss: 0.6436 - accuracy: 0.8627 - val_loss: 0.6142 - val_accuracy: 0.8476\n",
            "Epoch 5/5\n",
            "24/24 [==============================] - 7s 295ms/step - loss: 0.5526 - accuracy: 0.8867 - val_loss: 0.5574 - val_accuracy: 0.8576\n"
          ]
        }
      ]
    },
    {
      "cell_type": "code",
      "source": [
        "model_0.evaluate(test_data)"
      ],
      "metadata": {
        "colab": {
          "base_uri": "https://localhost:8080/"
        },
        "id": "SQ7oc0y750QC",
        "outputId": "3a3c752f-2785-4dc1-973c-e2ff268b41b2"
      },
      "execution_count": null,
      "outputs": [
        {
          "output_type": "stream",
          "name": "stdout",
          "text": [
            "79/79 [==============================] - 7s 76ms/step - loss: 0.5574 - accuracy: 0.8576\n"
          ]
        },
        {
          "output_type": "execute_result",
          "data": {
            "text/plain": [
              "[0.5573620796203613, 0.8575999736785889]"
            ]
          },
          "metadata": {},
          "execution_count": 16
        }
      ]
    },
    {
      "cell_type": "code",
      "source": [
        "for layer_number, layer in enumerate(base_model.layers):\n",
        "  print(layer_number, layer.name)"
      ],
      "metadata": {
        "colab": {
          "base_uri": "https://localhost:8080/"
        },
        "id": "4MvjhUQN7UH9",
        "outputId": "9557468e-3a6a-44e8-d4a8-07c9d60e86bb"
      },
      "execution_count": null,
      "outputs": [
        {
          "output_type": "stream",
          "name": "stdout",
          "text": [
            "0 input_1\n",
            "1 rescaling\n",
            "2 normalization\n",
            "3 rescaling_1\n",
            "4 stem_conv_pad\n",
            "5 stem_conv\n",
            "6 stem_bn\n",
            "7 stem_activation\n",
            "8 block1a_dwconv\n",
            "9 block1a_bn\n",
            "10 block1a_activation\n",
            "11 block1a_se_squeeze\n",
            "12 block1a_se_reshape\n",
            "13 block1a_se_reduce\n",
            "14 block1a_se_expand\n",
            "15 block1a_se_excite\n",
            "16 block1a_project_conv\n",
            "17 block1a_project_bn\n",
            "18 block2a_expand_conv\n",
            "19 block2a_expand_bn\n",
            "20 block2a_expand_activation\n",
            "21 block2a_dwconv_pad\n",
            "22 block2a_dwconv\n",
            "23 block2a_bn\n",
            "24 block2a_activation\n",
            "25 block2a_se_squeeze\n",
            "26 block2a_se_reshape\n",
            "27 block2a_se_reduce\n",
            "28 block2a_se_expand\n",
            "29 block2a_se_excite\n",
            "30 block2a_project_conv\n",
            "31 block2a_project_bn\n",
            "32 block2b_expand_conv\n",
            "33 block2b_expand_bn\n",
            "34 block2b_expand_activation\n",
            "35 block2b_dwconv\n",
            "36 block2b_bn\n",
            "37 block2b_activation\n",
            "38 block2b_se_squeeze\n",
            "39 block2b_se_reshape\n",
            "40 block2b_se_reduce\n",
            "41 block2b_se_expand\n",
            "42 block2b_se_excite\n",
            "43 block2b_project_conv\n",
            "44 block2b_project_bn\n",
            "45 block2b_drop\n",
            "46 block2b_add\n",
            "47 block3a_expand_conv\n",
            "48 block3a_expand_bn\n",
            "49 block3a_expand_activation\n",
            "50 block3a_dwconv_pad\n",
            "51 block3a_dwconv\n",
            "52 block3a_bn\n",
            "53 block3a_activation\n",
            "54 block3a_se_squeeze\n",
            "55 block3a_se_reshape\n",
            "56 block3a_se_reduce\n",
            "57 block3a_se_expand\n",
            "58 block3a_se_excite\n",
            "59 block3a_project_conv\n",
            "60 block3a_project_bn\n",
            "61 block3b_expand_conv\n",
            "62 block3b_expand_bn\n",
            "63 block3b_expand_activation\n",
            "64 block3b_dwconv\n",
            "65 block3b_bn\n",
            "66 block3b_activation\n",
            "67 block3b_se_squeeze\n",
            "68 block3b_se_reshape\n",
            "69 block3b_se_reduce\n",
            "70 block3b_se_expand\n",
            "71 block3b_se_excite\n",
            "72 block3b_project_conv\n",
            "73 block3b_project_bn\n",
            "74 block3b_drop\n",
            "75 block3b_add\n",
            "76 block4a_expand_conv\n",
            "77 block4a_expand_bn\n",
            "78 block4a_expand_activation\n",
            "79 block4a_dwconv_pad\n",
            "80 block4a_dwconv\n",
            "81 block4a_bn\n",
            "82 block4a_activation\n",
            "83 block4a_se_squeeze\n",
            "84 block4a_se_reshape\n",
            "85 block4a_se_reduce\n",
            "86 block4a_se_expand\n",
            "87 block4a_se_excite\n",
            "88 block4a_project_conv\n",
            "89 block4a_project_bn\n",
            "90 block4b_expand_conv\n",
            "91 block4b_expand_bn\n",
            "92 block4b_expand_activation\n",
            "93 block4b_dwconv\n",
            "94 block4b_bn\n",
            "95 block4b_activation\n",
            "96 block4b_se_squeeze\n",
            "97 block4b_se_reshape\n",
            "98 block4b_se_reduce\n",
            "99 block4b_se_expand\n",
            "100 block4b_se_excite\n",
            "101 block4b_project_conv\n",
            "102 block4b_project_bn\n",
            "103 block4b_drop\n",
            "104 block4b_add\n",
            "105 block4c_expand_conv\n",
            "106 block4c_expand_bn\n",
            "107 block4c_expand_activation\n",
            "108 block4c_dwconv\n",
            "109 block4c_bn\n",
            "110 block4c_activation\n",
            "111 block4c_se_squeeze\n",
            "112 block4c_se_reshape\n",
            "113 block4c_se_reduce\n",
            "114 block4c_se_expand\n",
            "115 block4c_se_excite\n",
            "116 block4c_project_conv\n",
            "117 block4c_project_bn\n",
            "118 block4c_drop\n",
            "119 block4c_add\n",
            "120 block5a_expand_conv\n",
            "121 block5a_expand_bn\n",
            "122 block5a_expand_activation\n",
            "123 block5a_dwconv\n",
            "124 block5a_bn\n",
            "125 block5a_activation\n",
            "126 block5a_se_squeeze\n",
            "127 block5a_se_reshape\n",
            "128 block5a_se_reduce\n",
            "129 block5a_se_expand\n",
            "130 block5a_se_excite\n",
            "131 block5a_project_conv\n",
            "132 block5a_project_bn\n",
            "133 block5b_expand_conv\n",
            "134 block5b_expand_bn\n",
            "135 block5b_expand_activation\n",
            "136 block5b_dwconv\n",
            "137 block5b_bn\n",
            "138 block5b_activation\n",
            "139 block5b_se_squeeze\n",
            "140 block5b_se_reshape\n",
            "141 block5b_se_reduce\n",
            "142 block5b_se_expand\n",
            "143 block5b_se_excite\n",
            "144 block5b_project_conv\n",
            "145 block5b_project_bn\n",
            "146 block5b_drop\n",
            "147 block5b_add\n",
            "148 block5c_expand_conv\n",
            "149 block5c_expand_bn\n",
            "150 block5c_expand_activation\n",
            "151 block5c_dwconv\n",
            "152 block5c_bn\n",
            "153 block5c_activation\n",
            "154 block5c_se_squeeze\n",
            "155 block5c_se_reshape\n",
            "156 block5c_se_reduce\n",
            "157 block5c_se_expand\n",
            "158 block5c_se_excite\n",
            "159 block5c_project_conv\n",
            "160 block5c_project_bn\n",
            "161 block5c_drop\n",
            "162 block5c_add\n",
            "163 block6a_expand_conv\n",
            "164 block6a_expand_bn\n",
            "165 block6a_expand_activation\n",
            "166 block6a_dwconv_pad\n",
            "167 block6a_dwconv\n",
            "168 block6a_bn\n",
            "169 block6a_activation\n",
            "170 block6a_se_squeeze\n",
            "171 block6a_se_reshape\n",
            "172 block6a_se_reduce\n",
            "173 block6a_se_expand\n",
            "174 block6a_se_excite\n",
            "175 block6a_project_conv\n",
            "176 block6a_project_bn\n",
            "177 block6b_expand_conv\n",
            "178 block6b_expand_bn\n",
            "179 block6b_expand_activation\n",
            "180 block6b_dwconv\n",
            "181 block6b_bn\n",
            "182 block6b_activation\n",
            "183 block6b_se_squeeze\n",
            "184 block6b_se_reshape\n",
            "185 block6b_se_reduce\n",
            "186 block6b_se_expand\n",
            "187 block6b_se_excite\n",
            "188 block6b_project_conv\n",
            "189 block6b_project_bn\n",
            "190 block6b_drop\n",
            "191 block6b_add\n",
            "192 block6c_expand_conv\n",
            "193 block6c_expand_bn\n",
            "194 block6c_expand_activation\n",
            "195 block6c_dwconv\n",
            "196 block6c_bn\n",
            "197 block6c_activation\n",
            "198 block6c_se_squeeze\n",
            "199 block6c_se_reshape\n",
            "200 block6c_se_reduce\n",
            "201 block6c_se_expand\n",
            "202 block6c_se_excite\n",
            "203 block6c_project_conv\n",
            "204 block6c_project_bn\n",
            "205 block6c_drop\n",
            "206 block6c_add\n",
            "207 block6d_expand_conv\n",
            "208 block6d_expand_bn\n",
            "209 block6d_expand_activation\n",
            "210 block6d_dwconv\n",
            "211 block6d_bn\n",
            "212 block6d_activation\n",
            "213 block6d_se_squeeze\n",
            "214 block6d_se_reshape\n",
            "215 block6d_se_reduce\n",
            "216 block6d_se_expand\n",
            "217 block6d_se_excite\n",
            "218 block6d_project_conv\n",
            "219 block6d_project_bn\n",
            "220 block6d_drop\n",
            "221 block6d_add\n",
            "222 block7a_expand_conv\n",
            "223 block7a_expand_bn\n",
            "224 block7a_expand_activation\n",
            "225 block7a_dwconv\n",
            "226 block7a_bn\n",
            "227 block7a_activation\n",
            "228 block7a_se_squeeze\n",
            "229 block7a_se_reshape\n",
            "230 block7a_se_reduce\n",
            "231 block7a_se_expand\n",
            "232 block7a_se_excite\n",
            "233 block7a_project_conv\n",
            "234 block7a_project_bn\n",
            "235 top_conv\n",
            "236 top_bn\n",
            "237 top_activation\n"
          ]
        }
      ]
    },
    {
      "cell_type": "code",
      "source": [
        "len(base_model.layers)"
      ],
      "metadata": {
        "colab": {
          "base_uri": "https://localhost:8080/"
        },
        "id": "CeU1TYtU726R",
        "outputId": "a972811d-4067-44c3-91da-a26343709796"
      },
      "execution_count": null,
      "outputs": [
        {
          "output_type": "execute_result",
          "data": {
            "text/plain": [
              "238"
            ]
          },
          "metadata": {},
          "execution_count": 18
        }
      ]
    },
    {
      "cell_type": "code",
      "source": [
        "len(model_0.layers)"
      ],
      "metadata": {
        "colab": {
          "base_uri": "https://localhost:8080/"
        },
        "id": "x5giveJ88EcW",
        "outputId": "a545f220-2238-4d67-e273-71df7622e24d"
      },
      "execution_count": null,
      "outputs": [
        {
          "output_type": "execute_result",
          "data": {
            "text/plain": [
              "4"
            ]
          },
          "metadata": {},
          "execution_count": 19
        }
      ]
    },
    {
      "cell_type": "code",
      "source": [
        "base_model.summary()"
      ],
      "metadata": {
        "colab": {
          "base_uri": "https://localhost:8080/"
        },
        "id": "AwawPh0D9cqz",
        "outputId": "45950936-be77-4538-8456-b868af2d93e1"
      },
      "execution_count": null,
      "outputs": [
        {
          "output_type": "stream",
          "name": "stdout",
          "text": [
            "Model: \"efficientnetb0\"\n",
            "__________________________________________________________________________________________________\n",
            " Layer (type)                   Output Shape         Param #     Connected to                     \n",
            "==================================================================================================\n",
            " input_1 (InputLayer)           [(None, None, None,  0           []                               \n",
            "                                 3)]                                                              \n",
            "                                                                                                  \n",
            " rescaling (Rescaling)          (None, None, None,   0           ['input_1[0][0]']                \n",
            "                                3)                                                                \n",
            "                                                                                                  \n",
            " normalization (Normalization)  (None, None, None,   7           ['rescaling[0][0]']              \n",
            "                                3)                                                                \n",
            "                                                                                                  \n",
            " rescaling_1 (Rescaling)        (None, None, None,   0           ['normalization[0][0]']          \n",
            "                                3)                                                                \n",
            "                                                                                                  \n",
            " stem_conv_pad (ZeroPadding2D)  (None, None, None,   0           ['rescaling_1[0][0]']            \n",
            "                                3)                                                                \n",
            "                                                                                                  \n",
            " stem_conv (Conv2D)             (None, None, None,   864         ['stem_conv_pad[0][0]']          \n",
            "                                32)                                                               \n",
            "                                                                                                  \n",
            " stem_bn (BatchNormalization)   (None, None, None,   128         ['stem_conv[0][0]']              \n",
            "                                32)                                                               \n",
            "                                                                                                  \n",
            " stem_activation (Activation)   (None, None, None,   0           ['stem_bn[0][0]']                \n",
            "                                32)                                                               \n",
            "                                                                                                  \n",
            " block1a_dwconv (DepthwiseConv2  (None, None, None,   288        ['stem_activation[0][0]']        \n",
            " D)                             32)                                                               \n",
            "                                                                                                  \n",
            " block1a_bn (BatchNormalization  (None, None, None,   128        ['block1a_dwconv[0][0]']         \n",
            " )                              32)                                                               \n",
            "                                                                                                  \n",
            " block1a_activation (Activation  (None, None, None,   0          ['block1a_bn[0][0]']             \n",
            " )                              32)                                                               \n",
            "                                                                                                  \n",
            " block1a_se_squeeze (GlobalAver  (None, 32)          0           ['block1a_activation[0][0]']     \n",
            " agePooling2D)                                                                                    \n",
            "                                                                                                  \n",
            " block1a_se_reshape (Reshape)   (None, 1, 1, 32)     0           ['block1a_se_squeeze[0][0]']     \n",
            "                                                                                                  \n",
            " block1a_se_reduce (Conv2D)     (None, 1, 1, 8)      264         ['block1a_se_reshape[0][0]']     \n",
            "                                                                                                  \n",
            " block1a_se_expand (Conv2D)     (None, 1, 1, 32)     288         ['block1a_se_reduce[0][0]']      \n",
            "                                                                                                  \n",
            " block1a_se_excite (Multiply)   (None, None, None,   0           ['block1a_activation[0][0]',     \n",
            "                                32)                               'block1a_se_expand[0][0]']      \n",
            "                                                                                                  \n",
            " block1a_project_conv (Conv2D)  (None, None, None,   512         ['block1a_se_excite[0][0]']      \n",
            "                                16)                                                               \n",
            "                                                                                                  \n",
            " block1a_project_bn (BatchNorma  (None, None, None,   64         ['block1a_project_conv[0][0]']   \n",
            " lization)                      16)                                                               \n",
            "                                                                                                  \n",
            " block2a_expand_conv (Conv2D)   (None, None, None,   1536        ['block1a_project_bn[0][0]']     \n",
            "                                96)                                                               \n",
            "                                                                                                  \n",
            " block2a_expand_bn (BatchNormal  (None, None, None,   384        ['block2a_expand_conv[0][0]']    \n",
            " ization)                       96)                                                               \n",
            "                                                                                                  \n",
            " block2a_expand_activation (Act  (None, None, None,   0          ['block2a_expand_bn[0][0]']      \n",
            " ivation)                       96)                                                               \n",
            "                                                                                                  \n",
            " block2a_dwconv_pad (ZeroPaddin  (None, None, None,   0          ['block2a_expand_activation[0][0]\n",
            " g2D)                           96)                              ']                               \n",
            "                                                                                                  \n",
            " block2a_dwconv (DepthwiseConv2  (None, None, None,   864        ['block2a_dwconv_pad[0][0]']     \n",
            " D)                             96)                                                               \n",
            "                                                                                                  \n",
            " block2a_bn (BatchNormalization  (None, None, None,   384        ['block2a_dwconv[0][0]']         \n",
            " )                              96)                                                               \n",
            "                                                                                                  \n",
            " block2a_activation (Activation  (None, None, None,   0          ['block2a_bn[0][0]']             \n",
            " )                              96)                                                               \n",
            "                                                                                                  \n",
            " block2a_se_squeeze (GlobalAver  (None, 96)          0           ['block2a_activation[0][0]']     \n",
            " agePooling2D)                                                                                    \n",
            "                                                                                                  \n",
            " block2a_se_reshape (Reshape)   (None, 1, 1, 96)     0           ['block2a_se_squeeze[0][0]']     \n",
            "                                                                                                  \n",
            " block2a_se_reduce (Conv2D)     (None, 1, 1, 4)      388         ['block2a_se_reshape[0][0]']     \n",
            "                                                                                                  \n",
            " block2a_se_expand (Conv2D)     (None, 1, 1, 96)     480         ['block2a_se_reduce[0][0]']      \n",
            "                                                                                                  \n",
            " block2a_se_excite (Multiply)   (None, None, None,   0           ['block2a_activation[0][0]',     \n",
            "                                96)                               'block2a_se_expand[0][0]']      \n",
            "                                                                                                  \n",
            " block2a_project_conv (Conv2D)  (None, None, None,   2304        ['block2a_se_excite[0][0]']      \n",
            "                                24)                                                               \n",
            "                                                                                                  \n",
            " block2a_project_bn (BatchNorma  (None, None, None,   96         ['block2a_project_conv[0][0]']   \n",
            " lization)                      24)                                                               \n",
            "                                                                                                  \n",
            " block2b_expand_conv (Conv2D)   (None, None, None,   3456        ['block2a_project_bn[0][0]']     \n",
            "                                144)                                                              \n",
            "                                                                                                  \n",
            " block2b_expand_bn (BatchNormal  (None, None, None,   576        ['block2b_expand_conv[0][0]']    \n",
            " ization)                       144)                                                              \n",
            "                                                                                                  \n",
            " block2b_expand_activation (Act  (None, None, None,   0          ['block2b_expand_bn[0][0]']      \n",
            " ivation)                       144)                                                              \n",
            "                                                                                                  \n",
            " block2b_dwconv (DepthwiseConv2  (None, None, None,   1296       ['block2b_expand_activation[0][0]\n",
            " D)                             144)                             ']                               \n",
            "                                                                                                  \n",
            " block2b_bn (BatchNormalization  (None, None, None,   576        ['block2b_dwconv[0][0]']         \n",
            " )                              144)                                                              \n",
            "                                                                                                  \n",
            " block2b_activation (Activation  (None, None, None,   0          ['block2b_bn[0][0]']             \n",
            " )                              144)                                                              \n",
            "                                                                                                  \n",
            " block2b_se_squeeze (GlobalAver  (None, 144)         0           ['block2b_activation[0][0]']     \n",
            " agePooling2D)                                                                                    \n",
            "                                                                                                  \n",
            " block2b_se_reshape (Reshape)   (None, 1, 1, 144)    0           ['block2b_se_squeeze[0][0]']     \n",
            "                                                                                                  \n",
            " block2b_se_reduce (Conv2D)     (None, 1, 1, 6)      870         ['block2b_se_reshape[0][0]']     \n",
            "                                                                                                  \n",
            " block2b_se_expand (Conv2D)     (None, 1, 1, 144)    1008        ['block2b_se_reduce[0][0]']      \n",
            "                                                                                                  \n",
            " block2b_se_excite (Multiply)   (None, None, None,   0           ['block2b_activation[0][0]',     \n",
            "                                144)                              'block2b_se_expand[0][0]']      \n",
            "                                                                                                  \n",
            " block2b_project_conv (Conv2D)  (None, None, None,   3456        ['block2b_se_excite[0][0]']      \n",
            "                                24)                                                               \n",
            "                                                                                                  \n",
            " block2b_project_bn (BatchNorma  (None, None, None,   96         ['block2b_project_conv[0][0]']   \n",
            " lization)                      24)                                                               \n",
            "                                                                                                  \n",
            " block2b_drop (Dropout)         (None, None, None,   0           ['block2b_project_bn[0][0]']     \n",
            "                                24)                                                               \n",
            "                                                                                                  \n",
            " block2b_add (Add)              (None, None, None,   0           ['block2b_drop[0][0]',           \n",
            "                                24)                               'block2a_project_bn[0][0]']     \n",
            "                                                                                                  \n",
            " block3a_expand_conv (Conv2D)   (None, None, None,   3456        ['block2b_add[0][0]']            \n",
            "                                144)                                                              \n",
            "                                                                                                  \n",
            " block3a_expand_bn (BatchNormal  (None, None, None,   576        ['block3a_expand_conv[0][0]']    \n",
            " ization)                       144)                                                              \n",
            "                                                                                                  \n",
            " block3a_expand_activation (Act  (None, None, None,   0          ['block3a_expand_bn[0][0]']      \n",
            " ivation)                       144)                                                              \n",
            "                                                                                                  \n",
            " block3a_dwconv_pad (ZeroPaddin  (None, None, None,   0          ['block3a_expand_activation[0][0]\n",
            " g2D)                           144)                             ']                               \n",
            "                                                                                                  \n",
            " block3a_dwconv (DepthwiseConv2  (None, None, None,   3600       ['block3a_dwconv_pad[0][0]']     \n",
            " D)                             144)                                                              \n",
            "                                                                                                  \n",
            " block3a_bn (BatchNormalization  (None, None, None,   576        ['block3a_dwconv[0][0]']         \n",
            " )                              144)                                                              \n",
            "                                                                                                  \n",
            " block3a_activation (Activation  (None, None, None,   0          ['block3a_bn[0][0]']             \n",
            " )                              144)                                                              \n",
            "                                                                                                  \n",
            " block3a_se_squeeze (GlobalAver  (None, 144)         0           ['block3a_activation[0][0]']     \n",
            " agePooling2D)                                                                                    \n",
            "                                                                                                  \n",
            " block3a_se_reshape (Reshape)   (None, 1, 1, 144)    0           ['block3a_se_squeeze[0][0]']     \n",
            "                                                                                                  \n",
            " block3a_se_reduce (Conv2D)     (None, 1, 1, 6)      870         ['block3a_se_reshape[0][0]']     \n",
            "                                                                                                  \n",
            " block3a_se_expand (Conv2D)     (None, 1, 1, 144)    1008        ['block3a_se_reduce[0][0]']      \n",
            "                                                                                                  \n",
            " block3a_se_excite (Multiply)   (None, None, None,   0           ['block3a_activation[0][0]',     \n",
            "                                144)                              'block3a_se_expand[0][0]']      \n",
            "                                                                                                  \n",
            " block3a_project_conv (Conv2D)  (None, None, None,   5760        ['block3a_se_excite[0][0]']      \n",
            "                                40)                                                               \n",
            "                                                                                                  \n",
            " block3a_project_bn (BatchNorma  (None, None, None,   160        ['block3a_project_conv[0][0]']   \n",
            " lization)                      40)                                                               \n",
            "                                                                                                  \n",
            " block3b_expand_conv (Conv2D)   (None, None, None,   9600        ['block3a_project_bn[0][0]']     \n",
            "                                240)                                                              \n",
            "                                                                                                  \n",
            " block3b_expand_bn (BatchNormal  (None, None, None,   960        ['block3b_expand_conv[0][0]']    \n",
            " ization)                       240)                                                              \n",
            "                                                                                                  \n",
            " block3b_expand_activation (Act  (None, None, None,   0          ['block3b_expand_bn[0][0]']      \n",
            " ivation)                       240)                                                              \n",
            "                                                                                                  \n",
            " block3b_dwconv (DepthwiseConv2  (None, None, None,   6000       ['block3b_expand_activation[0][0]\n",
            " D)                             240)                             ']                               \n",
            "                                                                                                  \n",
            " block3b_bn (BatchNormalization  (None, None, None,   960        ['block3b_dwconv[0][0]']         \n",
            " )                              240)                                                              \n",
            "                                                                                                  \n",
            " block3b_activation (Activation  (None, None, None,   0          ['block3b_bn[0][0]']             \n",
            " )                              240)                                                              \n",
            "                                                                                                  \n",
            " block3b_se_squeeze (GlobalAver  (None, 240)         0           ['block3b_activation[0][0]']     \n",
            " agePooling2D)                                                                                    \n",
            "                                                                                                  \n",
            " block3b_se_reshape (Reshape)   (None, 1, 1, 240)    0           ['block3b_se_squeeze[0][0]']     \n",
            "                                                                                                  \n",
            " block3b_se_reduce (Conv2D)     (None, 1, 1, 10)     2410        ['block3b_se_reshape[0][0]']     \n",
            "                                                                                                  \n",
            " block3b_se_expand (Conv2D)     (None, 1, 1, 240)    2640        ['block3b_se_reduce[0][0]']      \n",
            "                                                                                                  \n",
            " block3b_se_excite (Multiply)   (None, None, None,   0           ['block3b_activation[0][0]',     \n",
            "                                240)                              'block3b_se_expand[0][0]']      \n",
            "                                                                                                  \n",
            " block3b_project_conv (Conv2D)  (None, None, None,   9600        ['block3b_se_excite[0][0]']      \n",
            "                                40)                                                               \n",
            "                                                                                                  \n",
            " block3b_project_bn (BatchNorma  (None, None, None,   160        ['block3b_project_conv[0][0]']   \n",
            " lization)                      40)                                                               \n",
            "                                                                                                  \n",
            " block3b_drop (Dropout)         (None, None, None,   0           ['block3b_project_bn[0][0]']     \n",
            "                                40)                                                               \n",
            "                                                                                                  \n",
            " block3b_add (Add)              (None, None, None,   0           ['block3b_drop[0][0]',           \n",
            "                                40)                               'block3a_project_bn[0][0]']     \n",
            "                                                                                                  \n",
            " block4a_expand_conv (Conv2D)   (None, None, None,   9600        ['block3b_add[0][0]']            \n",
            "                                240)                                                              \n",
            "                                                                                                  \n",
            " block4a_expand_bn (BatchNormal  (None, None, None,   960        ['block4a_expand_conv[0][0]']    \n",
            " ization)                       240)                                                              \n",
            "                                                                                                  \n",
            " block4a_expand_activation (Act  (None, None, None,   0          ['block4a_expand_bn[0][0]']      \n",
            " ivation)                       240)                                                              \n",
            "                                                                                                  \n",
            " block4a_dwconv_pad (ZeroPaddin  (None, None, None,   0          ['block4a_expand_activation[0][0]\n",
            " g2D)                           240)                             ']                               \n",
            "                                                                                                  \n",
            " block4a_dwconv (DepthwiseConv2  (None, None, None,   2160       ['block4a_dwconv_pad[0][0]']     \n",
            " D)                             240)                                                              \n",
            "                                                                                                  \n",
            " block4a_bn (BatchNormalization  (None, None, None,   960        ['block4a_dwconv[0][0]']         \n",
            " )                              240)                                                              \n",
            "                                                                                                  \n",
            " block4a_activation (Activation  (None, None, None,   0          ['block4a_bn[0][0]']             \n",
            " )                              240)                                                              \n",
            "                                                                                                  \n",
            " block4a_se_squeeze (GlobalAver  (None, 240)         0           ['block4a_activation[0][0]']     \n",
            " agePooling2D)                                                                                    \n",
            "                                                                                                  \n",
            " block4a_se_reshape (Reshape)   (None, 1, 1, 240)    0           ['block4a_se_squeeze[0][0]']     \n",
            "                                                                                                  \n",
            " block4a_se_reduce (Conv2D)     (None, 1, 1, 10)     2410        ['block4a_se_reshape[0][0]']     \n",
            "                                                                                                  \n",
            " block4a_se_expand (Conv2D)     (None, 1, 1, 240)    2640        ['block4a_se_reduce[0][0]']      \n",
            "                                                                                                  \n",
            " block4a_se_excite (Multiply)   (None, None, None,   0           ['block4a_activation[0][0]',     \n",
            "                                240)                              'block4a_se_expand[0][0]']      \n",
            "                                                                                                  \n",
            " block4a_project_conv (Conv2D)  (None, None, None,   19200       ['block4a_se_excite[0][0]']      \n",
            "                                80)                                                               \n",
            "                                                                                                  \n",
            " block4a_project_bn (BatchNorma  (None, None, None,   320        ['block4a_project_conv[0][0]']   \n",
            " lization)                      80)                                                               \n",
            "                                                                                                  \n",
            " block4b_expand_conv (Conv2D)   (None, None, None,   38400       ['block4a_project_bn[0][0]']     \n",
            "                                480)                                                              \n",
            "                                                                                                  \n",
            " block4b_expand_bn (BatchNormal  (None, None, None,   1920       ['block4b_expand_conv[0][0]']    \n",
            " ization)                       480)                                                              \n",
            "                                                                                                  \n",
            " block4b_expand_activation (Act  (None, None, None,   0          ['block4b_expand_bn[0][0]']      \n",
            " ivation)                       480)                                                              \n",
            "                                                                                                  \n",
            " block4b_dwconv (DepthwiseConv2  (None, None, None,   4320       ['block4b_expand_activation[0][0]\n",
            " D)                             480)                             ']                               \n",
            "                                                                                                  \n",
            " block4b_bn (BatchNormalization  (None, None, None,   1920       ['block4b_dwconv[0][0]']         \n",
            " )                              480)                                                              \n",
            "                                                                                                  \n",
            " block4b_activation (Activation  (None, None, None,   0          ['block4b_bn[0][0]']             \n",
            " )                              480)                                                              \n",
            "                                                                                                  \n",
            " block4b_se_squeeze (GlobalAver  (None, 480)         0           ['block4b_activation[0][0]']     \n",
            " agePooling2D)                                                                                    \n",
            "                                                                                                  \n",
            " block4b_se_reshape (Reshape)   (None, 1, 1, 480)    0           ['block4b_se_squeeze[0][0]']     \n",
            "                                                                                                  \n",
            " block4b_se_reduce (Conv2D)     (None, 1, 1, 20)     9620        ['block4b_se_reshape[0][0]']     \n",
            "                                                                                                  \n",
            " block4b_se_expand (Conv2D)     (None, 1, 1, 480)    10080       ['block4b_se_reduce[0][0]']      \n",
            "                                                                                                  \n",
            " block4b_se_excite (Multiply)   (None, None, None,   0           ['block4b_activation[0][0]',     \n",
            "                                480)                              'block4b_se_expand[0][0]']      \n",
            "                                                                                                  \n",
            " block4b_project_conv (Conv2D)  (None, None, None,   38400       ['block4b_se_excite[0][0]']      \n",
            "                                80)                                                               \n",
            "                                                                                                  \n",
            " block4b_project_bn (BatchNorma  (None, None, None,   320        ['block4b_project_conv[0][0]']   \n",
            " lization)                      80)                                                               \n",
            "                                                                                                  \n",
            " block4b_drop (Dropout)         (None, None, None,   0           ['block4b_project_bn[0][0]']     \n",
            "                                80)                                                               \n",
            "                                                                                                  \n",
            " block4b_add (Add)              (None, None, None,   0           ['block4b_drop[0][0]',           \n",
            "                                80)                               'block4a_project_bn[0][0]']     \n",
            "                                                                                                  \n",
            " block4c_expand_conv (Conv2D)   (None, None, None,   38400       ['block4b_add[0][0]']            \n",
            "                                480)                                                              \n",
            "                                                                                                  \n",
            " block4c_expand_bn (BatchNormal  (None, None, None,   1920       ['block4c_expand_conv[0][0]']    \n",
            " ization)                       480)                                                              \n",
            "                                                                                                  \n",
            " block4c_expand_activation (Act  (None, None, None,   0          ['block4c_expand_bn[0][0]']      \n",
            " ivation)                       480)                                                              \n",
            "                                                                                                  \n",
            " block4c_dwconv (DepthwiseConv2  (None, None, None,   4320       ['block4c_expand_activation[0][0]\n",
            " D)                             480)                             ']                               \n",
            "                                                                                                  \n",
            " block4c_bn (BatchNormalization  (None, None, None,   1920       ['block4c_dwconv[0][0]']         \n",
            " )                              480)                                                              \n",
            "                                                                                                  \n",
            " block4c_activation (Activation  (None, None, None,   0          ['block4c_bn[0][0]']             \n",
            " )                              480)                                                              \n",
            "                                                                                                  \n",
            " block4c_se_squeeze (GlobalAver  (None, 480)         0           ['block4c_activation[0][0]']     \n",
            " agePooling2D)                                                                                    \n",
            "                                                                                                  \n",
            " block4c_se_reshape (Reshape)   (None, 1, 1, 480)    0           ['block4c_se_squeeze[0][0]']     \n",
            "                                                                                                  \n",
            " block4c_se_reduce (Conv2D)     (None, 1, 1, 20)     9620        ['block4c_se_reshape[0][0]']     \n",
            "                                                                                                  \n",
            " block4c_se_expand (Conv2D)     (None, 1, 1, 480)    10080       ['block4c_se_reduce[0][0]']      \n",
            "                                                                                                  \n",
            " block4c_se_excite (Multiply)   (None, None, None,   0           ['block4c_activation[0][0]',     \n",
            "                                480)                              'block4c_se_expand[0][0]']      \n",
            "                                                                                                  \n",
            " block4c_project_conv (Conv2D)  (None, None, None,   38400       ['block4c_se_excite[0][0]']      \n",
            "                                80)                                                               \n",
            "                                                                                                  \n",
            " block4c_project_bn (BatchNorma  (None, None, None,   320        ['block4c_project_conv[0][0]']   \n",
            " lization)                      80)                                                               \n",
            "                                                                                                  \n",
            " block4c_drop (Dropout)         (None, None, None,   0           ['block4c_project_bn[0][0]']     \n",
            "                                80)                                                               \n",
            "                                                                                                  \n",
            " block4c_add (Add)              (None, None, None,   0           ['block4c_drop[0][0]',           \n",
            "                                80)                               'block4b_add[0][0]']            \n",
            "                                                                                                  \n",
            " block5a_expand_conv (Conv2D)   (None, None, None,   38400       ['block4c_add[0][0]']            \n",
            "                                480)                                                              \n",
            "                                                                                                  \n",
            " block5a_expand_bn (BatchNormal  (None, None, None,   1920       ['block5a_expand_conv[0][0]']    \n",
            " ization)                       480)                                                              \n",
            "                                                                                                  \n",
            " block5a_expand_activation (Act  (None, None, None,   0          ['block5a_expand_bn[0][0]']      \n",
            " ivation)                       480)                                                              \n",
            "                                                                                                  \n",
            " block5a_dwconv (DepthwiseConv2  (None, None, None,   12000      ['block5a_expand_activation[0][0]\n",
            " D)                             480)                             ']                               \n",
            "                                                                                                  \n",
            " block5a_bn (BatchNormalization  (None, None, None,   1920       ['block5a_dwconv[0][0]']         \n",
            " )                              480)                                                              \n",
            "                                                                                                  \n",
            " block5a_activation (Activation  (None, None, None,   0          ['block5a_bn[0][0]']             \n",
            " )                              480)                                                              \n",
            "                                                                                                  \n",
            " block5a_se_squeeze (GlobalAver  (None, 480)         0           ['block5a_activation[0][0]']     \n",
            " agePooling2D)                                                                                    \n",
            "                                                                                                  \n",
            " block5a_se_reshape (Reshape)   (None, 1, 1, 480)    0           ['block5a_se_squeeze[0][0]']     \n",
            "                                                                                                  \n",
            " block5a_se_reduce (Conv2D)     (None, 1, 1, 20)     9620        ['block5a_se_reshape[0][0]']     \n",
            "                                                                                                  \n",
            " block5a_se_expand (Conv2D)     (None, 1, 1, 480)    10080       ['block5a_se_reduce[0][0]']      \n",
            "                                                                                                  \n",
            " block5a_se_excite (Multiply)   (None, None, None,   0           ['block5a_activation[0][0]',     \n",
            "                                480)                              'block5a_se_expand[0][0]']      \n",
            "                                                                                                  \n",
            " block5a_project_conv (Conv2D)  (None, None, None,   53760       ['block5a_se_excite[0][0]']      \n",
            "                                112)                                                              \n",
            "                                                                                                  \n",
            " block5a_project_bn (BatchNorma  (None, None, None,   448        ['block5a_project_conv[0][0]']   \n",
            " lization)                      112)                                                              \n",
            "                                                                                                  \n",
            " block5b_expand_conv (Conv2D)   (None, None, None,   75264       ['block5a_project_bn[0][0]']     \n",
            "                                672)                                                              \n",
            "                                                                                                  \n",
            " block5b_expand_bn (BatchNormal  (None, None, None,   2688       ['block5b_expand_conv[0][0]']    \n",
            " ization)                       672)                                                              \n",
            "                                                                                                  \n",
            " block5b_expand_activation (Act  (None, None, None,   0          ['block5b_expand_bn[0][0]']      \n",
            " ivation)                       672)                                                              \n",
            "                                                                                                  \n",
            " block5b_dwconv (DepthwiseConv2  (None, None, None,   16800      ['block5b_expand_activation[0][0]\n",
            " D)                             672)                             ']                               \n",
            "                                                                                                  \n",
            " block5b_bn (BatchNormalization  (None, None, None,   2688       ['block5b_dwconv[0][0]']         \n",
            " )                              672)                                                              \n",
            "                                                                                                  \n",
            " block5b_activation (Activation  (None, None, None,   0          ['block5b_bn[0][0]']             \n",
            " )                              672)                                                              \n",
            "                                                                                                  \n",
            " block5b_se_squeeze (GlobalAver  (None, 672)         0           ['block5b_activation[0][0]']     \n",
            " agePooling2D)                                                                                    \n",
            "                                                                                                  \n",
            " block5b_se_reshape (Reshape)   (None, 1, 1, 672)    0           ['block5b_se_squeeze[0][0]']     \n",
            "                                                                                                  \n",
            " block5b_se_reduce (Conv2D)     (None, 1, 1, 28)     18844       ['block5b_se_reshape[0][0]']     \n",
            "                                                                                                  \n",
            " block5b_se_expand (Conv2D)     (None, 1, 1, 672)    19488       ['block5b_se_reduce[0][0]']      \n",
            "                                                                                                  \n",
            " block5b_se_excite (Multiply)   (None, None, None,   0           ['block5b_activation[0][0]',     \n",
            "                                672)                              'block5b_se_expand[0][0]']      \n",
            "                                                                                                  \n",
            " block5b_project_conv (Conv2D)  (None, None, None,   75264       ['block5b_se_excite[0][0]']      \n",
            "                                112)                                                              \n",
            "                                                                                                  \n",
            " block5b_project_bn (BatchNorma  (None, None, None,   448        ['block5b_project_conv[0][0]']   \n",
            " lization)                      112)                                                              \n",
            "                                                                                                  \n",
            " block5b_drop (Dropout)         (None, None, None,   0           ['block5b_project_bn[0][0]']     \n",
            "                                112)                                                              \n",
            "                                                                                                  \n",
            " block5b_add (Add)              (None, None, None,   0           ['block5b_drop[0][0]',           \n",
            "                                112)                              'block5a_project_bn[0][0]']     \n",
            "                                                                                                  \n",
            " block5c_expand_conv (Conv2D)   (None, None, None,   75264       ['block5b_add[0][0]']            \n",
            "                                672)                                                              \n",
            "                                                                                                  \n",
            " block5c_expand_bn (BatchNormal  (None, None, None,   2688       ['block5c_expand_conv[0][0]']    \n",
            " ization)                       672)                                                              \n",
            "                                                                                                  \n",
            " block5c_expand_activation (Act  (None, None, None,   0          ['block5c_expand_bn[0][0]']      \n",
            " ivation)                       672)                                                              \n",
            "                                                                                                  \n",
            " block5c_dwconv (DepthwiseConv2  (None, None, None,   16800      ['block5c_expand_activation[0][0]\n",
            " D)                             672)                             ']                               \n",
            "                                                                                                  \n",
            " block5c_bn (BatchNormalization  (None, None, None,   2688       ['block5c_dwconv[0][0]']         \n",
            " )                              672)                                                              \n",
            "                                                                                                  \n",
            " block5c_activation (Activation  (None, None, None,   0          ['block5c_bn[0][0]']             \n",
            " )                              672)                                                              \n",
            "                                                                                                  \n",
            " block5c_se_squeeze (GlobalAver  (None, 672)         0           ['block5c_activation[0][0]']     \n",
            " agePooling2D)                                                                                    \n",
            "                                                                                                  \n",
            " block5c_se_reshape (Reshape)   (None, 1, 1, 672)    0           ['block5c_se_squeeze[0][0]']     \n",
            "                                                                                                  \n",
            " block5c_se_reduce (Conv2D)     (None, 1, 1, 28)     18844       ['block5c_se_reshape[0][0]']     \n",
            "                                                                                                  \n",
            " block5c_se_expand (Conv2D)     (None, 1, 1, 672)    19488       ['block5c_se_reduce[0][0]']      \n",
            "                                                                                                  \n",
            " block5c_se_excite (Multiply)   (None, None, None,   0           ['block5c_activation[0][0]',     \n",
            "                                672)                              'block5c_se_expand[0][0]']      \n",
            "                                                                                                  \n",
            " block5c_project_conv (Conv2D)  (None, None, None,   75264       ['block5c_se_excite[0][0]']      \n",
            "                                112)                                                              \n",
            "                                                                                                  \n",
            " block5c_project_bn (BatchNorma  (None, None, None,   448        ['block5c_project_conv[0][0]']   \n",
            " lization)                      112)                                                              \n",
            "                                                                                                  \n",
            " block5c_drop (Dropout)         (None, None, None,   0           ['block5c_project_bn[0][0]']     \n",
            "                                112)                                                              \n",
            "                                                                                                  \n",
            " block5c_add (Add)              (None, None, None,   0           ['block5c_drop[0][0]',           \n",
            "                                112)                              'block5b_add[0][0]']            \n",
            "                                                                                                  \n",
            " block6a_expand_conv (Conv2D)   (None, None, None,   75264       ['block5c_add[0][0]']            \n",
            "                                672)                                                              \n",
            "                                                                                                  \n",
            " block6a_expand_bn (BatchNormal  (None, None, None,   2688       ['block6a_expand_conv[0][0]']    \n",
            " ization)                       672)                                                              \n",
            "                                                                                                  \n",
            " block6a_expand_activation (Act  (None, None, None,   0          ['block6a_expand_bn[0][0]']      \n",
            " ivation)                       672)                                                              \n",
            "                                                                                                  \n",
            " block6a_dwconv_pad (ZeroPaddin  (None, None, None,   0          ['block6a_expand_activation[0][0]\n",
            " g2D)                           672)                             ']                               \n",
            "                                                                                                  \n",
            " block6a_dwconv (DepthwiseConv2  (None, None, None,   16800      ['block6a_dwconv_pad[0][0]']     \n",
            " D)                             672)                                                              \n",
            "                                                                                                  \n",
            " block6a_bn (BatchNormalization  (None, None, None,   2688       ['block6a_dwconv[0][0]']         \n",
            " )                              672)                                                              \n",
            "                                                                                                  \n",
            " block6a_activation (Activation  (None, None, None,   0          ['block6a_bn[0][0]']             \n",
            " )                              672)                                                              \n",
            "                                                                                                  \n",
            " block6a_se_squeeze (GlobalAver  (None, 672)         0           ['block6a_activation[0][0]']     \n",
            " agePooling2D)                                                                                    \n",
            "                                                                                                  \n",
            " block6a_se_reshape (Reshape)   (None, 1, 1, 672)    0           ['block6a_se_squeeze[0][0]']     \n",
            "                                                                                                  \n",
            " block6a_se_reduce (Conv2D)     (None, 1, 1, 28)     18844       ['block6a_se_reshape[0][0]']     \n",
            "                                                                                                  \n",
            " block6a_se_expand (Conv2D)     (None, 1, 1, 672)    19488       ['block6a_se_reduce[0][0]']      \n",
            "                                                                                                  \n",
            " block6a_se_excite (Multiply)   (None, None, None,   0           ['block6a_activation[0][0]',     \n",
            "                                672)                              'block6a_se_expand[0][0]']      \n",
            "                                                                                                  \n",
            " block6a_project_conv (Conv2D)  (None, None, None,   129024      ['block6a_se_excite[0][0]']      \n",
            "                                192)                                                              \n",
            "                                                                                                  \n",
            " block6a_project_bn (BatchNorma  (None, None, None,   768        ['block6a_project_conv[0][0]']   \n",
            " lization)                      192)                                                              \n",
            "                                                                                                  \n",
            " block6b_expand_conv (Conv2D)   (None, None, None,   221184      ['block6a_project_bn[0][0]']     \n",
            "                                1152)                                                             \n",
            "                                                                                                  \n",
            " block6b_expand_bn (BatchNormal  (None, None, None,   4608       ['block6b_expand_conv[0][0]']    \n",
            " ization)                       1152)                                                             \n",
            "                                                                                                  \n",
            " block6b_expand_activation (Act  (None, None, None,   0          ['block6b_expand_bn[0][0]']      \n",
            " ivation)                       1152)                                                             \n",
            "                                                                                                  \n",
            " block6b_dwconv (DepthwiseConv2  (None, None, None,   28800      ['block6b_expand_activation[0][0]\n",
            " D)                             1152)                            ']                               \n",
            "                                                                                                  \n",
            " block6b_bn (BatchNormalization  (None, None, None,   4608       ['block6b_dwconv[0][0]']         \n",
            " )                              1152)                                                             \n",
            "                                                                                                  \n",
            " block6b_activation (Activation  (None, None, None,   0          ['block6b_bn[0][0]']             \n",
            " )                              1152)                                                             \n",
            "                                                                                                  \n",
            " block6b_se_squeeze (GlobalAver  (None, 1152)        0           ['block6b_activation[0][0]']     \n",
            " agePooling2D)                                                                                    \n",
            "                                                                                                  \n",
            " block6b_se_reshape (Reshape)   (None, 1, 1, 1152)   0           ['block6b_se_squeeze[0][0]']     \n",
            "                                                                                                  \n",
            " block6b_se_reduce (Conv2D)     (None, 1, 1, 48)     55344       ['block6b_se_reshape[0][0]']     \n",
            "                                                                                                  \n",
            " block6b_se_expand (Conv2D)     (None, 1, 1, 1152)   56448       ['block6b_se_reduce[0][0]']      \n",
            "                                                                                                  \n",
            " block6b_se_excite (Multiply)   (None, None, None,   0           ['block6b_activation[0][0]',     \n",
            "                                1152)                             'block6b_se_expand[0][0]']      \n",
            "                                                                                                  \n",
            " block6b_project_conv (Conv2D)  (None, None, None,   221184      ['block6b_se_excite[0][0]']      \n",
            "                                192)                                                              \n",
            "                                                                                                  \n",
            " block6b_project_bn (BatchNorma  (None, None, None,   768        ['block6b_project_conv[0][0]']   \n",
            " lization)                      192)                                                              \n",
            "                                                                                                  \n",
            " block6b_drop (Dropout)         (None, None, None,   0           ['block6b_project_bn[0][0]']     \n",
            "                                192)                                                              \n",
            "                                                                                                  \n",
            " block6b_add (Add)              (None, None, None,   0           ['block6b_drop[0][0]',           \n",
            "                                192)                              'block6a_project_bn[0][0]']     \n",
            "                                                                                                  \n",
            " block6c_expand_conv (Conv2D)   (None, None, None,   221184      ['block6b_add[0][0]']            \n",
            "                                1152)                                                             \n",
            "                                                                                                  \n",
            " block6c_expand_bn (BatchNormal  (None, None, None,   4608       ['block6c_expand_conv[0][0]']    \n",
            " ization)                       1152)                                                             \n",
            "                                                                                                  \n",
            " block6c_expand_activation (Act  (None, None, None,   0          ['block6c_expand_bn[0][0]']      \n",
            " ivation)                       1152)                                                             \n",
            "                                                                                                  \n",
            " block6c_dwconv (DepthwiseConv2  (None, None, None,   28800      ['block6c_expand_activation[0][0]\n",
            " D)                             1152)                            ']                               \n",
            "                                                                                                  \n",
            " block6c_bn (BatchNormalization  (None, None, None,   4608       ['block6c_dwconv[0][0]']         \n",
            " )                              1152)                                                             \n",
            "                                                                                                  \n",
            " block6c_activation (Activation  (None, None, None,   0          ['block6c_bn[0][0]']             \n",
            " )                              1152)                                                             \n",
            "                                                                                                  \n",
            " block6c_se_squeeze (GlobalAver  (None, 1152)        0           ['block6c_activation[0][0]']     \n",
            " agePooling2D)                                                                                    \n",
            "                                                                                                  \n",
            " block6c_se_reshape (Reshape)   (None, 1, 1, 1152)   0           ['block6c_se_squeeze[0][0]']     \n",
            "                                                                                                  \n",
            " block6c_se_reduce (Conv2D)     (None, 1, 1, 48)     55344       ['block6c_se_reshape[0][0]']     \n",
            "                                                                                                  \n",
            " block6c_se_expand (Conv2D)     (None, 1, 1, 1152)   56448       ['block6c_se_reduce[0][0]']      \n",
            "                                                                                                  \n",
            " block6c_se_excite (Multiply)   (None, None, None,   0           ['block6c_activation[0][0]',     \n",
            "                                1152)                             'block6c_se_expand[0][0]']      \n",
            "                                                                                                  \n",
            " block6c_project_conv (Conv2D)  (None, None, None,   221184      ['block6c_se_excite[0][0]']      \n",
            "                                192)                                                              \n",
            "                                                                                                  \n",
            " block6c_project_bn (BatchNorma  (None, None, None,   768        ['block6c_project_conv[0][0]']   \n",
            " lization)                      192)                                                              \n",
            "                                                                                                  \n",
            " block6c_drop (Dropout)         (None, None, None,   0           ['block6c_project_bn[0][0]']     \n",
            "                                192)                                                              \n",
            "                                                                                                  \n",
            " block6c_add (Add)              (None, None, None,   0           ['block6c_drop[0][0]',           \n",
            "                                192)                              'block6b_add[0][0]']            \n",
            "                                                                                                  \n",
            " block6d_expand_conv (Conv2D)   (None, None, None,   221184      ['block6c_add[0][0]']            \n",
            "                                1152)                                                             \n",
            "                                                                                                  \n",
            " block6d_expand_bn (BatchNormal  (None, None, None,   4608       ['block6d_expand_conv[0][0]']    \n",
            " ization)                       1152)                                                             \n",
            "                                                                                                  \n",
            " block6d_expand_activation (Act  (None, None, None,   0          ['block6d_expand_bn[0][0]']      \n",
            " ivation)                       1152)                                                             \n",
            "                                                                                                  \n",
            " block6d_dwconv (DepthwiseConv2  (None, None, None,   28800      ['block6d_expand_activation[0][0]\n",
            " D)                             1152)                            ']                               \n",
            "                                                                                                  \n",
            " block6d_bn (BatchNormalization  (None, None, None,   4608       ['block6d_dwconv[0][0]']         \n",
            " )                              1152)                                                             \n",
            "                                                                                                  \n",
            " block6d_activation (Activation  (None, None, None,   0          ['block6d_bn[0][0]']             \n",
            " )                              1152)                                                             \n",
            "                                                                                                  \n",
            " block6d_se_squeeze (GlobalAver  (None, 1152)        0           ['block6d_activation[0][0]']     \n",
            " agePooling2D)                                                                                    \n",
            "                                                                                                  \n",
            " block6d_se_reshape (Reshape)   (None, 1, 1, 1152)   0           ['block6d_se_squeeze[0][0]']     \n",
            "                                                                                                  \n",
            " block6d_se_reduce (Conv2D)     (None, 1, 1, 48)     55344       ['block6d_se_reshape[0][0]']     \n",
            "                                                                                                  \n",
            " block6d_se_expand (Conv2D)     (None, 1, 1, 1152)   56448       ['block6d_se_reduce[0][0]']      \n",
            "                                                                                                  \n",
            " block6d_se_excite (Multiply)   (None, None, None,   0           ['block6d_activation[0][0]',     \n",
            "                                1152)                             'block6d_se_expand[0][0]']      \n",
            "                                                                                                  \n",
            " block6d_project_conv (Conv2D)  (None, None, None,   221184      ['block6d_se_excite[0][0]']      \n",
            "                                192)                                                              \n",
            "                                                                                                  \n",
            " block6d_project_bn (BatchNorma  (None, None, None,   768        ['block6d_project_conv[0][0]']   \n",
            " lization)                      192)                                                              \n",
            "                                                                                                  \n",
            " block6d_drop (Dropout)         (None, None, None,   0           ['block6d_project_bn[0][0]']     \n",
            "                                192)                                                              \n",
            "                                                                                                  \n",
            " block6d_add (Add)              (None, None, None,   0           ['block6d_drop[0][0]',           \n",
            "                                192)                              'block6c_add[0][0]']            \n",
            "                                                                                                  \n",
            " block7a_expand_conv (Conv2D)   (None, None, None,   221184      ['block6d_add[0][0]']            \n",
            "                                1152)                                                             \n",
            "                                                                                                  \n",
            " block7a_expand_bn (BatchNormal  (None, None, None,   4608       ['block7a_expand_conv[0][0]']    \n",
            " ization)                       1152)                                                             \n",
            "                                                                                                  \n",
            " block7a_expand_activation (Act  (None, None, None,   0          ['block7a_expand_bn[0][0]']      \n",
            " ivation)                       1152)                                                             \n",
            "                                                                                                  \n",
            " block7a_dwconv (DepthwiseConv2  (None, None, None,   10368      ['block7a_expand_activation[0][0]\n",
            " D)                             1152)                            ']                               \n",
            "                                                                                                  \n",
            " block7a_bn (BatchNormalization  (None, None, None,   4608       ['block7a_dwconv[0][0]']         \n",
            " )                              1152)                                                             \n",
            "                                                                                                  \n",
            " block7a_activation (Activation  (None, None, None,   0          ['block7a_bn[0][0]']             \n",
            " )                              1152)                                                             \n",
            "                                                                                                  \n",
            " block7a_se_squeeze (GlobalAver  (None, 1152)        0           ['block7a_activation[0][0]']     \n",
            " agePooling2D)                                                                                    \n",
            "                                                                                                  \n",
            " block7a_se_reshape (Reshape)   (None, 1, 1, 1152)   0           ['block7a_se_squeeze[0][0]']     \n",
            "                                                                                                  \n",
            " block7a_se_reduce (Conv2D)     (None, 1, 1, 48)     55344       ['block7a_se_reshape[0][0]']     \n",
            "                                                                                                  \n",
            " block7a_se_expand (Conv2D)     (None, 1, 1, 1152)   56448       ['block7a_se_reduce[0][0]']      \n",
            "                                                                                                  \n",
            " block7a_se_excite (Multiply)   (None, None, None,   0           ['block7a_activation[0][0]',     \n",
            "                                1152)                             'block7a_se_expand[0][0]']      \n",
            "                                                                                                  \n",
            " block7a_project_conv (Conv2D)  (None, None, None,   368640      ['block7a_se_excite[0][0]']      \n",
            "                                320)                                                              \n",
            "                                                                                                  \n",
            " block7a_project_bn (BatchNorma  (None, None, None,   1280       ['block7a_project_conv[0][0]']   \n",
            " lization)                      320)                                                              \n",
            "                                                                                                  \n",
            " top_conv (Conv2D)              (None, None, None,   409600      ['block7a_project_bn[0][0]']     \n",
            "                                1280)                                                             \n",
            "                                                                                                  \n",
            " top_bn (BatchNormalization)    (None, None, None,   5120        ['top_conv[0][0]']               \n",
            "                                1280)                                                             \n",
            "                                                                                                  \n",
            " top_activation (Activation)    (None, None, None,   0           ['top_bn[0][0]']                 \n",
            "                                1280)                                                             \n",
            "                                                                                                  \n",
            "==================================================================================================\n",
            "Total params: 4,049,571\n",
            "Trainable params: 0\n",
            "Non-trainable params: 4,049,571\n",
            "__________________________________________________________________________________________________\n"
          ]
        }
      ]
    },
    {
      "cell_type": "code",
      "source": [
        "model_0.summary()"
      ],
      "metadata": {
        "colab": {
          "base_uri": "https://localhost:8080/"
        },
        "id": "by9xhdSP9hDx",
        "outputId": "32692301-e5dd-4321-9d60-b247885dd1bd"
      },
      "execution_count": null,
      "outputs": [
        {
          "output_type": "stream",
          "name": "stdout",
          "text": [
            "Model: \"model\"\n",
            "_________________________________________________________________\n",
            " Layer (type)                Output Shape              Param #   \n",
            "=================================================================\n",
            " input_layer (InputLayer)    [(None, 224, 224, 3)]     0         \n",
            "                                                                 \n",
            " efficientnetb0 (Functional)  (None, None, None, 1280)  4049571  \n",
            "                                                                 \n",
            " global_average_pooling_laye  (None, 1280)             0         \n",
            " r (GlobalAveragePooling2D)                                      \n",
            "                                                                 \n",
            " output_layer (Dense)        (None, 10)                12810     \n",
            "                                                                 \n",
            "=================================================================\n",
            "Total params: 4,062,381\n",
            "Trainable params: 12,810\n",
            "Non-trainable params: 4,049,571\n",
            "_________________________________________________________________\n"
          ]
        }
      ]
    },
    {
      "cell_type": "code",
      "source": [
        "plot_loss_curves(history_0)"
      ],
      "metadata": {
        "colab": {
          "base_uri": "https://localhost:8080/",
          "height": 573
        },
        "id": "GdArfl8F9kK6",
        "outputId": "e77b6658-3c67-4ea2-c147-65af382f39eb"
      },
      "execution_count": null,
      "outputs": [
        {
          "output_type": "display_data",
          "data": {
            "text/plain": [
              "<Figure size 432x288 with 1 Axes>"
            ],
            "image/png": "[encoded data removed]"
          },
          "metadata": {
            "needs_background": "light"
          }
        },
        {
          "output_type": "display_data",
          "data": {
            "text/plain": [
              "<Figure size 432x288 with 1 Axes>"
            ],
            "image/png": "[encoded data removed]"
          },
          "metadata": {
            "needs_background": "light"
          }
        }
      ]
    },
    {
      "cell_type": "markdown",
      "source": [
        "# Model - 1"
      ],
      "metadata": {
        "id": "AHOtpdRW9qvG"
      }
    },
    {
      "cell_type": "code",
      "source": [
        "!wget https://storage.googleapis.com/ztm_tf_course/food_vision/10_food_classes_1_percent.zip"
      ],
      "metadata": {
        "colab": {
          "base_uri": "https://localhost:8080/"
        },
        "id": "qXnZwsyA5xXY",
        "outputId": "23c6b0f6-7e35-4e49-fa50-c9030109d743"
      },
      "execution_count": null,
      "outputs": [
        {
          "output_type": "stream",
          "name": "stdout",
          "text": [
            "--2023-03-23 22:22:58--  https://storage.googleapis.com/ztm_tf_course/food_vision/10_food_classes_1_percent.zip\n",
            "Resolving storage.googleapis.com (storage.googleapis.com)... 142.251.12.128, 172.217.194.128, 74.125.200.128, ...\n",
            "Connecting to storage.googleapis.com (storage.googleapis.com)|142.251.12.128|:443... connected.\n",
            "HTTP request sent, awaiting response... 200 OK\n",
            "Length: 133612354 (127M) [application/zip]\n",
            "Saving to: ‘10_food_classes_1_percent.zip’\n",
            "\n",
            "10_food_classes_1_p 100%[===================>] 127.42M  22.8MB/s    in 6.5s    \n",
            "\n",
            "2023-03-23 22:23:05 (19.5 MB/s) - ‘10_food_classes_1_percent.zip’ saved [133612354/133612354]\n",
            "\n"
          ]
        }
      ]
    },
    {
      "cell_type": "code",
      "source": [
        "unzip_data(\"10_food_classes_1_percent.zip\")"
      ],
      "metadata": {
        "id": "rKbb2Y0S58Ah"
      },
      "execution_count": null,
      "outputs": []
    },
    {
      "cell_type": "code",
      "source": [
        "train_dir_1_percent = \"10_food_classes_1_percent/train/\"\n",
        "test_dir = \"10_food_classes_1_percent/test/\""
      ],
      "metadata": {
        "id": "iCdOYtJi6FVc"
      },
      "execution_count": null,
      "outputs": []
    },
    {
      "cell_type": "code",
      "source": [
        "walk_through_dir(\"10_food_classes_1_percent\")"
      ],
      "metadata": {
        "colab": {
          "base_uri": "https://localhost:8080/"
        },
        "id": "Fcs3jS_76S-A",
        "outputId": "867f22fb-762d-4c2a-c431-13d51fb99018"
      },
      "execution_count": null,
      "outputs": [
        {
          "output_type": "stream",
          "name": "stdout",
          "text": [
            "There are 2 directories and 0 images in '10_food_classes_1_percent'.\n",
            "There are 10 directories and 0 images in '10_food_classes_1_percent/test'.\n",
            "There are 0 directories and 250 images in '10_food_classes_1_percent/test/ice_cream'.\n",
            "There are 0 directories and 250 images in '10_food_classes_1_percent/test/grilled_salmon'.\n",
            "There are 0 directories and 250 images in '10_food_classes_1_percent/test/fried_rice'.\n",
            "There are 0 directories and 250 images in '10_food_classes_1_percent/test/chicken_curry'.\n",
            "There are 0 directories and 250 images in '10_food_classes_1_percent/test/hamburger'.\n",
            "There are 0 directories and 250 images in '10_food_classes_1_percent/test/sushi'.\n",
            "There are 0 directories and 250 images in '10_food_classes_1_percent/test/chicken_wings'.\n",
            "There are 0 directories and 250 images in '10_food_classes_1_percent/test/steak'.\n",
            "There are 0 directories and 250 images in '10_food_classes_1_percent/test/pizza'.\n",
            "There are 0 directories and 250 images in '10_food_classes_1_percent/test/ramen'.\n",
            "There are 10 directories and 0 images in '10_food_classes_1_percent/train'.\n",
            "There are 0 directories and 7 images in '10_food_classes_1_percent/train/ice_cream'.\n",
            "There are 0 directories and 7 images in '10_food_classes_1_percent/train/grilled_salmon'.\n",
            "There are 0 directories and 7 images in '10_food_classes_1_percent/train/fried_rice'.\n",
            "There are 0 directories and 7 images in '10_food_classes_1_percent/train/chicken_curry'.\n",
            "There are 0 directories and 7 images in '10_food_classes_1_percent/train/hamburger'.\n",
            "There are 0 directories and 7 images in '10_food_classes_1_percent/train/sushi'.\n",
            "There are 0 directories and 7 images in '10_food_classes_1_percent/train/chicken_wings'.\n",
            "There are 0 directories and 7 images in '10_food_classes_1_percent/train/steak'.\n",
            "There are 0 directories and 7 images in '10_food_classes_1_percent/train/pizza'.\n",
            "There are 0 directories and 7 images in '10_food_classes_1_percent/train/ramen'.\n"
          ]
        }
      ]
    },
    {
      "cell_type": "code",
      "source": [
        "IMAGE_SIZE = (224, 224)\n",
        "BATCH_SIZE = 32\n",
        "\n",
        "train_data_1_percent = tf.keras.preprocessing.image_dataset_from_directory(train_dir_1_percent,\n",
        "                                                                               label_mode=\"categorical\",\n",
        "                                                                               image_size=IMAGE_SIZE,\n",
        "                                                                               batch_size=BATCH_SIZE)\n",
        "\n",
        "test_data = tf.keras.preprocessing.image_dataset_from_directory(test_dir,\n",
        "                                                                 label_mode=\"categorical\",\n",
        "                                                                 image_size=IMAGE_SIZE,\n",
        "                                                                 batch_size=BATCH_SIZE)"
      ],
      "metadata": {
        "id": "melF1IaV6ctf",
        "colab": {
          "base_uri": "https://localhost:8080/"
        },
        "outputId": "882e531c-c610-47ab-d88e-f60e863c00c3"
      },
      "execution_count": null,
      "outputs": [
        {
          "output_type": "stream",
          "name": "stdout",
          "text": [
            "Found 70 files belonging to 10 classes.\n",
            "Found 2500 files belonging to 10 classes.\n"
          ]
        }
      ]
    },
    {
      "cell_type": "code",
      "source": [
        "import tensorflow as tf\n",
        "from tensorflow import keras\n",
        "from tensorflow.keras import layers\n",
        "from tensorflow.keras.layers.experimental import preprocessing\n",
        "\n",
        "data_augmentation = keras.Sequential([\n",
        "    preprocessing.RandomFlip(\"horizontal\"),\n",
        "    preprocessing.RandomRotation(0.2),\n",
        "    preprocessing.RandomZoom(0.2),\n",
        "    preprocessing.RandomHeight(0.2),\n",
        "    preprocessing.RandomWidth(0.2)\n",
        "], name=\"data_augmentation\")"
      ],
      "metadata": {
        "id": "W4UjhsB7vEoO"
      },
      "execution_count": null,
      "outputs": []
    },
    {
      "cell_type": "code",
      "source": [
        "import matplotlib.pyplot as plt\n",
        "import matplotlib.image as mpimg\n",
        "import os\n",
        "import random\n",
        "\n",
        "target_class = random.choice(train_data_1_percent.class_names)\n",
        "target_dir = \"10_food_classes_1_percent/train/\" + target_class\n",
        "random_image = random.choice(os.listdir(target_dir))\n",
        "random_image_path = target_dir + \"/\" + random_image\n",
        "\n",
        "img = mpimg.imread(random_image_path)\n",
        "plt.imshow(img)\n",
        "plt.title(f\"Original random image from class: {target_class}\")\n",
        "plt.axis(False);\n",
        "\n",
        "augmented_image = data_augmentation(img)\n",
        "plt.figure()\n",
        "plt.imshow(augmented_image/255.)\n",
        "plt.title(f\"Augmented random image from class: {target_class}\")\n",
        "plt.axis(False);"
      ],
      "metadata": {
        "colab": {
          "base_uri": "https://localhost:8080/",
          "height": 511
        },
        "id": "iZu9QSEPxR1P",
        "outputId": "d832606b-6642-4bd7-f75e-769289b8acb7"
      },
      "execution_count": null,
      "outputs": [
        {
          "output_type": "display_data",
          "data": {
            "text/plain": [
              "<Figure size 432x288 with 1 Axes>"
            ],
            "image/png": "[encoded data removed]"
          },
          "metadata": {
            "needs_background": "light"
          }
        },
        {
          "output_type": "display_data",
          "data": {
            "text/plain": [
              "<Figure size 432x288 with 1 Axes>"
            ],
            "image/png": "[encoded data removed]"
          },
          "metadata": {
            "needs_background": "light"
          }
        }
      ]
    },
    {
      "cell_type": "markdown",
      "source": [
        "# Model 1"
      ],
      "metadata": {
        "id": "c2gqyiKpFLJ4"
      }
    },
    {
      "cell_type": "code",
      "source": [
        "input_shape = (224, 224, 3)\n",
        "base_model = tf.keras.applications.EfficientNetB0(include_top=False)\n",
        "base_model.trainable = False\n",
        "\n",
        "inputs = layers.Input(shape=input_shape, name=\"input_layer\")\n",
        "\n",
        "x = data_augmentation(inputs)\n",
        "\n",
        "x = base_model(x, training=False)\n",
        "\n",
        "x = layers.GlobalAveragePooling2D(name=\"global_average_pooling_layer\")(x)\n",
        "\n",
        "outputs = layers.Dense(10, activation=\"softmax\", name=\"output_layer\")(x)\n",
        "\n",
        "model1 = keras.Model(inputs, outputs)\n",
        "\n",
        "model1.compile(loss=\"categorical_crossentropy\",\n",
        "               optimizer=tf.keras.optimizers.Adam(),\n",
        "               metrics=[\"accuracy\"])\n",
        "\n",
        "history_1_percent = model1.fit(train_data_1_percent,\n",
        "                               epochs=5,\n",
        "                               steps_per_epoch=len(train_data_1_percent),\n",
        "                               validation_data=test_data,\n",
        "                               validation_steps=len(test_data),\n",
        "                               callbacks=[create_tensorboard_callback(dir_name=\"transfer_learning\",\n",
        "                                                                      experiment_name=\"1_percent_data_aug\")])"
      ],
      "metadata": {
        "colab": {
          "base_uri": "https://localhost:8080/"
        },
        "id": "zc9PT4DnKTO_",
        "outputId": "12e5421b-414c-42ad-d5ae-08a3194c12cc"
      },
      "execution_count": null,
      "outputs": [
        {
          "output_type": "stream",
          "name": "stderr",
          "text": [
            "WARNING:tensorflow:Model was constructed with shape (512, 512, 3) for input KerasTensor(type_spec=TensorSpec(shape=(512, 512, 3), dtype=tf.uint8, name='random_flip_input'), name='random_flip_input', description=\"created by layer 'random_flip_input'\"), but it was called on an input with incompatible shape (None, 224, 224, 3).\n",
            "WARNING:tensorflow:Using a while_loop for converting RngReadAndSkip cause there is no registered converter for this op.\n",
            "WARNING:tensorflow:Using a while_loop for converting Bitcast cause there is no registered converter for this op.\n",
            "WARNING:tensorflow:Using a while_loop for converting Bitcast cause there is no registered converter for this op.\n",
            "WARNING:tensorflow:Using a while_loop for converting StatelessRandomUniformV2 cause there is no registered converter for this op.\n",
            "WARNING:tensorflow:Using a while_loop for converting ImageProjectiveTransformV3 cause there is no registered converter for this op.\n",
            "WARNING:tensorflow:Using a while_loop for converting RngReadAndSkip cause there is no registered converter for this op.\n",
            "WARNING:tensorflow:Using a while_loop for converting Bitcast cause there is no registered converter for this op.\n",
            "WARNING:tensorflow:Using a while_loop for converting Bitcast cause there is no registered converter for this op.\n",
            "WARNING:tensorflow:Using a while_loop for converting StatelessRandomUniformV2 cause there is no registered converter for this op.\n",
            "WARNING:tensorflow:Using a while_loop for converting ImageProjectiveTransformV3 cause there is no registered converter for this op.\n",
            "WARNING:tensorflow:Model failed to serialize as JSON. Ignoring... Unable to serialize [2.0896919 2.1128857 2.1081853] to JSON. Unrecognized type <class 'tensorflow.python.framework.ops.EagerTensor'>.\n"
          ]
        },
        {
          "output_type": "stream",
          "name": "stdout",
          "text": [
            "Saving TensorBoard log files to: transfer_learning/1_percent_data_aug/20230323-222649\n",
            "Epoch 1/5\n"
          ]
        },
        {
          "output_type": "stream",
          "name": "stderr",
          "text": [
            "WARNING:tensorflow:Model was constructed with shape (512, 512, 3) for input KerasTensor(type_spec=TensorSpec(shape=(512, 512, 3), dtype=tf.uint8, name='random_flip_input'), name='random_flip_input', description=\"created by layer 'random_flip_input'\"), but it was called on an input with incompatible shape (None, 224, 224, 3).\n",
            "WARNING:tensorflow:Using a while_loop for converting RngReadAndSkip cause there is no registered converter for this op.\n",
            "WARNING:tensorflow:Using a while_loop for converting Bitcast cause there is no registered converter for this op.\n",
            "WARNING:tensorflow:Using a while_loop for converting Bitcast cause there is no registered converter for this op.\n",
            "WARNING:tensorflow:Using a while_loop for converting StatelessRandomUniformV2 cause there is no registered converter for this op.\n",
            "WARNING:tensorflow:Using a while_loop for converting ImageProjectiveTransformV3 cause there is no registered converter for this op.\n",
            "WARNING:tensorflow:Using a while_loop for converting RngReadAndSkip cause there is no registered converter for this op.\n",
            "WARNING:tensorflow:Using a while_loop for converting Bitcast cause there is no registered converter for this op.\n",
            "WARNING:tensorflow:Using a while_loop for converting Bitcast cause there is no registered converter for this op.\n",
            "WARNING:tensorflow:Using a while_loop for converting StatelessRandomUniformV2 cause there is no registered converter for this op.\n",
            "WARNING:tensorflow:Using a while_loop for converting ImageProjectiveTransformV3 cause there is no registered converter for this op.\n",
            "WARNING:tensorflow:Model was constructed with shape (512, 512, 3) for input KerasTensor(type_spec=TensorSpec(shape=(512, 512, 3), dtype=tf.uint8, name='random_flip_input'), name='random_flip_input', description=\"created by layer 'random_flip_input'\"), but it was called on an input with incompatible shape (None, 224, 224, 3).\n",
            "WARNING:tensorflow:Using a while_loop for converting RngReadAndSkip cause there is no registered converter for this op.\n",
            "WARNING:tensorflow:Using a while_loop for converting Bitcast cause there is no registered converter for this op.\n",
            "WARNING:tensorflow:Using a while_loop for converting Bitcast cause there is no registered converter for this op.\n",
            "WARNING:tensorflow:Using a while_loop for converting StatelessRandomUniformV2 cause there is no registered converter for this op.\n",
            "WARNING:tensorflow:Using a while_loop for converting ImageProjectiveTransformV3 cause there is no registered converter for this op.\n",
            "WARNING:tensorflow:Using a while_loop for converting RngReadAndSkip cause there is no registered converter for this op.\n",
            "WARNING:tensorflow:Using a while_loop for converting Bitcast cause there is no registered converter for this op.\n",
            "WARNING:tensorflow:Using a while_loop for converting Bitcast cause there is no registered converter for this op.\n",
            "WARNING:tensorflow:Using a while_loop for converting StatelessRandomUniformV2 cause there is no registered converter for this op.\n",
            "WARNING:tensorflow:Using a while_loop for converting ImageProjectiveTransformV3 cause there is no registered converter for this op.\n"
          ]
        },
        {
          "output_type": "stream",
          "name": "stdout",
          "text": [
            "3/3 [==============================] - ETA: 0s - loss: 2.2839 - accuracy: 0.1571"
          ]
        },
        {
          "output_type": "stream",
          "name": "stderr",
          "text": [
            "WARNING:tensorflow:Model was constructed with shape (512, 512, 3) for input KerasTensor(type_spec=TensorSpec(shape=(512, 512, 3), dtype=tf.uint8, name='random_flip_input'), name='random_flip_input', description=\"created by layer 'random_flip_input'\"), but it was called on an input with incompatible shape (None, 224, 224, 3).\n"
          ]
        },
        {
          "output_type": "stream",
          "name": "stdout",
          "text": [
            "\b\b\b\b\b\b\b\b\b\b\b\b\b\b\b\b\b\b\b\b\b\b\b\b\b\b\b\b\b\b\b\b\b\b\b\b\b\b\b\b\b\b\b\b\b\b\b\b\b\b\b\b\b\b\b\b\b\b\b\b\b\b\b\b\b\b\b\b\b\b\b\b\b\b\b\b\b\b\b\b\r3/3 [==============================] - 17s 4s/step - loss: 2.2839 - accuracy: 0.1571 - val_loss: 2.2420 - val_accuracy: 0.2012\n",
            "Epoch 2/5\n",
            "3/3 [==============================] - 8s 3s/step - loss: 2.0473 - accuracy: 0.2429 - val_loss: 2.1095 - val_accuracy: 0.2840\n",
            "Epoch 3/5\n",
            "3/3 [==============================] - 8s 4s/step - loss: 1.8812 - accuracy: 0.4429 - val_loss: 1.9951 - val_accuracy: 0.3580\n",
            "Epoch 4/5\n",
            "3/3 [==============================] - 8s 4s/step - loss: 1.6981 - accuracy: 0.6571 - val_loss: 1.8924 - val_accuracy: 0.4132\n",
            "Epoch 5/5\n",
            "3/3 [==============================] - 7s 3s/step - loss: 1.5402 - accuracy: 0.7143 - val_loss: 1.8000 - val_accuracy: 0.4624\n"
          ]
        }
      ]
    },
    {
      "cell_type": "code",
      "source": [
        "model1.summary()"
      ],
      "metadata": {
        "colab": {
          "base_uri": "https://localhost:8080/"
        },
        "id": "vO3fH8YkNPyy",
        "outputId": "ef422664-ee67-4f5d-9c44-d110223d8eb9"
      },
      "execution_count": null,
      "outputs": [
        {
          "output_type": "stream",
          "name": "stdout",
          "text": [
            "Model: \"model_1\"\n",
            "_________________________________________________________________\n",
            " Layer (type)                Output Shape              Param #   \n",
            "=================================================================\n",
            " input_layer (InputLayer)    [(None, 224, 224, 3)]     0         \n",
            "                                                                 \n",
            " data_augmentation (Sequenti  (None, None, 3)          0         \n",
            " al)                                                             \n",
            "                                                                 \n",
            " efficientnetb0 (Functional)  (None, None, None, 1280)  4049571  \n",
            "                                                                 \n",
            " global_average_pooling_laye  (None, 1280)             0         \n",
            " r (GlobalAveragePooling2D)                                      \n",
            "                                                                 \n",
            " output_layer (Dense)        (None, 10)                12810     \n",
            "                                                                 \n",
            "=================================================================\n",
            "Total params: 4,062,381\n",
            "Trainable params: 12,810\n",
            "Non-trainable params: 4,049,571\n",
            "_________________________________________________________________\n"
          ]
        }
      ]
    },
    {
      "cell_type": "code",
      "source": [
        "model1.evaluate(test_data)"
      ],
      "metadata": {
        "colab": {
          "base_uri": "https://localhost:8080/"
        },
        "id": "F83NYqEUN4HQ",
        "outputId": "a79a57db-2e56-4cac-9b8c-501742de4ff2"
      },
      "execution_count": null,
      "outputs": [
        {
          "output_type": "stream",
          "name": "stdout",
          "text": [
            "79/79 [==============================] - 7s 73ms/step - loss: 1.8000 - accuracy: 0.4624\n"
          ]
        },
        {
          "output_type": "execute_result",
          "data": {
            "text/plain": [
              "[1.7999567985534668, 0.46239998936653137]"
            ]
          },
          "metadata": {},
          "execution_count": 32
        }
      ]
    },
    {
      "cell_type": "code",
      "source": [
        "plot_loss_curves(history_1_percent)"
      ],
      "metadata": {
        "colab": {
          "base_uri": "https://localhost:8080/",
          "height": 573
        },
        "id": "CccRADiUOBpK",
        "outputId": "bca57ed0-8c25-4c14-dccc-7c7944ba2d57"
      },
      "execution_count": null,
      "outputs": [
        {
          "output_type": "display_data",
          "data": {
            "text/plain": [
              "<Figure size 432x288 with 1 Axes>"
            ],
            "image/png": "[encoded data removed]"
          },
          "metadata": {
            "needs_background": "light"
          }
        },
        {
          "output_type": "display_data",
          "data": {
            "text/plain": [
              "<Figure size 432x288 with 1 Axes>"
            ],
            "image/png": "[encoded data removed]"
          },
          "metadata": {
            "needs_background": "light"
          }
        }
      ]
    },
    {
      "cell_type": "markdown",
      "source": [
        "# Model 2"
      ],
      "metadata": {
        "id": "eoE7TjAJOVO1"
      }
    },
    {
      "cell_type": "code",
      "source": [
        "train_dir_10_percent = \"10_food_classes_10_percent/train\"\n",
        "test_dir = \"10_food_classes_10_percent/test\""
      ],
      "metadata": {
        "id": "dicn-uEXG7TY"
      },
      "execution_count": null,
      "outputs": []
    },
    {
      "cell_type": "code",
      "source": [
        "import tensorflow as tf\n",
        "\n",
        "IMAGE_SIZE = (224, 224)\n",
        "BATCH_SIZE = 32\n",
        "\n",
        "train_data_10_percent = tf.keras.preprocessing.image_dataset_from_directory(train_dir_10_percent,\n",
        "                                                                                label_mode=\"categorical\",\n",
        "                                                                                image_size=IMAGE_SIZE,\n",
        "                                                                                batch_size=BATCH_SIZE)\n",
        "\n",
        "test_data = tf.keras.preprocessing.image_dataset_from_directory(test_dir,\n",
        "                                                                    label_mode=\"categorical\",\n",
        "                                                                    image_size=IMAGE_SIZE,\n",
        "                                                                    batch_size=BATCH_SIZE)"
      ],
      "metadata": {
        "colab": {
          "base_uri": "https://localhost:8080/"
        },
        "id": "rwLpITfkHays",
        "outputId": "2399b6e2-612f-4f72-f90b-7a0dcd1c6c07"
      },
      "execution_count": null,
      "outputs": [
        {
          "output_type": "stream",
          "name": "stdout",
          "text": [
            "Found 750 files belonging to 10 classes.\n",
            "Found 2500 files belonging to 10 classes.\n"
          ]
        }
      ]
    },
    {
      "cell_type": "code",
      "source": [
        "from tensorflow.keras import layers\n",
        "from tensorflow.keras.layers.experimental import preprocessing\n",
        "from tensorflow.keras.models import Sequential\n",
        "\n",
        "data_augmentation = Sequential([\n",
        "    preprocessing.RandomFlip(\"horizontal\"),\n",
        "    preprocessing.RandomHeight(0.2),\n",
        "    preprocessing.RandomWidth(0.2),\n",
        "    preprocessing.RandomZoom(0.2),\n",
        "    preprocessing.RandomRotation(0.2)\n",
        "], name=\"data_augmentation\")"
      ],
      "metadata": {
        "id": "SMZTSZOHIU3D"
      },
      "execution_count": null,
      "outputs": []
    },
    {
      "cell_type": "code",
      "source": [
        "input_shape = (224, 224, 3)\n",
        "\n",
        "base_model = tf.keras.applications.EfficientNetB0(include_top=False)\n",
        "base_model.trainable = False\n",
        "\n",
        "inputs = layers.Input(shape=input_shape, name=\"input_layer\")\n",
        "x = data_augmentation(inputs)\n",
        "x = base_model(x, training=False)\n",
        "x = layers.GlobalAveragePooling2D(name=\"global_average_pooling_2D\")(x)\n",
        "outputs = layers.Dense(10, activation=\"softmax\", name=\"output_layer\")(x)\n",
        "model2 = tf.keras.Model(inputs, outputs)\n",
        "\n",
        "model2.compile(loss=\"categorical_crossentropy\",\n",
        "               optimizer=tf.keras.optimizers.Adam(),\n",
        "               metrics=[\"accuracy\"])"
      ],
      "metadata": {
        "id": "1uB9JmhgOcfl",
        "colab": {
          "base_uri": "https://localhost:8080/"
        },
        "outputId": "526093ee-6188-46b1-e841-811aa5cc831b"
      },
      "execution_count": null,
      "outputs": [
        {
          "output_type": "stream",
          "name": "stderr",
          "text": [
            "WARNING:tensorflow:Using a while_loop for converting RngReadAndSkip cause there is no registered converter for this op.\n",
            "WARNING:tensorflow:Using a while_loop for converting Bitcast cause there is no registered converter for this op.\n",
            "WARNING:tensorflow:Using a while_loop for converting Bitcast cause there is no registered converter for this op.\n",
            "WARNING:tensorflow:Using a while_loop for converting StatelessRandomUniformV2 cause there is no registered converter for this op.\n",
            "WARNING:tensorflow:Using a while_loop for converting ImageProjectiveTransformV3 cause there is no registered converter for this op.\n",
            "WARNING:tensorflow:Using a while_loop for converting RngReadAndSkip cause there is no registered converter for this op.\n",
            "WARNING:tensorflow:Using a while_loop for converting Bitcast cause there is no registered converter for this op.\n",
            "WARNING:tensorflow:Using a while_loop for converting Bitcast cause there is no registered converter for this op.\n",
            "WARNING:tensorflow:Using a while_loop for converting StatelessRandomUniformV2 cause there is no registered converter for this op.\n",
            "WARNING:tensorflow:Using a while_loop for converting ImageProjectiveTransformV3 cause there is no registered converter for this op.\n",
            "WARNING:tensorflow:Using a while_loop for converting RngReadAndSkip cause there is no registered converter for this op.\n",
            "WARNING:tensorflow:Using a while_loop for converting Bitcast cause there is no registered converter for this op.\n",
            "WARNING:tensorflow:Using a while_loop for converting Bitcast cause there is no registered converter for this op.\n",
            "WARNING:tensorflow:Using a while_loop for converting StatelessRandomUniformV2 cause there is no registered converter for this op.\n",
            "WARNING:tensorflow:Using a while_loop for converting ImageProjectiveTransformV3 cause there is no registered converter for this op.\n",
            "WARNING:tensorflow:Using a while_loop for converting RngReadAndSkip cause there is no registered converter for this op.\n",
            "WARNING:tensorflow:Using a while_loop for converting Bitcast cause there is no registered converter for this op.\n",
            "WARNING:tensorflow:Using a while_loop for converting Bitcast cause there is no registered converter for this op.\n",
            "WARNING:tensorflow:Using a while_loop for converting StatelessRandomUniformV2 cause there is no registered converter for this op.\n",
            "WARNING:tensorflow:Using a while_loop for converting ImageProjectiveTransformV3 cause there is no registered converter for this op.\n"
          ]
        }
      ]
    },
    {
      "cell_type": "code",
      "source": [
        "checkpoint_path = \"ten_precent_model_checkpoints_weights/checkpoint.ckpt\"\n",
        "\n",
        "checkpoint_callback = tf.keras.callbacks.ModelCheckpoint(filepath=checkpoint_path,\n",
        "                                                         save_weights_only=True,\n",
        "                                                         save_best_only=False,\n",
        "                                                         save_freq=\"epoch\",\n",
        "                                                         verbose=1)"
      ],
      "metadata": {
        "id": "u-Rtv6enxYu5"
      },
      "execution_count": null,
      "outputs": []
    },
    {
      "cell_type": "code",
      "source": [
        "initial_epochs = 5\n",
        "\n",
        "\n",
        "history2 = model2.fit(train_data_10_percent,\n",
        "                      epochs=initial_epochs,\n",
        "                      steps_per_epoch=len(train_data_10_percent),\n",
        "                      validation_data=test_data,\n",
        "                      validation_steps=len(test_data),\n",
        "                      callbacks=[create_tensorboard_callback(dir_name=\"transfer_learning\",\n",
        "                                                             experiment_name=\"10_percent_data_aug\"),\n",
        "                                 checkpoint_callback])"
      ],
      "metadata": {
        "colab": {
          "base_uri": "https://localhost:8080/"
        },
        "id": "6eHH0AvLyZWJ",
        "outputId": "61521246-5ea8-4441-eb32-acc7c98b6fd5"
      },
      "execution_count": null,
      "outputs": [
        {
          "output_type": "stream",
          "name": "stderr",
          "text": [
            "WARNING:tensorflow:Model failed to serialize as JSON. Ignoring... Unable to serialize [2.0896919 2.1128857 2.1081853] to JSON. Unrecognized type <class 'tensorflow.python.framework.ops.EagerTensor'>.\n"
          ]
        },
        {
          "output_type": "stream",
          "name": "stdout",
          "text": [
            "Saving TensorBoard log files to: transfer_learning/10_percent_data_aug/20230323-224251\n",
            "Epoch 1/5\n"
          ]
        },
        {
          "output_type": "stream",
          "name": "stderr",
          "text": [
            "WARNING:tensorflow:Using a while_loop for converting RngReadAndSkip cause there is no registered converter for this op.\n",
            "WARNING:tensorflow:Using a while_loop for converting Bitcast cause there is no registered converter for this op.\n",
            "WARNING:tensorflow:Using a while_loop for converting Bitcast cause there is no registered converter for this op.\n",
            "WARNING:tensorflow:Using a while_loop for converting StatelessRandomUniformV2 cause there is no registered converter for this op.\n",
            "WARNING:tensorflow:Using a while_loop for converting ImageProjectiveTransformV3 cause there is no registered converter for this op.\n",
            "WARNING:tensorflow:Using a while_loop for converting RngReadAndSkip cause there is no registered converter for this op.\n",
            "WARNING:tensorflow:Using a while_loop for converting Bitcast cause there is no registered converter for this op.\n",
            "WARNING:tensorflow:Using a while_loop for converting Bitcast cause there is no registered converter for this op.\n",
            "WARNING:tensorflow:Using a while_loop for converting StatelessRandomUniformV2 cause there is no registered converter for this op.\n",
            "WARNING:tensorflow:Using a while_loop for converting ImageProjectiveTransformV3 cause there is no registered converter for this op.\n",
            "WARNING:tensorflow:Using a while_loop for converting RngReadAndSkip cause there is no registered converter for this op.\n",
            "WARNING:tensorflow:Using a while_loop for converting Bitcast cause there is no registered converter for this op.\n",
            "WARNING:tensorflow:Using a while_loop for converting Bitcast cause there is no registered converter for this op.\n",
            "WARNING:tensorflow:Using a while_loop for converting StatelessRandomUniformV2 cause there is no registered converter for this op.\n",
            "WARNING:tensorflow:Using a while_loop for converting ImageProjectiveTransformV3 cause there is no registered converter for this op.\n",
            "WARNING:tensorflow:Using a while_loop for converting RngReadAndSkip cause there is no registered converter for this op.\n",
            "WARNING:tensorflow:Using a while_loop for converting Bitcast cause there is no registered converter for this op.\n",
            "WARNING:tensorflow:Using a while_loop for converting Bitcast cause there is no registered converter for this op.\n",
            "WARNING:tensorflow:Using a while_loop for converting StatelessRandomUniformV2 cause there is no registered converter for this op.\n",
            "WARNING:tensorflow:Using a while_loop for converting ImageProjectiveTransformV3 cause there is no registered converter for this op.\n"
          ]
        },
        {
          "output_type": "stream",
          "name": "stdout",
          "text": [
            "24/24 [==============================] - ETA: 0s - loss: 1.9796 - accuracy: 0.3480\n",
            "Epoch 1: saving model to ten_precent_model_checkpoints_weights/checkpoint.ckpt\n",
            "24/24 [==============================] - 24s 638ms/step - loss: 1.9796 - accuracy: 0.3480 - val_loss: 1.3991 - val_accuracy: 0.6920\n",
            "Epoch 2/5\n",
            "24/24 [==============================] - ETA: 0s - loss: 1.3091 - accuracy: 0.6747\n",
            "Epoch 2: saving model to ten_precent_model_checkpoints_weights/checkpoint.ckpt\n",
            "24/24 [==============================] - 14s 589ms/step - loss: 1.3091 - accuracy: 0.6747 - val_loss: 0.9808 - val_accuracy: 0.7912\n",
            "Epoch 3/5\n",
            "24/24 [==============================] - ETA: 0s - loss: 1.0137 - accuracy: 0.7547\n",
            "Epoch 3: saving model to ten_precent_model_checkpoints_weights/checkpoint.ckpt\n",
            "24/24 [==============================] - 19s 807ms/step - loss: 1.0137 - accuracy: 0.7547 - val_loss: 0.7878 - val_accuracy: 0.8164\n",
            "Epoch 4/5\n",
            "24/24 [==============================] - ETA: 0s - loss: 0.8435 - accuracy: 0.7720\n",
            "Epoch 4: saving model to ten_precent_model_checkpoints_weights/checkpoint.ckpt\n",
            "24/24 [==============================] - 14s 596ms/step - loss: 0.8435 - accuracy: 0.7720 - val_loss: 0.6797 - val_accuracy: 0.8360\n",
            "Epoch 5/5\n",
            "24/24 [==============================] - ETA: 0s - loss: 0.7562 - accuracy: 0.8200\n",
            "Epoch 5: saving model to ten_precent_model_checkpoints_weights/checkpoint.ckpt\n",
            "24/24 [==============================] - 15s 620ms/step - loss: 0.7562 - accuracy: 0.8200 - val_loss: 0.6198 - val_accuracy: 0.8432\n"
          ]
        }
      ]
    },
    {
      "cell_type": "code",
      "source": [
        "model_0.evaluate(test_data)"
      ],
      "metadata": {
        "colab": {
          "base_uri": "https://localhost:8080/"
        },
        "id": "jVjyWMLRy0iJ",
        "outputId": "af98e87d-54bc-440c-b6ad-f7b8fbd2dbf0"
      },
      "execution_count": null,
      "outputs": [
        {
          "output_type": "stream",
          "name": "stdout",
          "text": [
            "79/79 [==============================] - 6s 67ms/step - loss: 0.5574 - accuracy: 0.8576\n"
          ]
        },
        {
          "output_type": "execute_result",
          "data": {
            "text/plain": [
              "[0.5573620796203613, 0.8575999736785889]"
            ]
          },
          "metadata": {},
          "execution_count": 77
        }
      ]
    },
    {
      "cell_type": "code",
      "source": [
        "result_10_percent_model = model2.evaluate(test_data)"
      ],
      "metadata": {
        "colab": {
          "base_uri": "https://localhost:8080/"
        },
        "id": "RWXFUoNH1HqC",
        "outputId": "442cff98-cd23-480f-f6b9-f6574b45b29c"
      },
      "execution_count": null,
      "outputs": [
        {
          "output_type": "stream",
          "name": "stdout",
          "text": [
            "79/79 [==============================] - 6s 67ms/step - loss: 0.6198 - accuracy: 0.8432\n"
          ]
        }
      ]
    },
    {
      "cell_type": "code",
      "source": [
        "plot_loss_curves(history2)"
      ],
      "metadata": {
        "colab": {
          "base_uri": "https://localhost:8080/",
          "height": 573
        },
        "id": "FjI-GE1N1l-e",
        "outputId": "32c40bf7-a69d-4b54-a94d-eed74da5b328"
      },
      "execution_count": null,
      "outputs": [
        {
          "output_type": "display_data",
          "data": {
            "text/plain": [
              "<Figure size 432x288 with 1 Axes>"
            ],
            "image/png": "[encoded data removed]"
          },
          "metadata": {
            "needs_background": "light"
          }
        },
        {
          "output_type": "display_data",
          "data": {
            "text/plain": [
              "<Figure size 432x288 with 1 Axes>"
            ],
            "image/png": "[encoded data removed]"
          },
          "metadata": {
            "needs_background": "light"
          }
        }
      ]
    },
    {
      "cell_type": "code",
      "source": [
        "model2.load_weights(checkpoint_path)"
      ],
      "metadata": {
        "colab": {
          "base_uri": "https://localhost:8080/"
        },
        "id": "Zu33hvks13JL",
        "outputId": "a83f92cc-c21e-439a-c17f-269b6a628872"
      },
      "execution_count": null,
      "outputs": [
        {
          "output_type": "execute_result",
          "data": {
            "text/plain": [
              "<tensorflow.python.checkpoint.checkpoint.CheckpointLoadStatus at 0x7fd1c0b7ee80>"
            ]
          },
          "metadata": {},
          "execution_count": 80
        }
      ]
    },
    {
      "cell_type": "code",
      "source": [
        "loaded_weights_result = model2.evaluate(test_data)"
      ],
      "metadata": {
        "colab": {
          "base_uri": "https://localhost:8080/"
        },
        "id": "EY-PEow423Bu",
        "outputId": "1f1b1791-25b4-415d-d65a-72fd9a8da2b0"
      },
      "execution_count": null,
      "outputs": [
        {
          "output_type": "stream",
          "name": "stdout",
          "text": [
            "79/79 [==============================] - 7s 82ms/step - loss: 0.6100 - accuracy: 0.8500\n"
          ]
        }
      ]
    },
    {
      "cell_type": "code",
      "source": [
        "result_10_percent_model == loaded_weights_result"
      ],
      "metadata": {
        "colab": {
          "base_uri": "https://localhost:8080/"
        },
        "id": "si4_OgQO288F",
        "outputId": "4a331414-5168-4e52-8a47-72c2ccb1c202"
      },
      "execution_count": null,
      "outputs": [
        {
          "output_type": "execute_result",
          "data": {
            "text/plain": [
              "False"
            ]
          },
          "metadata": {},
          "execution_count": 45
        }
      ]
    },
    {
      "cell_type": "code",
      "source": [
        "import numpy as np\n",
        "np.isclose(np.array(result_10_percent_model), np.array(loaded_weights_result))"
      ],
      "metadata": {
        "colab": {
          "base_uri": "https://localhost:8080/"
        },
        "id": "xk3FfQii3g1i",
        "outputId": "2f4e3c10-4646-4162-b9d2-7b7ff52083b5"
      },
      "execution_count": null,
      "outputs": [
        {
          "output_type": "execute_result",
          "data": {
            "text/plain": [
              "array([ True,  True])"
            ]
          },
          "metadata": {},
          "execution_count": 46
        }
      ]
    },
    {
      "cell_type": "code",
      "source": [
        "model2.layers"
      ],
      "metadata": {
        "colab": {
          "base_uri": "https://localhost:8080/"
        },
        "id": "eeoICuZm4OoX",
        "outputId": "1dc64cf6-a713-42c7-d779-ede71c004ae1"
      },
      "execution_count": null,
      "outputs": [
        {
          "output_type": "execute_result",
          "data": {
            "text/plain": [
              "[<keras.engine.input_layer.InputLayer at 0x7fd220110a30>,\n",
              " <keras.engine.sequential.Sequential at 0x7fd221179490>,\n",
              " <keras.engine.functional.Functional at 0x7fd20bc7ca00>,\n",
              " <keras.layers.pooling.global_average_pooling2d.GlobalAveragePooling2D at 0x7fd20bb88d60>,\n",
              " <keras.layers.core.dense.Dense at 0x7fd1f400fd90>]"
            ]
          },
          "metadata": {},
          "execution_count": 47
        }
      ]
    },
    {
      "cell_type": "code",
      "source": [
        "for layer in model2.layers:\n",
        "  print(layer, layer.trainable)"
      ],
      "metadata": {
        "colab": {
          "base_uri": "https://localhost:8080/"
        },
        "id": "mCh-bNrENkOp",
        "outputId": "2cc76999-ed7e-4aab-b3ca-08a32f3a8149"
      },
      "execution_count": null,
      "outputs": [
        {
          "output_type": "stream",
          "name": "stdout",
          "text": [
            "<keras.engine.input_layer.InputLayer object at 0x7fd220110a30> True\n",
            "<keras.engine.sequential.Sequential object at 0x7fd221179490> True\n",
            "<keras.engine.functional.Functional object at 0x7fd20bc7ca00> False\n",
            "<keras.layers.pooling.global_average_pooling2d.GlobalAveragePooling2D object at 0x7fd20bb88d60> True\n",
            "<keras.layers.core.dense.Dense object at 0x7fd1f400fd90> True\n"
          ]
        }
      ]
    },
    {
      "cell_type": "code",
      "source": [
        "for i, layer in enumerate(model2.layers[2].layers):\n",
        "  print(i, layer, layer.trainable)"
      ],
      "metadata": {
        "colab": {
          "base_uri": "https://localhost:8080/"
        },
        "id": "OLxZJk5iN2Ug",
        "outputId": "e1bc7754-8056-4f24-867e-50a04f8e237c"
      },
      "execution_count": null,
      "outputs": [
        {
          "output_type": "stream",
          "name": "stdout",
          "text": [
            "0 <keras.engine.input_layer.InputLayer object at 0x7fd221184520> False\n",
            "1 <keras.layers.preprocessing.image_preprocessing.Rescaling object at 0x7fd221184850> False\n",
            "2 <keras.layers.preprocessing.normalization.Normalization object at 0x7fd20bf57ee0> False\n",
            "3 <keras.layers.preprocessing.image_preprocessing.Rescaling object at 0x7fd1f408bac0> False\n",
            "4 <keras.layers.reshaping.zero_padding2d.ZeroPadding2D object at 0x7fd20bf4ea00> False\n",
            "5 <keras.layers.convolutional.conv2d.Conv2D object at 0x7fd22144d910> False\n",
            "6 <keras.layers.normalization.batch_normalization.BatchNormalization object at 0x7fd2214a10a0> False\n",
            "7 <keras.layers.core.activation.Activation object at 0x7fd20beb0fd0> False\n",
            "8 <keras.layers.convolutional.depthwise_conv2d.DepthwiseConv2D object at 0x7fd20bebf610> False\n",
            "9 <keras.layers.normalization.batch_normalization.BatchNormalization object at 0x7fd20beba610> False\n",
            "10 <keras.layers.core.activation.Activation object at 0x7fd20beba310> False\n",
            "11 <keras.layers.pooling.global_average_pooling2d.GlobalAveragePooling2D object at 0x7fd20bf69df0> False\n",
            "12 <keras.layers.reshaping.reshape.Reshape object at 0x7fd20becac70> False\n",
            "13 <keras.layers.convolutional.conv2d.Conv2D object at 0x7fd20beca400> False\n",
            "14 <keras.layers.convolutional.conv2d.Conv2D object at 0x7fd20beba430> False\n",
            "15 <keras.layers.merging.multiply.Multiply object at 0x7fd20beba910> False\n",
            "16 <keras.layers.convolutional.conv2d.Conv2D object at 0x7fd20bee6460> False\n",
            "17 <keras.layers.normalization.batch_normalization.BatchNormalization object at 0x7fd20beca850> False\n",
            "18 <keras.layers.convolutional.conv2d.Conv2D object at 0x7fd20bebf400> False\n",
            "19 <keras.layers.normalization.batch_normalization.BatchNormalization object at 0x7fd20bed3580> False\n",
            "20 <keras.layers.core.activation.Activation object at 0x7fd20bedbe20> False\n",
            "21 <keras.layers.reshaping.zero_padding2d.ZeroPadding2D object at 0x7fd20bee6490> False\n",
            "22 <keras.layers.convolutional.depthwise_conv2d.DepthwiseConv2D object at 0x7fd20bf3ef10> False\n",
            "23 <keras.layers.normalization.batch_normalization.BatchNormalization object at 0x7fd20bebf5b0> False\n",
            "24 <keras.layers.core.activation.Activation object at 0x7fd221251a30> False\n",
            "25 <keras.layers.pooling.global_average_pooling2d.GlobalAveragePooling2D object at 0x7fd20becaa60> False\n",
            "26 <keras.layers.reshaping.reshape.Reshape object at 0x7fd2212655b0> False\n",
            "27 <keras.layers.convolutional.conv2d.Conv2D object at 0x7fd221247460> False\n",
            "28 <keras.layers.convolutional.conv2d.Conv2D object at 0x7fd20be469a0> False\n",
            "29 <keras.layers.merging.multiply.Multiply object at 0x7fd221265c40> False\n",
            "30 <keras.layers.convolutional.conv2d.Conv2D object at 0x7fd20be46af0> False\n",
            "31 <keras.layers.normalization.batch_normalization.BatchNormalization object at 0x7fd20be55880> False\n",
            "32 <keras.layers.convolutional.conv2d.Conv2D object at 0x7fd2212516d0> False\n",
            "33 <keras.layers.normalization.batch_normalization.BatchNormalization object at 0x7fd20be4b040> False\n",
            "34 <keras.layers.core.activation.Activation object at 0x7fd20be65700> False\n",
            "35 <keras.layers.convolutional.depthwise_conv2d.DepthwiseConv2D object at 0x7fd20be558b0> False\n",
            "36 <keras.layers.normalization.batch_normalization.BatchNormalization object at 0x7fd20be4b9a0> False\n",
            "37 <keras.layers.core.activation.Activation object at 0x7fd20be75070> False\n",
            "38 <keras.layers.pooling.global_average_pooling2d.GlobalAveragePooling2D object at 0x7fd20be6c1f0> False\n",
            "39 <keras.layers.reshaping.reshape.Reshape object at 0x7fd20be75730> False\n",
            "40 <keras.layers.convolutional.conv2d.Conv2D object at 0x7fd2b00acb50> False\n",
            "41 <keras.layers.convolutional.conv2d.Conv2D object at 0x7fd20be05ee0> False\n",
            "42 <keras.layers.merging.multiply.Multiply object at 0x7fd20be05f40> False\n",
            "43 <keras.layers.convolutional.conv2d.Conv2D object at 0x7fd20be7ea60> False\n",
            "44 <keras.layers.normalization.batch_normalization.BatchNormalization object at 0x7fd20be75700> False\n",
            "45 <keras.layers.regularization.dropout.Dropout object at 0x7fd20bee6370> False\n",
            "46 <keras.layers.merging.add.Add object at 0x7fd221255d00> False\n",
            "47 <keras.layers.convolutional.conv2d.Conv2D object at 0x7fd20be12af0> False\n",
            "48 <keras.layers.normalization.batch_normalization.BatchNormalization object at 0x7fd20bedbb20> False\n",
            "49 <keras.layers.core.activation.Activation object at 0x7fd22124d9d0> False\n",
            "50 <keras.layers.reshaping.zero_padding2d.ZeroPadding2D object at 0x7fd20be05eb0> False\n",
            "51 <keras.layers.convolutional.depthwise_conv2d.DepthwiseConv2D object at 0x7fd20be1e6a0> False\n",
            "52 <keras.layers.normalization.batch_normalization.BatchNormalization object at 0x7fd20be1ec40> False\n",
            "53 <keras.layers.core.activation.Activation object at 0x7fd20be2c0d0> False\n",
            "54 <keras.layers.pooling.global_average_pooling2d.GlobalAveragePooling2D object at 0x7fd20be2c7c0> False\n",
            "55 <keras.layers.reshaping.reshape.Reshape object at 0x7fd20be26fd0> False\n",
            "56 <keras.layers.convolutional.conv2d.Conv2D object at 0x7fd20be2cc40> False\n",
            "57 <keras.layers.convolutional.conv2d.Conv2D object at 0x7fd22126cee0> False\n",
            "58 <keras.layers.merging.multiply.Multiply object at 0x7fd20be1ebe0> False\n",
            "59 <keras.layers.convolutional.conv2d.Conv2D object at 0x7fd20be33a90> False\n",
            "60 <keras.layers.normalization.batch_normalization.BatchNormalization object at 0x7fd20bdc3a00> False\n",
            "61 <keras.layers.convolutional.conv2d.Conv2D object at 0x7fd20be26850> False\n",
            "62 <keras.layers.normalization.batch_normalization.BatchNormalization object at 0x7fd20bdcdd30> False\n",
            "63 <keras.layers.core.activation.Activation object at 0x7fd20bdd2070> False\n",
            "64 <keras.layers.convolutional.depthwise_conv2d.DepthwiseConv2D object at 0x7fd20bdcda90> False\n",
            "65 <keras.layers.normalization.batch_normalization.BatchNormalization object at 0x7fd20be267c0> False\n",
            "66 <keras.layers.core.activation.Activation object at 0x7fd20be33af0> False\n",
            "67 <keras.layers.pooling.global_average_pooling2d.GlobalAveragePooling2D object at 0x7fd20bddb370> False\n",
            "68 <keras.layers.reshaping.reshape.Reshape object at 0x7fd20bde59d0> False\n",
            "69 <keras.layers.convolutional.conv2d.Conv2D object at 0x7fd20bdeb0a0> False\n",
            "70 <keras.layers.convolutional.conv2d.Conv2D object at 0x7fd20bdf18b0> False\n",
            "71 <keras.layers.merging.multiply.Multiply object at 0x7fd20bddb460> False\n",
            "72 <keras.layers.convolutional.conv2d.Conv2D object at 0x7fd20bdfc7c0> False\n",
            "73 <keras.layers.normalization.batch_normalization.BatchNormalization object at 0x7fd20bdfc910> False\n",
            "74 <keras.layers.regularization.dropout.Dropout object at 0x7fd20bd90c10> False\n",
            "75 <keras.layers.merging.add.Add object at 0x7fd20bd90af0> False\n",
            "76 <keras.layers.convolutional.conv2d.Conv2D object at 0x7fd20be129d0> False\n",
            "77 <keras.layers.normalization.batch_normalization.BatchNormalization object at 0x7fd20bd86a30> False\n",
            "78 <keras.layers.core.activation.Activation object at 0x7fd20bd9ef10> False\n",
            "79 <keras.layers.reshaping.zero_padding2d.ZeroPadding2D object at 0x7fd20bda1af0> False\n",
            "80 <keras.layers.convolutional.depthwise_conv2d.DepthwiseConv2D object at 0x7fd20be75d90> False\n",
            "81 <keras.layers.normalization.batch_normalization.BatchNormalization object at 0x7fd20bda1250> False\n",
            "82 <keras.layers.core.activation.Activation object at 0x7fd20bdeb940> False\n",
            "83 <keras.layers.pooling.global_average_pooling2d.GlobalAveragePooling2D object at 0x7fd20bddb130> False\n",
            "84 <keras.layers.reshaping.reshape.Reshape object at 0x7fd20bdc3190> False\n",
            "85 <keras.layers.convolutional.conv2d.Conv2D object at 0x7fd20bdd2e20> False\n",
            "86 <keras.layers.convolutional.conv2d.Conv2D object at 0x7fd221251bb0> False\n",
            "87 <keras.layers.merging.multiply.Multiply object at 0x7fd20be26b80> False\n",
            "88 <keras.layers.convolutional.conv2d.Conv2D object at 0x7fd22126c250> False\n",
            "89 <keras.layers.normalization.batch_normalization.BatchNormalization object at 0x7fd20bdb5610> False\n",
            "90 <keras.layers.convolutional.conv2d.Conv2D object at 0x7fd20bdfc100> False\n",
            "91 <keras.layers.normalization.batch_normalization.BatchNormalization object at 0x7fd20bdaa820> False\n",
            "92 <keras.layers.core.activation.Activation object at 0x7fd20bdbeca0> False\n",
            "93 <keras.layers.convolutional.depthwise_conv2d.DepthwiseConv2D object at 0x7fd20bdbe2b0> False\n",
            "94 <keras.layers.normalization.batch_normalization.BatchNormalization object at 0x7fd20bdb8e20> False\n",
            "95 <keras.layers.core.activation.Activation object at 0x7fd20bd4cbe0> False\n",
            "96 <keras.layers.pooling.global_average_pooling2d.GlobalAveragePooling2D object at 0x7fd20bdbef40> False\n",
            "97 <keras.layers.reshaping.reshape.Reshape object at 0x7fd20bd45fa0> False\n",
            "98 <keras.layers.convolutional.conv2d.Conv2D object at 0x7fd20bd45e50> False\n",
            "99 <keras.layers.convolutional.conv2d.Conv2D object at 0x7fd20bd5bca0> False\n",
            "100 <keras.layers.merging.multiply.Multiply object at 0x7fd20bd450a0> False\n",
            "101 <keras.layers.convolutional.conv2d.Conv2D object at 0x7fd20bd661c0> False\n",
            "102 <keras.layers.normalization.batch_normalization.BatchNormalization object at 0x7fd20bd66550> False\n",
            "103 <keras.layers.regularization.dropout.Dropout object at 0x7fd20bd76f10> False\n",
            "104 <keras.layers.merging.add.Add object at 0x7fd20bd6ff40> False\n",
            "105 <keras.layers.convolutional.conv2d.Conv2D object at 0x7fd20bd7f1f0> False\n",
            "106 <keras.layers.normalization.batch_normalization.BatchNormalization object at 0x7fd20bd7fe80> False\n",
            "107 <keras.layers.core.activation.Activation object at 0x7fd20bd0f1f0> False\n",
            "108 <keras.layers.convolutional.depthwise_conv2d.DepthwiseConv2D object at 0x7fd20bd5bc70> False\n",
            "109 <keras.layers.normalization.batch_normalization.BatchNormalization object at 0x7fd20bd06ee0> False\n",
            "110 <keras.layers.core.activation.Activation object at 0x7fd20bd21d90> False\n",
            "111 <keras.layers.pooling.global_average_pooling2d.GlobalAveragePooling2D object at 0x7fd20bd21c10> False\n",
            "112 <keras.layers.reshaping.reshape.Reshape object at 0x7fd20bd16250> False\n",
            "113 <keras.layers.convolutional.conv2d.Conv2D object at 0x7fd20bd21dc0> False\n",
            "114 <keras.layers.convolutional.conv2d.Conv2D object at 0x7fd20be0df70> False\n",
            "115 <keras.layers.merging.multiply.Multiply object at 0x7fd20bd06070> False\n",
            "116 <keras.layers.convolutional.conv2d.Conv2D object at 0x7fd20bd34ee0> False\n",
            "117 <keras.layers.normalization.batch_normalization.BatchNormalization object at 0x7fd20bd34d00> False\n",
            "118 <keras.layers.regularization.dropout.Dropout object at 0x7fd20bd3d400> False\n",
            "119 <keras.layers.merging.add.Add object at 0x7fd20bd3deb0> False\n",
            "120 <keras.layers.convolutional.conv2d.Conv2D object at 0x7fd20bd9e2b0> False\n",
            "121 <keras.layers.normalization.batch_normalization.BatchNormalization object at 0x7fd20bd53bb0> False\n",
            "122 <keras.layers.core.activation.Activation object at 0x7fd20bd536a0> False\n",
            "123 <keras.layers.convolutional.depthwise_conv2d.DepthwiseConv2D object at 0x7fd20bd53460> False\n",
            "124 <keras.layers.normalization.batch_normalization.BatchNormalization object at 0x7fd20bdb5d90> False\n",
            "125 <keras.layers.core.activation.Activation object at 0x7fd20bd5be50> False\n",
            "126 <keras.layers.pooling.global_average_pooling2d.GlobalAveragePooling2D object at 0x7fd20bdf1d00> False\n",
            "127 <keras.layers.reshaping.reshape.Reshape object at 0x7fd20bccd520> False\n",
            "128 <keras.layers.convolutional.conv2d.Conv2D object at 0x7fd20bd45400> False\n",
            "129 <keras.layers.convolutional.conv2d.Conv2D object at 0x7fd20bccd670> False\n",
            "130 <keras.layers.merging.multiply.Multiply object at 0x7fd20bdaab20> False\n",
            "131 <keras.layers.convolutional.conv2d.Conv2D object at 0x7fd20bcd8160> False\n",
            "132 <keras.layers.normalization.batch_normalization.BatchNormalization object at 0x7fd20bcd4b50> False\n",
            "133 <keras.layers.convolutional.conv2d.Conv2D object at 0x7fd20bce71c0> False\n",
            "134 <keras.layers.normalization.batch_normalization.BatchNormalization object at 0x7fd20bce14c0> False\n",
            "135 <keras.layers.core.activation.Activation object at 0x7fd20bce7b50> False\n",
            "136 <keras.layers.convolutional.depthwise_conv2d.DepthwiseConv2D object at 0x7fd20bcf6d00> False\n",
            "137 <keras.layers.normalization.batch_normalization.BatchNormalization object at 0x7fd20bccda90> False\n",
            "138 <keras.layers.core.activation.Activation object at 0x7fd20bcffc10> False\n",
            "139 <keras.layers.pooling.global_average_pooling2d.GlobalAveragePooling2D object at 0x7fd20bcf6460> False\n",
            "140 <keras.layers.reshaping.reshape.Reshape object at 0x7fd20bc86e80> False\n",
            "141 <keras.layers.convolutional.conv2d.Conv2D object at 0x7fd20bc86a60> False\n",
            "142 <keras.layers.convolutional.conv2d.Conv2D object at 0x7fd20bce1d00> False\n",
            "143 <keras.layers.merging.multiply.Multiply object at 0x7fd20bc94190> False\n",
            "144 <keras.layers.convolutional.conv2d.Conv2D object at 0x7fd20bc94430> False\n",
            "145 <keras.layers.normalization.batch_normalization.BatchNormalization object at 0x7fd20bc86fa0> False\n",
            "146 <keras.layers.regularization.dropout.Dropout object at 0x7fd20bcffe50> False\n",
            "147 <keras.layers.merging.add.Add object at 0x7fd20bd21220> False\n",
            "148 <keras.layers.convolutional.conv2d.Conv2D object at 0x7fd20bca7cd0> False\n",
            "149 <keras.layers.normalization.batch_normalization.BatchNormalization object at 0x7fd20bc9ddf0> False\n",
            "150 <keras.layers.core.activation.Activation object at 0x7fd20bcb9af0> False\n",
            "151 <keras.layers.convolutional.depthwise_conv2d.DepthwiseConv2D object at 0x7fd20bc8b640> False\n",
            "152 <keras.layers.normalization.batch_normalization.BatchNormalization object at 0x7fd20bca7d60> False\n",
            "153 <keras.layers.core.activation.Activation object at 0x7fd20bc499a0> False\n",
            "154 <keras.layers.pooling.global_average_pooling2d.GlobalAveragePooling2D object at 0x7fd20bcbe1f0> False\n",
            "155 <keras.layers.reshaping.reshape.Reshape object at 0x7fd20bc53580> False\n",
            "156 <keras.layers.convolutional.conv2d.Conv2D object at 0x7fd20bc5b760> False\n",
            "157 <keras.layers.convolutional.conv2d.Conv2D object at 0x7fd20bc5bee0> False\n",
            "158 <keras.layers.merging.multiply.Multiply object at 0x7fd20bc5bf40> False\n",
            "159 <keras.layers.convolutional.conv2d.Conv2D object at 0x7fd20bc53700> False\n",
            "160 <keras.layers.normalization.batch_normalization.BatchNormalization object at 0x7fd20bc49ac0> False\n",
            "161 <keras.layers.regularization.dropout.Dropout object at 0x7fd20bd0f100> False\n",
            "162 <keras.layers.merging.add.Add object at 0x7fd20bcc4340> False\n",
            "163 <keras.layers.convolutional.conv2d.Conv2D object at 0x7fd20bd21880> False\n",
            "164 <keras.layers.normalization.batch_normalization.BatchNormalization object at 0x7fd20bc9de50> False\n",
            "165 <keras.layers.core.activation.Activation object at 0x7fd20bc9daf0> False\n",
            "166 <keras.layers.reshaping.zero_padding2d.ZeroPadding2D object at 0x7fd20bcbe910> False\n",
            "167 <keras.layers.convolutional.depthwise_conv2d.DepthwiseConv2D object at 0x7fd20bde5fd0> False\n",
            "168 <keras.layers.normalization.batch_normalization.BatchNormalization object at 0x7fd20bcb99a0> False\n",
            "169 <keras.layers.core.activation.Activation object at 0x7fd20bc7cf10> False\n",
            "170 <keras.layers.pooling.global_average_pooling2d.GlobalAveragePooling2D object at 0x7fd20bc7c5e0> False\n",
            "171 <keras.layers.reshaping.reshape.Reshape object at 0x7fd20bc747f0> False\n",
            "172 <keras.layers.convolutional.conv2d.Conv2D object at 0x7fd20bc949d0> False\n",
            "173 <keras.layers.convolutional.conv2d.Conv2D object at 0x7fd20bc00880> False\n",
            "174 <keras.layers.merging.multiply.Multiply object at 0x7fd20bc6e430> False\n",
            "175 <keras.layers.convolutional.conv2d.Conv2D object at 0x7fd20bc0d5e0> False\n",
            "176 <keras.layers.normalization.batch_normalization.BatchNormalization object at 0x7fd20bc13400> False\n",
            "177 <keras.layers.convolutional.conv2d.Conv2D object at 0x7fd20bc1ddc0> False\n",
            "178 <keras.layers.normalization.batch_normalization.BatchNormalization object at 0x7fd20bc2b9d0> False\n",
            "179 <keras.layers.core.activation.Activation object at 0x7fd20bc23a00> False\n",
            "180 <keras.layers.convolutional.depthwise_conv2d.DepthwiseConv2D object at 0x7fd20bc2b730> False\n",
            "181 <keras.layers.normalization.batch_normalization.BatchNormalization object at 0x7fd20bc00700> False\n",
            "182 <keras.layers.core.activation.Activation object at 0x7fd20bc381f0> False\n",
            "183 <keras.layers.pooling.global_average_pooling2d.GlobalAveragePooling2D object at 0x7fd20bc312e0> False\n",
            "184 <keras.layers.reshaping.reshape.Reshape object at 0x7fd20bbc5100> False\n",
            "185 <keras.layers.convolutional.conv2d.Conv2D object at 0x7fd20bbc1e20> False\n",
            "186 <keras.layers.convolutional.conv2d.Conv2D object at 0x7fd20bbc5910> False\n",
            "187 <keras.layers.merging.multiply.Multiply object at 0x7fd20bc382e0> False\n",
            "188 <keras.layers.convolutional.conv2d.Conv2D object at 0x7fd20bc1d400> False\n",
            "189 <keras.layers.normalization.batch_normalization.BatchNormalization object at 0x7fd20bbd4280> False\n",
            "190 <keras.layers.regularization.dropout.Dropout object at 0x7fd20bbeda00> False\n",
            "191 <keras.layers.merging.add.Add object at 0x7fd20bccda00> False\n",
            "192 <keras.layers.convolutional.conv2d.Conv2D object at 0x7fd20bbe7a60> False\n",
            "193 <keras.layers.normalization.batch_normalization.BatchNormalization object at 0x7fd20bbd4310> False\n",
            "194 <keras.layers.core.activation.Activation object at 0x7fd20bb806a0> False\n",
            "195 <keras.layers.convolutional.depthwise_conv2d.DepthwiseConv2D object at 0x7fd20bf17970> False\n",
            "196 <keras.layers.normalization.batch_normalization.BatchNormalization object at 0x7fd20bbdbe80> False\n",
            "197 <keras.layers.core.activation.Activation object at 0x7fd20bbc1130> False\n",
            "198 <keras.layers.pooling.global_average_pooling2d.GlobalAveragePooling2D object at 0x7fd20bb80f40> False\n",
            "199 <keras.layers.reshaping.reshape.Reshape object at 0x7fd20bb80b80> False\n",
            "200 <keras.layers.convolutional.conv2d.Conv2D object at 0x7fd20bbc5c40> False\n",
            "201 <keras.layers.convolutional.conv2d.Conv2D object at 0x7fd20bbc5340> False\n",
            "202 <keras.layers.merging.multiply.Multiply object at 0x7fd20bc6e610> False\n",
            "203 <keras.layers.convolutional.conv2d.Conv2D object at 0x7fd20bc004c0> False\n",
            "204 <keras.layers.normalization.batch_normalization.BatchNormalization object at 0x7fd20bc0d4f0> False\n",
            "205 <keras.layers.regularization.dropout.Dropout object at 0x7fd20bb8da90> False\n",
            "206 <keras.layers.merging.add.Add object at 0x7fd20bb886d0> False\n",
            "207 <keras.layers.convolutional.conv2d.Conv2D object at 0x7fd20bb92460> False\n",
            "208 <keras.layers.normalization.batch_normalization.BatchNormalization object at 0x7fd20bb888b0> False\n",
            "209 <keras.layers.core.activation.Activation object at 0x7fd20bb9e250> False\n",
            "210 <keras.layers.convolutional.depthwise_conv2d.DepthwiseConv2D object at 0x7fd20bc6ec40> False\n",
            "211 <keras.layers.normalization.batch_normalization.BatchNormalization object at 0x7fd20bb974c0> False\n",
            "212 <keras.layers.core.activation.Activation object at 0x7fd20bbaf5e0> False\n",
            "213 <keras.layers.pooling.global_average_pooling2d.GlobalAveragePooling2D object at 0x7fd20bbafe50> False\n",
            "214 <keras.layers.reshaping.reshape.Reshape object at 0x7fd20bce13a0> False\n",
            "215 <keras.layers.convolutional.conv2d.Conv2D object at 0x7fd20bbaf550> False\n",
            "216 <keras.layers.convolutional.conv2d.Conv2D object at 0x7fd20bbdb2e0> False\n",
            "217 <keras.layers.merging.multiply.Multiply object at 0x7fd20bb97100> False\n",
            "218 <keras.layers.convolutional.conv2d.Conv2D object at 0x7fd20bbbf100> False\n",
            "219 <keras.layers.normalization.batch_normalization.BatchNormalization object at 0x7fd20bbbff40> False\n",
            "220 <keras.layers.regularization.dropout.Dropout object at 0x7fd20bb50880> False\n",
            "221 <keras.layers.merging.add.Add object at 0x7fd20bba6ee0> False\n",
            "222 <keras.layers.convolutional.conv2d.Conv2D object at 0x7fd20bdcd100> False\n",
            "223 <keras.layers.normalization.batch_normalization.BatchNormalization object at 0x7fd20bb92d30> False\n",
            "224 <keras.layers.core.activation.Activation object at 0x7fd20bb64220> False\n",
            "225 <keras.layers.convolutional.depthwise_conv2d.DepthwiseConv2D object at 0x7fd20bbbf670> False\n",
            "226 <keras.layers.normalization.batch_normalization.BatchNormalization object at 0x7fd20bbb7250> False\n",
            "227 <keras.layers.core.activation.Activation object at 0x7fd20bb6bb80> False\n",
            "228 <keras.layers.pooling.global_average_pooling2d.GlobalAveragePooling2D object at 0x7fd20bb5be80> False\n",
            "229 <keras.layers.reshaping.reshape.Reshape object at 0x7fd20bbbf2e0> False\n",
            "230 <keras.layers.convolutional.conv2d.Conv2D object at 0x7fd20bb02d60> False\n",
            "231 <keras.layers.convolutional.conv2d.Conv2D object at 0x7fd20bb7cbe0> False\n",
            "232 <keras.layers.merging.multiply.Multiply object at 0x7fd20bb0ee20> False\n",
            "233 <keras.layers.convolutional.conv2d.Conv2D object at 0x7fd20bb7caf0> False\n",
            "234 <keras.layers.normalization.batch_normalization.BatchNormalization object at 0x7fd20bb0e970> False\n",
            "235 <keras.layers.convolutional.conv2d.Conv2D object at 0x7fd20bf85790> False\n",
            "236 <keras.layers.normalization.batch_normalization.BatchNormalization object at 0x7fd20bbb75e0> False\n",
            "237 <keras.layers.core.activation.Activation object at 0x7fd20bba6f40> False\n"
          ]
        }
      ]
    },
    {
      "cell_type": "code",
      "source": [
        "print(len(model2.layers[2].trainable_variables))"
      ],
      "metadata": {
        "colab": {
          "base_uri": "https://localhost:8080/"
        },
        "id": "hYfpxasIPZbG",
        "outputId": "9d72a180-bdf5-40cd-d200-af522c847ce6"
      },
      "execution_count": null,
      "outputs": [
        {
          "output_type": "stream",
          "name": "stdout",
          "text": [
            "0\n"
          ]
        }
      ]
    },
    {
      "cell_type": "code",
      "source": [
        "base_model.trainable = True\n",
        "\n",
        "for layer in base_model.layers[:-10]:\n",
        "  layer.trainable = False\n",
        "\n",
        "model2.compile(loss=\"categorical_crossentropy\",\n",
        "               optimizer=tf.keras.optimizers.Adam(),\n",
        "               metrics=[\"accuracy\"])"
      ],
      "metadata": {
        "id": "J9o4b72DPvq3"
      },
      "execution_count": null,
      "outputs": []
    },
    {
      "cell_type": "code",
      "source": [
        "for i, layer in enumerate(model2.layers[2].layers):\n",
        "  print(i, layer, layer.trainable)"
      ],
      "metadata": {
        "colab": {
          "base_uri": "https://localhost:8080/"
        },
        "id": "iey2nDrkt1as",
        "outputId": "819eb16f-5666-4ff3-af87-442013aee9a0"
      },
      "execution_count": null,
      "outputs": [
        {
          "output_type": "stream",
          "name": "stdout",
          "text": [
            "0 <keras.engine.input_layer.InputLayer object at 0x7fd2156aceb0> False\n",
            "1 <keras.layers.preprocessing.image_preprocessing.Rescaling object at 0x7fd2156adca0> False\n",
            "2 <keras.layers.preprocessing.normalization.Normalization object at 0x7fd2c19792e0> False\n",
            "3 <keras.layers.preprocessing.image_preprocessing.Rescaling object at 0x7fd2c1f0ef70> False\n",
            "4 <keras.layers.reshaping.zero_padding2d.ZeroPadding2D object at 0x7fd2c0ab3520> False\n",
            "5 <keras.layers.convolutional.conv2d.Conv2D object at 0x7fd2c0aa6820> False\n",
            "6 <keras.layers.normalization.batch_normalization.BatchNormalization object at 0x7fd2c0aa6eb0> False\n",
            "7 <keras.layers.core.activation.Activation object at 0x7fd20bf247c0> False\n",
            "8 <keras.layers.convolutional.depthwise_conv2d.DepthwiseConv2D object at 0x7fd2c0aa6c70> False\n",
            "9 <keras.layers.normalization.batch_normalization.BatchNormalization object at 0x7fd20bf2aaf0> False\n",
            "10 <keras.layers.core.activation.Activation object at 0x7fd215649910> False\n",
            "11 <keras.layers.pooling.global_average_pooling2d.GlobalAveragePooling2D object at 0x7fd20bf2ad30> False\n",
            "12 <keras.layers.reshaping.reshape.Reshape object at 0x7fd215644a60> False\n",
            "13 <keras.layers.convolutional.conv2d.Conv2D object at 0x7fd215644dc0> False\n",
            "14 <keras.layers.convolutional.conv2d.Conv2D object at 0x7fd1c07163a0> False\n",
            "15 <keras.layers.merging.multiply.Multiply object at 0x7fd1c0701070> False\n",
            "16 <keras.layers.convolutional.conv2d.Conv2D object at 0x7fd1c07161c0> False\n",
            "17 <keras.layers.normalization.batch_normalization.BatchNormalization object at 0x7fd21563d940> False\n",
            "18 <keras.layers.convolutional.conv2d.Conv2D object at 0x7fd2c0aa62e0> False\n",
            "19 <keras.layers.normalization.batch_normalization.BatchNormalization object at 0x7fd1c0727850> False\n",
            "20 <keras.layers.core.activation.Activation object at 0x7fd1c070c670> False\n",
            "21 <keras.layers.reshaping.zero_padding2d.ZeroPadding2D object at 0x7fd1c07226d0> False\n",
            "22 <keras.layers.convolutional.depthwise_conv2d.DepthwiseConv2D object at 0x7fd20bb0e7c0> False\n",
            "23 <keras.layers.normalization.batch_normalization.BatchNormalization object at 0x7fd215649cd0> False\n",
            "24 <keras.layers.core.activation.Activation object at 0x7fd21561c070> False\n",
            "25 <keras.layers.pooling.global_average_pooling2d.GlobalAveragePooling2D object at 0x7fd21561c8e0> False\n",
            "26 <keras.layers.reshaping.reshape.Reshape object at 0x7fd215617100> False\n",
            "27 <keras.layers.convolutional.conv2d.Conv2D object at 0x7fd21561cca0> False\n",
            "28 <keras.layers.convolutional.conv2d.Conv2D object at 0x7fd1c0bf99a0> False\n",
            "29 <keras.layers.merging.multiply.Multiply object at 0x7fd1c0722f70> False\n",
            "30 <keras.layers.convolutional.conv2d.Conv2D object at 0x7fd215624cd0> False\n",
            "31 <keras.layers.normalization.batch_normalization.BatchNormalization object at 0x7fd215636b20> False\n",
            "32 <keras.layers.convolutional.conv2d.Conv2D object at 0x7fd215617970> False\n",
            "33 <keras.layers.normalization.batch_normalization.BatchNormalization object at 0x7fd2155c0e50> False\n",
            "34 <keras.layers.core.activation.Activation object at 0x7fd2155c5190> False\n",
            "35 <keras.layers.convolutional.depthwise_conv2d.DepthwiseConv2D object at 0x7fd215630310> False\n",
            "36 <keras.layers.normalization.batch_normalization.BatchNormalization object at 0x7fd215617310> False\n",
            "37 <keras.layers.core.activation.Activation object at 0x7fd215624c10> False\n",
            "38 <keras.layers.pooling.global_average_pooling2d.GlobalAveragePooling2D object at 0x7fd2155cd490> False\n",
            "39 <keras.layers.reshaping.reshape.Reshape object at 0x7fd2155d6af0> False\n",
            "40 <keras.layers.convolutional.conv2d.Conv2D object at 0x7fd2155dd1c0> False\n",
            "41 <keras.layers.convolutional.conv2d.Conv2D object at 0x7fd2155e19d0> False\n",
            "42 <keras.layers.merging.multiply.Multiply object at 0x7fd2155cd580> False\n",
            "43 <keras.layers.convolutional.conv2d.Conv2D object at 0x7fd2155ee8e0> False\n",
            "44 <keras.layers.normalization.batch_normalization.BatchNormalization object at 0x7fd2155eea30> False\n",
            "45 <keras.layers.regularization.dropout.Dropout object at 0x7fd21557fd30> False\n",
            "46 <keras.layers.merging.add.Add object at 0x7fd21557fc10> False\n",
            "47 <keras.layers.convolutional.conv2d.Conv2D object at 0x7fd1c07277c0> False\n",
            "48 <keras.layers.normalization.batch_normalization.BatchNormalization object at 0x7fd2155f7b50> False\n",
            "49 <keras.layers.core.activation.Activation object at 0x7fd215588190> False\n",
            "50 <keras.layers.reshaping.zero_padding2d.ZeroPadding2D object at 0x7fd2155ee1c0> False\n",
            "51 <keras.layers.convolutional.depthwise_conv2d.DepthwiseConv2D object at 0x7fd1c070c700> False\n",
            "52 <keras.layers.normalization.batch_normalization.BatchNormalization object at 0x7fd2156302b0> False\n",
            "53 <keras.layers.core.activation.Activation object at 0x7fd2155a7790> False\n",
            "54 <keras.layers.pooling.global_average_pooling2d.GlobalAveragePooling2D object at 0x7fd2155955b0> False\n",
            "55 <keras.layers.reshaping.reshape.Reshape object at 0x7fd21557f580> False\n",
            "56 <keras.layers.convolutional.conv2d.Conv2D object at 0x7fd2155ee250> False\n",
            "57 <keras.layers.convolutional.conv2d.Conv2D object at 0x7fd2155f7be0> False\n",
            "58 <keras.layers.merging.multiply.Multiply object at 0x7fd2155e1220> False\n",
            "59 <keras.layers.convolutional.conv2d.Conv2D object at 0x7fd215624850> False\n",
            "60 <keras.layers.normalization.batch_normalization.BatchNormalization object at 0x7fd2155cd100> False\n",
            "61 <keras.layers.convolutional.conv2d.Conv2D object at 0x7fd1c0720550> False\n",
            "62 <keras.layers.normalization.batch_normalization.BatchNormalization object at 0x7fd2155c0100> False\n",
            "63 <keras.layers.core.activation.Activation object at 0x7fd2155b8520> False\n",
            "64 <keras.layers.convolutional.depthwise_conv2d.DepthwiseConv2D object at 0x7fd2155b8490> False\n",
            "65 <keras.layers.normalization.batch_normalization.BatchNormalization object at 0x7fd21561c550> False\n",
            "66 <keras.layers.core.activation.Activation object at 0x7fd215540880> False\n",
            "67 <keras.layers.pooling.global_average_pooling2d.GlobalAveragePooling2D object at 0x7fd21553c160> False\n",
            "68 <keras.layers.reshaping.reshape.Reshape object at 0x7fd21553cf70> False\n",
            "69 <keras.layers.convolutional.conv2d.Conv2D object at 0x7fd2155400d0> False\n",
            "70 <keras.layers.convolutional.conv2d.Conv2D object at 0x7fd21554fe80> False\n",
            "71 <keras.layers.merging.multiply.Multiply object at 0x7fd21553c2b0> False\n",
            "72 <keras.layers.convolutional.conv2d.Conv2D object at 0x7fd2155575b0> False\n",
            "73 <keras.layers.normalization.batch_normalization.BatchNormalization object at 0x7fd215557700> False\n",
            "74 <keras.layers.regularization.dropout.Dropout object at 0x7fd215569a00> False\n",
            "75 <keras.layers.merging.add.Add object at 0x7fd2155698e0> False\n",
            "76 <keras.layers.convolutional.conv2d.Conv2D object at 0x7fd215588700> False\n",
            "77 <keras.layers.normalization.batch_normalization.BatchNormalization object at 0x7fd215560820> False\n",
            "78 <keras.layers.core.activation.Activation object at 0x7fd215571e20> False\n",
            "79 <keras.layers.reshaping.zero_padding2d.ZeroPadding2D object at 0x7fd21554fe50> False\n",
            "80 <keras.layers.convolutional.depthwise_conv2d.DepthwiseConv2D object at 0x7fd2155d63a0> False\n",
            "81 <keras.layers.normalization.batch_normalization.BatchNormalization object at 0x7fd215569b80> False\n",
            "82 <keras.layers.core.activation.Activation object at 0x7fd215514490> False\n",
            "83 <keras.layers.pooling.global_average_pooling2d.GlobalAveragePooling2D object at 0x7fd215514d00> False\n",
            "84 <keras.layers.reshaping.reshape.Reshape object at 0x7fd215507f70> False\n",
            "85 <keras.layers.convolutional.conv2d.Conv2D object at 0x7fd215514550> False\n",
            "86 <keras.layers.convolutional.conv2d.Conv2D object at 0x7fd2155230a0> False\n",
            "87 <keras.layers.merging.multiply.Multiply object at 0x7fd215507160> False\n",
            "88 <keras.layers.convolutional.conv2d.Conv2D object at 0x7fd215696190> False\n",
            "89 <keras.layers.normalization.batch_normalization.BatchNormalization object at 0x7fd21551a100> False\n",
            "90 <keras.layers.convolutional.conv2d.Conv2D object at 0x7fd215507640> False\n",
            "91 <keras.layers.normalization.batch_normalization.BatchNormalization object at 0x7fd215533430> False\n",
            "92 <keras.layers.core.activation.Activation object at 0x7fd2154c6b20> False\n",
            "93 <keras.layers.convolutional.depthwise_conv2d.DepthwiseConv2D object at 0x7fd1c0c75040> False\n",
            "94 <keras.layers.normalization.batch_normalization.BatchNormalization object at 0x7fd21551a3a0> False\n",
            "95 <keras.layers.core.activation.Activation object at 0x7fd215533b50> False\n",
            "96 <keras.layers.pooling.global_average_pooling2d.GlobalAveragePooling2D object at 0x7fd2155477c0> False\n",
            "97 <keras.layers.reshaping.reshape.Reshape object at 0x7fd2154c65e0> False\n",
            "98 <keras.layers.convolutional.conv2d.Conv2D object at 0x7fd215569f40> False\n",
            "99 <keras.layers.convolutional.conv2d.Conv2D object at 0x7fd1c0727bb0> False\n",
            "100 <keras.layers.merging.multiply.Multiply object at 0x7fd1c0727df0> False\n",
            "101 <keras.layers.convolutional.conv2d.Conv2D object at 0x7fd2154d3550> False\n",
            "102 <keras.layers.normalization.batch_normalization.BatchNormalization object at 0x7fd2154d3700> False\n",
            "103 <keras.layers.regularization.dropout.Dropout object at 0x7fd2154defa0> False\n",
            "104 <keras.layers.merging.add.Add object at 0x7fd2154d6910> False\n",
            "105 <keras.layers.convolutional.conv2d.Conv2D object at 0x7fd2154e53a0> False\n",
            "106 <keras.layers.normalization.batch_normalization.BatchNormalization object at 0x7fd2154d67f0> False\n",
            "107 <keras.layers.core.activation.Activation object at 0x7fd2154f7190> False\n",
            "108 <keras.layers.convolutional.depthwise_conv2d.DepthwiseConv2D object at 0x7fd2154cee20> False\n",
            "109 <keras.layers.normalization.batch_normalization.BatchNormalization object at 0x7fd2154ed7f0> False\n",
            "110 <keras.layers.core.activation.Activation object at 0x7fd215485f10> False\n",
            "111 <keras.layers.pooling.global_average_pooling2d.GlobalAveragePooling2D object at 0x7fd215485d90> False\n",
            "112 <keras.layers.reshaping.reshape.Reshape object at 0x7fd2154fb580> False\n",
            "113 <keras.layers.convolutional.conv2d.Conv2D object at 0x7fd2154851f0> False\n",
            "114 <keras.layers.convolutional.conv2d.Conv2D object at 0x7fd215514100> False\n",
            "115 <keras.layers.merging.multiply.Multiply object at 0x7fd2154ed160> False\n",
            "116 <keras.layers.convolutional.conv2d.Conv2D object at 0x7fd21549a040> False\n",
            "117 <keras.layers.normalization.batch_normalization.BatchNormalization object at 0x7fd21549ae80> False\n",
            "118 <keras.layers.regularization.dropout.Dropout object at 0x7fd2154aa130> False\n",
            "119 <keras.layers.merging.add.Add object at 0x7fd2154aaf40> False\n",
            "120 <keras.layers.convolutional.conv2d.Conv2D object at 0x7fd2155713d0> False\n",
            "121 <keras.layers.normalization.batch_normalization.BatchNormalization object at 0x7fd2154e5c70> False\n",
            "122 <keras.layers.core.activation.Activation object at 0x7fd2154b8580> False\n",
            "123 <keras.layers.convolutional.depthwise_conv2d.DepthwiseConv2D object at 0x7fd21549a5b0> False\n",
            "124 <keras.layers.normalization.batch_normalization.BatchNormalization object at 0x7fd215492190> False\n",
            "125 <keras.layers.core.activation.Activation object at 0x7fd21544a640> False\n",
            "126 <keras.layers.pooling.global_average_pooling2d.GlobalAveragePooling2D object at 0x7fd21544ac10> False\n",
            "127 <keras.layers.reshaping.reshape.Reshape object at 0x7fd215457520> False\n",
            "128 <keras.layers.convolutional.conv2d.Conv2D object at 0x7fd215457ca0> False\n",
            "129 <keras.layers.convolutional.conv2d.Conv2D object at 0x7fd215453e80> False\n",
            "130 <keras.layers.merging.multiply.Multiply object at 0x7fd215462d60> False\n",
            "131 <keras.layers.convolutional.conv2d.Conv2D object at 0x7fd215453ac0> False\n",
            "132 <keras.layers.normalization.batch_normalization.BatchNormalization object at 0x7fd2154628b0> False\n",
            "133 <keras.layers.convolutional.conv2d.Conv2D object at 0x7fd2154a4a00> False\n",
            "134 <keras.layers.normalization.batch_normalization.BatchNormalization object at 0x7fd215453ca0> False\n",
            "135 <keras.layers.core.activation.Activation object at 0x7fd2154aac40> False\n",
            "136 <keras.layers.convolutional.depthwise_conv2d.DepthwiseConv2D object at 0x7fd2154aa160> False\n",
            "137 <keras.layers.normalization.batch_normalization.BatchNormalization object at 0x7fd21553c280> False\n",
            "138 <keras.layers.core.activation.Activation object at 0x7fd215462700> False\n",
            "139 <keras.layers.pooling.global_average_pooling2d.GlobalAveragePooling2D object at 0x7fd2154e50a0> False\n",
            "140 <keras.layers.reshaping.reshape.Reshape object at 0x7fd2154732e0> False\n",
            "141 <keras.layers.convolutional.conv2d.Conv2D object at 0x7fd215473dc0> False\n",
            "142 <keras.layers.convolutional.conv2d.Conv2D object at 0x7fd215477550> False\n",
            "143 <keras.layers.merging.multiply.Multiply object at 0x7fd2153fcdf0> False\n",
            "144 <keras.layers.convolutional.conv2d.Conv2D object at 0x7fd2153fc790> False\n",
            "145 <keras.layers.normalization.batch_normalization.BatchNormalization object at 0x7fd215469ca0> False\n",
            "146 <keras.layers.regularization.dropout.Dropout object at 0x7fd21540a340> False\n",
            "147 <keras.layers.merging.add.Add object at 0x7fd2154578b0> False\n",
            "148 <keras.layers.convolutional.conv2d.Conv2D object at 0x7fd215402eb0> False\n",
            "149 <keras.layers.normalization.batch_normalization.BatchNormalization object at 0x7fd2153fc250> False\n",
            "150 <keras.layers.core.activation.Activation object at 0x7fd215419e50> False\n",
            "151 <keras.layers.convolutional.depthwise_conv2d.DepthwiseConv2D object at 0x7fd215477a90> False\n",
            "152 <keras.layers.normalization.batch_normalization.BatchNormalization object at 0x7fd2154731f0> False\n",
            "153 <keras.layers.core.activation.Activation object at 0x7fd21542ac40> False\n",
            "154 <keras.layers.pooling.global_average_pooling2d.GlobalAveragePooling2D object at 0x7fd215421550> False\n",
            "155 <keras.layers.reshaping.reshape.Reshape object at 0x7fd215473520> False\n",
            "156 <keras.layers.convolutional.conv2d.Conv2D object at 0x7fd215433520> False\n",
            "157 <keras.layers.convolutional.conv2d.Conv2D object at 0x7fd2154387c0> False\n",
            "158 <keras.layers.merging.multiply.Multiply object at 0x7fd215438d30> False\n",
            "159 <keras.layers.convolutional.conv2d.Conv2D object at 0x7fd2153c3970> False\n",
            "160 <keras.layers.normalization.batch_normalization.BatchNormalization object at 0x7fd2153c3b20> False\n",
            "161 <keras.layers.regularization.dropout.Dropout object at 0x7fd21542aaf0> False\n",
            "162 <keras.layers.merging.add.Add object at 0x7fd2153ced30> False\n",
            "163 <keras.layers.convolutional.conv2d.Conv2D object at 0x7fd2154a4580> False\n",
            "164 <keras.layers.normalization.batch_normalization.BatchNormalization object at 0x7fd2153cec10> False\n",
            "165 <keras.layers.core.activation.Activation object at 0x7fd2153ef190> False\n",
            "166 <keras.layers.reshaping.zero_padding2d.ZeroPadding2D object at 0x7fd2153c3280> False\n",
            "167 <keras.layers.convolutional.depthwise_conv2d.DepthwiseConv2D object at 0x7fd2153d7a00> False\n",
            "168 <keras.layers.normalization.batch_normalization.BatchNormalization object at 0x7fd2153ef850> False\n",
            "169 <keras.layers.core.activation.Activation object at 0x7fd215383940> False\n",
            "170 <keras.layers.pooling.global_average_pooling2d.GlobalAveragePooling2D object at 0x7fd215383f70> False\n",
            "171 <keras.layers.reshaping.reshape.Reshape object at 0x7fd2153ef490> False\n",
            "172 <keras.layers.convolutional.conv2d.Conv2D object at 0x7fd2153f87c0> False\n",
            "173 <keras.layers.convolutional.conv2d.Conv2D object at 0x7fd21542af40> False\n",
            "174 <keras.layers.merging.multiply.Multiply object at 0x7fd2153df310> False\n",
            "175 <keras.layers.convolutional.conv2d.Conv2D object at 0x7fd2153df850> False\n",
            "176 <keras.layers.normalization.batch_normalization.BatchNormalization object at 0x7fd215485190> False\n",
            "177 <keras.layers.convolutional.conv2d.Conv2D object at 0x7fd215492310> False\n",
            "178 <keras.layers.normalization.batch_normalization.BatchNormalization object at 0x7fd2154b8fa0> False\n",
            "179 <keras.layers.core.activation.Activation object at 0x7fd215390f10> False\n",
            "180 <keras.layers.convolutional.depthwise_conv2d.DepthwiseConv2D object at 0x7fd215390f70> False\n",
            "181 <keras.layers.normalization.batch_normalization.BatchNormalization object at 0x7fd2153e9910> False\n",
            "182 <keras.layers.core.activation.Activation object at 0x7fd21539a8b0> False\n",
            "183 <keras.layers.pooling.global_average_pooling2d.GlobalAveragePooling2D object at 0x7fd21539ae80> False\n",
            "184 <keras.layers.reshaping.reshape.Reshape object at 0x7fd2153a7790> False\n",
            "185 <keras.layers.convolutional.conv2d.Conv2D object at 0x7fd2153a7f10> False\n",
            "186 <keras.layers.convolutional.conv2d.Conv2D object at 0x7fd21538a8b0> False\n",
            "187 <keras.layers.merging.multiply.Multiply object at 0x7fd21538a880> False\n",
            "188 <keras.layers.convolutional.conv2d.Conv2D object at 0x7fd2153a2fd0> False\n",
            "189 <keras.layers.normalization.batch_normalization.BatchNormalization object at 0x7fd2153b1b20> False\n",
            "190 <keras.layers.regularization.dropout.Dropout object at 0x7fd21534b460> False\n",
            "191 <keras.layers.merging.add.Add object at 0x7fd2153badc0> False\n",
            "192 <keras.layers.convolutional.conv2d.Conv2D object at 0x7fd21534b700> False\n",
            "193 <keras.layers.normalization.batch_normalization.BatchNormalization object at 0x7fd2153454f0> False\n",
            "194 <keras.layers.core.activation.Activation object at 0x7fd2153b16d0> False\n",
            "195 <keras.layers.convolutional.depthwise_conv2d.DepthwiseConv2D object at 0x7fd21575cdf0> False\n",
            "196 <keras.layers.normalization.batch_normalization.BatchNormalization object at 0x7fd215353070> False\n",
            "197 <keras.layers.core.activation.Activation object at 0x7fd21536d550> False\n",
            "198 <keras.layers.pooling.global_average_pooling2d.GlobalAveragePooling2D object at 0x7fd21535dbb0> False\n",
            "199 <keras.layers.reshaping.reshape.Reshape object at 0x7fd215378970> False\n",
            "200 <keras.layers.convolutional.conv2d.Conv2D object at 0x7fd215364b20> False\n",
            "201 <keras.layers.convolutional.conv2d.Conv2D object at 0x7fd215301940> False\n",
            "202 <keras.layers.merging.multiply.Multiply object at 0x7fd21534b250> False\n",
            "203 <keras.layers.convolutional.conv2d.Conv2D object at 0x7fd215378f70> False\n",
            "204 <keras.layers.normalization.batch_normalization.BatchNormalization object at 0x7fd21530a220> False\n",
            "205 <keras.layers.regularization.dropout.Dropout object at 0x7fd21531f790> False\n",
            "206 <keras.layers.merging.add.Add object at 0x7fd215324af0> False\n",
            "207 <keras.layers.convolutional.conv2d.Conv2D object at 0x7fd215324e80> False\n",
            "208 <keras.layers.normalization.batch_normalization.BatchNormalization object at 0x7fd215324ac0> False\n",
            "209 <keras.layers.core.activation.Activation object at 0x7fd2153782e0> False\n",
            "210 <keras.layers.convolutional.depthwise_conv2d.DepthwiseConv2D object at 0x7fd215378790> False\n",
            "211 <keras.layers.normalization.batch_normalization.BatchNormalization object at 0x7fd2153012b0> False\n",
            "212 <keras.layers.core.activation.Activation object at 0x7fd2153a70d0> False\n",
            "213 <keras.layers.pooling.global_average_pooling2d.GlobalAveragePooling2D object at 0x7fd2154fbd90> False\n",
            "214 <keras.layers.reshaping.reshape.Reshape object at 0x7fd215378730> False\n",
            "215 <keras.layers.convolutional.conv2d.Conv2D object at 0x7fd215438e80> False\n",
            "216 <keras.layers.convolutional.conv2d.Conv2D object at 0x7fd215378eb0> False\n",
            "217 <keras.layers.merging.multiply.Multiply object at 0x7fd215316ca0> False\n",
            "218 <keras.layers.convolutional.conv2d.Conv2D object at 0x7fd215329f40> False\n",
            "219 <keras.layers.normalization.batch_normalization.BatchNormalization object at 0x7fd215329d30> False\n",
            "220 <keras.layers.regularization.dropout.Dropout object at 0x7fd215335400> False\n",
            "221 <keras.layers.merging.add.Add object at 0x7fd215345070> False\n",
            "222 <keras.layers.convolutional.conv2d.Conv2D object at 0x7fd2153df7c0> False\n",
            "223 <keras.layers.normalization.batch_normalization.BatchNormalization object at 0x7fd215324be0> False\n",
            "224 <keras.layers.core.activation.Activation object at 0x7fd2152c20a0> False\n",
            "225 <keras.layers.convolutional.depthwise_conv2d.DepthwiseConv2D object at 0x7fd2153293a0> False\n",
            "226 <keras.layers.normalization.batch_normalization.BatchNormalization object at 0x7fd21534b100> False\n",
            "227 <keras.layers.core.activation.Activation object at 0x7fd2152ccb50> False\n",
            "228 <keras.layers.pooling.global_average_pooling2d.GlobalAveragePooling2D object at 0x7fd2152bddc0> True\n",
            "229 <keras.layers.reshaping.reshape.Reshape object at 0x7fd215329400> True\n",
            "230 <keras.layers.convolutional.conv2d.Conv2D object at 0x7fd2152bdf70> True\n",
            "231 <keras.layers.convolutional.conv2d.Conv2D object at 0x7fd2152e0a90> True\n",
            "232 <keras.layers.merging.multiply.Multiply object at 0x7fd2152ccb20> True\n",
            "233 <keras.layers.convolutional.conv2d.Conv2D object at 0x7fd2152ec580> True\n",
            "234 <keras.layers.normalization.batch_normalization.BatchNormalization object at 0x7fd2152e0f10> True\n",
            "235 <keras.layers.convolutional.conv2d.Conv2D object at 0x7fd2c0aa6760> True\n",
            "236 <keras.layers.normalization.batch_normalization.BatchNormalization object at 0x7fd2152e0a00> True\n",
            "237 <keras.layers.core.activation.Activation object at 0x7fd2152f2d90> True\n"
          ]
        }
      ]
    },
    {
      "cell_type": "code",
      "source": [
        "print(len(model2.trainable_variables))"
      ],
      "metadata": {
        "colab": {
          "base_uri": "https://localhost:8080/"
        },
        "id": "gvVJvcNuuDLm",
        "outputId": "94557bb5-c535-4e30-c5cf-5c43e7c33601"
      },
      "execution_count": null,
      "outputs": [
        {
          "output_type": "stream",
          "name": "stdout",
          "text": [
            "12\n"
          ]
        }
      ]
    },
    {
      "cell_type": "code",
      "source": [
        "fine_tune_epochs = initial_epochs + 5\n",
        "\n",
        "history_fine_10_percent_data_aug = model2.fit(train_data_10_percent,\n",
        "                                              epochs=fine_tune_epochs,\n",
        "                                              validation_data=test_data,\n",
        "                                              validation_steps=len(test_data),\n",
        "                                              initial_epoch=history2.epoch[-1],\n",
        "                                              callbacks=[create_tensorboard_callback(dir_name=\"transfer_learning\",\n",
        "                                                                                     experiment_name=\"10_percent_fine_tuning_data_aug\")])"
      ],
      "metadata": {
        "colab": {
          "base_uri": "https://localhost:8080/"
        },
        "id": "ViApws4Rutq0",
        "outputId": "91d622eb-a1be-474d-fc28-27312cd2753b"
      },
      "execution_count": null,
      "outputs": [
        {
          "output_type": "stream",
          "name": "stderr",
          "text": [
            "WARNING:tensorflow:Model failed to serialize as JSON. Ignoring... Unable to serialize [2.0896919 2.1128857 2.1081853] to JSON. Unrecognized type <class 'tensorflow.python.framework.ops.EagerTensor'>.\n"
          ]
        },
        {
          "output_type": "stream",
          "name": "stdout",
          "text": [
            "Saving TensorBoard log files to: transfer_learning/10_percent_fine_tuning_data_aug/20230323-225556\n",
            "Epoch 5/10\n"
          ]
        },
        {
          "output_type": "stream",
          "name": "stderr",
          "text": [
            "WARNING:tensorflow:Using a while_loop for converting RngReadAndSkip cause there is no registered converter for this op.\n",
            "WARNING:tensorflow:Using a while_loop for converting Bitcast cause there is no registered converter for this op.\n",
            "WARNING:tensorflow:Using a while_loop for converting Bitcast cause there is no registered converter for this op.\n",
            "WARNING:tensorflow:Using a while_loop for converting StatelessRandomUniformV2 cause there is no registered converter for this op.\n",
            "WARNING:tensorflow:Using a while_loop for converting ImageProjectiveTransformV3 cause there is no registered converter for this op.\n",
            "WARNING:tensorflow:Using a while_loop for converting RngReadAndSkip cause there is no registered converter for this op.\n",
            "WARNING:tensorflow:Using a while_loop for converting Bitcast cause there is no registered converter for this op.\n",
            "WARNING:tensorflow:Using a while_loop for converting Bitcast cause there is no registered converter for this op.\n",
            "WARNING:tensorflow:Using a while_loop for converting StatelessRandomUniformV2 cause there is no registered converter for this op.\n",
            "WARNING:tensorflow:Using a while_loop for converting ImageProjectiveTransformV3 cause there is no registered converter for this op.\n",
            "WARNING:tensorflow:Using a while_loop for converting RngReadAndSkip cause there is no registered converter for this op.\n",
            "WARNING:tensorflow:Using a while_loop for converting Bitcast cause there is no registered converter for this op.\n",
            "WARNING:tensorflow:Using a while_loop for converting Bitcast cause there is no registered converter for this op.\n",
            "WARNING:tensorflow:Using a while_loop for converting StatelessRandomUniformV2 cause there is no registered converter for this op.\n",
            "WARNING:tensorflow:Using a while_loop for converting ImageProjectiveTransformV3 cause there is no registered converter for this op.\n",
            "WARNING:tensorflow:Using a while_loop for converting RngReadAndSkip cause there is no registered converter for this op.\n",
            "WARNING:tensorflow:Using a while_loop for converting Bitcast cause there is no registered converter for this op.\n",
            "WARNING:tensorflow:Using a while_loop for converting Bitcast cause there is no registered converter for this op.\n",
            "WARNING:tensorflow:Using a while_loop for converting StatelessRandomUniformV2 cause there is no registered converter for this op.\n",
            "WARNING:tensorflow:Using a while_loop for converting ImageProjectiveTransformV3 cause there is no registered converter for this op.\n"
          ]
        },
        {
          "output_type": "stream",
          "name": "stdout",
          "text": [
            "24/24 [==============================] - 26s 637ms/step - loss: 0.7035 - accuracy: 0.7747 - val_loss: 0.5756 - val_accuracy: 0.8108\n",
            "Epoch 6/10\n",
            "24/24 [==============================] - 19s 802ms/step - loss: 0.3869 - accuracy: 0.8827 - val_loss: 0.4461 - val_accuracy: 0.8536\n",
            "Epoch 7/10\n",
            "24/24 [==============================] - 13s 551ms/step - loss: 0.2021 - accuracy: 0.9400 - val_loss: 0.4790 - val_accuracy: 0.8512\n",
            "Epoch 8/10\n",
            "24/24 [==============================] - 13s 528ms/step - loss: 0.1775 - accuracy: 0.9520 - val_loss: 0.4065 - val_accuracy: 0.8720\n",
            "Epoch 9/10\n",
            "24/24 [==============================] - 14s 574ms/step - loss: 0.1278 - accuracy: 0.9653 - val_loss: 0.4892 - val_accuracy: 0.8456\n",
            "Epoch 10/10\n",
            "24/24 [==============================] - 14s 566ms/step - loss: 0.1222 - accuracy: 0.9627 - val_loss: 0.4977 - val_accuracy: 0.8420\n"
          ]
        }
      ]
    },
    {
      "cell_type": "code",
      "source": [
        "results_fine_tune_10_percent = model2.evaluate(test_data)"
      ],
      "metadata": {
        "colab": {
          "base_uri": "https://localhost:8080/"
        },
        "id": "Q1IXWXLmx0yy",
        "outputId": "a0fa2943-7682-4dc6-cc16-0e14efb57a64"
      },
      "execution_count": null,
      "outputs": [
        {
          "output_type": "stream",
          "name": "stdout",
          "text": [
            "79/79 [==============================] - 7s 82ms/step - loss: 0.4977 - accuracy: 0.8420\n"
          ]
        }
      ]
    },
    {
      "cell_type": "code",
      "source": [
        "result_10_percent_model"
      ],
      "metadata": {
        "colab": {
          "base_uri": "https://localhost:8080/"
        },
        "id": "iltZ5HdTzk8A",
        "outputId": "de4db453-7f55-40da-9eee-2f18c087d732"
      },
      "execution_count": null,
      "outputs": [
        {
          "output_type": "execute_result",
          "data": {
            "text/plain": [
              "[0.6198391318321228, 0.8432000279426575]"
            ]
          },
          "metadata": {},
          "execution_count": 95
        }
      ]
    },
    {
      "cell_type": "code",
      "source": [
        "plot_loss_curves(history_fine_10_percent_data_aug)"
      ],
      "metadata": {
        "colab": {
          "base_uri": "https://localhost:8080/",
          "height": 573
        },
        "id": "UU2icfncztrj",
        "outputId": "6e8ea59c-a6c5-45db-d11b-9feef5d45f07"
      },
      "execution_count": null,
      "outputs": [
        {
          "output_type": "display_data",
          "data": {
            "text/plain": [
              "<Figure size 432x288 with 1 Axes>"
            ],
            "image/png": "[encoded data removed]"
          },
          "metadata": {
            "needs_background": "light"
          }
        },
        {
          "output_type": "display_data",
          "data": {
            "text/plain": [
              "<Figure size 432x288 with 1 Axes>"
            ],
            "image/png": "[encoded data removed]"
          },
          "metadata": {
            "needs_background": "light"
          }
        }
      ]
    },
    {
      "cell_type": "code",
      "source": [
        "def compare_historys(original_history, new_history, initial_epochs=5):\n",
        "  acc = original_history.history[\"accuracy\"]\n",
        "  loss = original_history.history[\"loss\"]\n",
        "\n",
        "  val_acc = original_history.history[\"val_accuracy\"]\n",
        "  val_loss = original_history.history[\"val_loss\"]\n",
        "\n",
        "  total_acc = acc + new_history.history[\"accuracy\"]\n",
        "  total_loss = loss + new_history.history[\"loss\"]\n",
        "\n",
        "  total_val_acc = val_acc + new_history.history[\"val_accuracy\"]\n",
        "  total_val_loss = val_loss + new_history.history[\"val_loss\"]\n",
        "\n",
        "  plt.figure(figsize=(8, 8))\n",
        "  plt.subplot(2, 1, 1)\n",
        "  plt.plot(total_acc, label=\"Training Accuracy\")\n",
        "  plt.plot(total_val_acc, label=\"Val Accuracy\")\n",
        "  plt.plot([initial_epochs-1, initial_epochs-1], plt.ylim(), label=\"Start Fine Tuning\")\n",
        "  plt.legend(loc=\"lower right\")\n",
        "  plt.title(\"Training and Validation Accuracy\")\n",
        "\n",
        "  plt.figure(figsize=(8, 8))\n",
        "  plt.subplot(2, 1, 2)\n",
        "  plt.plot(total_loss, label=\"Training Loss\")\n",
        "  plt.plot(total_val_loss, label=\"Val Loss\")\n",
        "  plt.plot([initial_epochs-1, initial_epochs-1], plt.ylim(), label=\"Start Fine Tuning\")\n",
        "  plt.legend(loc=\"upper right\")\n",
        "  plt.title(\"Training and Validation Loss\")"
      ],
      "metadata": {
        "id": "havURE7E0TAS"
      },
      "execution_count": null,
      "outputs": []
    },
    {
      "cell_type": "code",
      "source": [
        "compare_historys(history2, history_fine_10_percent_data_aug)"
      ],
      "metadata": {
        "colab": {
          "base_uri": "https://localhost:8080/",
          "height": 507
        },
        "id": "xWBaqiCi3jdp",
        "outputId": "a127425b-2037-48b2-b0ee-a50356d53f1c"
      },
      "execution_count": null,
      "outputs": [
        {
          "output_type": "display_data",
          "data": {
            "text/plain": [
              "<Figure size 576x576 with 1 Axes>"
            ],
            "image/png": "[encoded data removed]"
          },
          "metadata": {
            "needs_background": "light"
          }
        },
        {
          "output_type": "display_data",
          "data": {
            "text/plain": [
              "<Figure size 576x576 with 1 Axes>"
            ],
            "image/png": "[encoded data removed]"
          },
          "metadata": {
            "needs_background": "light"
          }
        }
      ]
    },
    {
      "cell_type": "code",
      "source": [
        "plot_loss_curves(history2)"
      ],
      "metadata": {
        "colab": {
          "base_uri": "https://localhost:8080/",
          "height": 573
        },
        "id": "bq7qZhN13oJw",
        "outputId": "def5e8ba-e2fa-414e-bc2b-c3eb0ecf8dae"
      },
      "execution_count": null,
      "outputs": [
        {
          "output_type": "display_data",
          "data": {
            "text/plain": [
              "<Figure size 432x288 with 1 Axes>"
            ],
            "image/png": "[encoded data removed]"
          },
          "metadata": {
            "needs_background": "light"
          }
        },
        {
          "output_type": "display_data",
          "data": {
            "text/plain": [
              "<Figure size 432x288 with 1 Axes>"
            ],
            "image/png": "[encoded data removed]"
          },
          "metadata": {
            "needs_background": "light"
          }
        }
      ]
    },
    {
      "cell_type": "code",
      "source": [
        "plot_loss_curves(history_fine_10_percent_data_aug)"
      ],
      "metadata": {
        "colab": {
          "base_uri": "https://localhost:8080/",
          "height": 573
        },
        "id": "DIZXaCzN3shT",
        "outputId": "34619e2b-6cdc-479e-85d5-fac6e87d24aa"
      },
      "execution_count": null,
      "outputs": [
        {
          "output_type": "display_data",
          "data": {
            "text/plain": [
              "<Figure size 432x288 with 1 Axes>"
            ],
            "image/png": "[encoded data removed]"
          },
          "metadata": {
            "needs_background": "light"
          }
        },
        {
          "output_type": "display_data",
          "data": {
            "text/plain": [
              "<Figure size 432x288 with 1 Axes>"
            ],
            "image/png": "[encoded data removed]"
          },
          "metadata": {
            "needs_background": "light"
          }
        }
      ]
    },
    {
      "cell_type": "markdown",
      "source": [
        "# Model 4"
      ],
      "metadata": {
        "id": "0Cq2ZAwR36J-"
      }
    },
    {
      "cell_type": "code",
      "source": [
        "!wget https://storage.googleapis.com/ztm_tf_course/food_vision/10_food_classes_all_data.zip\n",
        "unzip_data(\"10_food_classes_all_data.zip\")"
      ],
      "metadata": {
        "colab": {
          "base_uri": "https://localhost:8080/"
        },
        "id": "rCeT9DFC-OSH",
        "outputId": "051e20e0-2ecf-4f9a-8136-7ee21d9dbaf4"
      },
      "execution_count": null,
      "outputs": [
        {
          "output_type": "stream",
          "name": "stdout",
          "text": [
            "--2023-03-23 22:58:11--  https://storage.googleapis.com/ztm_tf_course/food_vision/10_food_classes_all_data.zip\n",
            "Resolving storage.googleapis.com (storage.googleapis.com)... 74.125.200.128, 74.125.68.128, 74.125.24.128, ...\n",
            "Connecting to storage.googleapis.com (storage.googleapis.com)|74.125.200.128|:443... connected.\n",
            "HTTP request sent, awaiting response... 200 OK\n",
            "Length: 519183241 (495M) [application/zip]\n",
            "Saving to: ‘10_food_classes_all_data.zip.2’\n",
            "\n",
            "10_food_classes_all 100%[===================>] 495.13M  23.6MB/s    in 22s     \n",
            "\n",
            "2023-03-23 22:58:33 (22.5 MB/s) - ‘10_food_classes_all_data.zip.2’ saved [519183241/519183241]\n",
            "\n"
          ]
        }
      ]
    },
    {
      "cell_type": "code",
      "source": [
        "train_dir_all_data = \"10_food_classes_all_data/train\"\n",
        "test_dir = \"10_food_classes_all_data/test\"\n",
        "\n",
        "walk_through_dir(\"10_food_classes_all_data\")"
      ],
      "metadata": {
        "colab": {
          "base_uri": "https://localhost:8080/"
        },
        "id": "PzQkJvPj_Vvf",
        "outputId": "5608f3e6-f0b0-43fb-f1e6-a00412685ae0"
      },
      "execution_count": null,
      "outputs": [
        {
          "output_type": "stream",
          "name": "stdout",
          "text": [
            "There are 2 directories and 0 images in '10_food_classes_all_data'.\n",
            "There are 10 directories and 0 images in '10_food_classes_all_data/test'.\n",
            "There are 0 directories and 250 images in '10_food_classes_all_data/test/ice_cream'.\n",
            "There are 0 directories and 250 images in '10_food_classes_all_data/test/grilled_salmon'.\n",
            "There are 0 directories and 250 images in '10_food_classes_all_data/test/fried_rice'.\n",
            "There are 0 directories and 250 images in '10_food_classes_all_data/test/chicken_curry'.\n",
            "There are 0 directories and 250 images in '10_food_classes_all_data/test/hamburger'.\n",
            "There are 0 directories and 250 images in '10_food_classes_all_data/test/sushi'.\n",
            "There are 0 directories and 250 images in '10_food_classes_all_data/test/chicken_wings'.\n",
            "There are 0 directories and 250 images in '10_food_classes_all_data/test/steak'.\n",
            "There are 0 directories and 250 images in '10_food_classes_all_data/test/pizza'.\n",
            "There are 0 directories and 250 images in '10_food_classes_all_data/test/ramen'.\n",
            "There are 10 directories and 0 images in '10_food_classes_all_data/train'.\n",
            "There are 0 directories and 750 images in '10_food_classes_all_data/train/ice_cream'.\n",
            "There are 0 directories and 750 images in '10_food_classes_all_data/train/grilled_salmon'.\n",
            "There are 0 directories and 750 images in '10_food_classes_all_data/train/fried_rice'.\n",
            "There are 0 directories and 750 images in '10_food_classes_all_data/train/chicken_curry'.\n",
            "There are 0 directories and 750 images in '10_food_classes_all_data/train/hamburger'.\n",
            "There are 0 directories and 750 images in '10_food_classes_all_data/train/sushi'.\n",
            "There are 0 directories and 750 images in '10_food_classes_all_data/train/chicken_wings'.\n",
            "There are 0 directories and 750 images in '10_food_classes_all_data/train/steak'.\n",
            "There are 0 directories and 750 images in '10_food_classes_all_data/train/pizza'.\n",
            "There are 0 directories and 750 images in '10_food_classes_all_data/train/ramen'.\n"
          ]
        }
      ]
    },
    {
      "cell_type": "code",
      "source": [
        "import tensorflow as tf\n",
        "\n",
        "IMAGE_SIZE = (224, 224)\n",
        "\n",
        "train_data_10_classes_full = tf.keras.preprocessing.image_dataset_from_directory(train_dir_all_data,\n",
        "                                                                                 label_mode=\"categorical\",\n",
        "                                                                                 image_size=IMAGE_SIZE)\n",
        "\n",
        "test_data = tf.keras.preprocessing.image_dataset_from_directory(test_dir,\n",
        "                                                                label_mode=\"categorical\",\n",
        "                                                                image_size=IMAGE_SIZE)"
      ],
      "metadata": {
        "colab": {
          "base_uri": "https://localhost:8080/"
        },
        "id": "PpXP1Z0PGr9H",
        "outputId": "3c49355d-f005-4c8d-ee99-d62322d80373"
      },
      "execution_count": null,
      "outputs": [
        {
          "output_type": "stream",
          "name": "stdout",
          "text": [
            "Found 7500 files belonging to 10 classes.\n",
            "Found 2500 files belonging to 10 classes.\n"
          ]
        }
      ]
    },
    {
      "cell_type": "code",
      "source": [
        "model2.evaluate(test_data)"
      ],
      "metadata": {
        "colab": {
          "base_uri": "https://localhost:8080/"
        },
        "id": "jRVgkyo4H7hT",
        "outputId": "aa22266c-3ce7-46c9-cd14-d12a77d6461b"
      },
      "execution_count": null,
      "outputs": [
        {
          "output_type": "stream",
          "name": "stdout",
          "text": [
            "79/79 [==============================] - 7s 79ms/step - loss: 0.4977 - accuracy: 0.8420\n"
          ]
        },
        {
          "output_type": "execute_result",
          "data": {
            "text/plain": [
              "[0.4977015554904938, 0.8420000076293945]"
            ]
          },
          "metadata": {},
          "execution_count": 104
        }
      ]
    },
    {
      "cell_type": "code",
      "source": [
        "results_fine_tune_10_percent"
      ],
      "metadata": {
        "colab": {
          "base_uri": "https://localhost:8080/"
        },
        "id": "gfZEUMUenkvE",
        "outputId": "3b4131a2-279b-4591-8b96-282edaeff9b6"
      },
      "execution_count": null,
      "outputs": [
        {
          "output_type": "execute_result",
          "data": {
            "text/plain": [
              "[0.4977016746997833, 0.8420000076293945]"
            ]
          },
          "metadata": {},
          "execution_count": 105
        }
      ]
    },
    {
      "cell_type": "code",
      "source": [
        "model2.load_weights(checkpoint_path)"
      ],
      "metadata": {
        "colab": {
          "base_uri": "https://localhost:8080/",
          "height": 328
        },
        "id": "nrRn5-zBoFXf",
        "outputId": "7c1196d9-cfa7-4359-a2d4-d84723796550"
      },
      "execution_count": null,
      "outputs": [
        {
          "output_type": "error",
          "ename": "ValueError",
          "evalue": "ignored",
          "traceback": [
            "\u001b[0;31m---------------------------------------------------------------------------\u001b[0m",
            "\u001b[0;31mValueError\u001b[0m                                Traceback (most recent call last)",
            "\u001b[0;32m<ipython-input-106-3e1daa9ef6c2>\u001b[0m in \u001b[0;36m<module>\u001b[0;34m\u001b[0m\n\u001b[0;32m----> 1\u001b[0;31m \u001b[0mmodel2\u001b[0m\u001b[0;34m.\u001b[0m\u001b[0mload_weights\u001b[0m\u001b[0;34m(\u001b[0m\u001b[0mcheckpoint_path\u001b[0m\u001b[0;34m)\u001b[0m\u001b[0;34m\u001b[0m\u001b[0;34m\u001b[0m\u001b[0m\n\u001b[0m",
            "\u001b[0;32m/usr/local/lib/python3.9/dist-packages/keras/utils/traceback_utils.py\u001b[0m in \u001b[0;36merror_handler\u001b[0;34m(*args, **kwargs)\u001b[0m\n\u001b[1;32m     68\u001b[0m             \u001b[0;31m# To get the full stack trace, call:\u001b[0m\u001b[0;34m\u001b[0m\u001b[0;34m\u001b[0m\u001b[0m\n\u001b[1;32m     69\u001b[0m             \u001b[0;31m# `tf.debugging.disable_traceback_filtering()`\u001b[0m\u001b[0;34m\u001b[0m\u001b[0;34m\u001b[0m\u001b[0m\n\u001b[0;32m---> 70\u001b[0;31m             \u001b[0;32mraise\u001b[0m \u001b[0me\u001b[0m\u001b[0;34m.\u001b[0m\u001b[0mwith_traceback\u001b[0m\u001b[0;34m(\u001b[0m\u001b[0mfiltered_tb\u001b[0m\u001b[0;34m)\u001b[0m \u001b[0;32mfrom\u001b[0m \u001b[0;32mNone\u001b[0m\u001b[0;34m\u001b[0m\u001b[0;34m\u001b[0m\u001b[0m\n\u001b[0m\u001b[1;32m     71\u001b[0m         \u001b[0;32mfinally\u001b[0m\u001b[0;34m:\u001b[0m\u001b[0;34m\u001b[0m\u001b[0;34m\u001b[0m\u001b[0m\n\u001b[1;32m     72\u001b[0m             \u001b[0;32mdel\u001b[0m \u001b[0mfiltered_tb\u001b[0m\u001b[0;34m\u001b[0m\u001b[0;34m\u001b[0m\u001b[0m\n",
            "\u001b[0;32m/usr/local/lib/python3.9/dist-packages/tensorflow/python/training/saving/saveable_object_util.py\u001b[0m in \u001b[0;36mrestore\u001b[0;34m(self, restored_tensors, restored_shapes)\u001b[0m\n\u001b[1;32m    137\u001b[0m             self.handle_op, self._var_shape, restored_tensor)\n\u001b[1;32m    138\u001b[0m       \u001b[0;32mexcept\u001b[0m \u001b[0mValueError\u001b[0m \u001b[0;32mas\u001b[0m \u001b[0me\u001b[0m\u001b[0;34m:\u001b[0m\u001b[0;34m\u001b[0m\u001b[0;34m\u001b[0m\u001b[0m\n\u001b[0;32m--> 139\u001b[0;31m         raise ValueError(\n\u001b[0m\u001b[1;32m    140\u001b[0m             \u001b[0;34mf\"Received incompatible tensor with shape {restored_tensor.shape} \"\u001b[0m\u001b[0;34m\u001b[0m\u001b[0;34m\u001b[0m\u001b[0m\n\u001b[1;32m    141\u001b[0m             \u001b[0;34mf\"when attempting to restore variable with shape {self._var_shape} \"\u001b[0m\u001b[0;34m\u001b[0m\u001b[0;34m\u001b[0m\u001b[0m\n",
            "\u001b[0;31mValueError\u001b[0m: Received incompatible tensor with shape (1280, 10) when attempting to restore variable with shape (1, 1, 1152, 48) and name optimizer/_variables/1/.ATTRIBUTES/VARIABLE_VALUE."
          ]
        }
      ]
    },
    {
      "cell_type": "code",
      "source": [
        "model2.evaluate(test_data)"
      ],
      "metadata": {
        "colab": {
          "base_uri": "https://localhost:8080/"
        },
        "id": "qz4OwY6lop_F",
        "outputId": "4645b3d5-4a97-4502-ad29-42593a9520c4"
      },
      "execution_count": null,
      "outputs": [
        {
          "output_type": "stream",
          "name": "stdout",
          "text": [
            "79/79 [==============================] - 7s 80ms/step - loss: 0.6198 - accuracy: 0.8432\n"
          ]
        },
        {
          "output_type": "execute_result",
          "data": {
            "text/plain": [
              "[0.6198392510414124, 0.8432000279426575]"
            ]
          },
          "metadata": {},
          "execution_count": 107
        }
      ]
    },
    {
      "cell_type": "code",
      "source": [
        "result_10_percent_model"
      ],
      "metadata": {
        "colab": {
          "base_uri": "https://localhost:8080/"
        },
        "id": "VQ2kJ6udplKY",
        "outputId": "8557e37c-99f1-4d4b-d2d1-572e1fa03949"
      },
      "execution_count": null,
      "outputs": [
        {
          "output_type": "execute_result",
          "data": {
            "text/plain": [
              "[0.6198391318321228, 0.8432000279426575]"
            ]
          },
          "metadata": {},
          "execution_count": 108
        }
      ]
    },
    {
      "cell_type": "code",
      "source": [
        "for layer_number, layer in enumerate(model2.layers):\n",
        "  print(layer_number, layer.name, layer.trainable)"
      ],
      "metadata": {
        "colab": {
          "base_uri": "https://localhost:8080/"
        },
        "id": "QruISUPzp0xu",
        "outputId": "83024c73-1f7f-4202-a4cf-86a559dfdf2a"
      },
      "execution_count": null,
      "outputs": [
        {
          "output_type": "stream",
          "name": "stdout",
          "text": [
            "0 input_layer True\n",
            "1 data_augmentation True\n",
            "2 efficientnetb0 True\n",
            "3 global_average_pooling_2D True\n",
            "4 output_layer True\n"
          ]
        }
      ]
    },
    {
      "cell_type": "code",
      "source": [
        "for layer_number, layer in enumerate(model2.layers[2].layers):\n",
        "  print(layer_number, layer.name, layer.trainable)"
      ],
      "metadata": {
        "colab": {
          "base_uri": "https://localhost:8080/"
        },
        "id": "3m_WjaXTrA8B",
        "outputId": "98735d55-937e-4ad8-f289-dcdbcae4fee1"
      },
      "execution_count": null,
      "outputs": [
        {
          "output_type": "stream",
          "name": "stdout",
          "text": [
            "0 input_4 False\n",
            "1 rescaling_6 False\n",
            "2 normalization_3 False\n",
            "3 rescaling_7 False\n",
            "4 stem_conv_pad False\n",
            "5 stem_conv False\n",
            "6 stem_bn False\n",
            "7 stem_activation False\n",
            "8 block1a_dwconv False\n",
            "9 block1a_bn False\n",
            "10 block1a_activation False\n",
            "11 block1a_se_squeeze False\n",
            "12 block1a_se_reshape False\n",
            "13 block1a_se_reduce False\n",
            "14 block1a_se_expand False\n",
            "15 block1a_se_excite False\n",
            "16 block1a_project_conv False\n",
            "17 block1a_project_bn False\n",
            "18 block2a_expand_conv False\n",
            "19 block2a_expand_bn False\n",
            "20 block2a_expand_activation False\n",
            "21 block2a_dwconv_pad False\n",
            "22 block2a_dwconv False\n",
            "23 block2a_bn False\n",
            "24 block2a_activation False\n",
            "25 block2a_se_squeeze False\n",
            "26 block2a_se_reshape False\n",
            "27 block2a_se_reduce False\n",
            "28 block2a_se_expand False\n",
            "29 block2a_se_excite False\n",
            "30 block2a_project_conv False\n",
            "31 block2a_project_bn False\n",
            "32 block2b_expand_conv False\n",
            "33 block2b_expand_bn False\n",
            "34 block2b_expand_activation False\n",
            "35 block2b_dwconv False\n",
            "36 block2b_bn False\n",
            "37 block2b_activation False\n",
            "38 block2b_se_squeeze False\n",
            "39 block2b_se_reshape False\n",
            "40 block2b_se_reduce False\n",
            "41 block2b_se_expand False\n",
            "42 block2b_se_excite False\n",
            "43 block2b_project_conv False\n",
            "44 block2b_project_bn False\n",
            "45 block2b_drop False\n",
            "46 block2b_add False\n",
            "47 block3a_expand_conv False\n",
            "48 block3a_expand_bn False\n",
            "49 block3a_expand_activation False\n",
            "50 block3a_dwconv_pad False\n",
            "51 block3a_dwconv False\n",
            "52 block3a_bn False\n",
            "53 block3a_activation False\n",
            "54 block3a_se_squeeze False\n",
            "55 block3a_se_reshape False\n",
            "56 block3a_se_reduce False\n",
            "57 block3a_se_expand False\n",
            "58 block3a_se_excite False\n",
            "59 block3a_project_conv False\n",
            "60 block3a_project_bn False\n",
            "61 block3b_expand_conv False\n",
            "62 block3b_expand_bn False\n",
            "63 block3b_expand_activation False\n",
            "64 block3b_dwconv False\n",
            "65 block3b_bn False\n",
            "66 block3b_activation False\n",
            "67 block3b_se_squeeze False\n",
            "68 block3b_se_reshape False\n",
            "69 block3b_se_reduce False\n",
            "70 block3b_se_expand False\n",
            "71 block3b_se_excite False\n",
            "72 block3b_project_conv False\n",
            "73 block3b_project_bn False\n",
            "74 block3b_drop False\n",
            "75 block3b_add False\n",
            "76 block4a_expand_conv False\n",
            "77 block4a_expand_bn False\n",
            "78 block4a_expand_activation False\n",
            "79 block4a_dwconv_pad False\n",
            "80 block4a_dwconv False\n",
            "81 block4a_bn False\n",
            "82 block4a_activation False\n",
            "83 block4a_se_squeeze False\n",
            "84 block4a_se_reshape False\n",
            "85 block4a_se_reduce False\n",
            "86 block4a_se_expand False\n",
            "87 block4a_se_excite False\n",
            "88 block4a_project_conv False\n",
            "89 block4a_project_bn False\n",
            "90 block4b_expand_conv False\n",
            "91 block4b_expand_bn False\n",
            "92 block4b_expand_activation False\n",
            "93 block4b_dwconv False\n",
            "94 block4b_bn False\n",
            "95 block4b_activation False\n",
            "96 block4b_se_squeeze False\n",
            "97 block4b_se_reshape False\n",
            "98 block4b_se_reduce False\n",
            "99 block4b_se_expand False\n",
            "100 block4b_se_excite False\n",
            "101 block4b_project_conv False\n",
            "102 block4b_project_bn False\n",
            "103 block4b_drop False\n",
            "104 block4b_add False\n",
            "105 block4c_expand_conv False\n",
            "106 block4c_expand_bn False\n",
            "107 block4c_expand_activation False\n",
            "108 block4c_dwconv False\n",
            "109 block4c_bn False\n",
            "110 block4c_activation False\n",
            "111 block4c_se_squeeze False\n",
            "112 block4c_se_reshape False\n",
            "113 block4c_se_reduce False\n",
            "114 block4c_se_expand False\n",
            "115 block4c_se_excite False\n",
            "116 block4c_project_conv False\n",
            "117 block4c_project_bn False\n",
            "118 block4c_drop False\n",
            "119 block4c_add False\n",
            "120 block5a_expand_conv False\n",
            "121 block5a_expand_bn False\n",
            "122 block5a_expand_activation False\n",
            "123 block5a_dwconv False\n",
            "124 block5a_bn False\n",
            "125 block5a_activation False\n",
            "126 block5a_se_squeeze False\n",
            "127 block5a_se_reshape False\n",
            "128 block5a_se_reduce False\n",
            "129 block5a_se_expand False\n",
            "130 block5a_se_excite False\n",
            "131 block5a_project_conv False\n",
            "132 block5a_project_bn False\n",
            "133 block5b_expand_conv False\n",
            "134 block5b_expand_bn False\n",
            "135 block5b_expand_activation False\n",
            "136 block5b_dwconv False\n",
            "137 block5b_bn False\n",
            "138 block5b_activation False\n",
            "139 block5b_se_squeeze False\n",
            "140 block5b_se_reshape False\n",
            "141 block5b_se_reduce False\n",
            "142 block5b_se_expand False\n",
            "143 block5b_se_excite False\n",
            "144 block5b_project_conv False\n",
            "145 block5b_project_bn False\n",
            "146 block5b_drop False\n",
            "147 block5b_add False\n",
            "148 block5c_expand_conv False\n",
            "149 block5c_expand_bn False\n",
            "150 block5c_expand_activation False\n",
            "151 block5c_dwconv False\n",
            "152 block5c_bn False\n",
            "153 block5c_activation False\n",
            "154 block5c_se_squeeze False\n",
            "155 block5c_se_reshape False\n",
            "156 block5c_se_reduce False\n",
            "157 block5c_se_expand False\n",
            "158 block5c_se_excite False\n",
            "159 block5c_project_conv False\n",
            "160 block5c_project_bn False\n",
            "161 block5c_drop False\n",
            "162 block5c_add False\n",
            "163 block6a_expand_conv False\n",
            "164 block6a_expand_bn False\n",
            "165 block6a_expand_activation False\n",
            "166 block6a_dwconv_pad False\n",
            "167 block6a_dwconv False\n",
            "168 block6a_bn False\n",
            "169 block6a_activation False\n",
            "170 block6a_se_squeeze False\n",
            "171 block6a_se_reshape False\n",
            "172 block6a_se_reduce False\n",
            "173 block6a_se_expand False\n",
            "174 block6a_se_excite False\n",
            "175 block6a_project_conv False\n",
            "176 block6a_project_bn False\n",
            "177 block6b_expand_conv False\n",
            "178 block6b_expand_bn False\n",
            "179 block6b_expand_activation False\n",
            "180 block6b_dwconv False\n",
            "181 block6b_bn False\n",
            "182 block6b_activation False\n",
            "183 block6b_se_squeeze False\n",
            "184 block6b_se_reshape False\n",
            "185 block6b_se_reduce False\n",
            "186 block6b_se_expand False\n",
            "187 block6b_se_excite False\n",
            "188 block6b_project_conv False\n",
            "189 block6b_project_bn False\n",
            "190 block6b_drop False\n",
            "191 block6b_add False\n",
            "192 block6c_expand_conv False\n",
            "193 block6c_expand_bn False\n",
            "194 block6c_expand_activation False\n",
            "195 block6c_dwconv False\n",
            "196 block6c_bn False\n",
            "197 block6c_activation False\n",
            "198 block6c_se_squeeze False\n",
            "199 block6c_se_reshape False\n",
            "200 block6c_se_reduce False\n",
            "201 block6c_se_expand False\n",
            "202 block6c_se_excite False\n",
            "203 block6c_project_conv False\n",
            "204 block6c_project_bn False\n",
            "205 block6c_drop False\n",
            "206 block6c_add False\n",
            "207 block6d_expand_conv False\n",
            "208 block6d_expand_bn False\n",
            "209 block6d_expand_activation False\n",
            "210 block6d_dwconv False\n",
            "211 block6d_bn False\n",
            "212 block6d_activation False\n",
            "213 block6d_se_squeeze False\n",
            "214 block6d_se_reshape False\n",
            "215 block6d_se_reduce False\n",
            "216 block6d_se_expand False\n",
            "217 block6d_se_excite False\n",
            "218 block6d_project_conv False\n",
            "219 block6d_project_bn False\n",
            "220 block6d_drop False\n",
            "221 block6d_add False\n",
            "222 block7a_expand_conv False\n",
            "223 block7a_expand_bn False\n",
            "224 block7a_expand_activation False\n",
            "225 block7a_dwconv False\n",
            "226 block7a_bn False\n",
            "227 block7a_activation False\n",
            "228 block7a_se_squeeze True\n",
            "229 block7a_se_reshape True\n",
            "230 block7a_se_reduce True\n",
            "231 block7a_se_expand True\n",
            "232 block7a_se_excite True\n",
            "233 block7a_project_conv True\n",
            "234 block7a_project_bn True\n",
            "235 top_conv True\n",
            "236 top_bn True\n",
            "237 top_activation True\n"
          ]
        }
      ]
    },
    {
      "cell_type": "code",
      "source": [
        "model2.compile(loss=\"categorical_crossentropy\",\n",
        "               optimizer=tf.keras.optimizers.Adam(learning_rate=0.0001),\n",
        "               metrics=[\"accuracy\"])"
      ],
      "metadata": {
        "id": "2kGm0jQBrd92"
      },
      "execution_count": null,
      "outputs": []
    },
    {
      "cell_type": "code",
      "source": [
        "fine_tune_epochs = initial_epochs + 5\n",
        "\n",
        "history_fine_10_classes_full = model2.fit(train_data_10_classes_full,\n",
        "                                          epochs=fine_tune_epochs,\n",
        "                                          validation_data=test_data,\n",
        "                                          validation_steps=int(0.25 * len(test_data)),\n",
        "                                          initial_epoch=history2.epoch[-1],\n",
        "                                          callbacks=[create_tensorboard_callback(dir_name=\"transfer_learning\",\n",
        "                                                                                 experiment_name=\"full_10_classes_fine_tune_last_10\")])"
      ],
      "metadata": {
        "colab": {
          "base_uri": "https://localhost:8080/"
        },
        "id": "JCSxII2HtWIS",
        "outputId": "98922169-8171-43bf-941b-c8f38cacd804"
      },
      "execution_count": null,
      "outputs": [
        {
          "output_type": "stream",
          "name": "stderr",
          "text": [
            "WARNING:tensorflow:Model failed to serialize as JSON. Ignoring... Unable to serialize [2.0896919 2.1128857 2.1081853] to JSON. Unrecognized type <class 'tensorflow.python.framework.ops.EagerTensor'>.\n"
          ]
        },
        {
          "output_type": "stream",
          "name": "stdout",
          "text": [
            "Saving TensorBoard log files to: transfer_learning/full_10_classes_fine_tune_last_10/20230323-230621\n",
            "Epoch 5/10\n",
            "235/235 [==============================] - 81s 339ms/step - loss: 0.6024 - accuracy: 0.8024 - val_loss: 0.3499 - val_accuracy: 0.8931\n",
            "Epoch 6/10\n",
            "235/235 [==============================] - 75s 318ms/step - loss: 0.4964 - accuracy: 0.8400 - val_loss: 0.2989 - val_accuracy: 0.9112\n",
            "Epoch 7/10\n",
            "235/235 [==============================] - 73s 308ms/step - loss: 0.4502 - accuracy: 0.8545 - val_loss: 0.3147 - val_accuracy: 0.9046\n",
            "Epoch 8/10\n",
            "235/235 [==============================] - 72s 305ms/step - loss: 0.4138 - accuracy: 0.8636 - val_loss: 0.3204 - val_accuracy: 0.9046\n",
            "Epoch 9/10\n",
            "235/235 [==============================] - 70s 298ms/step - loss: 0.3748 - accuracy: 0.8796 - val_loss: 0.3090 - val_accuracy: 0.9194\n",
            "Epoch 10/10\n",
            "235/235 [==============================] - 69s 290ms/step - loss: 0.3581 - accuracy: 0.8843 - val_loss: 0.2695 - val_accuracy: 0.9260\n"
          ]
        }
      ]
    },
    {
      "cell_type": "code",
      "source": [
        "results_fine_tune_full_data = model2.evaluate(test_data)\n",
        "results_fine_tune_full_data"
      ],
      "metadata": {
        "colab": {
          "base_uri": "https://localhost:8080/"
        },
        "id": "uv6YBopDuCgN",
        "outputId": "78e1290d-e37c-408c-942b-5bae9fddf84a"
      },
      "execution_count": null,
      "outputs": [
        {
          "output_type": "stream",
          "name": "stdout",
          "text": [
            "79/79 [==============================] - 7s 81ms/step - loss: 0.2599 - accuracy: 0.9196\n"
          ]
        }
      ]
    },
    {
      "cell_type": "code",
      "source": [
        "compare_historys(original_history=history2,\n",
        "                 new_history=history_fine_10_classes_full,\n",
        "                 initial_epochs=5)"
      ],
      "metadata": {
        "colab": {
          "base_uri": "https://localhost:8080/",
          "height": 507
        },
        "id": "M6YVgQ-Qxhcw",
        "outputId": "ead940bc-9a58-4cc3-ed0a-7036ca61dcf8"
      },
      "execution_count": null,
      "outputs": [
        {
          "output_type": "display_data",
          "data": {
            "text/plain": [
              "<Figure size 576x576 with 1 Axes>"
            ],
            "image/png": "[encoded data removed]"
          },
          "metadata": {
            "needs_background": "light"
          }
        },
        {
          "output_type": "display_data",
          "data": {
            "text/plain": [
              "<Figure size 576x576 with 1 Axes>"
            ],
            "image/png": "[encoded data removed]"
          },
          "metadata": {
            "needs_background": "light"
          }
        }
      ]
    },
    {
      "cell_type": "code",
      "source": [
        "!tensorboard dev upload --logdir ./transfer_learning \\\n",
        "  --name \"Transfer Learning Experiments with 10 Food101 Classes\" \\\n",
        "  --description \"Transfer Learning Exoeriments\" \\\n",
        "  --one_shot"
      ],
      "metadata": {
        "colab": {
          "base_uri": "https://localhost:8080/"
        },
        "id": "aHK_4yGvx8sq",
        "outputId": "490cae23-3741-425a-d35a-fd07804d41d2"
      },
      "execution_count": null,
      "outputs": [
        {
          "output_type": "stream",
          "name": "stdout",
          "text": [
            "2023-03-23 23:31:00.637638: W tensorflow/compiler/xla/stream_executor/platform/default/dso_loader.cc:64] Could not load dynamic library 'libnvinfer.so.7'; dlerror: libnvinfer.so.7: cannot open shared object file: No such file or directory; LD_LIBRARY_PATH: /usr/lib64-nvidia\n",
            "2023-03-23 23:31:00.637740: W tensorflow/compiler/xla/stream_executor/platform/default/dso_loader.cc:64] Could not load dynamic library 'libnvinfer_plugin.so.7'; dlerror: libnvinfer_plugin.so.7: cannot open shared object file: No such file or directory; LD_LIBRARY_PATH: /usr/lib64-nvidia\n",
            "2023-03-23 23:31:00.637759: W tensorflow/compiler/tf2tensorrt/utils/py_utils.cc:38] TF-TRT Warning: Cannot dlopen some TensorRT libraries. If you would like to use Nvidia GPU with TensorRT, please make sure the missing libraries mentioned above are installed properly.\n",
            "\n",
            "***** TensorBoard Uploader *****\n",
            "\n",
            "This will upload your TensorBoard logs to https://tensorboard.dev/ from\n",
            "the following directory:\n",
            "\n",
            "./transfer_learning\n",
            "\n",
            "This TensorBoard will be visible to everyone. Do not upload sensitive\n",
            "data.\n",
            "\n",
            "Your use of this service is subject to Google's Terms of Service\n",
            "<https://policies.google.com/terms> and Privacy Policy\n",
            "<https://policies.google.com/privacy>, and TensorBoard.dev's Terms of Service\n",
            "<https://tensorboard.dev/policy/terms/>.\n",
            "\n",
            "This notice will not be shown again while you are logged into the uploader.\n",
            "To log out, run `tensorboard dev auth revoke`.\n",
            "\n",
            "Continue? (yes/NO) yes\n",
            "\n",
            "To sign in with the TensorBoard uploader:\n",
            "\n",
            "1. On your computer or phone, visit:\n",
            "\n",
            "   https://www.google.com/device\n",
            "\n",
            "2. Sign in with your Google account, then enter:\n",
            "\n",
            "   DHL-NZN-BPK\n",
            "\n",
            "\n",
            "\n",
            "New experiment created. View your TensorBoard at: https://tensorboard.dev/experiment/y0YZWrJjSAGeauyR6K7kDw/\n",
            "\n",
            "\u001b[1m[2023-03-23T23:32:06]\u001b[0m Started scanning logdir.\n",
            "\u001b[1m[2023-03-23T23:32:24]\u001b[0m Total uploaded: 228 scalars, 0 tensors, 8 binary objects (9.6 MB)\n",
            "\u001b[1m[2023-03-23T23:32:24]\u001b[0m Done scanning logdir.\n",
            "\n",
            "\n",
            "Done. View your TensorBoard at https://tensorboard.dev/experiment/y0YZWrJjSAGeauyR6K7kDw/\n"
          ]
        }
      ]
    },
    {
      "cell_type": "code",
      "source": [],
      "metadata": {
        "id": "O67GWX3bzERq"
      },
      "execution_count": null,
      "outputs": []
    }
  ]
}